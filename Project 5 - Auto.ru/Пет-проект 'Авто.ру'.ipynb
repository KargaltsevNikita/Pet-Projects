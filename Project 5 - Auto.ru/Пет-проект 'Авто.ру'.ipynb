{
 "cells": [
  {
   "cell_type": "markdown",
   "metadata": {},
   "source": [
    "# Определение стоимости автомобилей"
   ]
  },
  {
   "cell_type": "markdown",
   "metadata": {},
   "source": [
    "Сервис по продаже автомобилей с пробегом «Авто.ру» разрабатывает приложение для привлечения новых клиентов. В нём можно быстро узнать рыночную стоимость своего автомобиля. В вашем распоряжении исторические данные: технические характеристики, комплектации и цены автомобилей.\n",
    "\n",
    "Нужно построить модель для определения стоимости."
   ]
  },
  {
   "cell_type": "markdown",
   "metadata": {},
   "source": [
    "## Загрузка данных"
   ]
  },
  {
   "cell_type": "code",
   "execution_count": 1,
   "metadata": {},
   "outputs": [
    {
     "name": "stdout",
     "output_type": "stream",
     "text": [
      "Requirement already satisfied: beautifulsoup4==4.9.3 in /opt/conda/lib/python3.9/site-packages (4.9.3)\n",
      "Requirement already satisfied: matplotlib==3.3.4 in /opt/conda/lib/python3.9/site-packages (3.3.4)\n",
      "Requirement already satisfied: nltk==3.6.1 in /opt/conda/lib/python3.9/site-packages (3.6.1)\n",
      "Requirement already satisfied: numpy==1.20.1 in /opt/conda/lib/python3.9/site-packages (1.20.1)\n",
      "Requirement already satisfied: pandas==1.2.4 in /opt/conda/lib/python3.9/site-packages (1.2.4)\n",
      "Requirement already satisfied: plotly==5.4.0 in /opt/conda/lib/python3.9/site-packages (5.4.0)\n",
      "Requirement already satisfied: psycopg2-binary==2.9.2 in /opt/conda/lib/python3.9/site-packages (2.9.2)\n",
      "Requirement already satisfied: regex==2022.3.15 in /opt/conda/lib/python3.9/site-packages (2022.3.15)\n",
      "Requirement already satisfied: scikit-learn==1.6 in /opt/conda/lib/python3.9/site-packages (1.6.0)\n",
      "Requirement already satisfied: scipy==1.8.0 in /opt/conda/lib/python3.9/site-packages (1.8.0)\n",
      "Requirement already satisfied: seaborn==0.11.1 in /opt/conda/lib/python3.9/site-packages (0.11.1)\n",
      "Requirement already satisfied: sqlalchemy==1.4.15 in /opt/conda/lib/python3.9/site-packages (1.4.15)\n",
      "Requirement already satisfied: statsmodels==0.13.2 in /opt/conda/lib/python3.9/site-packages (0.13.2)\n",
      "Requirement already satisfied: phik in /opt/conda/lib/python3.9/site-packages (0.12.4)\n",
      "Requirement already satisfied: lightgbm in /opt/conda/lib/python3.9/site-packages (4.6.0)\n",
      "Requirement already satisfied: category_encoders in /opt/conda/lib/python3.9/site-packages (2.6.4)\n",
      "Requirement already satisfied: wordcloud in /opt/conda/lib/python3.9/site-packages (1.9.4)\n",
      "Requirement already satisfied: pip in /opt/conda/lib/python3.9/site-packages (25.0.1)\n",
      "Requirement already satisfied: Pillow in /opt/conda/lib/python3.9/site-packages (11.1.0)\n",
      "Requirement already satisfied: soupsieve>1.2 in /opt/conda/lib/python3.9/site-packages (from beautifulsoup4==4.9.3) (2.3.2.post1)\n",
      "Requirement already satisfied: cycler>=0.10 in /opt/conda/lib/python3.9/site-packages (from matplotlib==3.3.4) (0.11.0)\n",
      "Requirement already satisfied: kiwisolver>=1.0.1 in /opt/conda/lib/python3.9/site-packages (from matplotlib==3.3.4) (1.4.4)\n",
      "Requirement already satisfied: pyparsing!=2.0.4,!=2.1.2,!=2.1.6,>=2.0.3 in /opt/conda/lib/python3.9/site-packages (from matplotlib==3.3.4) (2.4.7)\n",
      "Requirement already satisfied: python-dateutil>=2.1 in /opt/conda/lib/python3.9/site-packages (from matplotlib==3.3.4) (2.8.1)\n",
      "Requirement already satisfied: click in /opt/conda/lib/python3.9/site-packages (from nltk==3.6.1) (8.1.3)\n",
      "Requirement already satisfied: joblib in /opt/conda/lib/python3.9/site-packages (from nltk==3.6.1) (1.4.2)\n",
      "Requirement already satisfied: tqdm in /opt/conda/lib/python3.9/site-packages (from nltk==3.6.1) (4.61.2)\n",
      "Requirement already satisfied: pytz>=2017.3 in /opt/conda/lib/python3.9/site-packages (from pandas==1.2.4) (2021.1)\n",
      "Requirement already satisfied: tenacity>=6.2.0 in /opt/conda/lib/python3.9/site-packages (from plotly==5.4.0) (8.0.1)\n",
      "Requirement already satisfied: six in /opt/conda/lib/python3.9/site-packages (from plotly==5.4.0) (1.16.0)\n",
      "Requirement already satisfied: threadpoolctl>=3.1.0 in /opt/conda/lib/python3.9/site-packages (from scikit-learn==1.6) (3.1.0)\n",
      "Requirement already satisfied: greenlet!=0.4.17 in /opt/conda/lib/python3.9/site-packages (from sqlalchemy==1.4.15) (1.1.0)\n",
      "Requirement already satisfied: patsy>=0.5.2 in /opt/conda/lib/python3.9/site-packages (from statsmodels==0.13.2) (0.5.2)\n",
      "Requirement already satisfied: packaging>=21.3 in /opt/conda/lib/python3.9/site-packages (from statsmodels==0.13.2) (21.3)\n",
      "\u001b[33mWARNING: Error parsing dependencies of ipykernel: Expected matching RIGHT_PARENTHESIS for LEFT_PARENTHESIS, after version specifier\n",
      "    matplotlib-inline (<0.2.0appnope,>=0.1.0) ; platform_system == \"Darwin\"\n",
      "                      ~~~~~~~~^\u001b[0m\u001b[33m\n",
      "\u001b[0m"
     ]
    }
   ],
   "source": [
    "# Скачиваем нужные библиотеки\n",
    "!pip install beautifulsoup4==4.9.3 matplotlib==3.3.4 nltk==3.6.1 numpy==1.20.1 pandas==1.2.4 plotly==5.4.0 psycopg2-binary==2.9.2 regex==2022.3.15 scikit-learn==1.6 scipy==1.8.0 seaborn==0.11.1 sqlalchemy==1.4.15 statsmodels==0.13.2 phik lightgbm category_encoders wordcloud --upgrade pip --upgrade Pillow"
   ]
  },
  {
   "cell_type": "code",
   "execution_count": 2,
   "metadata": {},
   "outputs": [
    {
     "name": "stdout",
     "output_type": "stream",
     "text": [
      "Requirement already satisfied: ydata-profiling in /opt/conda/lib/python3.9/site-packages (4.8.3)\n",
      "Requirement already satisfied: scipy<1.14,>=1.4.1 in /opt/conda/lib/python3.9/site-packages (from ydata-profiling) (1.8.0)\n",
      "Requirement already satisfied: pandas!=1.4.0,<3,>1.1 in /opt/conda/lib/python3.9/site-packages (from ydata-profiling) (1.2.4)\n",
      "Requirement already satisfied: matplotlib<3.9,>=3.2 in /opt/conda/lib/python3.9/site-packages (from ydata-profiling) (3.3.4)\n",
      "Requirement already satisfied: pydantic>=2 in /opt/conda/lib/python3.9/site-packages (from ydata-profiling) (2.10.6)\n",
      "Requirement already satisfied: PyYAML<6.1,>=5.0.0 in /opt/conda/lib/python3.9/site-packages (from ydata-profiling) (6.0)\n",
      "Requirement already satisfied: jinja2<3.2,>=2.11.1 in /opt/conda/lib/python3.9/site-packages (from ydata-profiling) (3.0.1)\n",
      "Requirement already satisfied: visions<0.7.7,>=0.7.5 in /opt/conda/lib/python3.9/site-packages (from visions[type_image_path]<0.7.7,>=0.7.5->ydata-profiling) (0.7.5)\n",
      "Requirement already satisfied: numpy<2,>=1.16.0 in /opt/conda/lib/python3.9/site-packages (from ydata-profiling) (1.20.1)\n",
      "Requirement already satisfied: htmlmin==0.1.12 in /opt/conda/lib/python3.9/site-packages (from ydata-profiling) (0.1.12)\n",
      "Requirement already satisfied: phik<0.13,>=0.11.1 in /opt/conda/lib/python3.9/site-packages (from ydata-profiling) (0.12.4)\n",
      "Requirement already satisfied: requests<3,>=2.24.0 in /opt/conda/lib/python3.9/site-packages (from ydata-profiling) (2.25.1)\n",
      "Requirement already satisfied: tqdm<5,>=4.48.2 in /opt/conda/lib/python3.9/site-packages (from ydata-profiling) (4.61.2)\n",
      "Requirement already satisfied: seaborn<0.14,>=0.10.1 in /opt/conda/lib/python3.9/site-packages (from ydata-profiling) (0.11.1)\n",
      "Requirement already satisfied: multimethod<2,>=1.4 in /opt/conda/lib/python3.9/site-packages (from ydata-profiling) (1.12)\n",
      "Requirement already satisfied: statsmodels<1,>=0.13.2 in /opt/conda/lib/python3.9/site-packages (from ydata-profiling) (0.13.2)\n",
      "Requirement already satisfied: typeguard<5,>=3 in /opt/conda/lib/python3.9/site-packages (from ydata-profiling) (4.4.2)\n",
      "Requirement already satisfied: imagehash==4.3.1 in /opt/conda/lib/python3.9/site-packages (from ydata-profiling) (4.3.1)\n",
      "Requirement already satisfied: wordcloud>=1.9.1 in /opt/conda/lib/python3.9/site-packages (from ydata-profiling) (1.9.4)\n",
      "Requirement already satisfied: dacite>=1.8 in /opt/conda/lib/python3.9/site-packages (from ydata-profiling) (1.9.2)\n",
      "Requirement already satisfied: numba<1,>=0.56.0 in /opt/conda/lib/python3.9/site-packages (from ydata-profiling) (0.56.0)\n",
      "Requirement already satisfied: PyWavelets in /opt/conda/lib/python3.9/site-packages (from imagehash==4.3.1->ydata-profiling) (1.4.1)\n",
      "Requirement already satisfied: pillow in /opt/conda/lib/python3.9/site-packages (from imagehash==4.3.1->ydata-profiling) (11.1.0)\n",
      "Requirement already satisfied: MarkupSafe>=2.0 in /opt/conda/lib/python3.9/site-packages (from jinja2<3.2,>=2.11.1->ydata-profiling) (2.0.1)\n",
      "Requirement already satisfied: cycler>=0.10 in /opt/conda/lib/python3.9/site-packages (from matplotlib<3.9,>=3.2->ydata-profiling) (0.11.0)\n",
      "Requirement already satisfied: kiwisolver>=1.0.1 in /opt/conda/lib/python3.9/site-packages (from matplotlib<3.9,>=3.2->ydata-profiling) (1.4.4)\n",
      "Requirement already satisfied: pyparsing!=2.0.4,!=2.1.2,!=2.1.6,>=2.0.3 in /opt/conda/lib/python3.9/site-packages (from matplotlib<3.9,>=3.2->ydata-profiling) (2.4.7)\n",
      "Requirement already satisfied: python-dateutil>=2.1 in /opt/conda/lib/python3.9/site-packages (from matplotlib<3.9,>=3.2->ydata-profiling) (2.8.1)\n",
      "Requirement already satisfied: llvmlite<0.40,>=0.39.0dev0 in /opt/conda/lib/python3.9/site-packages (from numba<1,>=0.56.0->ydata-profiling) (0.39.0)\n",
      "Requirement already satisfied: setuptools in /opt/conda/lib/python3.9/site-packages (from numba<1,>=0.56.0->ydata-profiling) (49.6.0.post20210108)\n",
      "Requirement already satisfied: pytz>=2017.3 in /opt/conda/lib/python3.9/site-packages (from pandas!=1.4.0,<3,>1.1->ydata-profiling) (2021.1)\n",
      "Requirement already satisfied: joblib>=0.14.1 in /opt/conda/lib/python3.9/site-packages (from phik<0.13,>=0.11.1->ydata-profiling) (1.4.2)\n",
      "Requirement already satisfied: annotated-types>=0.6.0 in /opt/conda/lib/python3.9/site-packages (from pydantic>=2->ydata-profiling) (0.7.0)\n",
      "Requirement already satisfied: pydantic-core==2.27.2 in /opt/conda/lib/python3.9/site-packages (from pydantic>=2->ydata-profiling) (2.27.2)\n",
      "Requirement already satisfied: typing-extensions>=4.12.2 in /opt/conda/lib/python3.9/site-packages (from pydantic>=2->ydata-profiling) (4.13.0)\n",
      "Requirement already satisfied: chardet<5,>=3.0.2 in /opt/conda/lib/python3.9/site-packages (from requests<3,>=2.24.0->ydata-profiling) (4.0.0)\n",
      "Requirement already satisfied: idna<3,>=2.5 in /opt/conda/lib/python3.9/site-packages (from requests<3,>=2.24.0->ydata-profiling) (2.10)\n",
      "Requirement already satisfied: urllib3<1.27,>=1.21.1 in /opt/conda/lib/python3.9/site-packages (from requests<3,>=2.24.0->ydata-profiling) (1.26.6)\n",
      "Requirement already satisfied: certifi>=2017.4.17 in /opt/conda/lib/python3.9/site-packages (from requests<3,>=2.24.0->ydata-profiling) (2021.5.30)\n",
      "Requirement already satisfied: patsy>=0.5.2 in /opt/conda/lib/python3.9/site-packages (from statsmodels<1,>=0.13.2->ydata-profiling) (0.5.2)\n",
      "Requirement already satisfied: packaging>=21.3 in /opt/conda/lib/python3.9/site-packages (from statsmodels<1,>=0.13.2->ydata-profiling) (21.3)\n",
      "Requirement already satisfied: importlib_metadata>=3.6 in /opt/conda/lib/python3.9/site-packages (from typeguard<5,>=3->ydata-profiling) (4.6.1)\n",
      "Requirement already satisfied: attrs>=19.3.0 in /opt/conda/lib/python3.9/site-packages (from visions<0.7.7,>=0.7.5->visions[type_image_path]<0.7.7,>=0.7.5->ydata-profiling) (20.3.0)\n",
      "Requirement already satisfied: networkx>=2.4 in /opt/conda/lib/python3.9/site-packages (from visions<0.7.7,>=0.7.5->visions[type_image_path]<0.7.7,>=0.7.5->ydata-profiling) (3.2.1)\n",
      "Requirement already satisfied: tangled-up-in-unicode>=0.0.4 in /opt/conda/lib/python3.9/site-packages (from visions<0.7.7,>=0.7.5->visions[type_image_path]<0.7.7,>=0.7.5->ydata-profiling) (0.2.0)\n",
      "Requirement already satisfied: zipp>=0.5 in /opt/conda/lib/python3.9/site-packages (from importlib_metadata>=3.6->typeguard<5,>=3->ydata-profiling) (3.5.0)\n",
      "Requirement already satisfied: six in /opt/conda/lib/python3.9/site-packages (from patsy>=0.5.2->statsmodels<1,>=0.13.2->ydata-profiling) (1.16.0)\n",
      "\u001b[33mWARNING: Error parsing dependencies of ipykernel: Expected matching RIGHT_PARENTHESIS for LEFT_PARENTHESIS, after version specifier\n",
      "    matplotlib-inline (<0.2.0appnope,>=0.1.0) ; platform_system == \"Darwin\"\n",
      "                      ~~~~~~~~^\u001b[0m\u001b[33m\n",
      "\u001b[0mNote: you may need to restart the kernel to use updated packages.\n"
     ]
    }
   ],
   "source": [
    "pip install ydata-profiling"
   ]
  },
  {
   "cell_type": "code",
   "execution_count": 3,
   "metadata": {},
   "outputs": [],
   "source": [
    "# Подключаем нужные библиотеки\n",
    "import os\n",
    "import pandas as pd\n",
    "import numpy as np\n",
    "import matplotlib.pyplot as plt\n",
    "import seaborn as sns\n",
    "import phik\n",
    "from sklearn.model_selection import train_test_split\n",
    "from sklearn.pipeline import Pipeline\n",
    "from sklearn.impute import SimpleImputer\n",
    "from sklearn.preprocessing import OneHotEncoder, MinMaxScaler, StandardScaler\n",
    "from sklearn.compose import ColumnTransformer\n",
    "from lightgbm import LGBMRegressor\n",
    "from sklearn.linear_model import LinearRegression\n",
    "from sklearn.ensemble import RandomForestRegressor\n",
    "from sklearn.tree import DecisionTreeRegressor\n",
    "from sklearn.model_selection import RandomizedSearchCV\n",
    "from sklearn.metrics import mean_squared_error\n",
    "from sklearn.metrics import make_scorer\n",
    "from category_encoders.binary import BinaryEncoder\n",
    "from sklearn.preprocessing import TargetEncoder\n",
    "from wordcloud import WordCloud\n",
    "import ydata_profiling\n",
    "%matplotlib inline"
   ]
  },
  {
   "cell_type": "code",
   "execution_count": 4,
   "metadata": {},
   "outputs": [],
   "source": [
    "# Напишем функцию для считывания данных из csv файла и записывания в датафрейм\n",
    "def df_read_csv(pth1, pth2):\n",
    "    if os.path.exists(pth1):\n",
    "        return pd.read_csv(pth1)\n",
    "    elif os.path.exists(pth2):\n",
    "        return pd.read_csv(pth2)\n",
    "    else:\n",
    "        print('Что-то пошло не так')"
   ]
  },
  {
   "cell_type": "code",
   "execution_count": 5,
   "metadata": {},
   "outputs": [],
   "source": [
    "# Считываем данные из csv файла и записываем их в переменную df\n",
    "df_autos = df_read_csv('/datasets/autos.csv', 'https://code.s3.yandex.net/datasets/autos.csv')"
   ]
  },
  {
   "cell_type": "code",
   "execution_count": 6,
   "metadata": {},
   "outputs": [],
   "source": [
    "# Создадим функцию, для отображения нужной информации о датафрейме\n",
    "def df_info(df):\n",
    "    display(df.head(10))\n",
    "    display(df.info())\n",
    "    display(df.describe())"
   ]
  },
  {
   "cell_type": "code",
   "execution_count": 7,
   "metadata": {},
   "outputs": [
    {
     "data": {
      "text/html": [
       "<div>\n",
       "<style scoped>\n",
       "    .dataframe tbody tr th:only-of-type {\n",
       "        vertical-align: middle;\n",
       "    }\n",
       "\n",
       "    .dataframe tbody tr th {\n",
       "        vertical-align: top;\n",
       "    }\n",
       "\n",
       "    .dataframe thead th {\n",
       "        text-align: right;\n",
       "    }\n",
       "</style>\n",
       "<table border=\"1\" class=\"dataframe\">\n",
       "  <thead>\n",
       "    <tr style=\"text-align: right;\">\n",
       "      <th></th>\n",
       "      <th>DateCrawled</th>\n",
       "      <th>Price</th>\n",
       "      <th>VehicleType</th>\n",
       "      <th>RegistrationYear</th>\n",
       "      <th>Gearbox</th>\n",
       "      <th>Power</th>\n",
       "      <th>Model</th>\n",
       "      <th>Kilometer</th>\n",
       "      <th>RegistrationMonth</th>\n",
       "      <th>FuelType</th>\n",
       "      <th>Brand</th>\n",
       "      <th>Repaired</th>\n",
       "      <th>DateCreated</th>\n",
       "      <th>NumberOfPictures</th>\n",
       "      <th>PostalCode</th>\n",
       "      <th>LastSeen</th>\n",
       "    </tr>\n",
       "  </thead>\n",
       "  <tbody>\n",
       "    <tr>\n",
       "      <th>0</th>\n",
       "      <td>2016-03-24 11:52:17</td>\n",
       "      <td>480</td>\n",
       "      <td>NaN</td>\n",
       "      <td>1993</td>\n",
       "      <td>manual</td>\n",
       "      <td>0</td>\n",
       "      <td>golf</td>\n",
       "      <td>150000</td>\n",
       "      <td>0</td>\n",
       "      <td>petrol</td>\n",
       "      <td>volkswagen</td>\n",
       "      <td>NaN</td>\n",
       "      <td>2016-03-24 00:00:00</td>\n",
       "      <td>0</td>\n",
       "      <td>70435</td>\n",
       "      <td>2016-04-07 03:16:57</td>\n",
       "    </tr>\n",
       "    <tr>\n",
       "      <th>1</th>\n",
       "      <td>2016-03-24 10:58:45</td>\n",
       "      <td>18300</td>\n",
       "      <td>coupe</td>\n",
       "      <td>2011</td>\n",
       "      <td>manual</td>\n",
       "      <td>190</td>\n",
       "      <td>NaN</td>\n",
       "      <td>125000</td>\n",
       "      <td>5</td>\n",
       "      <td>gasoline</td>\n",
       "      <td>audi</td>\n",
       "      <td>yes</td>\n",
       "      <td>2016-03-24 00:00:00</td>\n",
       "      <td>0</td>\n",
       "      <td>66954</td>\n",
       "      <td>2016-04-07 01:46:50</td>\n",
       "    </tr>\n",
       "    <tr>\n",
       "      <th>2</th>\n",
       "      <td>2016-03-14 12:52:21</td>\n",
       "      <td>9800</td>\n",
       "      <td>suv</td>\n",
       "      <td>2004</td>\n",
       "      <td>auto</td>\n",
       "      <td>163</td>\n",
       "      <td>grand</td>\n",
       "      <td>125000</td>\n",
       "      <td>8</td>\n",
       "      <td>gasoline</td>\n",
       "      <td>jeep</td>\n",
       "      <td>NaN</td>\n",
       "      <td>2016-03-14 00:00:00</td>\n",
       "      <td>0</td>\n",
       "      <td>90480</td>\n",
       "      <td>2016-04-05 12:47:46</td>\n",
       "    </tr>\n",
       "    <tr>\n",
       "      <th>3</th>\n",
       "      <td>2016-03-17 16:54:04</td>\n",
       "      <td>1500</td>\n",
       "      <td>small</td>\n",
       "      <td>2001</td>\n",
       "      <td>manual</td>\n",
       "      <td>75</td>\n",
       "      <td>golf</td>\n",
       "      <td>150000</td>\n",
       "      <td>6</td>\n",
       "      <td>petrol</td>\n",
       "      <td>volkswagen</td>\n",
       "      <td>no</td>\n",
       "      <td>2016-03-17 00:00:00</td>\n",
       "      <td>0</td>\n",
       "      <td>91074</td>\n",
       "      <td>2016-03-17 17:40:17</td>\n",
       "    </tr>\n",
       "    <tr>\n",
       "      <th>4</th>\n",
       "      <td>2016-03-31 17:25:20</td>\n",
       "      <td>3600</td>\n",
       "      <td>small</td>\n",
       "      <td>2008</td>\n",
       "      <td>manual</td>\n",
       "      <td>69</td>\n",
       "      <td>fabia</td>\n",
       "      <td>90000</td>\n",
       "      <td>7</td>\n",
       "      <td>gasoline</td>\n",
       "      <td>skoda</td>\n",
       "      <td>no</td>\n",
       "      <td>2016-03-31 00:00:00</td>\n",
       "      <td>0</td>\n",
       "      <td>60437</td>\n",
       "      <td>2016-04-06 10:17:21</td>\n",
       "    </tr>\n",
       "    <tr>\n",
       "      <th>5</th>\n",
       "      <td>2016-04-04 17:36:23</td>\n",
       "      <td>650</td>\n",
       "      <td>sedan</td>\n",
       "      <td>1995</td>\n",
       "      <td>manual</td>\n",
       "      <td>102</td>\n",
       "      <td>3er</td>\n",
       "      <td>150000</td>\n",
       "      <td>10</td>\n",
       "      <td>petrol</td>\n",
       "      <td>bmw</td>\n",
       "      <td>yes</td>\n",
       "      <td>2016-04-04 00:00:00</td>\n",
       "      <td>0</td>\n",
       "      <td>33775</td>\n",
       "      <td>2016-04-06 19:17:07</td>\n",
       "    </tr>\n",
       "    <tr>\n",
       "      <th>6</th>\n",
       "      <td>2016-04-01 20:48:51</td>\n",
       "      <td>2200</td>\n",
       "      <td>convertible</td>\n",
       "      <td>2004</td>\n",
       "      <td>manual</td>\n",
       "      <td>109</td>\n",
       "      <td>2_reihe</td>\n",
       "      <td>150000</td>\n",
       "      <td>8</td>\n",
       "      <td>petrol</td>\n",
       "      <td>peugeot</td>\n",
       "      <td>no</td>\n",
       "      <td>2016-04-01 00:00:00</td>\n",
       "      <td>0</td>\n",
       "      <td>67112</td>\n",
       "      <td>2016-04-05 18:18:39</td>\n",
       "    </tr>\n",
       "    <tr>\n",
       "      <th>7</th>\n",
       "      <td>2016-03-21 18:54:38</td>\n",
       "      <td>0</td>\n",
       "      <td>sedan</td>\n",
       "      <td>1980</td>\n",
       "      <td>manual</td>\n",
       "      <td>50</td>\n",
       "      <td>other</td>\n",
       "      <td>40000</td>\n",
       "      <td>7</td>\n",
       "      <td>petrol</td>\n",
       "      <td>volkswagen</td>\n",
       "      <td>no</td>\n",
       "      <td>2016-03-21 00:00:00</td>\n",
       "      <td>0</td>\n",
       "      <td>19348</td>\n",
       "      <td>2016-03-25 16:47:58</td>\n",
       "    </tr>\n",
       "    <tr>\n",
       "      <th>8</th>\n",
       "      <td>2016-04-04 23:42:13</td>\n",
       "      <td>14500</td>\n",
       "      <td>bus</td>\n",
       "      <td>2014</td>\n",
       "      <td>manual</td>\n",
       "      <td>125</td>\n",
       "      <td>c_max</td>\n",
       "      <td>30000</td>\n",
       "      <td>8</td>\n",
       "      <td>petrol</td>\n",
       "      <td>ford</td>\n",
       "      <td>NaN</td>\n",
       "      <td>2016-04-04 00:00:00</td>\n",
       "      <td>0</td>\n",
       "      <td>94505</td>\n",
       "      <td>2016-04-04 23:42:13</td>\n",
       "    </tr>\n",
       "    <tr>\n",
       "      <th>9</th>\n",
       "      <td>2016-03-17 10:53:50</td>\n",
       "      <td>999</td>\n",
       "      <td>small</td>\n",
       "      <td>1998</td>\n",
       "      <td>manual</td>\n",
       "      <td>101</td>\n",
       "      <td>golf</td>\n",
       "      <td>150000</td>\n",
       "      <td>0</td>\n",
       "      <td>NaN</td>\n",
       "      <td>volkswagen</td>\n",
       "      <td>NaN</td>\n",
       "      <td>2016-03-17 00:00:00</td>\n",
       "      <td>0</td>\n",
       "      <td>27472</td>\n",
       "      <td>2016-03-31 17:17:06</td>\n",
       "    </tr>\n",
       "  </tbody>\n",
       "</table>\n",
       "</div>"
      ],
      "text/plain": [
       "           DateCrawled  Price  VehicleType  RegistrationYear Gearbox  Power  \\\n",
       "0  2016-03-24 11:52:17    480          NaN              1993  manual      0   \n",
       "1  2016-03-24 10:58:45  18300        coupe              2011  manual    190   \n",
       "2  2016-03-14 12:52:21   9800          suv              2004    auto    163   \n",
       "3  2016-03-17 16:54:04   1500        small              2001  manual     75   \n",
       "4  2016-03-31 17:25:20   3600        small              2008  manual     69   \n",
       "5  2016-04-04 17:36:23    650        sedan              1995  manual    102   \n",
       "6  2016-04-01 20:48:51   2200  convertible              2004  manual    109   \n",
       "7  2016-03-21 18:54:38      0        sedan              1980  manual     50   \n",
       "8  2016-04-04 23:42:13  14500          bus              2014  manual    125   \n",
       "9  2016-03-17 10:53:50    999        small              1998  manual    101   \n",
       "\n",
       "     Model  Kilometer  RegistrationMonth  FuelType       Brand Repaired  \\\n",
       "0     golf     150000                  0    petrol  volkswagen      NaN   \n",
       "1      NaN     125000                  5  gasoline        audi      yes   \n",
       "2    grand     125000                  8  gasoline        jeep      NaN   \n",
       "3     golf     150000                  6    petrol  volkswagen       no   \n",
       "4    fabia      90000                  7  gasoline       skoda       no   \n",
       "5      3er     150000                 10    petrol         bmw      yes   \n",
       "6  2_reihe     150000                  8    petrol     peugeot       no   \n",
       "7    other      40000                  7    petrol  volkswagen       no   \n",
       "8    c_max      30000                  8    petrol        ford      NaN   \n",
       "9     golf     150000                  0       NaN  volkswagen      NaN   \n",
       "\n",
       "           DateCreated  NumberOfPictures  PostalCode             LastSeen  \n",
       "0  2016-03-24 00:00:00                 0       70435  2016-04-07 03:16:57  \n",
       "1  2016-03-24 00:00:00                 0       66954  2016-04-07 01:46:50  \n",
       "2  2016-03-14 00:00:00                 0       90480  2016-04-05 12:47:46  \n",
       "3  2016-03-17 00:00:00                 0       91074  2016-03-17 17:40:17  \n",
       "4  2016-03-31 00:00:00                 0       60437  2016-04-06 10:17:21  \n",
       "5  2016-04-04 00:00:00                 0       33775  2016-04-06 19:17:07  \n",
       "6  2016-04-01 00:00:00                 0       67112  2016-04-05 18:18:39  \n",
       "7  2016-03-21 00:00:00                 0       19348  2016-03-25 16:47:58  \n",
       "8  2016-04-04 00:00:00                 0       94505  2016-04-04 23:42:13  \n",
       "9  2016-03-17 00:00:00                 0       27472  2016-03-31 17:17:06  "
      ]
     },
     "metadata": {},
     "output_type": "display_data"
    },
    {
     "name": "stdout",
     "output_type": "stream",
     "text": [
      "<class 'pandas.core.frame.DataFrame'>\n",
      "RangeIndex: 354369 entries, 0 to 354368\n",
      "Data columns (total 16 columns):\n",
      " #   Column             Non-Null Count   Dtype \n",
      "---  ------             --------------   ----- \n",
      " 0   DateCrawled        354369 non-null  object\n",
      " 1   Price              354369 non-null  int64 \n",
      " 2   VehicleType        316879 non-null  object\n",
      " 3   RegistrationYear   354369 non-null  int64 \n",
      " 4   Gearbox            334536 non-null  object\n",
      " 5   Power              354369 non-null  int64 \n",
      " 6   Model              334664 non-null  object\n",
      " 7   Kilometer          354369 non-null  int64 \n",
      " 8   RegistrationMonth  354369 non-null  int64 \n",
      " 9   FuelType           321474 non-null  object\n",
      " 10  Brand              354369 non-null  object\n",
      " 11  Repaired           283215 non-null  object\n",
      " 12  DateCreated        354369 non-null  object\n",
      " 13  NumberOfPictures   354369 non-null  int64 \n",
      " 14  PostalCode         354369 non-null  int64 \n",
      " 15  LastSeen           354369 non-null  object\n",
      "dtypes: int64(7), object(9)\n",
      "memory usage: 43.3+ MB\n"
     ]
    },
    {
     "data": {
      "text/plain": [
       "None"
      ]
     },
     "metadata": {},
     "output_type": "display_data"
    },
    {
     "data": {
      "text/html": [
       "<div>\n",
       "<style scoped>\n",
       "    .dataframe tbody tr th:only-of-type {\n",
       "        vertical-align: middle;\n",
       "    }\n",
       "\n",
       "    .dataframe tbody tr th {\n",
       "        vertical-align: top;\n",
       "    }\n",
       "\n",
       "    .dataframe thead th {\n",
       "        text-align: right;\n",
       "    }\n",
       "</style>\n",
       "<table border=\"1\" class=\"dataframe\">\n",
       "  <thead>\n",
       "    <tr style=\"text-align: right;\">\n",
       "      <th></th>\n",
       "      <th>Price</th>\n",
       "      <th>RegistrationYear</th>\n",
       "      <th>Power</th>\n",
       "      <th>Kilometer</th>\n",
       "      <th>RegistrationMonth</th>\n",
       "      <th>NumberOfPictures</th>\n",
       "      <th>PostalCode</th>\n",
       "    </tr>\n",
       "  </thead>\n",
       "  <tbody>\n",
       "    <tr>\n",
       "      <th>count</th>\n",
       "      <td>354369.000000</td>\n",
       "      <td>354369.000000</td>\n",
       "      <td>354369.000000</td>\n",
       "      <td>354369.000000</td>\n",
       "      <td>354369.000000</td>\n",
       "      <td>354369.0</td>\n",
       "      <td>354369.000000</td>\n",
       "    </tr>\n",
       "    <tr>\n",
       "      <th>mean</th>\n",
       "      <td>4416.656776</td>\n",
       "      <td>2004.234448</td>\n",
       "      <td>110.094337</td>\n",
       "      <td>128211.172535</td>\n",
       "      <td>5.714645</td>\n",
       "      <td>0.0</td>\n",
       "      <td>50508.689087</td>\n",
       "    </tr>\n",
       "    <tr>\n",
       "      <th>std</th>\n",
       "      <td>4514.158514</td>\n",
       "      <td>90.227958</td>\n",
       "      <td>189.850405</td>\n",
       "      <td>37905.341530</td>\n",
       "      <td>3.726421</td>\n",
       "      <td>0.0</td>\n",
       "      <td>25783.096248</td>\n",
       "    </tr>\n",
       "    <tr>\n",
       "      <th>min</th>\n",
       "      <td>0.000000</td>\n",
       "      <td>1000.000000</td>\n",
       "      <td>0.000000</td>\n",
       "      <td>5000.000000</td>\n",
       "      <td>0.000000</td>\n",
       "      <td>0.0</td>\n",
       "      <td>1067.000000</td>\n",
       "    </tr>\n",
       "    <tr>\n",
       "      <th>25%</th>\n",
       "      <td>1050.000000</td>\n",
       "      <td>1999.000000</td>\n",
       "      <td>69.000000</td>\n",
       "      <td>125000.000000</td>\n",
       "      <td>3.000000</td>\n",
       "      <td>0.0</td>\n",
       "      <td>30165.000000</td>\n",
       "    </tr>\n",
       "    <tr>\n",
       "      <th>50%</th>\n",
       "      <td>2700.000000</td>\n",
       "      <td>2003.000000</td>\n",
       "      <td>105.000000</td>\n",
       "      <td>150000.000000</td>\n",
       "      <td>6.000000</td>\n",
       "      <td>0.0</td>\n",
       "      <td>49413.000000</td>\n",
       "    </tr>\n",
       "    <tr>\n",
       "      <th>75%</th>\n",
       "      <td>6400.000000</td>\n",
       "      <td>2008.000000</td>\n",
       "      <td>143.000000</td>\n",
       "      <td>150000.000000</td>\n",
       "      <td>9.000000</td>\n",
       "      <td>0.0</td>\n",
       "      <td>71083.000000</td>\n",
       "    </tr>\n",
       "    <tr>\n",
       "      <th>max</th>\n",
       "      <td>20000.000000</td>\n",
       "      <td>9999.000000</td>\n",
       "      <td>20000.000000</td>\n",
       "      <td>150000.000000</td>\n",
       "      <td>12.000000</td>\n",
       "      <td>0.0</td>\n",
       "      <td>99998.000000</td>\n",
       "    </tr>\n",
       "  </tbody>\n",
       "</table>\n",
       "</div>"
      ],
      "text/plain": [
       "               Price  RegistrationYear          Power      Kilometer  \\\n",
       "count  354369.000000     354369.000000  354369.000000  354369.000000   \n",
       "mean     4416.656776       2004.234448     110.094337  128211.172535   \n",
       "std      4514.158514         90.227958     189.850405   37905.341530   \n",
       "min         0.000000       1000.000000       0.000000    5000.000000   \n",
       "25%      1050.000000       1999.000000      69.000000  125000.000000   \n",
       "50%      2700.000000       2003.000000     105.000000  150000.000000   \n",
       "75%      6400.000000       2008.000000     143.000000  150000.000000   \n",
       "max     20000.000000       9999.000000   20000.000000  150000.000000   \n",
       "\n",
       "       RegistrationMonth  NumberOfPictures     PostalCode  \n",
       "count      354369.000000          354369.0  354369.000000  \n",
       "mean            5.714645               0.0   50508.689087  \n",
       "std             3.726421               0.0   25783.096248  \n",
       "min             0.000000               0.0    1067.000000  \n",
       "25%             3.000000               0.0   30165.000000  \n",
       "50%             6.000000               0.0   49413.000000  \n",
       "75%             9.000000               0.0   71083.000000  \n",
       "max            12.000000               0.0   99998.000000  "
      ]
     },
     "metadata": {},
     "output_type": "display_data"
    }
   ],
   "source": [
    "# Отобразим информацию о df_autos\n",
    "df_info(df_autos)"
   ]
  },
  {
   "cell_type": "markdown",
   "metadata": {},
   "source": [
    "После загрузки необходимых файлов, имеем 1 датафрейм и 16 уникальных столбцов с данными."
   ]
  },
  {
   "cell_type": "markdown",
   "metadata": {},
   "source": [
    "В датафрейме `df_autos` мы сохранили данные о технических характеристиках, комплектации и ценах других автомобилей."
   ]
  },
  {
   "cell_type": "markdown",
   "metadata": {},
   "source": [
    "**Описание данных:**\n",
    "1. DateCrawled — дата скачивания анкеты из базы\n",
    "2. VehicleType — тип автомобильного кузова\n",
    "3. RegistrationYear — год регистрации автомобиля\n",
    "4. Gearbox — тип коробки передач\n",
    "5. Power — мощность (л. с.)\n",
    "6. Model — модель автомобиля\n",
    "7. Kilometer — пробег (км)\n",
    "8. RegistrationMonth — месяц регистрации автомобиля\n",
    "9. FuelType — тип топлива\n",
    "10. Brand — марка автомобиля\n",
    "11. Repaired — была машина в ремонте или нет\n",
    "12. DateCreated — дата создания анкеты\n",
    "13. NumberOfPictures — количество фотографий автомобиля\n",
    "14. PostalCode — почтовый индекс владельца анкеты (пользователя)\n",
    "15. LastSeen — дата последней активности пользователя\n",
    "16. Price — цена (евро)"
   ]
  },
  {
   "cell_type": "markdown",
   "metadata": {},
   "source": [
    "Необходимо будет заменить тип данных у некоторых столбцов, а также заменить названия на корректные."
   ]
  },
  {
   "cell_type": "markdown",
   "metadata": {},
   "source": [
    "##  Предобработка данных"
   ]
  },
  {
   "cell_type": "markdown",
   "metadata": {},
   "source": [
    "### Замена названий столбцов"
   ]
  },
  {
   "cell_type": "code",
   "execution_count": 8,
   "metadata": {},
   "outputs": [],
   "source": [
    "df_autos.columns = ['date_crawled', 'price', 'vehicle_type', 'registration_year', 'gearbox', 'power', 'model', 'kilometer', 'registration_month', 'fuel_type', 'brand', 'repaired', 'date_created', 'number_of_pictures', 'postal_code', 'last_seen']"
   ]
  },
  {
   "cell_type": "markdown",
   "metadata": {},
   "source": [
    "### Выставление корректных типов данных"
   ]
  },
  {
   "cell_type": "markdown",
   "metadata": {},
   "source": [
    "**Преобразуем тип данных int 64 в int 32 для экономии памяти в столбцах:**\n",
    "- `price`\n",
    "- `registration_year`\n",
    "- `power`\n",
    "- `kilometer`\n",
    "- `registration_month`\n",
    "- `number_of_pictures`\n",
    "- `postal_code`"
   ]
  },
  {
   "cell_type": "code",
   "execution_count": 9,
   "metadata": {},
   "outputs": [],
   "source": [
    "df_autos['price'] = df_autos['price'].astype('int32')\n",
    "df_autos['registration_year'] = df_autos['registration_year'].astype('int32')\n",
    "df_autos['power'] = df_autos['power'].astype('int32')\n",
    "df_autos['kilometer'] = df_autos['kilometer'].astype('int32')\n",
    "df_autos['registration_month'] = df_autos['registration_month'].astype('int32')\n",
    "df_autos['number_of_pictures'] = df_autos['number_of_pictures'].astype('int32')\n",
    "df_autos['postal_code'] = df_autos['postal_code'].astype('int32')"
   ]
  },
  {
   "cell_type": "markdown",
   "metadata": {},
   "source": [
    "### Удаление пропусков"
   ]
  },
  {
   "cell_type": "markdown",
   "metadata": {},
   "source": [
    "**Определим кол-во пропусков в каждом столбце**"
   ]
  },
  {
   "cell_type": "code",
   "execution_count": 10,
   "metadata": {},
   "outputs": [
    {
     "data": {
      "text/plain": [
       "date_crawled              0\n",
       "price                     0\n",
       "vehicle_type          37490\n",
       "registration_year         0\n",
       "gearbox               19833\n",
       "power                     0\n",
       "model                 19705\n",
       "kilometer                 0\n",
       "registration_month        0\n",
       "fuel_type             32895\n",
       "brand                     0\n",
       "repaired              71154\n",
       "date_created              0\n",
       "number_of_pictures        0\n",
       "postal_code               0\n",
       "last_seen                 0\n",
       "dtype: int64"
      ]
     },
     "execution_count": 10,
     "metadata": {},
     "output_type": "execute_result"
    }
   ],
   "source": [
    "df_autos.isna().sum()"
   ]
  },
  {
   "cell_type": "markdown",
   "metadata": {},
   "source": [
    "Обнаружены пропуски - заполним их на этапе сбора пайплайна."
   ]
  },
  {
   "cell_type": "markdown",
   "metadata": {},
   "source": [
    "### Обработка дубликатов"
   ]
  },
  {
   "cell_type": "markdown",
   "metadata": {},
   "source": [
    "**Найдем неявные дубликаты**"
   ]
  },
  {
   "cell_type": "code",
   "execution_count": 11,
   "metadata": {},
   "outputs": [
    {
     "data": {
      "text/html": [
       "<div>\n",
       "<style scoped>\n",
       "    .dataframe tbody tr th:only-of-type {\n",
       "        vertical-align: middle;\n",
       "    }\n",
       "\n",
       "    .dataframe tbody tr th {\n",
       "        vertical-align: top;\n",
       "    }\n",
       "\n",
       "    .dataframe thead th {\n",
       "        text-align: right;\n",
       "    }\n",
       "</style>\n",
       "<table border=\"1\" class=\"dataframe\">\n",
       "  <thead>\n",
       "    <tr style=\"text-align: right;\">\n",
       "      <th></th>\n",
       "      <th>date_crawled</th>\n",
       "      <th>price</th>\n",
       "      <th>vehicle_type</th>\n",
       "      <th>registration_year</th>\n",
       "      <th>gearbox</th>\n",
       "      <th>power</th>\n",
       "      <th>model</th>\n",
       "      <th>kilometer</th>\n",
       "      <th>registration_month</th>\n",
       "      <th>fuel_type</th>\n",
       "      <th>brand</th>\n",
       "      <th>repaired</th>\n",
       "      <th>date_created</th>\n",
       "      <th>number_of_pictures</th>\n",
       "      <th>postal_code</th>\n",
       "      <th>last_seen</th>\n",
       "    </tr>\n",
       "  </thead>\n",
       "  <tbody>\n",
       "    <tr>\n",
       "      <th>0</th>\n",
       "      <td>2016-03-24 11:52:17</td>\n",
       "      <td>480</td>\n",
       "      <td>NaN</td>\n",
       "      <td>1993</td>\n",
       "      <td>manual</td>\n",
       "      <td>0</td>\n",
       "      <td>golf</td>\n",
       "      <td>150000</td>\n",
       "      <td>0</td>\n",
       "      <td>petrol</td>\n",
       "      <td>volkswagen</td>\n",
       "      <td>NaN</td>\n",
       "      <td>2016-03-24 00:00:00</td>\n",
       "      <td>0</td>\n",
       "      <td>70435</td>\n",
       "      <td>2016-04-07 03:16:57</td>\n",
       "    </tr>\n",
       "    <tr>\n",
       "      <th>1</th>\n",
       "      <td>2016-03-24 10:58:45</td>\n",
       "      <td>18300</td>\n",
       "      <td>coupe</td>\n",
       "      <td>2011</td>\n",
       "      <td>manual</td>\n",
       "      <td>190</td>\n",
       "      <td>NaN</td>\n",
       "      <td>125000</td>\n",
       "      <td>5</td>\n",
       "      <td>gasoline</td>\n",
       "      <td>audi</td>\n",
       "      <td>yes</td>\n",
       "      <td>2016-03-24 00:00:00</td>\n",
       "      <td>0</td>\n",
       "      <td>66954</td>\n",
       "      <td>2016-04-07 01:46:50</td>\n",
       "    </tr>\n",
       "    <tr>\n",
       "      <th>2</th>\n",
       "      <td>2016-03-14 12:52:21</td>\n",
       "      <td>9800</td>\n",
       "      <td>suv</td>\n",
       "      <td>2004</td>\n",
       "      <td>auto</td>\n",
       "      <td>163</td>\n",
       "      <td>grand</td>\n",
       "      <td>125000</td>\n",
       "      <td>8</td>\n",
       "      <td>gasoline</td>\n",
       "      <td>jeep</td>\n",
       "      <td>NaN</td>\n",
       "      <td>2016-03-14 00:00:00</td>\n",
       "      <td>0</td>\n",
       "      <td>90480</td>\n",
       "      <td>2016-04-05 12:47:46</td>\n",
       "    </tr>\n",
       "    <tr>\n",
       "      <th>3</th>\n",
       "      <td>2016-03-17 16:54:04</td>\n",
       "      <td>1500</td>\n",
       "      <td>small</td>\n",
       "      <td>2001</td>\n",
       "      <td>manual</td>\n",
       "      <td>75</td>\n",
       "      <td>golf</td>\n",
       "      <td>150000</td>\n",
       "      <td>6</td>\n",
       "      <td>petrol</td>\n",
       "      <td>volkswagen</td>\n",
       "      <td>no</td>\n",
       "      <td>2016-03-17 00:00:00</td>\n",
       "      <td>0</td>\n",
       "      <td>91074</td>\n",
       "      <td>2016-03-17 17:40:17</td>\n",
       "    </tr>\n",
       "    <tr>\n",
       "      <th>4</th>\n",
       "      <td>2016-03-31 17:25:20</td>\n",
       "      <td>3600</td>\n",
       "      <td>small</td>\n",
       "      <td>2008</td>\n",
       "      <td>manual</td>\n",
       "      <td>69</td>\n",
       "      <td>fabia</td>\n",
       "      <td>90000</td>\n",
       "      <td>7</td>\n",
       "      <td>gasoline</td>\n",
       "      <td>skoda</td>\n",
       "      <td>no</td>\n",
       "      <td>2016-03-31 00:00:00</td>\n",
       "      <td>0</td>\n",
       "      <td>60437</td>\n",
       "      <td>2016-04-06 10:17:21</td>\n",
       "    </tr>\n",
       "    <tr>\n",
       "      <th>5</th>\n",
       "      <td>2016-04-04 17:36:23</td>\n",
       "      <td>650</td>\n",
       "      <td>sedan</td>\n",
       "      <td>1995</td>\n",
       "      <td>manual</td>\n",
       "      <td>102</td>\n",
       "      <td>3er</td>\n",
       "      <td>150000</td>\n",
       "      <td>10</td>\n",
       "      <td>petrol</td>\n",
       "      <td>bmw</td>\n",
       "      <td>yes</td>\n",
       "      <td>2016-04-04 00:00:00</td>\n",
       "      <td>0</td>\n",
       "      <td>33775</td>\n",
       "      <td>2016-04-06 19:17:07</td>\n",
       "    </tr>\n",
       "    <tr>\n",
       "      <th>6</th>\n",
       "      <td>2016-04-01 20:48:51</td>\n",
       "      <td>2200</td>\n",
       "      <td>convertible</td>\n",
       "      <td>2004</td>\n",
       "      <td>manual</td>\n",
       "      <td>109</td>\n",
       "      <td>2_reihe</td>\n",
       "      <td>150000</td>\n",
       "      <td>8</td>\n",
       "      <td>petrol</td>\n",
       "      <td>peugeot</td>\n",
       "      <td>no</td>\n",
       "      <td>2016-04-01 00:00:00</td>\n",
       "      <td>0</td>\n",
       "      <td>67112</td>\n",
       "      <td>2016-04-05 18:18:39</td>\n",
       "    </tr>\n",
       "    <tr>\n",
       "      <th>7</th>\n",
       "      <td>2016-03-21 18:54:38</td>\n",
       "      <td>0</td>\n",
       "      <td>sedan</td>\n",
       "      <td>1980</td>\n",
       "      <td>manual</td>\n",
       "      <td>50</td>\n",
       "      <td>other</td>\n",
       "      <td>40000</td>\n",
       "      <td>7</td>\n",
       "      <td>petrol</td>\n",
       "      <td>volkswagen</td>\n",
       "      <td>no</td>\n",
       "      <td>2016-03-21 00:00:00</td>\n",
       "      <td>0</td>\n",
       "      <td>19348</td>\n",
       "      <td>2016-03-25 16:47:58</td>\n",
       "    </tr>\n",
       "    <tr>\n",
       "      <th>8</th>\n",
       "      <td>2016-04-04 23:42:13</td>\n",
       "      <td>14500</td>\n",
       "      <td>bus</td>\n",
       "      <td>2014</td>\n",
       "      <td>manual</td>\n",
       "      <td>125</td>\n",
       "      <td>c_max</td>\n",
       "      <td>30000</td>\n",
       "      <td>8</td>\n",
       "      <td>petrol</td>\n",
       "      <td>ford</td>\n",
       "      <td>NaN</td>\n",
       "      <td>2016-04-04 00:00:00</td>\n",
       "      <td>0</td>\n",
       "      <td>94505</td>\n",
       "      <td>2016-04-04 23:42:13</td>\n",
       "    </tr>\n",
       "    <tr>\n",
       "      <th>9</th>\n",
       "      <td>2016-03-17 10:53:50</td>\n",
       "      <td>999</td>\n",
       "      <td>small</td>\n",
       "      <td>1998</td>\n",
       "      <td>manual</td>\n",
       "      <td>101</td>\n",
       "      <td>golf</td>\n",
       "      <td>150000</td>\n",
       "      <td>0</td>\n",
       "      <td>NaN</td>\n",
       "      <td>volkswagen</td>\n",
       "      <td>NaN</td>\n",
       "      <td>2016-03-17 00:00:00</td>\n",
       "      <td>0</td>\n",
       "      <td>27472</td>\n",
       "      <td>2016-03-31 17:17:06</td>\n",
       "    </tr>\n",
       "  </tbody>\n",
       "</table>\n",
       "</div>"
      ],
      "text/plain": [
       "          date_crawled  price vehicle_type  registration_year gearbox  power  \\\n",
       "0  2016-03-24 11:52:17    480          NaN               1993  manual      0   \n",
       "1  2016-03-24 10:58:45  18300        coupe               2011  manual    190   \n",
       "2  2016-03-14 12:52:21   9800          suv               2004    auto    163   \n",
       "3  2016-03-17 16:54:04   1500        small               2001  manual     75   \n",
       "4  2016-03-31 17:25:20   3600        small               2008  manual     69   \n",
       "5  2016-04-04 17:36:23    650        sedan               1995  manual    102   \n",
       "6  2016-04-01 20:48:51   2200  convertible               2004  manual    109   \n",
       "7  2016-03-21 18:54:38      0        sedan               1980  manual     50   \n",
       "8  2016-04-04 23:42:13  14500          bus               2014  manual    125   \n",
       "9  2016-03-17 10:53:50    999        small               1998  manual    101   \n",
       "\n",
       "     model  kilometer  registration_month fuel_type       brand repaired  \\\n",
       "0     golf     150000                   0    petrol  volkswagen      NaN   \n",
       "1      NaN     125000                   5  gasoline        audi      yes   \n",
       "2    grand     125000                   8  gasoline        jeep      NaN   \n",
       "3     golf     150000                   6    petrol  volkswagen       no   \n",
       "4    fabia      90000                   7  gasoline       skoda       no   \n",
       "5      3er     150000                  10    petrol         bmw      yes   \n",
       "6  2_reihe     150000                   8    petrol     peugeot       no   \n",
       "7    other      40000                   7    petrol  volkswagen       no   \n",
       "8    c_max      30000                   8    petrol        ford      NaN   \n",
       "9     golf     150000                   0       NaN  volkswagen      NaN   \n",
       "\n",
       "          date_created  number_of_pictures  postal_code            last_seen  \n",
       "0  2016-03-24 00:00:00                   0        70435  2016-04-07 03:16:57  \n",
       "1  2016-03-24 00:00:00                   0        66954  2016-04-07 01:46:50  \n",
       "2  2016-03-14 00:00:00                   0        90480  2016-04-05 12:47:46  \n",
       "3  2016-03-17 00:00:00                   0        91074  2016-03-17 17:40:17  \n",
       "4  2016-03-31 00:00:00                   0        60437  2016-04-06 10:17:21  \n",
       "5  2016-04-04 00:00:00                   0        33775  2016-04-06 19:17:07  \n",
       "6  2016-04-01 00:00:00                   0        67112  2016-04-05 18:18:39  \n",
       "7  2016-03-21 00:00:00                   0        19348  2016-03-25 16:47:58  \n",
       "8  2016-04-04 00:00:00                   0        94505  2016-04-04 23:42:13  \n",
       "9  2016-03-17 00:00:00                   0        27472  2016-03-31 17:17:06  "
      ]
     },
     "metadata": {},
     "output_type": "display_data"
    },
    {
     "name": "stdout",
     "output_type": "stream",
     "text": [
      "<class 'pandas.core.frame.DataFrame'>\n",
      "RangeIndex: 354369 entries, 0 to 354368\n",
      "Data columns (total 16 columns):\n",
      " #   Column              Non-Null Count   Dtype \n",
      "---  ------              --------------   ----- \n",
      " 0   date_crawled        354369 non-null  object\n",
      " 1   price               354369 non-null  int32 \n",
      " 2   vehicle_type        316879 non-null  object\n",
      " 3   registration_year   354369 non-null  int32 \n",
      " 4   gearbox             334536 non-null  object\n",
      " 5   power               354369 non-null  int32 \n",
      " 6   model               334664 non-null  object\n",
      " 7   kilometer           354369 non-null  int32 \n",
      " 8   registration_month  354369 non-null  int32 \n",
      " 9   fuel_type           321474 non-null  object\n",
      " 10  brand               354369 non-null  object\n",
      " 11  repaired            283215 non-null  object\n",
      " 12  date_created        354369 non-null  object\n",
      " 13  number_of_pictures  354369 non-null  int32 \n",
      " 14  postal_code         354369 non-null  int32 \n",
      " 15  last_seen           354369 non-null  object\n",
      "dtypes: int32(7), object(9)\n",
      "memory usage: 33.8+ MB\n"
     ]
    },
    {
     "data": {
      "text/plain": [
       "None"
      ]
     },
     "metadata": {},
     "output_type": "display_data"
    },
    {
     "data": {
      "text/html": [
       "<div>\n",
       "<style scoped>\n",
       "    .dataframe tbody tr th:only-of-type {\n",
       "        vertical-align: middle;\n",
       "    }\n",
       "\n",
       "    .dataframe tbody tr th {\n",
       "        vertical-align: top;\n",
       "    }\n",
       "\n",
       "    .dataframe thead th {\n",
       "        text-align: right;\n",
       "    }\n",
       "</style>\n",
       "<table border=\"1\" class=\"dataframe\">\n",
       "  <thead>\n",
       "    <tr style=\"text-align: right;\">\n",
       "      <th></th>\n",
       "      <th>price</th>\n",
       "      <th>registration_year</th>\n",
       "      <th>power</th>\n",
       "      <th>kilometer</th>\n",
       "      <th>registration_month</th>\n",
       "      <th>number_of_pictures</th>\n",
       "      <th>postal_code</th>\n",
       "    </tr>\n",
       "  </thead>\n",
       "  <tbody>\n",
       "    <tr>\n",
       "      <th>count</th>\n",
       "      <td>354369.000000</td>\n",
       "      <td>354369.000000</td>\n",
       "      <td>354369.000000</td>\n",
       "      <td>354369.000000</td>\n",
       "      <td>354369.000000</td>\n",
       "      <td>354369.0</td>\n",
       "      <td>354369.000000</td>\n",
       "    </tr>\n",
       "    <tr>\n",
       "      <th>mean</th>\n",
       "      <td>4416.656776</td>\n",
       "      <td>2004.234448</td>\n",
       "      <td>110.094337</td>\n",
       "      <td>128211.172535</td>\n",
       "      <td>5.714645</td>\n",
       "      <td>0.0</td>\n",
       "      <td>50508.689087</td>\n",
       "    </tr>\n",
       "    <tr>\n",
       "      <th>std</th>\n",
       "      <td>4514.158514</td>\n",
       "      <td>90.227958</td>\n",
       "      <td>189.850405</td>\n",
       "      <td>37905.341530</td>\n",
       "      <td>3.726421</td>\n",
       "      <td>0.0</td>\n",
       "      <td>25783.096248</td>\n",
       "    </tr>\n",
       "    <tr>\n",
       "      <th>min</th>\n",
       "      <td>0.000000</td>\n",
       "      <td>1000.000000</td>\n",
       "      <td>0.000000</td>\n",
       "      <td>5000.000000</td>\n",
       "      <td>0.000000</td>\n",
       "      <td>0.0</td>\n",
       "      <td>1067.000000</td>\n",
       "    </tr>\n",
       "    <tr>\n",
       "      <th>25%</th>\n",
       "      <td>1050.000000</td>\n",
       "      <td>1999.000000</td>\n",
       "      <td>69.000000</td>\n",
       "      <td>125000.000000</td>\n",
       "      <td>3.000000</td>\n",
       "      <td>0.0</td>\n",
       "      <td>30165.000000</td>\n",
       "    </tr>\n",
       "    <tr>\n",
       "      <th>50%</th>\n",
       "      <td>2700.000000</td>\n",
       "      <td>2003.000000</td>\n",
       "      <td>105.000000</td>\n",
       "      <td>150000.000000</td>\n",
       "      <td>6.000000</td>\n",
       "      <td>0.0</td>\n",
       "      <td>49413.000000</td>\n",
       "    </tr>\n",
       "    <tr>\n",
       "      <th>75%</th>\n",
       "      <td>6400.000000</td>\n",
       "      <td>2008.000000</td>\n",
       "      <td>143.000000</td>\n",
       "      <td>150000.000000</td>\n",
       "      <td>9.000000</td>\n",
       "      <td>0.0</td>\n",
       "      <td>71083.000000</td>\n",
       "    </tr>\n",
       "    <tr>\n",
       "      <th>max</th>\n",
       "      <td>20000.000000</td>\n",
       "      <td>9999.000000</td>\n",
       "      <td>20000.000000</td>\n",
       "      <td>150000.000000</td>\n",
       "      <td>12.000000</td>\n",
       "      <td>0.0</td>\n",
       "      <td>99998.000000</td>\n",
       "    </tr>\n",
       "  </tbody>\n",
       "</table>\n",
       "</div>"
      ],
      "text/plain": [
       "               price  registration_year          power      kilometer  \\\n",
       "count  354369.000000      354369.000000  354369.000000  354369.000000   \n",
       "mean     4416.656776        2004.234448     110.094337  128211.172535   \n",
       "std      4514.158514          90.227958     189.850405   37905.341530   \n",
       "min         0.000000        1000.000000       0.000000    5000.000000   \n",
       "25%      1050.000000        1999.000000      69.000000  125000.000000   \n",
       "50%      2700.000000        2003.000000     105.000000  150000.000000   \n",
       "75%      6400.000000        2008.000000     143.000000  150000.000000   \n",
       "max     20000.000000        9999.000000   20000.000000  150000.000000   \n",
       "\n",
       "       registration_month  number_of_pictures    postal_code  \n",
       "count       354369.000000            354369.0  354369.000000  \n",
       "mean             5.714645                 0.0   50508.689087  \n",
       "std              3.726421                 0.0   25783.096248  \n",
       "min              0.000000                 0.0    1067.000000  \n",
       "25%              3.000000                 0.0   30165.000000  \n",
       "50%              6.000000                 0.0   49413.000000  \n",
       "75%              9.000000                 0.0   71083.000000  \n",
       "max             12.000000                 0.0   99998.000000  "
      ]
     },
     "metadata": {},
     "output_type": "display_data"
    }
   ],
   "source": [
    "# Отобразим информацию о df_autos\n",
    "df_info(df_autos)"
   ]
  },
  {
   "cell_type": "code",
   "execution_count": 12,
   "metadata": {},
   "outputs": [
    {
     "name": "stdout",
     "output_type": "stream",
     "text": [
      "[nan 'coupe' 'suv' 'small' 'sedan' 'convertible' 'bus' 'wagon' 'other']\n",
      "['manual' 'auto' nan]\n",
      "['golf' nan 'grand' 'fabia' '3er' '2_reihe' 'other' 'c_max' '3_reihe'\n",
      " 'passat' 'navara' 'ka' 'polo' 'twingo' 'a_klasse' 'scirocco' '5er'\n",
      " 'meriva' 'arosa' 'c4' 'civic' 'transporter' 'punto' 'e_klasse' 'clio'\n",
      " 'kadett' 'kangoo' 'corsa' 'one' 'fortwo' '1er' 'b_klasse' 'signum'\n",
      " 'astra' 'a8' 'jetta' 'fiesta' 'c_klasse' 'micra' 'vito' 'sprinter' '156'\n",
      " 'escort' 'forester' 'xc_reihe' 'scenic' 'a4' 'a1' 'insignia' 'combo'\n",
      " 'focus' 'tt' 'a6' 'jazz' 'omega' 'slk' '7er' '80' '147' '100' 'z_reihe'\n",
      " 'sportage' 'sorento' 'v40' 'ibiza' 'mustang' 'eos' 'touran' 'getz' 'a3'\n",
      " 'almera' 'megane' 'lupo' 'r19' 'zafira' 'caddy' 'mondeo' 'cordoba' 'colt'\n",
      " 'impreza' 'vectra' 'berlingo' 'tiguan' 'i_reihe' 'espace' 'sharan'\n",
      " '6_reihe' 'panda' 'up' 'seicento' 'ceed' '5_reihe' 'yeti' 'octavia' 'mii'\n",
      " 'rx_reihe' '6er' 'modus' 'fox' 'matiz' 'beetle' 'c1' 'rio' 'touareg'\n",
      " 'logan' 'spider' 'cuore' 's_max' 'a2' 'galaxy' 'c3' 'viano' 's_klasse'\n",
      " '1_reihe' 'avensis' 'roomster' 'sl' 'kaefer' 'santa' 'cooper' 'leon'\n",
      " '4_reihe' 'a5' '500' 'laguna' 'ptcruiser' 'clk' 'primera' 'x_reihe'\n",
      " 'exeo' '159' 'transit' 'juke' 'qashqai' 'carisma' 'accord' 'corolla'\n",
      " 'lanos' 'phaeton' 'verso' 'swift' 'rav' 'picanto' 'boxster' 'kalos'\n",
      " 'superb' 'stilo' 'alhambra' 'mx_reihe' 'roadster' 'ypsilon' 'cayenne'\n",
      " 'galant' 'justy' '90' 'sirion' 'crossfire' 'agila' 'duster' 'cr_reihe'\n",
      " 'v50' 'c_reihe' 'v_klasse' 'm_klasse' 'yaris' 'c5' 'aygo' 'cc' 'carnival'\n",
      " 'fusion' '911' 'bora' 'forfour' 'm_reihe' 'cl' 'tigra' '300c' 'spark'\n",
      " 'v70' 'kuga' 'x_type' 'ducato' 's_type' 'x_trail' 'toledo' 'altea'\n",
      " 'voyager' 'calibra' 'bravo' 'antara' 'tucson' 'citigo' 'jimny' 'wrangler'\n",
      " 'lybra' 'q7' 'lancer' 'captiva' 'c2' 'discovery' 'freelander' 'sandero'\n",
      " 'note' '900' 'cherokee' 'clubman' 'samara' 'defender' '601' 'cx_reihe'\n",
      " 'legacy' 'pajero' 'auris' 'niva' 's60' 'nubira' 'vivaro' 'g_klasse'\n",
      " 'lodgy' '850' 'range_rover' 'q3' 'serie_2' 'glk' 'charade' 'croma'\n",
      " 'outlander' 'doblo' 'musa' 'move' '9000' 'v60' '145' 'aveo' '200' 'b_max'\n",
      " 'range_rover_sport' 'terios' 'rangerover' 'q5' 'range_rover_evoque'\n",
      " 'materia' 'delta' 'gl' 'kalina' 'amarok' 'elefantino' 'i3' 'kappa'\n",
      " 'serie_3' 'serie_1']\n",
      "['petrol' 'gasoline' nan 'lpg' 'other' 'hybrid' 'cng' 'electric']\n",
      "['volkswagen' 'audi' 'jeep' 'skoda' 'bmw' 'peugeot' 'ford' 'mazda'\n",
      " 'nissan' 'renault' 'mercedes_benz' 'opel' 'seat' 'citroen' 'honda' 'fiat'\n",
      " 'mini' 'smart' 'hyundai' 'sonstige_autos' 'alfa_romeo' 'subaru' 'volvo'\n",
      " 'mitsubishi' 'kia' 'suzuki' 'lancia' 'toyota' 'chevrolet' 'dacia'\n",
      " 'daihatsu' 'trabant' 'saab' 'chrysler' 'jaguar' 'daewoo' 'porsche'\n",
      " 'rover' 'land_rover' 'lada']\n",
      "[nan 'yes' 'no']\n"
     ]
    }
   ],
   "source": [
    "# Найдем неявные дубликаты\n",
    "print(df_autos['vehicle_type'].unique())\n",
    "print(df_autos['gearbox'].unique())\n",
    "print(df_autos['model'].unique())\n",
    "print(df_autos['fuel_type'].unique())\n",
    "print(df_autos['brand'].unique())\n",
    "print(df_autos['repaired'].unique())"
   ]
  },
  {
   "cell_type": "markdown",
   "metadata": {},
   "source": [
    "Тип топлива `petrol` и `gasoline` обозначают один и тот же вид топлива.\n",
    "\n",
    "Эти термины синонимичны и могут применяться взаимозаменяемо в зависимости от региона.\n",
    "\n",
    "Как правило, Petrol используется в Великобритании, Индии и некоторых других местах, в то время как Gasoline используется в Соединенных Штатах."
   ]
  },
  {
   "cell_type": "code",
   "execution_count": 13,
   "metadata": {},
   "outputs": [],
   "source": [
    "# # Избавимся от неявных дубликатов\n",
    "# df_autos.loc[df_autos['fuel_type'] == 'gasoline', 'fuel_type'] = 'petrol'"
   ]
  },
  {
   "cell_type": "code",
   "execution_count": 14,
   "metadata": {},
   "outputs": [
    {
     "name": "stdout",
     "output_type": "stream",
     "text": [
      "['petrol' 'gasoline' nan 'lpg' 'other' 'hybrid' 'cng' 'electric']\n"
     ]
    }
   ],
   "source": [
    "print(df_autos['fuel_type'].unique())"
   ]
  },
  {
   "cell_type": "markdown",
   "metadata": {},
   "source": [
    "Неявные дубликаты не найдены"
   ]
  },
  {
   "cell_type": "markdown",
   "metadata": {},
   "source": [
    "**Найдем явные дубликаты**"
   ]
  },
  {
   "cell_type": "code",
   "execution_count": 15,
   "metadata": {},
   "outputs": [
    {
     "name": "stdout",
     "output_type": "stream",
     "text": [
      "4\n"
     ]
    }
   ],
   "source": [
    "# Найдем явные дубликаты\n",
    "print(df_autos.duplicated().sum())"
   ]
  },
  {
   "cell_type": "code",
   "execution_count": 16,
   "metadata": {},
   "outputs": [],
   "source": [
    "# Удалим явные дубликаты\n",
    "df_autos = df_autos.drop_duplicates()\n",
    "df_autos = df_autos.reset_index(drop=True)"
   ]
  },
  {
   "cell_type": "markdown",
   "metadata": {},
   "source": [
    "Явные дубликаты устранены"
   ]
  },
  {
   "cell_type": "markdown",
   "metadata": {},
   "source": [
    "На этапе предобработки данных, нам удалось:\n",
    "1. Заменить названия у столбцов на корректные\n",
    "2. Проверить данные на наличие пропусков\n",
    "3. Выставить корректные типы данных для экономии памяти\n",
    "4. Обработать и избавиться от дубликатов"
   ]
  },
  {
   "cell_type": "markdown",
   "metadata": {},
   "source": [
    "## Исследовательский анализ данных"
   ]
  },
  {
   "cell_type": "code",
   "execution_count": 17,
   "metadata": {},
   "outputs": [],
   "source": [
    "# Создадим функцию для отображения количественных признаков\n",
    "def quant_feat(df, col, title, xlabel, ylabel):\n",
    "    # Отобразим данные в столбце col\n",
    "    display(df[col].describe())\n",
    "    \n",
    "    # Отобразим гистограмму, построенную для столбца col\n",
    "    plt.figure(figsize=(15,8))\n",
    "    plt.title(title)\n",
    "    sns.histplot(df[col]).set(xlabel=xlabel, ylabel=ylabel);\n",
    "    \n",
    "    # Отобразим ящик с усами, построенный для столбца col\n",
    "    plt.figure(figsize=(15,8))\n",
    "    plt.title(title)\n",
    "    sns.boxplot(df[col]).set(ylabel=xlabel);"
   ]
  },
  {
   "cell_type": "code",
   "execution_count": 18,
   "metadata": {},
   "outputs": [],
   "source": [
    "# Создадим функцию для отображения качественных признаков в форме столбчатой диаграммы\n",
    "def qual_feat_count(df, col, title, xlabel, ylabel):\n",
    "    # Отобразим данные в столбце col\n",
    "    display(df[col].describe())\n",
    "    \n",
    "    # Отобразим столбчатую диаграмму, построенную для столбца col\n",
    "    plt.figure(figsize=(15,8))\n",
    "    plt.title(title)\n",
    "    sns.countplot(df[col]).set(xlabel=xlabel, ylabel=ylabel);"
   ]
  },
  {
   "cell_type": "code",
   "execution_count": 19,
   "metadata": {},
   "outputs": [],
   "source": [
    "# Создадим функцию для отображения качественных признаков в форме пирога\n",
    "def qual_feat_pie(df, col, title, label):\n",
    "    # Отобразим данные в столбце col\n",
    "    display(df[col].value_counts())\n",
    "    \n",
    "    # Отобразим гистограмму, построенную для столбца col\n",
    "    plt.title(title, loc='center', pad=125)\n",
    "    plt.pie(df[col].value_counts(), labels=[*label], autopct='%1.1f%%', radius=2);"
   ]
  },
  {
   "cell_type": "markdown",
   "metadata": {},
   "source": [
    "### Изучим и опишем данные из таблицы df_autos"
   ]
  },
  {
   "cell_type": "code",
   "execution_count": 20,
   "metadata": {},
   "outputs": [
    {
     "data": {
      "text/html": [
       "<div>\n",
       "<style scoped>\n",
       "    .dataframe tbody tr th:only-of-type {\n",
       "        vertical-align: middle;\n",
       "    }\n",
       "\n",
       "    .dataframe tbody tr th {\n",
       "        vertical-align: top;\n",
       "    }\n",
       "\n",
       "    .dataframe thead th {\n",
       "        text-align: right;\n",
       "    }\n",
       "</style>\n",
       "<table border=\"1\" class=\"dataframe\">\n",
       "  <thead>\n",
       "    <tr style=\"text-align: right;\">\n",
       "      <th></th>\n",
       "      <th>date_crawled</th>\n",
       "      <th>price</th>\n",
       "      <th>vehicle_type</th>\n",
       "      <th>registration_year</th>\n",
       "      <th>gearbox</th>\n",
       "      <th>power</th>\n",
       "      <th>model</th>\n",
       "      <th>kilometer</th>\n",
       "      <th>registration_month</th>\n",
       "      <th>fuel_type</th>\n",
       "      <th>brand</th>\n",
       "      <th>repaired</th>\n",
       "      <th>date_created</th>\n",
       "      <th>number_of_pictures</th>\n",
       "      <th>postal_code</th>\n",
       "      <th>last_seen</th>\n",
       "    </tr>\n",
       "  </thead>\n",
       "  <tbody>\n",
       "    <tr>\n",
       "      <th>0</th>\n",
       "      <td>2016-03-24 11:52:17</td>\n",
       "      <td>480</td>\n",
       "      <td>NaN</td>\n",
       "      <td>1993</td>\n",
       "      <td>manual</td>\n",
       "      <td>0</td>\n",
       "      <td>golf</td>\n",
       "      <td>150000</td>\n",
       "      <td>0</td>\n",
       "      <td>petrol</td>\n",
       "      <td>volkswagen</td>\n",
       "      <td>NaN</td>\n",
       "      <td>2016-03-24 00:00:00</td>\n",
       "      <td>0</td>\n",
       "      <td>70435</td>\n",
       "      <td>2016-04-07 03:16:57</td>\n",
       "    </tr>\n",
       "    <tr>\n",
       "      <th>1</th>\n",
       "      <td>2016-03-24 10:58:45</td>\n",
       "      <td>18300</td>\n",
       "      <td>coupe</td>\n",
       "      <td>2011</td>\n",
       "      <td>manual</td>\n",
       "      <td>190</td>\n",
       "      <td>NaN</td>\n",
       "      <td>125000</td>\n",
       "      <td>5</td>\n",
       "      <td>gasoline</td>\n",
       "      <td>audi</td>\n",
       "      <td>yes</td>\n",
       "      <td>2016-03-24 00:00:00</td>\n",
       "      <td>0</td>\n",
       "      <td>66954</td>\n",
       "      <td>2016-04-07 01:46:50</td>\n",
       "    </tr>\n",
       "    <tr>\n",
       "      <th>2</th>\n",
       "      <td>2016-03-14 12:52:21</td>\n",
       "      <td>9800</td>\n",
       "      <td>suv</td>\n",
       "      <td>2004</td>\n",
       "      <td>auto</td>\n",
       "      <td>163</td>\n",
       "      <td>grand</td>\n",
       "      <td>125000</td>\n",
       "      <td>8</td>\n",
       "      <td>gasoline</td>\n",
       "      <td>jeep</td>\n",
       "      <td>NaN</td>\n",
       "      <td>2016-03-14 00:00:00</td>\n",
       "      <td>0</td>\n",
       "      <td>90480</td>\n",
       "      <td>2016-04-05 12:47:46</td>\n",
       "    </tr>\n",
       "    <tr>\n",
       "      <th>3</th>\n",
       "      <td>2016-03-17 16:54:04</td>\n",
       "      <td>1500</td>\n",
       "      <td>small</td>\n",
       "      <td>2001</td>\n",
       "      <td>manual</td>\n",
       "      <td>75</td>\n",
       "      <td>golf</td>\n",
       "      <td>150000</td>\n",
       "      <td>6</td>\n",
       "      <td>petrol</td>\n",
       "      <td>volkswagen</td>\n",
       "      <td>no</td>\n",
       "      <td>2016-03-17 00:00:00</td>\n",
       "      <td>0</td>\n",
       "      <td>91074</td>\n",
       "      <td>2016-03-17 17:40:17</td>\n",
       "    </tr>\n",
       "    <tr>\n",
       "      <th>4</th>\n",
       "      <td>2016-03-31 17:25:20</td>\n",
       "      <td>3600</td>\n",
       "      <td>small</td>\n",
       "      <td>2008</td>\n",
       "      <td>manual</td>\n",
       "      <td>69</td>\n",
       "      <td>fabia</td>\n",
       "      <td>90000</td>\n",
       "      <td>7</td>\n",
       "      <td>gasoline</td>\n",
       "      <td>skoda</td>\n",
       "      <td>no</td>\n",
       "      <td>2016-03-31 00:00:00</td>\n",
       "      <td>0</td>\n",
       "      <td>60437</td>\n",
       "      <td>2016-04-06 10:17:21</td>\n",
       "    </tr>\n",
       "    <tr>\n",
       "      <th>5</th>\n",
       "      <td>2016-04-04 17:36:23</td>\n",
       "      <td>650</td>\n",
       "      <td>sedan</td>\n",
       "      <td>1995</td>\n",
       "      <td>manual</td>\n",
       "      <td>102</td>\n",
       "      <td>3er</td>\n",
       "      <td>150000</td>\n",
       "      <td>10</td>\n",
       "      <td>petrol</td>\n",
       "      <td>bmw</td>\n",
       "      <td>yes</td>\n",
       "      <td>2016-04-04 00:00:00</td>\n",
       "      <td>0</td>\n",
       "      <td>33775</td>\n",
       "      <td>2016-04-06 19:17:07</td>\n",
       "    </tr>\n",
       "    <tr>\n",
       "      <th>6</th>\n",
       "      <td>2016-04-01 20:48:51</td>\n",
       "      <td>2200</td>\n",
       "      <td>convertible</td>\n",
       "      <td>2004</td>\n",
       "      <td>manual</td>\n",
       "      <td>109</td>\n",
       "      <td>2_reihe</td>\n",
       "      <td>150000</td>\n",
       "      <td>8</td>\n",
       "      <td>petrol</td>\n",
       "      <td>peugeot</td>\n",
       "      <td>no</td>\n",
       "      <td>2016-04-01 00:00:00</td>\n",
       "      <td>0</td>\n",
       "      <td>67112</td>\n",
       "      <td>2016-04-05 18:18:39</td>\n",
       "    </tr>\n",
       "    <tr>\n",
       "      <th>7</th>\n",
       "      <td>2016-03-21 18:54:38</td>\n",
       "      <td>0</td>\n",
       "      <td>sedan</td>\n",
       "      <td>1980</td>\n",
       "      <td>manual</td>\n",
       "      <td>50</td>\n",
       "      <td>other</td>\n",
       "      <td>40000</td>\n",
       "      <td>7</td>\n",
       "      <td>petrol</td>\n",
       "      <td>volkswagen</td>\n",
       "      <td>no</td>\n",
       "      <td>2016-03-21 00:00:00</td>\n",
       "      <td>0</td>\n",
       "      <td>19348</td>\n",
       "      <td>2016-03-25 16:47:58</td>\n",
       "    </tr>\n",
       "    <tr>\n",
       "      <th>8</th>\n",
       "      <td>2016-04-04 23:42:13</td>\n",
       "      <td>14500</td>\n",
       "      <td>bus</td>\n",
       "      <td>2014</td>\n",
       "      <td>manual</td>\n",
       "      <td>125</td>\n",
       "      <td>c_max</td>\n",
       "      <td>30000</td>\n",
       "      <td>8</td>\n",
       "      <td>petrol</td>\n",
       "      <td>ford</td>\n",
       "      <td>NaN</td>\n",
       "      <td>2016-04-04 00:00:00</td>\n",
       "      <td>0</td>\n",
       "      <td>94505</td>\n",
       "      <td>2016-04-04 23:42:13</td>\n",
       "    </tr>\n",
       "    <tr>\n",
       "      <th>9</th>\n",
       "      <td>2016-03-17 10:53:50</td>\n",
       "      <td>999</td>\n",
       "      <td>small</td>\n",
       "      <td>1998</td>\n",
       "      <td>manual</td>\n",
       "      <td>101</td>\n",
       "      <td>golf</td>\n",
       "      <td>150000</td>\n",
       "      <td>0</td>\n",
       "      <td>NaN</td>\n",
       "      <td>volkswagen</td>\n",
       "      <td>NaN</td>\n",
       "      <td>2016-03-17 00:00:00</td>\n",
       "      <td>0</td>\n",
       "      <td>27472</td>\n",
       "      <td>2016-03-31 17:17:06</td>\n",
       "    </tr>\n",
       "  </tbody>\n",
       "</table>\n",
       "</div>"
      ],
      "text/plain": [
       "          date_crawled  price vehicle_type  registration_year gearbox  power  \\\n",
       "0  2016-03-24 11:52:17    480          NaN               1993  manual      0   \n",
       "1  2016-03-24 10:58:45  18300        coupe               2011  manual    190   \n",
       "2  2016-03-14 12:52:21   9800          suv               2004    auto    163   \n",
       "3  2016-03-17 16:54:04   1500        small               2001  manual     75   \n",
       "4  2016-03-31 17:25:20   3600        small               2008  manual     69   \n",
       "5  2016-04-04 17:36:23    650        sedan               1995  manual    102   \n",
       "6  2016-04-01 20:48:51   2200  convertible               2004  manual    109   \n",
       "7  2016-03-21 18:54:38      0        sedan               1980  manual     50   \n",
       "8  2016-04-04 23:42:13  14500          bus               2014  manual    125   \n",
       "9  2016-03-17 10:53:50    999        small               1998  manual    101   \n",
       "\n",
       "     model  kilometer  registration_month fuel_type       brand repaired  \\\n",
       "0     golf     150000                   0    petrol  volkswagen      NaN   \n",
       "1      NaN     125000                   5  gasoline        audi      yes   \n",
       "2    grand     125000                   8  gasoline        jeep      NaN   \n",
       "3     golf     150000                   6    petrol  volkswagen       no   \n",
       "4    fabia      90000                   7  gasoline       skoda       no   \n",
       "5      3er     150000                  10    petrol         bmw      yes   \n",
       "6  2_reihe     150000                   8    petrol     peugeot       no   \n",
       "7    other      40000                   7    petrol  volkswagen       no   \n",
       "8    c_max      30000                   8    petrol        ford      NaN   \n",
       "9     golf     150000                   0       NaN  volkswagen      NaN   \n",
       "\n",
       "          date_created  number_of_pictures  postal_code            last_seen  \n",
       "0  2016-03-24 00:00:00                   0        70435  2016-04-07 03:16:57  \n",
       "1  2016-03-24 00:00:00                   0        66954  2016-04-07 01:46:50  \n",
       "2  2016-03-14 00:00:00                   0        90480  2016-04-05 12:47:46  \n",
       "3  2016-03-17 00:00:00                   0        91074  2016-03-17 17:40:17  \n",
       "4  2016-03-31 00:00:00                   0        60437  2016-04-06 10:17:21  \n",
       "5  2016-04-04 00:00:00                   0        33775  2016-04-06 19:17:07  \n",
       "6  2016-04-01 00:00:00                   0        67112  2016-04-05 18:18:39  \n",
       "7  2016-03-21 00:00:00                   0        19348  2016-03-25 16:47:58  \n",
       "8  2016-04-04 00:00:00                   0        94505  2016-04-04 23:42:13  \n",
       "9  2016-03-17 00:00:00                   0        27472  2016-03-31 17:17:06  "
      ]
     },
     "execution_count": 20,
     "metadata": {},
     "output_type": "execute_result"
    }
   ],
   "source": [
    "df_autos.head(10)"
   ]
  },
  {
   "cell_type": "markdown",
   "metadata": {},
   "source": [
    "**Изучим столбец `date_crawled`**"
   ]
  },
  {
   "cell_type": "code",
   "execution_count": 21,
   "metadata": {},
   "outputs": [
    {
     "data": {
      "text/plain": [
       "'2016-03-05 14:06:22'"
      ]
     },
     "execution_count": 21,
     "metadata": {},
     "output_type": "execute_result"
    }
   ],
   "source": [
    "df_autos['date_crawled'].min()"
   ]
  },
  {
   "cell_type": "code",
   "execution_count": 22,
   "metadata": {},
   "outputs": [
    {
     "data": {
      "text/plain": [
       "'2016-04-07 14:36:58'"
      ]
     },
     "execution_count": 22,
     "metadata": {},
     "output_type": "execute_result"
    }
   ],
   "source": [
    "df_autos['date_crawled'].max()"
   ]
  },
  {
   "cell_type": "markdown",
   "metadata": {},
   "source": [
    "**Изучим столбец `price`**"
   ]
  },
  {
   "cell_type": "code",
   "execution_count": 23,
   "metadata": {
    "scrolled": true
   },
   "outputs": [
    {
     "data": {
      "text/plain": [
       "count    354365.000000\n",
       "mean       4416.679830\n",
       "std        4514.176349\n",
       "min           0.000000\n",
       "25%        1050.000000\n",
       "50%        2700.000000\n",
       "75%        6400.000000\n",
       "max       20000.000000\n",
       "Name: price, dtype: float64"
      ]
     },
     "metadata": {},
     "output_type": "display_data"
    },
    {
     "name": "stderr",
     "output_type": "stream",
     "text": [
      "/opt/conda/lib/python3.9/site-packages/seaborn/_decorators.py:36: FutureWarning: Pass the following variable as a keyword arg: x. From version 0.12, the only valid positional argument will be `data`, and passing other arguments without an explicit keyword will result in an error or misinterpretation.\n",
      "  warnings.warn(\n"
     ]
    },
    {
     "data": {
      "image/png": "[encoded data removed]",
      "text/plain": [
       "<Figure size 1080x576 with 1 Axes>"
      ]
     },
     "metadata": {
      "needs_background": "light"
     },
     "output_type": "display_data"
    },
    {
     "data": {
      "image/png": "[encoded data removed]",
      "text/plain": [
       "<Figure size 1080x576 with 1 Axes>"
      ]
     },
     "metadata": {
      "needs_background": "light"
     },
     "output_type": "display_data"
    }
   ],
   "source": [
    "# Отобразим данные в столбце price\n",
    "quant_feat(df_autos, 'price', 'Распределение признака цена за автомобиль', 'Цена, евро', 'Кол-во автомобилей, шт.')"
   ]
  },
  {
   "cell_type": "markdown",
   "metadata": {},
   "source": [
    "Оценим кол-во автомобилей, с ценой равной 0 евро."
   ]
  },
  {
   "cell_type": "code",
   "execution_count": 24,
   "metadata": {},
   "outputs": [
    {
     "data": {
      "text/plain": [
       "3.0398035923412303"
      ]
     },
     "execution_count": 24,
     "metadata": {},
     "output_type": "execute_result"
    }
   ],
   "source": [
    "len(df_autos.query('price == 0')) / len(df_autos['price']) * 100"
   ]
  },
  {
   "cell_type": "markdown",
   "metadata": {},
   "source": [
    "Судя по полученным результатам, можно предположить, что цена равная 0 - это ошибочно внесенные данные.\n",
    "\n",
    "Аномально низких значений цены 3.03% от общего кол-ва - достаточно мало.\n",
    "\n",
    "Следовательно, ими можно пренебречь.\n",
    "\n",
    "Для дальнейшего исследования, оставим автомобили с ценой выше 0."
   ]
  },
  {
   "cell_type": "code",
   "execution_count": 25,
   "metadata": {},
   "outputs": [],
   "source": [
    "df_autos = df_autos.query('price > 0')"
   ]
  },
  {
   "cell_type": "markdown",
   "metadata": {},
   "source": [
    "**Изучим столбец `vehicle_type`**"
   ]
  },
  {
   "cell_type": "code",
   "execution_count": 26,
   "metadata": {},
   "outputs": [
    {
     "data": {
      "text/plain": [
       "count     309843\n",
       "unique         8\n",
       "top        sedan\n",
       "freq       89405\n",
       "Name: vehicle_type, dtype: object"
      ]
     },
     "metadata": {},
     "output_type": "display_data"
    },
    {
     "name": "stderr",
     "output_type": "stream",
     "text": [
      "/opt/conda/lib/python3.9/site-packages/seaborn/_decorators.py:36: FutureWarning: Pass the following variable as a keyword arg: x. From version 0.12, the only valid positional argument will be `data`, and passing other arguments without an explicit keyword will result in an error or misinterpretation.\n",
      "  warnings.warn(\n"
     ]
    },
    {
     "data": {
      "image/png": "[encoded data removed]",
      "text/plain": [
       "<Figure size 1080x576 with 1 Axes>"
      ]
     },
     "metadata": {
      "needs_background": "light"
     },
     "output_type": "display_data"
    }
   ],
   "source": [
    "# Отобразим данные в столбце vehicle_type\n",
    "qual_feat_count(df_autos, 'vehicle_type', 'Распределение признака тип автомобильного кузова', 'Тип', 'Кол-во автомобилей, шт.')"
   ]
  },
  {
   "cell_type": "markdown",
   "metadata": {},
   "source": [
    "**Изучим столбец `registration_year`**"
   ]
  },
  {
   "cell_type": "code",
   "execution_count": 27,
   "metadata": {},
   "outputs": [
    {
     "data": {
      "text/plain": [
       "count    343593.00000\n",
       "mean       2004.08983\n",
       "std          78.41368\n",
       "min        1000.00000\n",
       "25%        1999.00000\n",
       "50%        2003.00000\n",
       "75%        2008.00000\n",
       "max        9999.00000\n",
       "Name: registration_year, dtype: float64"
      ]
     },
     "execution_count": 27,
     "metadata": {},
     "output_type": "execute_result"
    }
   ],
   "source": [
    "# Отобразим данные в столбце registration_year\n",
    "df_autos['registration_year'].describe()"
   ]
  },
  {
   "cell_type": "markdown",
   "metadata": {},
   "source": [
    "Оценим кол-во автомобилей, с годом регистрации позднее 2025 года"
   ]
  },
  {
   "cell_type": "code",
   "execution_count": 28,
   "metadata": {},
   "outputs": [
    {
     "data": {
      "text/plain": [
       "0.02502961352530465"
      ]
     },
     "execution_count": 28,
     "metadata": {},
     "output_type": "execute_result"
    }
   ],
   "source": [
    "len(df_autos.query('registration_year > 2025')) / len(df_autos['registration_year']) * 100"
   ]
  },
  {
   "cell_type": "markdown",
   "metadata": {},
   "source": [
    "Оценим кол-во автомобилей, с годом регистрации ранее 1950 года"
   ]
  },
  {
   "cell_type": "code",
   "execution_count": 29,
   "metadata": {},
   "outputs": [
    {
     "data": {
      "text/plain": [
       "0.052096521174761996"
      ]
     },
     "execution_count": 29,
     "metadata": {},
     "output_type": "execute_result"
    }
   ],
   "source": [
    "len(df_autos.query('registration_year < 1950')) / len(df_autos['registration_year']) * 100"
   ]
  },
  {
   "cell_type": "markdown",
   "metadata": {},
   "source": [
    "Судя по полученным результатам, можно предположить, что год регистрации позднее 2025 и раньше 1950 - это ошибочно внесенные данные.\n",
    "\n",
    "Аномальных значений даты регистрации достаточно мало - в сумме менее 0,1% от общего кол-ва.\n",
    "\n",
    "Следовательно, ими можно пренебречь.\n",
    "\n",
    "Для дальнейшего исследования, оставим автомобили датой регистрации позднее 1950 и ранее 2025 годов включительно."
   ]
  },
  {
   "cell_type": "code",
   "execution_count": 30,
   "metadata": {},
   "outputs": [],
   "source": [
    "df_autos = df_autos.query('registration_year <= 2025 and registration_year >= 1950')"
   ]
  },
  {
   "cell_type": "code",
   "execution_count": 31,
   "metadata": {},
   "outputs": [
    {
     "data": {
      "text/plain": [
       "count    343328.000000\n",
       "mean       2003.207816\n",
       "std           7.213829\n",
       "min        1950.000000\n",
       "25%        1999.000000\n",
       "50%        2003.000000\n",
       "75%        2008.000000\n",
       "max        2019.000000\n",
       "Name: registration_year, dtype: float64"
      ]
     },
     "metadata": {},
     "output_type": "display_data"
    },
    {
     "name": "stderr",
     "output_type": "stream",
     "text": [
      "/opt/conda/lib/python3.9/site-packages/seaborn/_decorators.py:36: FutureWarning: Pass the following variable as a keyword arg: x. From version 0.12, the only valid positional argument will be `data`, and passing other arguments without an explicit keyword will result in an error or misinterpretation.\n",
      "  warnings.warn(\n"
     ]
    },
    {
     "data": {
      "image/png": "[encoded data removed]",
      "text/plain": [
       "<Figure size 1080x576 with 1 Axes>"
      ]
     },
     "metadata": {
      "needs_background": "light"
     },
     "output_type": "display_data"
    },
    {
     "data": {
      "image/png": "[encoded data removed]",
      "text/plain": [
       "<Figure size 1080x576 with 1 Axes>"
      ]
     },
     "metadata": {
      "needs_background": "light"
     },
     "output_type": "display_data"
    }
   ],
   "source": [
    "# Отобразим данные в столбце registration_year\n",
    "quant_feat(df_autos, 'registration_year', 'Год регистрации автомобиля', 'Год', 'Кол-во автомобилей, шт.')"
   ]
  },
  {
   "cell_type": "markdown",
   "metadata": {},
   "source": [
    "**Изучим столбец `gearbox`**"
   ]
  },
  {
   "cell_type": "code",
   "execution_count": 32,
   "metadata": {},
   "outputs": [
    {
     "data": {
      "text/plain": [
       "manual    261283\n",
       "auto       64859\n",
       "Name: gearbox, dtype: int64"
      ]
     },
     "metadata": {},
     "output_type": "display_data"
    },
    {
     "data": {
      "image/png": "[encoded data removed]",
      "text/plain": [
       "<Figure size 432x288 with 1 Axes>"
      ]
     },
     "metadata": {},
     "output_type": "display_data"
    }
   ],
   "source": [
    "# Построим круговую диаграмму для стоблца gearbox\n",
    "qual_feat_pie(df_autos, 'gearbox', 'Тип коробки передач', ['manual', 'auto'])"
   ]
  },
  {
   "cell_type": "markdown",
   "metadata": {},
   "source": [
    "**Изучим столбец `power`**"
   ]
  },
  {
   "cell_type": "code",
   "execution_count": 33,
   "metadata": {},
   "outputs": [
    {
     "data": {
      "text/plain": [
       "count    343328.000000\n",
       "mean        111.009935\n",
       "std         187.873912\n",
       "min           0.000000\n",
       "25%          69.000000\n",
       "50%         105.000000\n",
       "75%         143.000000\n",
       "max       20000.000000\n",
       "Name: power, dtype: float64"
      ]
     },
     "metadata": {},
     "output_type": "display_data"
    },
    {
     "name": "stderr",
     "output_type": "stream",
     "text": [
      "/opt/conda/lib/python3.9/site-packages/seaborn/_decorators.py:36: FutureWarning: Pass the following variable as a keyword arg: x. From version 0.12, the only valid positional argument will be `data`, and passing other arguments without an explicit keyword will result in an error or misinterpretation.\n",
      "  warnings.warn(\n"
     ]
    },
    {
     "data": {
      "image/png": "[encoded data removed]",
      "text/plain": [
       "<Figure size 1080x576 with 1 Axes>"
      ]
     },
     "metadata": {
      "needs_background": "light"
     },
     "output_type": "display_data"
    },
    {
     "data": {
      "image/png": "[encoded data removed]",
      "text/plain": [
       "<Figure size 1080x576 with 1 Axes>"
      ]
     },
     "metadata": {
      "needs_background": "light"
     },
     "output_type": "display_data"
    }
   ],
   "source": [
    "# Отобразим данные в столбце power\n",
    "quant_feat(df_autos, 'power', 'Мощность двигателя', 'Мощность л.с.', 'Кол-во автомобилей, шт.')"
   ]
  },
  {
   "cell_type": "markdown",
   "metadata": {},
   "source": [
    "Оценим кол-во автомобилей, с двигателем мощностью больше 2 500 л.с."
   ]
  },
  {
   "cell_type": "code",
   "execution_count": 34,
   "metadata": {},
   "outputs": [
    {
     "data": {
      "text/plain": [
       "0.02679653276167397"
      ]
     },
     "execution_count": 34,
     "metadata": {},
     "output_type": "execute_result"
    }
   ],
   "source": [
    "len(df_autos.query('power > 2500')) / len(df_autos['power']) * 100"
   ]
  },
  {
   "cell_type": "markdown",
   "metadata": {},
   "source": [
    "Судя по полученным результатам, можно предположить, что мощность двигателя более 2 500 л.с. - это ошибочно внесенные данные.\n",
    "\n",
    "Традиционно, мощность двигателя для автомобиля не превышает 2 500 л.с.\n",
    "\n",
    "Аномально высоких значений мощности 0,02% от общего кол-ва - достаточно мало.\n",
    "\n",
    "Следовательно, ими можно пренебречь.\n",
    "\n",
    "Для дальнейшего исследования, оставим автомобили с мощностью двигателя до 2 500 л.с."
   ]
  },
  {
   "cell_type": "code",
   "execution_count": 35,
   "metadata": {},
   "outputs": [],
   "source": [
    "df_autos = df_autos.query('power <= 2500')"
   ]
  },
  {
   "cell_type": "markdown",
   "metadata": {},
   "source": [
    "Оценим кол-во автомобилей, с двигателем мощностью равно 0 л.с."
   ]
  },
  {
   "cell_type": "code",
   "execution_count": 36,
   "metadata": {},
   "outputs": [
    {
     "data": {
      "text/plain": [
       "10.540852358144251"
      ]
     },
     "execution_count": 36,
     "metadata": {},
     "output_type": "execute_result"
    }
   ],
   "source": [
    "len(df_autos.query('power == 0')) / len(df_autos['power']) * 100"
   ]
  },
  {
   "cell_type": "markdown",
   "metadata": {},
   "source": [
    "Судя по полученным результатам, можно предположить, что мощность двигателя равная 0 - это либо ошибка, либо знак того, что машина продается на металалом, т к она не на ходу."
   ]
  },
  {
   "cell_type": "code",
   "execution_count": 37,
   "metadata": {},
   "outputs": [
    {
     "data": {
      "text/plain": [
       "count    343236.000000\n",
       "mean        108.446279\n",
       "std          72.246014\n",
       "min           0.000000\n",
       "25%          69.000000\n",
       "50%         105.000000\n",
       "75%         143.000000\n",
       "max        2461.000000\n",
       "Name: power, dtype: float64"
      ]
     },
     "metadata": {},
     "output_type": "display_data"
    },
    {
     "name": "stderr",
     "output_type": "stream",
     "text": [
      "/opt/conda/lib/python3.9/site-packages/seaborn/_decorators.py:36: FutureWarning: Pass the following variable as a keyword arg: x. From version 0.12, the only valid positional argument will be `data`, and passing other arguments without an explicit keyword will result in an error or misinterpretation.\n",
      "  warnings.warn(\n"
     ]
    },
    {
     "data": {
      "image/png": "[encoded data removed]",
      "text/plain": [
       "<Figure size 1080x576 with 1 Axes>"
      ]
     },
     "metadata": {
      "needs_background": "light"
     },
     "output_type": "display_data"
    },
    {
     "data": {
      "image/png": "[encoded data removed]",
      "text/plain": [
       "<Figure size 1080x576 with 1 Axes>"
      ]
     },
     "metadata": {
      "needs_background": "light"
     },
     "output_type": "display_data"
    }
   ],
   "source": [
    "# Отобразим данные в столбце power\n",
    "quant_feat(df_autos, 'power', 'Мощность двигателя', 'Мощность л.с.', 'Кол-во автомобилей, шт.')"
   ]
  },
  {
   "cell_type": "markdown",
   "metadata": {},
   "source": [
    "**Изучим столбец `model`**"
   ]
  },
  {
   "cell_type": "code",
   "execution_count": 38,
   "metadata": {},
   "outputs": [
    {
     "data": {
      "text/plain": [
       "count     325831\n",
       "unique       250\n",
       "top         golf\n",
       "freq       28225\n",
       "Name: model, dtype: object"
      ]
     },
     "metadata": {},
     "output_type": "display_data"
    },
    {
     "name": "stderr",
     "output_type": "stream",
     "text": [
      "/opt/conda/lib/python3.9/site-packages/seaborn/_decorators.py:36: FutureWarning: Pass the following variable as a keyword arg: x. From version 0.12, the only valid positional argument will be `data`, and passing other arguments without an explicit keyword will result in an error or misinterpretation.\n",
      "  warnings.warn(\n"
     ]
    },
    {
     "data": {
      "image/png": "[encoded data removed]",
      "text/plain": [
       "<Figure size 1080x576 with 1 Axes>"
      ]
     },
     "metadata": {
      "needs_background": "light"
     },
     "output_type": "display_data"
    }
   ],
   "source": [
    "# Отобразим данные в столбце model\n",
    "qual_feat_count(df_autos, 'model', 'Модель автомобиля', 'Модель', 'Кол-во автомобилей, шт.')"
   ]
  },
  {
   "cell_type": "markdown",
   "metadata": {},
   "source": [
    "**Изучим столбец `kilometer`**"
   ]
  },
  {
   "cell_type": "code",
   "execution_count": 40,
   "metadata": {},
   "outputs": [
    {
     "data": {
      "text/plain": [
       "count    343236.000000\n",
       "mean     128413.729912\n",
       "std       37411.134827\n",
       "min        5000.000000\n",
       "25%      125000.000000\n",
       "50%      150000.000000\n",
       "75%      150000.000000\n",
       "max      150000.000000\n",
       "Name: kilometer, dtype: float64"
      ]
     },
     "metadata": {},
     "output_type": "display_data"
    },
    {
     "name": "stderr",
     "output_type": "stream",
     "text": [
      "/opt/conda/lib/python3.9/site-packages/seaborn/_decorators.py:36: FutureWarning: Pass the following variable as a keyword arg: x. From version 0.12, the only valid positional argument will be `data`, and passing other arguments without an explicit keyword will result in an error or misinterpretation.\n",
      "  warnings.warn(\n"
     ]
    },
    {
     "data": {
      "image/png": "[encoded data removed]",
      "text/plain": [
       "<Figure size 1080x576 with 1 Axes>"
      ]
     },
     "metadata": {
      "needs_background": "light"
     },
     "output_type": "display_data"
    }
   ],
   "source": [
    "# Отобразим данные в столбце kilometer\n",
    "qual_feat_count(df_autos, 'kilometer', 'Пробег автомобиля', 'Пробег, км.', 'Кол-во автомобилей, шт.')"
   ]
  },
  {
   "cell_type": "markdown",
   "metadata": {},
   "source": [
    "**Изучим столбец `registration_month`**"
   ]
  },
  {
   "cell_type": "code",
   "execution_count": 41,
   "metadata": {},
   "outputs": [
    {
     "data": {
      "text/plain": [
       "count    343236.000000\n",
       "mean          5.781086\n",
       "std           3.696889\n",
       "min           0.000000\n",
       "25%           3.000000\n",
       "50%           6.000000\n",
       "75%           9.000000\n",
       "max          12.000000\n",
       "Name: registration_month, dtype: float64"
      ]
     },
     "metadata": {},
     "output_type": "display_data"
    },
    {
     "name": "stderr",
     "output_type": "stream",
     "text": [
      "/opt/conda/lib/python3.9/site-packages/seaborn/_decorators.py:36: FutureWarning: Pass the following variable as a keyword arg: x. From version 0.12, the only valid positional argument will be `data`, and passing other arguments without an explicit keyword will result in an error or misinterpretation.\n",
      "  warnings.warn(\n"
     ]
    },
    {
     "data": {
      "image/png": "[encoded data removed]",
      "text/plain": [
       "<Figure size 1080x576 with 1 Axes>"
      ]
     },
     "metadata": {
      "needs_background": "light"
     },
     "output_type": "display_data"
    }
   ],
   "source": [
    "# Отобразим данные в столбце registration_month\n",
    "qual_feat_count(df_autos, 'registration_month', 'Месяц регистрации автомобиля', 'Месяц', 'Кол-во автомобилей, шт.')"
   ]
  },
  {
   "cell_type": "markdown",
   "metadata": {},
   "source": [
    "**Изучим столбец `fuel_type`**"
   ]
  },
  {
   "cell_type": "code",
   "execution_count": 42,
   "metadata": {},
   "outputs": [
    {
     "data": {
      "text/plain": [
       "count     313952\n",
       "unique         7\n",
       "top       petrol\n",
       "freq      210612\n",
       "Name: fuel_type, dtype: object"
      ]
     },
     "metadata": {},
     "output_type": "display_data"
    },
    {
     "name": "stderr",
     "output_type": "stream",
     "text": [
      "/opt/conda/lib/python3.9/site-packages/seaborn/_decorators.py:36: FutureWarning: Pass the following variable as a keyword arg: x. From version 0.12, the only valid positional argument will be `data`, and passing other arguments without an explicit keyword will result in an error or misinterpretation.\n",
      "  warnings.warn(\n"
     ]
    },
    {
     "data": {
      "image/png": "[encoded data removed]",
      "text/plain": [
       "<Figure size 1080x576 with 1 Axes>"
      ]
     },
     "metadata": {
      "needs_background": "light"
     },
     "output_type": "display_data"
    }
   ],
   "source": [
    "# Отобразим данные в столбце fuel_type\n",
    "qual_feat_count(df_autos, 'fuel_type', 'Тип топлива автомобиля', 'Тип топлива', 'Кол-во автомобилей, шт.')"
   ]
  },
  {
   "cell_type": "markdown",
   "metadata": {},
   "source": [
    "**Изучим столбец `brand`**"
   ]
  },
  {
   "cell_type": "code",
   "execution_count": 43,
   "metadata": {},
   "outputs": [
    {
     "data": {
      "text/plain": [
       "count         343236\n",
       "unique            40\n",
       "top       volkswagen\n",
       "freq           74339\n",
       "Name: brand, dtype: object"
      ]
     },
     "metadata": {},
     "output_type": "display_data"
    },
    {
     "name": "stderr",
     "output_type": "stream",
     "text": [
      "/opt/conda/lib/python3.9/site-packages/seaborn/_decorators.py:36: FutureWarning: Pass the following variable as a keyword arg: x. From version 0.12, the only valid positional argument will be `data`, and passing other arguments without an explicit keyword will result in an error or misinterpretation.\n",
      "  warnings.warn(\n"
     ]
    },
    {
     "data": {
      "image/png": "[encoded data removed]",
      "text/plain": [
       "<Figure size 1080x576 with 1 Axes>"
      ]
     },
     "metadata": {
      "needs_background": "light"
     },
     "output_type": "display_data"
    }
   ],
   "source": [
    "# Отобразим данные в столбце fuel_type\n",
    "qual_feat_count(df_autos, 'brand', 'Марка автомобиля', 'Марка', 'Кол-во автомобилей, шт.')"
   ]
  },
  {
   "cell_type": "markdown",
   "metadata": {},
   "source": [
    "**Изучим столбец `repaired`**"
   ]
  },
  {
   "cell_type": "code",
   "execution_count": 44,
   "metadata": {},
   "outputs": [
    {
     "data": {
      "text/plain": [
       "no     243588\n",
       "yes     34011\n",
       "Name: repaired, dtype: int64"
      ]
     },
     "metadata": {},
     "output_type": "display_data"
    },
    {
     "data": {
      "image/png": "[encoded data removed]",
      "text/plain": [
       "<Figure size 432x288 with 1 Axes>"
      ]
     },
     "metadata": {},
     "output_type": "display_data"
    }
   ],
   "source": [
    "# Построим круговую диаграмму для стоблца repaired\n",
    "qual_feat_pie(df_autos, 'repaired', 'Была ли машина в ремонте', ['no', 'yes'])"
   ]
  },
  {
   "cell_type": "markdown",
   "metadata": {},
   "source": [
    "**Изучим столбец `date_created`**"
   ]
  },
  {
   "cell_type": "code",
   "execution_count": 45,
   "metadata": {},
   "outputs": [
    {
     "data": {
      "text/plain": [
       "'2014-03-10 00:00:00'"
      ]
     },
     "execution_count": 45,
     "metadata": {},
     "output_type": "execute_result"
    }
   ],
   "source": [
    "df_autos['date_created'].min()"
   ]
  },
  {
   "cell_type": "code",
   "execution_count": 46,
   "metadata": {},
   "outputs": [
    {
     "data": {
      "text/plain": [
       "'2016-04-07 00:00:00'"
      ]
     },
     "execution_count": 46,
     "metadata": {},
     "output_type": "execute_result"
    }
   ],
   "source": [
    "df_autos['date_created'].max()"
   ]
  },
  {
   "cell_type": "markdown",
   "metadata": {},
   "source": [
    "**Изучим столбец `number_of_pictures`**"
   ]
  },
  {
   "cell_type": "code",
   "execution_count": 47,
   "metadata": {},
   "outputs": [
    {
     "data": {
      "text/plain": [
       "0    343236\n",
       "Name: number_of_pictures, dtype: int64"
      ]
     },
     "metadata": {},
     "output_type": "display_data"
    },
    {
     "data": {
      "image/png": "[encoded data removed]",
      "text/plain": [
       "<Figure size 432x288 with 1 Axes>"
      ]
     },
     "metadata": {},
     "output_type": "display_data"
    }
   ],
   "source": [
    "# Построим круговую диаграмму для стоблца number_of_pictures\n",
    "qual_feat_pie(df_autos, 'number_of_pictures', 'Количество фотографий автомобиля', ['0'])"
   ]
  },
  {
   "cell_type": "markdown",
   "metadata": {},
   "source": [
    "**Изучим столбец `postal_code`**"
   ]
  },
  {
   "cell_type": "code",
   "execution_count": 48,
   "metadata": {},
   "outputs": [
    {
     "data": {
      "text/plain": [
       "count    343236.000000\n",
       "mean      50687.577218\n",
       "std       25743.756568\n",
       "min        1067.000000\n",
       "25%       30449.000000\n",
       "50%       49525.000000\n",
       "75%       71229.000000\n",
       "max       99998.000000\n",
       "Name: postal_code, dtype: float64"
      ]
     },
     "metadata": {},
     "output_type": "display_data"
    },
    {
     "name": "stderr",
     "output_type": "stream",
     "text": [
      "/opt/conda/lib/python3.9/site-packages/seaborn/_decorators.py:36: FutureWarning: Pass the following variable as a keyword arg: x. From version 0.12, the only valid positional argument will be `data`, and passing other arguments without an explicit keyword will result in an error or misinterpretation.\n",
      "  warnings.warn(\n"
     ]
    },
    {
     "data": {
      "image/png": "[encoded data removed]",
      "text/plain": [
       "<Figure size 1080x576 with 1 Axes>"
      ]
     },
     "metadata": {
      "needs_background": "light"
     },
     "output_type": "display_data"
    },
    {
     "data": {
      "image/png": "[encoded data removed]",
      "text/plain": [
       "<Figure size 1080x576 with 1 Axes>"
      ]
     },
     "metadata": {
      "needs_background": "light"
     },
     "output_type": "display_data"
    }
   ],
   "source": [
    "# Отобразим данные в столбце power\n",
    "quant_feat(df_autos, 'postal_code', 'Почтовый индекс владельца анкеты', 'Почтовый индекс', 'Кол-во автомобилей, шт.')"
   ]
  },
  {
   "cell_type": "markdown",
   "metadata": {},
   "source": [
    "**Изучим столбец `last_seen`**"
   ]
  },
  {
   "cell_type": "code",
   "execution_count": 49,
   "metadata": {},
   "outputs": [
    {
     "data": {
      "text/plain": [
       "'2016-03-05 14:15:08'"
      ]
     },
     "execution_count": 49,
     "metadata": {},
     "output_type": "execute_result"
    }
   ],
   "source": [
    "df_autos['last_seen'].min()"
   ]
  },
  {
   "cell_type": "code",
   "execution_count": 50,
   "metadata": {},
   "outputs": [
    {
     "data": {
      "text/plain": [
       "'2016-04-07 14:58:51'"
      ]
     },
     "execution_count": 50,
     "metadata": {},
     "output_type": "execute_result"
    }
   ],
   "source": [
    "df_autos['last_seen'].max()"
   ]
  },
  {
   "cell_type": "markdown",
   "metadata": {},
   "source": [
    "На этапе исследовательского анализа данных, нам удалось:\n",
    "1. Изучили и описали данные из таблицы df_autos\n",
    "\n",
    "По полученым данным, можно сказать:\n",
    "- средняя цена за автомобиль 4 400 евро\n",
    "- средняя мощность двигателя автомобиля 110 л.с.\n",
    "- 99% автомобилей зарегистрированы с 1985 по 2019 годы\n",
    "- у большинства автомобилей пробег более 150 тыс. км\n",
    "- у 80% автомобилей ручная коробка передач"
   ]
  },
  {
   "cell_type": "markdown",
   "metadata": {},
   "source": [
    "##  Корреляционный анализ"
   ]
  },
  {
   "cell_type": "markdown",
   "metadata": {},
   "source": [
    "**Изучим взаимосвязь между признаками: рассчитаем коэффициенты корреляции между всеми признаками**"
   ]
  },
  {
   "cell_type": "code",
   "execution_count": 51,
   "metadata": {},
   "outputs": [],
   "source": [
    "# Создадим новую таблицу на базе старой, без данных о дате регистрации\n",
    "df_autos_actual = df_autos.copy()\n",
    "df_autos_actual = df_autos_actual.drop(columns=['date_crawled', 'date_created', 'last_seen'])"
   ]
  },
  {
   "cell_type": "code",
   "execution_count": 52,
   "metadata": {},
   "outputs": [
    {
     "data": {
      "text/html": [
       "<div>\n",
       "<style scoped>\n",
       "    .dataframe tbody tr th:only-of-type {\n",
       "        vertical-align: middle;\n",
       "    }\n",
       "\n",
       "    .dataframe tbody tr th {\n",
       "        vertical-align: top;\n",
       "    }\n",
       "\n",
       "    .dataframe thead th {\n",
       "        text-align: right;\n",
       "    }\n",
       "</style>\n",
       "<table border=\"1\" class=\"dataframe\">\n",
       "  <thead>\n",
       "    <tr style=\"text-align: right;\">\n",
       "      <th></th>\n",
       "      <th>price</th>\n",
       "      <th>vehicle_type</th>\n",
       "      <th>registration_year</th>\n",
       "      <th>gearbox</th>\n",
       "      <th>power</th>\n",
       "      <th>model</th>\n",
       "      <th>kilometer</th>\n",
       "      <th>registration_month</th>\n",
       "      <th>fuel_type</th>\n",
       "      <th>brand</th>\n",
       "      <th>repaired</th>\n",
       "      <th>number_of_pictures</th>\n",
       "      <th>postal_code</th>\n",
       "    </tr>\n",
       "  </thead>\n",
       "  <tbody>\n",
       "    <tr>\n",
       "      <th>0</th>\n",
       "      <td>480</td>\n",
       "      <td>NaN</td>\n",
       "      <td>1993</td>\n",
       "      <td>manual</td>\n",
       "      <td>0</td>\n",
       "      <td>golf</td>\n",
       "      <td>150000</td>\n",
       "      <td>0</td>\n",
       "      <td>petrol</td>\n",
       "      <td>volkswagen</td>\n",
       "      <td>NaN</td>\n",
       "      <td>0</td>\n",
       "      <td>70435</td>\n",
       "    </tr>\n",
       "    <tr>\n",
       "      <th>1</th>\n",
       "      <td>18300</td>\n",
       "      <td>coupe</td>\n",
       "      <td>2011</td>\n",
       "      <td>manual</td>\n",
       "      <td>190</td>\n",
       "      <td>NaN</td>\n",
       "      <td>125000</td>\n",
       "      <td>5</td>\n",
       "      <td>gasoline</td>\n",
       "      <td>audi</td>\n",
       "      <td>yes</td>\n",
       "      <td>0</td>\n",
       "      <td>66954</td>\n",
       "    </tr>\n",
       "    <tr>\n",
       "      <th>2</th>\n",
       "      <td>9800</td>\n",
       "      <td>suv</td>\n",
       "      <td>2004</td>\n",
       "      <td>auto</td>\n",
       "      <td>163</td>\n",
       "      <td>grand</td>\n",
       "      <td>125000</td>\n",
       "      <td>8</td>\n",
       "      <td>gasoline</td>\n",
       "      <td>jeep</td>\n",
       "      <td>NaN</td>\n",
       "      <td>0</td>\n",
       "      <td>90480</td>\n",
       "    </tr>\n",
       "    <tr>\n",
       "      <th>3</th>\n",
       "      <td>1500</td>\n",
       "      <td>small</td>\n",
       "      <td>2001</td>\n",
       "      <td>manual</td>\n",
       "      <td>75</td>\n",
       "      <td>golf</td>\n",
       "      <td>150000</td>\n",
       "      <td>6</td>\n",
       "      <td>petrol</td>\n",
       "      <td>volkswagen</td>\n",
       "      <td>no</td>\n",
       "      <td>0</td>\n",
       "      <td>91074</td>\n",
       "    </tr>\n",
       "    <tr>\n",
       "      <th>4</th>\n",
       "      <td>3600</td>\n",
       "      <td>small</td>\n",
       "      <td>2008</td>\n",
       "      <td>manual</td>\n",
       "      <td>69</td>\n",
       "      <td>fabia</td>\n",
       "      <td>90000</td>\n",
       "      <td>7</td>\n",
       "      <td>gasoline</td>\n",
       "      <td>skoda</td>\n",
       "      <td>no</td>\n",
       "      <td>0</td>\n",
       "      <td>60437</td>\n",
       "    </tr>\n",
       "    <tr>\n",
       "      <th>5</th>\n",
       "      <td>650</td>\n",
       "      <td>sedan</td>\n",
       "      <td>1995</td>\n",
       "      <td>manual</td>\n",
       "      <td>102</td>\n",
       "      <td>3er</td>\n",
       "      <td>150000</td>\n",
       "      <td>10</td>\n",
       "      <td>petrol</td>\n",
       "      <td>bmw</td>\n",
       "      <td>yes</td>\n",
       "      <td>0</td>\n",
       "      <td>33775</td>\n",
       "    </tr>\n",
       "    <tr>\n",
       "      <th>6</th>\n",
       "      <td>2200</td>\n",
       "      <td>convertible</td>\n",
       "      <td>2004</td>\n",
       "      <td>manual</td>\n",
       "      <td>109</td>\n",
       "      <td>2_reihe</td>\n",
       "      <td>150000</td>\n",
       "      <td>8</td>\n",
       "      <td>petrol</td>\n",
       "      <td>peugeot</td>\n",
       "      <td>no</td>\n",
       "      <td>0</td>\n",
       "      <td>67112</td>\n",
       "    </tr>\n",
       "    <tr>\n",
       "      <th>8</th>\n",
       "      <td>14500</td>\n",
       "      <td>bus</td>\n",
       "      <td>2014</td>\n",
       "      <td>manual</td>\n",
       "      <td>125</td>\n",
       "      <td>c_max</td>\n",
       "      <td>30000</td>\n",
       "      <td>8</td>\n",
       "      <td>petrol</td>\n",
       "      <td>ford</td>\n",
       "      <td>NaN</td>\n",
       "      <td>0</td>\n",
       "      <td>94505</td>\n",
       "    </tr>\n",
       "    <tr>\n",
       "      <th>9</th>\n",
       "      <td>999</td>\n",
       "      <td>small</td>\n",
       "      <td>1998</td>\n",
       "      <td>manual</td>\n",
       "      <td>101</td>\n",
       "      <td>golf</td>\n",
       "      <td>150000</td>\n",
       "      <td>0</td>\n",
       "      <td>NaN</td>\n",
       "      <td>volkswagen</td>\n",
       "      <td>NaN</td>\n",
       "      <td>0</td>\n",
       "      <td>27472</td>\n",
       "    </tr>\n",
       "    <tr>\n",
       "      <th>10</th>\n",
       "      <td>2000</td>\n",
       "      <td>sedan</td>\n",
       "      <td>2004</td>\n",
       "      <td>manual</td>\n",
       "      <td>105</td>\n",
       "      <td>3_reihe</td>\n",
       "      <td>150000</td>\n",
       "      <td>12</td>\n",
       "      <td>petrol</td>\n",
       "      <td>mazda</td>\n",
       "      <td>no</td>\n",
       "      <td>0</td>\n",
       "      <td>96224</td>\n",
       "    </tr>\n",
       "  </tbody>\n",
       "</table>\n",
       "</div>"
      ],
      "text/plain": [
       "    price vehicle_type  registration_year gearbox  power    model  kilometer  \\\n",
       "0     480          NaN               1993  manual      0     golf     150000   \n",
       "1   18300        coupe               2011  manual    190      NaN     125000   \n",
       "2    9800          suv               2004    auto    163    grand     125000   \n",
       "3    1500        small               2001  manual     75     golf     150000   \n",
       "4    3600        small               2008  manual     69    fabia      90000   \n",
       "5     650        sedan               1995  manual    102      3er     150000   \n",
       "6    2200  convertible               2004  manual    109  2_reihe     150000   \n",
       "8   14500          bus               2014  manual    125    c_max      30000   \n",
       "9     999        small               1998  manual    101     golf     150000   \n",
       "10   2000        sedan               2004  manual    105  3_reihe     150000   \n",
       "\n",
       "    registration_month fuel_type       brand repaired  number_of_pictures  \\\n",
       "0                    0    petrol  volkswagen      NaN                   0   \n",
       "1                    5  gasoline        audi      yes                   0   \n",
       "2                    8  gasoline        jeep      NaN                   0   \n",
       "3                    6    petrol  volkswagen       no                   0   \n",
       "4                    7  gasoline       skoda       no                   0   \n",
       "5                   10    petrol         bmw      yes                   0   \n",
       "6                    8    petrol     peugeot       no                   0   \n",
       "8                    8    petrol        ford      NaN                   0   \n",
       "9                    0       NaN  volkswagen      NaN                   0   \n",
       "10                  12    petrol       mazda       no                   0   \n",
       "\n",
       "    postal_code  \n",
       "0         70435  \n",
       "1         66954  \n",
       "2         90480  \n",
       "3         91074  \n",
       "4         60437  \n",
       "5         33775  \n",
       "6         67112  \n",
       "8         94505  \n",
       "9         27472  \n",
       "10        96224  "
      ]
     },
     "execution_count": 52,
     "metadata": {},
     "output_type": "execute_result"
    }
   ],
   "source": [
    "df_autos_actual.head(10)"
   ]
  },
  {
   "cell_type": "code",
   "execution_count": 53,
   "metadata": {},
   "outputs": [
    {
     "name": "stderr",
     "output_type": "stream",
     "text": [
      "/opt/conda/lib/python3.9/site-packages/phik/data_quality.py:72: UserWarning: Not enough unique value for variable number_of_pictures for analysis 1. Dropping this column\n",
      "  warnings.warn(\n"
     ]
    },
    {
     "data": {
      "image/png": "[encoded data removed]",
      "text/plain": [
       "<Figure size 1152x1008 with 2 Axes>"
      ]
     },
     "metadata": {
      "needs_background": "light"
     },
     "output_type": "display_data"
    }
   ],
   "source": [
    "# Матрица корреляций для df_autos_actual\n",
    "plt.figure(figsize=(16, 14))\n",
    "sns.heatmap(df_autos_actual.phik_matrix(interval_cols = ['price', 'power', 'postal_code', 'registration_year', 'registration_month', 'number_of_pictures']), annot=True,  cmap='coolwarm', fmt='.2f');"
   ]
  },
  {
   "cell_type": "markdown",
   "metadata": {},
   "source": [
    "Судя по тепловой карте и опираясь на шкалу Чеддока мы можем сказать, что:\n",
    "- Есть заметная связь с целевым признаком `price` у входного признака `registration_year` и `model`\n",
    "- Есть умеренная связь с целевым признаком `price` у входного признака `gearbox`, `kilometr`, `brand`, `repaired`\n",
    "- Среди входных признаков `vehicle_type` и `model` замечана мультиколлинеарность - коэффициент корреляции равен 0.92 по модулю\n",
    "- Среди входных признаков `model` и `brand` замечана мультиколлинеарность - коэффициент корреляции равен 1 по модулю\n",
    "\n",
    "Проблемук мультиколлинеарности устраним с помощью регуляризации на следующем этапе."
   ]
  },
  {
   "cell_type": "markdown",
   "metadata": {},
   "source": [
    "На этапе корреляционного анализа данных, нам удалось:\n",
    "1. Рассчитать и изучить взаимосвязи между всеми признаками\n",
    "\n",
    "\n",
    "2. Определить тип взаимосвязи между целевыми и входными признаками\n",
    "\n",
    "\n",
    "3. Проверить входные данные на мультиколлинеарность"
   ]
  },
  {
   "cell_type": "markdown",
   "metadata": {},
   "source": [
    "## Обучение моделей"
   ]
  },
  {
   "cell_type": "markdown",
   "metadata": {},
   "source": [
    "### Подготовим данные"
   ]
  },
  {
   "cell_type": "code",
   "execution_count": 55,
   "metadata": {},
   "outputs": [],
   "source": [
    "RANDOM_STATE = 42\n",
    "TEST_SIZE = 0.25"
   ]
  },
  {
   "cell_type": "code",
   "execution_count": 56,
   "metadata": {},
   "outputs": [],
   "source": [
    "# Разделение на тренировочную и тестовую выборки\n",
    "X_train, X_test, y_train, y_test = train_test_split(\n",
    "    df_autos_actual.drop('price', axis=1),\n",
    "    df_autos_actual['price'],\n",
    "    test_size = TEST_SIZE, \n",
    "    random_state = RANDOM_STATE)"
   ]
  },
  {
   "cell_type": "code",
   "execution_count": 57,
   "metadata": {},
   "outputs": [
    {
     "name": "stdout",
     "output_type": "stream",
     "text": [
      "(257427, 12)\n",
      "(257427,)\n",
      "(85809, 12)\n",
      "(85809,)\n"
     ]
    }
   ],
   "source": [
    "# Вывод необходимых размерностей\n",
    "print(X_train.shape)\n",
    "print(y_train.shape)\n",
    "print(X_test.shape)\n",
    "print(y_test.shape)"
   ]
  },
  {
   "cell_type": "code",
   "execution_count": 58,
   "metadata": {},
   "outputs": [
    {
     "data": {
      "text/html": [
       "<div>\n",
       "<style scoped>\n",
       "    .dataframe tbody tr th:only-of-type {\n",
       "        vertical-align: middle;\n",
       "    }\n",
       "\n",
       "    .dataframe tbody tr th {\n",
       "        vertical-align: top;\n",
       "    }\n",
       "\n",
       "    .dataframe thead th {\n",
       "        text-align: right;\n",
       "    }\n",
       "</style>\n",
       "<table border=\"1\" class=\"dataframe\">\n",
       "  <thead>\n",
       "    <tr style=\"text-align: right;\">\n",
       "      <th></th>\n",
       "      <th>price</th>\n",
       "      <th>vehicle_type</th>\n",
       "      <th>registration_year</th>\n",
       "      <th>gearbox</th>\n",
       "      <th>power</th>\n",
       "      <th>model</th>\n",
       "      <th>kilometer</th>\n",
       "      <th>registration_month</th>\n",
       "      <th>fuel_type</th>\n",
       "      <th>brand</th>\n",
       "      <th>repaired</th>\n",
       "      <th>number_of_pictures</th>\n",
       "      <th>postal_code</th>\n",
       "    </tr>\n",
       "  </thead>\n",
       "  <tbody>\n",
       "    <tr>\n",
       "      <th>0</th>\n",
       "      <td>480</td>\n",
       "      <td>NaN</td>\n",
       "      <td>1993</td>\n",
       "      <td>manual</td>\n",
       "      <td>0</td>\n",
       "      <td>golf</td>\n",
       "      <td>150000</td>\n",
       "      <td>0</td>\n",
       "      <td>petrol</td>\n",
       "      <td>volkswagen</td>\n",
       "      <td>NaN</td>\n",
       "      <td>0</td>\n",
       "      <td>70435</td>\n",
       "    </tr>\n",
       "    <tr>\n",
       "      <th>1</th>\n",
       "      <td>18300</td>\n",
       "      <td>coupe</td>\n",
       "      <td>2011</td>\n",
       "      <td>manual</td>\n",
       "      <td>190</td>\n",
       "      <td>NaN</td>\n",
       "      <td>125000</td>\n",
       "      <td>5</td>\n",
       "      <td>gasoline</td>\n",
       "      <td>audi</td>\n",
       "      <td>yes</td>\n",
       "      <td>0</td>\n",
       "      <td>66954</td>\n",
       "    </tr>\n",
       "    <tr>\n",
       "      <th>2</th>\n",
       "      <td>9800</td>\n",
       "      <td>suv</td>\n",
       "      <td>2004</td>\n",
       "      <td>auto</td>\n",
       "      <td>163</td>\n",
       "      <td>grand</td>\n",
       "      <td>125000</td>\n",
       "      <td>8</td>\n",
       "      <td>gasoline</td>\n",
       "      <td>jeep</td>\n",
       "      <td>NaN</td>\n",
       "      <td>0</td>\n",
       "      <td>90480</td>\n",
       "    </tr>\n",
       "    <tr>\n",
       "      <th>3</th>\n",
       "      <td>1500</td>\n",
       "      <td>small</td>\n",
       "      <td>2001</td>\n",
       "      <td>manual</td>\n",
       "      <td>75</td>\n",
       "      <td>golf</td>\n",
       "      <td>150000</td>\n",
       "      <td>6</td>\n",
       "      <td>petrol</td>\n",
       "      <td>volkswagen</td>\n",
       "      <td>no</td>\n",
       "      <td>0</td>\n",
       "      <td>91074</td>\n",
       "    </tr>\n",
       "    <tr>\n",
       "      <th>4</th>\n",
       "      <td>3600</td>\n",
       "      <td>small</td>\n",
       "      <td>2008</td>\n",
       "      <td>manual</td>\n",
       "      <td>69</td>\n",
       "      <td>fabia</td>\n",
       "      <td>90000</td>\n",
       "      <td>7</td>\n",
       "      <td>gasoline</td>\n",
       "      <td>skoda</td>\n",
       "      <td>no</td>\n",
       "      <td>0</td>\n",
       "      <td>60437</td>\n",
       "    </tr>\n",
       "    <tr>\n",
       "      <th>5</th>\n",
       "      <td>650</td>\n",
       "      <td>sedan</td>\n",
       "      <td>1995</td>\n",
       "      <td>manual</td>\n",
       "      <td>102</td>\n",
       "      <td>3er</td>\n",
       "      <td>150000</td>\n",
       "      <td>10</td>\n",
       "      <td>petrol</td>\n",
       "      <td>bmw</td>\n",
       "      <td>yes</td>\n",
       "      <td>0</td>\n",
       "      <td>33775</td>\n",
       "    </tr>\n",
       "    <tr>\n",
       "      <th>6</th>\n",
       "      <td>2200</td>\n",
       "      <td>convertible</td>\n",
       "      <td>2004</td>\n",
       "      <td>manual</td>\n",
       "      <td>109</td>\n",
       "      <td>2_reihe</td>\n",
       "      <td>150000</td>\n",
       "      <td>8</td>\n",
       "      <td>petrol</td>\n",
       "      <td>peugeot</td>\n",
       "      <td>no</td>\n",
       "      <td>0</td>\n",
       "      <td>67112</td>\n",
       "    </tr>\n",
       "    <tr>\n",
       "      <th>8</th>\n",
       "      <td>14500</td>\n",
       "      <td>bus</td>\n",
       "      <td>2014</td>\n",
       "      <td>manual</td>\n",
       "      <td>125</td>\n",
       "      <td>c_max</td>\n",
       "      <td>30000</td>\n",
       "      <td>8</td>\n",
       "      <td>petrol</td>\n",
       "      <td>ford</td>\n",
       "      <td>NaN</td>\n",
       "      <td>0</td>\n",
       "      <td>94505</td>\n",
       "    </tr>\n",
       "    <tr>\n",
       "      <th>9</th>\n",
       "      <td>999</td>\n",
       "      <td>small</td>\n",
       "      <td>1998</td>\n",
       "      <td>manual</td>\n",
       "      <td>101</td>\n",
       "      <td>golf</td>\n",
       "      <td>150000</td>\n",
       "      <td>0</td>\n",
       "      <td>NaN</td>\n",
       "      <td>volkswagen</td>\n",
       "      <td>NaN</td>\n",
       "      <td>0</td>\n",
       "      <td>27472</td>\n",
       "    </tr>\n",
       "    <tr>\n",
       "      <th>10</th>\n",
       "      <td>2000</td>\n",
       "      <td>sedan</td>\n",
       "      <td>2004</td>\n",
       "      <td>manual</td>\n",
       "      <td>105</td>\n",
       "      <td>3_reihe</td>\n",
       "      <td>150000</td>\n",
       "      <td>12</td>\n",
       "      <td>petrol</td>\n",
       "      <td>mazda</td>\n",
       "      <td>no</td>\n",
       "      <td>0</td>\n",
       "      <td>96224</td>\n",
       "    </tr>\n",
       "  </tbody>\n",
       "</table>\n",
       "</div>"
      ],
      "text/plain": [
       "    price vehicle_type  registration_year gearbox  power    model  kilometer  \\\n",
       "0     480          NaN               1993  manual      0     golf     150000   \n",
       "1   18300        coupe               2011  manual    190      NaN     125000   \n",
       "2    9800          suv               2004    auto    163    grand     125000   \n",
       "3    1500        small               2001  manual     75     golf     150000   \n",
       "4    3600        small               2008  manual     69    fabia      90000   \n",
       "5     650        sedan               1995  manual    102      3er     150000   \n",
       "6    2200  convertible               2004  manual    109  2_reihe     150000   \n",
       "8   14500          bus               2014  manual    125    c_max      30000   \n",
       "9     999        small               1998  manual    101     golf     150000   \n",
       "10   2000        sedan               2004  manual    105  3_reihe     150000   \n",
       "\n",
       "    registration_month fuel_type       brand repaired  number_of_pictures  \\\n",
       "0                    0    petrol  volkswagen      NaN                   0   \n",
       "1                    5  gasoline        audi      yes                   0   \n",
       "2                    8  gasoline        jeep      NaN                   0   \n",
       "3                    6    petrol  volkswagen       no                   0   \n",
       "4                    7  gasoline       skoda       no                   0   \n",
       "5                   10    petrol         bmw      yes                   0   \n",
       "6                    8    petrol     peugeot       no                   0   \n",
       "8                    8    petrol        ford      NaN                   0   \n",
       "9                    0       NaN  volkswagen      NaN                   0   \n",
       "10                  12    petrol       mazda       no                   0   \n",
       "\n",
       "    postal_code  \n",
       "0         70435  \n",
       "1         66954  \n",
       "2         90480  \n",
       "3         91074  \n",
       "4         60437  \n",
       "5         33775  \n",
       "6         67112  \n",
       "8         94505  \n",
       "9         27472  \n",
       "10        96224  "
      ]
     },
     "execution_count": 58,
     "metadata": {},
     "output_type": "execute_result"
    }
   ],
   "source": [
    "df_autos_actual.head(10)"
   ]
  },
  {
   "cell_type": "code",
   "execution_count": 61,
   "metadata": {},
   "outputs": [],
   "source": [
    "# Создаём списки с названиями признаков\n",
    "te_columns = ['vehicle_type' , 'gearbox', 'model', 'fuel_type', 'brand', 'repaired']\n",
    "num_columns = ['registration_year', 'power', 'kilometer', 'registration_month', 'number_of_pictures', 'postal_code']"
   ]
  },
  {
   "cell_type": "code",
   "execution_count": 62,
   "metadata": {},
   "outputs": [],
   "source": [
    "# Создаём пайплайн для подготовки признаков из списка ohe_columns: заполнение пропусков и OHE-кодирование\n",
    "# SimpleImputer + te\n",
    "te_pipe = Pipeline(\n",
    "    [('simpleImputer_te', SimpleImputer(missing_values=np.nan, strategy='most_frequent')),\n",
    "     ('te', TargetEncoder(target_type='continuous'))\n",
    "    ]\n",
    "    )"
   ]
  },
  {
   "cell_type": "code",
   "execution_count": 63,
   "metadata": {},
   "outputs": [],
   "source": [
    "# Создаём общий пайплайн для подготовки данных\n",
    "data_preprocessor = ColumnTransformer(\n",
    "    [('te', te_pipe, te_columns),\n",
    "     ('num', MinMaxScaler(), num_columns)\n",
    "    ], \n",
    "    remainder='passthrough'\n",
    ")"
   ]
  },
  {
   "cell_type": "code",
   "execution_count": 64,
   "metadata": {},
   "outputs": [],
   "source": [
    "# Создаём итоговый пайплайн: подготовка данных и модель\n",
    "pipe_final = Pipeline([\n",
    "    ('preprocessor', data_preprocessor),\n",
    "    ('models', LGBMRegressor())\n",
    "])"
   ]
  },
  {
   "cell_type": "markdown",
   "metadata": {},
   "source": [
    "### Обучим четыре модели"
   ]
  },
  {
   "cell_type": "code",
   "execution_count": 65,
   "metadata": {},
   "outputs": [],
   "source": [
    "# В списке словарей укажем, какие модели и какие варианты масштабирования собираемся перебрать\n",
    "param_grid = [\n",
    "    # словарь для модели LGBMRegressor()\n",
    "    {\n",
    "        'models': [LGBMRegressor()],\n",
    "        'models__n_estimators': range(10, 100),\n",
    "        'models__max_depth': range(2, 15),\n",
    "        'preprocessor__num': [StandardScaler(), MinMaxScaler(), 'passthrough'] \n",
    "    },\n",
    "    \n",
    "    # словарь для модели LinearRegression()\n",
    "    {\n",
    "        'models': [LinearRegression()],\n",
    "        'models__C': range(1, 7),\n",
    "        'preprocessor__num': [StandardScaler(), MinMaxScaler(), 'passthrough']  \n",
    "    },\n",
    "    \n",
    "    # словарь для модели RandomForestRegressor()\n",
    "    {\n",
    "        'models': [RandomForestRegressor(random_state=RANDOM_STATE)],\n",
    "        'models__max_depth': range(2, 15),\n",
    "        'models__max_features': range(2, 15),\n",
    "        'preprocessor__num': [StandardScaler(), MinMaxScaler(), 'passthrough'] \n",
    "    },\n",
    "    \n",
    "    # словарь для модели DecisionTreeRegressor()\n",
    "    {\n",
    "        'models': [DecisionTreeRegressor(random_state=RANDOM_STATE)],\n",
    "        'models__max_depth': range(2, 15),\n",
    "        'models__max_features': range(2, 15),\n",
    "        'preprocessor__num': [StandardScaler(), MinMaxScaler(), 'passthrough'] \n",
    "    }\n",
    "]"
   ]
  },
  {
   "cell_type": "code",
   "execution_count": 66,
   "metadata": {},
   "outputs": [],
   "source": [
    "# Создаём функцию для оценки качества модели\n",
    "def root_mean_squared_error(y_true, y_pred):\n",
    "    diff = y_pred - y_true # находим разницу между прогнозируемыми и наблюдаемыми значениями \n",
    "    differences_squared = diff ** 2 # возводим в квадрат\n",
    "    mean_diff = differences_squared.mean() # находим среднее значение\n",
    "    rmse_val = np.sqrt(mean_diff) # извлекаем квадратный корень\n",
    "    return rmse_val"
   ]
  },
  {
   "cell_type": "code",
   "execution_count": 67,
   "metadata": {},
   "outputs": [],
   "source": [
    "# Создаём пользовательскую метрику\n",
    "scorer_rmse = make_scorer(root_mean_squared_error, greater_is_better=False)"
   ]
  },
  {
   "cell_type": "code",
   "execution_count": 68,
   "metadata": {},
   "outputs": [
    {
     "name": "stdout",
     "output_type": "stream",
     "text": [
      "[LightGBM] [Info] Auto-choosing row-wise multi-threading, the overhead of testing was 0.005459 seconds.\n",
      "You can set `force_row_wise=true` to remove the overhead.\n",
      "And if memory is not enough, you can set `force_col_wise=true`.\n",
      "[LightGBM] [Info] Total Bins 1162\n",
      "[LightGBM] [Info] Number of data points in the train set: 205941, number of used features: 11\n",
      "[LightGBM] [Info] Start training from score 4557.207351\n",
      "[LightGBM] [Warning] No further splits with positive gain, best gain: -inf\n",
      "[LightGBM] [Warning] No further splits with positive gain, best gain: -inf\n"
     ]
    },
    {
     "name": "stderr",
     "output_type": "stream",
     "text": [
      "/opt/conda/lib/python3.9/site-packages/sklearn/utils/validation.py:2739: UserWarning: X does not have valid feature names, but LGBMRegressor was fitted with feature names\n",
      "  warnings.warn(\n"
     ]
    },
    {
     "name": "stdout",
     "output_type": "stream",
     "text": [
      "[LightGBM] [Info] Auto-choosing row-wise multi-threading, the overhead of testing was 0.005727 seconds.\n",
      "You can set `force_row_wise=true` to remove the overhead.\n",
      "And if memory is not enough, you can set `force_col_wise=true`.\n",
      "[LightGBM] [Info] Total Bins 1162\n",
      "[LightGBM] [Info] Number of data points in the train set: 205941, number of used features: 11\n",
      "[LightGBM] [Info] Start training from score 4549.948077\n",
      "[LightGBM] [Warning] No further splits with positive gain, best gain: -inf\n"
     ]
    },
    {
     "name": "stderr",
     "output_type": "stream",
     "text": [
      "/opt/conda/lib/python3.9/site-packages/sklearn/utils/validation.py:2739: UserWarning: X does not have valid feature names, but LGBMRegressor was fitted with feature names\n",
      "  warnings.warn(\n"
     ]
    },
    {
     "name": "stdout",
     "output_type": "stream",
     "text": [
      "[LightGBM] [Info] Auto-choosing row-wise multi-threading, the overhead of testing was 0.005894 seconds.\n",
      "You can set `force_row_wise=true` to remove the overhead.\n",
      "And if memory is not enough, you can set `force_col_wise=true`.\n",
      "[LightGBM] [Info] Total Bins 1162\n",
      "[LightGBM] [Info] Number of data points in the train set: 205942, number of used features: 11\n",
      "[LightGBM] [Info] Start training from score 4557.101533\n",
      "[LightGBM] [Warning] No further splits with positive gain, best gain: -inf\n",
      "[LightGBM] [Warning] No further splits with positive gain, best gain: -inf\n"
     ]
    },
    {
     "name": "stderr",
     "output_type": "stream",
     "text": [
      "/opt/conda/lib/python3.9/site-packages/sklearn/utils/validation.py:2739: UserWarning: X does not have valid feature names, but LGBMRegressor was fitted with feature names\n",
      "  warnings.warn(\n"
     ]
    },
    {
     "name": "stdout",
     "output_type": "stream",
     "text": [
      "[LightGBM] [Info] Auto-choosing row-wise multi-threading, the overhead of testing was 0.005477 seconds.\n",
      "You can set `force_row_wise=true` to remove the overhead.\n",
      "And if memory is not enough, you can set `force_col_wise=true`.\n",
      "[LightGBM] [Info] Total Bins 1162\n",
      "[LightGBM] [Info] Number of data points in the train set: 205942, number of used features: 11\n",
      "[LightGBM] [Info] Start training from score 4559.423173\n",
      "[LightGBM] [Warning] No further splits with positive gain, best gain: -inf\n"
     ]
    },
    {
     "name": "stderr",
     "output_type": "stream",
     "text": [
      "/opt/conda/lib/python3.9/site-packages/sklearn/utils/validation.py:2739: UserWarning: X does not have valid feature names, but LGBMRegressor was fitted with feature names\n",
      "  warnings.warn(\n"
     ]
    },
    {
     "name": "stdout",
     "output_type": "stream",
     "text": [
      "[LightGBM] [Info] Auto-choosing row-wise multi-threading, the overhead of testing was 0.005622 seconds.\n",
      "You can set `force_row_wise=true` to remove the overhead.\n",
      "And if memory is not enough, you can set `force_col_wise=true`.\n",
      "[LightGBM] [Info] Total Bins 1162\n",
      "[LightGBM] [Info] Number of data points in the train set: 205942, number of used features: 11\n",
      "[LightGBM] [Info] Start training from score 4554.382423\n"
     ]
    },
    {
     "name": "stderr",
     "output_type": "stream",
     "text": [
      "/opt/conda/lib/python3.9/site-packages/sklearn/utils/validation.py:2739: UserWarning: X does not have valid feature names, but LGBMRegressor was fitted with feature names\n",
      "  warnings.warn(\n"
     ]
    },
    {
     "name": "stdout",
     "output_type": "stream",
     "text": [
      "[LightGBM] [Info] Auto-choosing row-wise multi-threading, the overhead of testing was 0.005547 seconds.\n",
      "You can set `force_row_wise=true` to remove the overhead.\n",
      "And if memory is not enough, you can set `force_col_wise=true`.\n",
      "[LightGBM] [Info] Total Bins 1162\n",
      "[LightGBM] [Info] Number of data points in the train set: 205941, number of used features: 11\n",
      "[LightGBM] [Info] Start training from score 4557.207351\n"
     ]
    },
    {
     "name": "stderr",
     "output_type": "stream",
     "text": [
      "/opt/conda/lib/python3.9/site-packages/sklearn/utils/validation.py:2739: UserWarning: X does not have valid feature names, but LGBMRegressor was fitted with feature names\n",
      "  warnings.warn(\n"
     ]
    },
    {
     "name": "stdout",
     "output_type": "stream",
     "text": [
      "[LightGBM] [Info] Auto-choosing row-wise multi-threading, the overhead of testing was 0.005487 seconds.\n",
      "You can set `force_row_wise=true` to remove the overhead.\n",
      "And if memory is not enough, you can set `force_col_wise=true`.\n",
      "[LightGBM] [Info] Total Bins 1162\n",
      "[LightGBM] [Info] Number of data points in the train set: 205941, number of used features: 11\n",
      "[LightGBM] [Info] Start training from score 4549.948077\n"
     ]
    },
    {
     "name": "stderr",
     "output_type": "stream",
     "text": [
      "/opt/conda/lib/python3.9/site-packages/sklearn/utils/validation.py:2739: UserWarning: X does not have valid feature names, but LGBMRegressor was fitted with feature names\n",
      "  warnings.warn(\n"
     ]
    },
    {
     "name": "stdout",
     "output_type": "stream",
     "text": [
      "[LightGBM] [Info] Auto-choosing row-wise multi-threading, the overhead of testing was 0.005487 seconds.\n",
      "You can set `force_row_wise=true` to remove the overhead.\n",
      "And if memory is not enough, you can set `force_col_wise=true`.\n",
      "[LightGBM] [Info] Total Bins 1162\n",
      "[LightGBM] [Info] Number of data points in the train set: 205942, number of used features: 11\n",
      "[LightGBM] [Info] Start training from score 4557.101533\n"
     ]
    },
    {
     "name": "stderr",
     "output_type": "stream",
     "text": [
      "/opt/conda/lib/python3.9/site-packages/sklearn/utils/validation.py:2739: UserWarning: X does not have valid feature names, but LGBMRegressor was fitted with feature names\n",
      "  warnings.warn(\n"
     ]
    },
    {
     "name": "stdout",
     "output_type": "stream",
     "text": [
      "[LightGBM] [Info] Auto-choosing row-wise multi-threading, the overhead of testing was 0.005399 seconds.\n",
      "You can set `force_row_wise=true` to remove the overhead.\n",
      "And if memory is not enough, you can set `force_col_wise=true`.\n",
      "[LightGBM] [Info] Total Bins 1162\n",
      "[LightGBM] [Info] Number of data points in the train set: 205942, number of used features: 11\n",
      "[LightGBM] [Info] Start training from score 4559.423173\n"
     ]
    },
    {
     "name": "stderr",
     "output_type": "stream",
     "text": [
      "/opt/conda/lib/python3.9/site-packages/sklearn/utils/validation.py:2739: UserWarning: X does not have valid feature names, but LGBMRegressor was fitted with feature names\n",
      "  warnings.warn(\n"
     ]
    },
    {
     "name": "stdout",
     "output_type": "stream",
     "text": [
      "[LightGBM] [Info] Auto-choosing row-wise multi-threading, the overhead of testing was 0.005541 seconds.\n",
      "You can set `force_row_wise=true` to remove the overhead.\n",
      "And if memory is not enough, you can set `force_col_wise=true`.\n",
      "[LightGBM] [Info] Total Bins 1162\n",
      "[LightGBM] [Info] Number of data points in the train set: 205942, number of used features: 11\n",
      "[LightGBM] [Info] Start training from score 4554.382423\n"
     ]
    },
    {
     "name": "stderr",
     "output_type": "stream",
     "text": [
      "/opt/conda/lib/python3.9/site-packages/sklearn/utils/validation.py:2739: UserWarning: X does not have valid feature names, but LGBMRegressor was fitted with feature names\n",
      "  warnings.warn(\n"
     ]
    },
    {
     "name": "stdout",
     "output_type": "stream",
     "text": [
      "[LightGBM] [Info] Auto-choosing row-wise multi-threading, the overhead of testing was 0.005341 seconds.\n",
      "You can set `force_row_wise=true` to remove the overhead.\n",
      "And if memory is not enough, you can set `force_col_wise=true`.\n",
      "[LightGBM] [Info] Total Bins 1160\n",
      "[LightGBM] [Info] Number of data points in the train set: 205941, number of used features: 11\n",
      "[LightGBM] [Info] Start training from score 4557.207351\n",
      "[LightGBM] [Warning] No further splits with positive gain, best gain: -inf\n",
      "[LightGBM] [Warning] No further splits with positive gain, best gain: -inf\n",
      "[LightGBM] [Warning] No further splits with positive gain, best gain: -inf\n",
      "[LightGBM] [Warning] No further splits with positive gain, best gain: -inf\n",
      "[LightGBM] [Warning] No further splits with positive gain, best gain: -inf\n",
      "[LightGBM] [Warning] No further splits with positive gain, best gain: -inf\n",
      "[LightGBM] [Warning] No further splits with positive gain, best gain: -inf\n",
      "[LightGBM] [Warning] No further splits with positive gain, best gain: -inf\n",
      "[LightGBM] [Warning] No further splits with positive gain, best gain: -inf\n",
      "[LightGBM] [Warning] No further splits with positive gain, best gain: -inf\n",
      "[LightGBM] [Warning] No further splits with positive gain, best gain: -inf\n",
      "[LightGBM] [Warning] No further splits with positive gain, best gain: -inf\n",
      "[LightGBM] [Warning] No further splits with positive gain, best gain: -inf\n",
      "[LightGBM] [Warning] No further splits with positive gain, best gain: -inf\n",
      "[LightGBM] [Warning] No further splits with positive gain, best gain: -inf\n",
      "[LightGBM] [Warning] No further splits with positive gain, best gain: -inf\n",
      "[LightGBM] [Warning] No further splits with positive gain, best gain: -inf\n",
      "[LightGBM] [Warning] No further splits with positive gain, best gain: -inf\n",
      "[LightGBM] [Warning] No further splits with positive gain, best gain: -inf\n",
      "[LightGBM] [Warning] No further splits with positive gain, best gain: -inf\n",
      "[LightGBM] [Warning] No further splits with positive gain, best gain: -inf\n",
      "[LightGBM] [Warning] No further splits with positive gain, best gain: -inf\n",
      "[LightGBM] [Warning] No further splits with positive gain, best gain: -inf\n",
      "[LightGBM] [Warning] No further splits with positive gain, best gain: -inf\n",
      "[LightGBM] [Warning] No further splits with positive gain, best gain: -inf\n",
      "[LightGBM] [Warning] No further splits with positive gain, best gain: -inf\n",
      "[LightGBM] [Warning] No further splits with positive gain, best gain: -inf\n",
      "[LightGBM] [Warning] No further splits with positive gain, best gain: -inf\n",
      "[LightGBM] [Warning] No further splits with positive gain, best gain: -inf\n",
      "[LightGBM] [Warning] No further splits with positive gain, best gain: -inf\n",
      "[LightGBM] [Warning] No further splits with positive gain, best gain: -inf\n",
      "[LightGBM] [Warning] No further splits with positive gain, best gain: -inf\n",
      "[LightGBM] [Warning] No further splits with positive gain, best gain: -inf\n",
      "[LightGBM] [Warning] No further splits with positive gain, best gain: -inf\n",
      "[LightGBM] [Warning] No further splits with positive gain, best gain: -inf\n",
      "[LightGBM] [Warning] No further splits with positive gain, best gain: -inf\n",
      "[LightGBM] [Warning] No further splits with positive gain, best gain: -inf\n",
      "[LightGBM] [Warning] No further splits with positive gain, best gain: -inf\n",
      "[LightGBM] [Warning] No further splits with positive gain, best gain: -inf\n",
      "[LightGBM] [Warning] No further splits with positive gain, best gain: -inf\n",
      "[LightGBM] [Warning] No further splits with positive gain, best gain: -inf\n",
      "[LightGBM] [Warning] No further splits with positive gain, best gain: -inf\n",
      "[LightGBM] [Warning] No further splits with positive gain, best gain: -inf\n",
      "[LightGBM] [Warning] No further splits with positive gain, best gain: -inf\n",
      "[LightGBM] [Warning] No further splits with positive gain, best gain: -inf\n",
      "[LightGBM] [Warning] No further splits with positive gain, best gain: -inf\n",
      "[LightGBM] [Warning] No further splits with positive gain, best gain: -inf\n",
      "[LightGBM] [Warning] No further splits with positive gain, best gain: -inf\n",
      "[LightGBM] [Warning] No further splits with positive gain, best gain: -inf\n",
      "[LightGBM] [Warning] No further splits with positive gain, best gain: -inf\n",
      "[LightGBM] [Warning] No further splits with positive gain, best gain: -inf\n",
      "[LightGBM] [Warning] No further splits with positive gain, best gain: -inf\n",
      "[LightGBM] [Warning] No further splits with positive gain, best gain: -inf\n",
      "[LightGBM] [Warning] No further splits with positive gain, best gain: -inf\n",
      "[LightGBM] [Warning] No further splits with positive gain, best gain: -inf\n",
      "[LightGBM] [Warning] No further splits with positive gain, best gain: -inf\n",
      "[LightGBM] [Warning] No further splits with positive gain, best gain: -inf\n",
      "[LightGBM] [Warning] No further splits with positive gain, best gain: -inf\n",
      "[LightGBM] [Warning] No further splits with positive gain, best gain: -inf\n",
      "[LightGBM] [Warning] No further splits with positive gain, best gain: -inf\n",
      "[LightGBM] [Warning] No further splits with positive gain, best gain: -inf\n",
      "[LightGBM] [Warning] No further splits with positive gain, best gain: -inf\n",
      "[LightGBM] [Warning] No further splits with positive gain, best gain: -inf\n",
      "[LightGBM] [Warning] No further splits with positive gain, best gain: -inf\n",
      "[LightGBM] [Warning] No further splits with positive gain, best gain: -inf\n",
      "[LightGBM] [Warning] No further splits with positive gain, best gain: -inf\n",
      "[LightGBM] [Warning] No further splits with positive gain, best gain: -inf\n",
      "[LightGBM] [Warning] No further splits with positive gain, best gain: -inf\n",
      "[LightGBM] [Warning] No further splits with positive gain, best gain: -inf\n",
      "[LightGBM] [Warning] No further splits with positive gain, best gain: -inf\n",
      "[LightGBM] [Warning] No further splits with positive gain, best gain: -inf\n",
      "[LightGBM] [Warning] No further splits with positive gain, best gain: -inf\n",
      "[LightGBM] [Warning] No further splits with positive gain, best gain: -inf\n",
      "[LightGBM] [Warning] No further splits with positive gain, best gain: -inf\n",
      "[LightGBM] [Warning] No further splits with positive gain, best gain: -inf\n"
     ]
    },
    {
     "name": "stderr",
     "output_type": "stream",
     "text": [
      "/opt/conda/lib/python3.9/site-packages/sklearn/utils/validation.py:2739: UserWarning: X does not have valid feature names, but LGBMRegressor was fitted with feature names\n",
      "  warnings.warn(\n"
     ]
    },
    {
     "name": "stdout",
     "output_type": "stream",
     "text": [
      "[LightGBM] [Info] Auto-choosing row-wise multi-threading, the overhead of testing was 0.005407 seconds.\n",
      "You can set `force_row_wise=true` to remove the overhead.\n",
      "And if memory is not enough, you can set `force_col_wise=true`.\n",
      "[LightGBM] [Info] Total Bins 1160\n",
      "[LightGBM] [Info] Number of data points in the train set: 205941, number of used features: 11\n",
      "[LightGBM] [Info] Start training from score 4549.948077\n",
      "[LightGBM] [Warning] No further splits with positive gain, best gain: -inf\n",
      "[LightGBM] [Warning] No further splits with positive gain, best gain: -inf\n",
      "[LightGBM] [Warning] No further splits with positive gain, best gain: -inf\n",
      "[LightGBM] [Warning] No further splits with positive gain, best gain: -inf\n",
      "[LightGBM] [Warning] No further splits with positive gain, best gain: -inf\n",
      "[LightGBM] [Warning] No further splits with positive gain, best gain: -inf\n",
      "[LightGBM] [Warning] No further splits with positive gain, best gain: -inf\n",
      "[LightGBM] [Warning] No further splits with positive gain, best gain: -inf\n",
      "[LightGBM] [Warning] No further splits with positive gain, best gain: -inf\n",
      "[LightGBM] [Warning] No further splits with positive gain, best gain: -inf\n",
      "[LightGBM] [Warning] No further splits with positive gain, best gain: -inf\n",
      "[LightGBM] [Warning] No further splits with positive gain, best gain: -inf\n",
      "[LightGBM] [Warning] No further splits with positive gain, best gain: -inf\n",
      "[LightGBM] [Warning] No further splits with positive gain, best gain: -inf\n",
      "[LightGBM] [Warning] No further splits with positive gain, best gain: -inf\n",
      "[LightGBM] [Warning] No further splits with positive gain, best gain: -inf\n",
      "[LightGBM] [Warning] No further splits with positive gain, best gain: -inf\n",
      "[LightGBM] [Warning] No further splits with positive gain, best gain: -inf\n",
      "[LightGBM] [Warning] No further splits with positive gain, best gain: -inf\n",
      "[LightGBM] [Warning] No further splits with positive gain, best gain: -inf\n",
      "[LightGBM] [Warning] No further splits with positive gain, best gain: -inf\n",
      "[LightGBM] [Warning] No further splits with positive gain, best gain: -inf\n",
      "[LightGBM] [Warning] No further splits with positive gain, best gain: -inf\n",
      "[LightGBM] [Warning] No further splits with positive gain, best gain: -inf\n",
      "[LightGBM] [Warning] No further splits with positive gain, best gain: -inf\n",
      "[LightGBM] [Warning] No further splits with positive gain, best gain: -inf\n",
      "[LightGBM] [Warning] No further splits with positive gain, best gain: -inf\n",
      "[LightGBM] [Warning] No further splits with positive gain, best gain: -inf\n",
      "[LightGBM] [Warning] No further splits with positive gain, best gain: -inf\n",
      "[LightGBM] [Warning] No further splits with positive gain, best gain: -inf\n",
      "[LightGBM] [Warning] No further splits with positive gain, best gain: -inf\n",
      "[LightGBM] [Warning] No further splits with positive gain, best gain: -inf\n",
      "[LightGBM] [Warning] No further splits with positive gain, best gain: -inf\n",
      "[LightGBM] [Warning] No further splits with positive gain, best gain: -inf\n",
      "[LightGBM] [Warning] No further splits with positive gain, best gain: -inf\n",
      "[LightGBM] [Warning] No further splits with positive gain, best gain: -inf\n",
      "[LightGBM] [Warning] No further splits with positive gain, best gain: -inf\n",
      "[LightGBM] [Warning] No further splits with positive gain, best gain: -inf\n",
      "[LightGBM] [Warning] No further splits with positive gain, best gain: -inf\n",
      "[LightGBM] [Warning] No further splits with positive gain, best gain: -inf\n",
      "[LightGBM] [Warning] No further splits with positive gain, best gain: -inf\n",
      "[LightGBM] [Warning] No further splits with positive gain, best gain: -inf\n",
      "[LightGBM] [Warning] No further splits with positive gain, best gain: -inf\n",
      "[LightGBM] [Warning] No further splits with positive gain, best gain: -inf\n",
      "[LightGBM] [Warning] No further splits with positive gain, best gain: -inf\n",
      "[LightGBM] [Warning] No further splits with positive gain, best gain: -inf\n",
      "[LightGBM] [Warning] No further splits with positive gain, best gain: -inf\n",
      "[LightGBM] [Warning] No further splits with positive gain, best gain: -inf\n",
      "[LightGBM] [Warning] No further splits with positive gain, best gain: -inf\n",
      "[LightGBM] [Warning] No further splits with positive gain, best gain: -inf\n",
      "[LightGBM] [Warning] No further splits with positive gain, best gain: -inf\n",
      "[LightGBM] [Warning] No further splits with positive gain, best gain: -inf\n",
      "[LightGBM] [Warning] No further splits with positive gain, best gain: -inf\n",
      "[LightGBM] [Warning] No further splits with positive gain, best gain: -inf\n",
      "[LightGBM] [Warning] No further splits with positive gain, best gain: -inf\n",
      "[LightGBM] [Warning] No further splits with positive gain, best gain: -inf\n",
      "[LightGBM] [Warning] No further splits with positive gain, best gain: -inf\n",
      "[LightGBM] [Warning] No further splits with positive gain, best gain: -inf\n",
      "[LightGBM] [Warning] No further splits with positive gain, best gain: -inf\n",
      "[LightGBM] [Warning] No further splits with positive gain, best gain: -inf\n",
      "[LightGBM] [Warning] No further splits with positive gain, best gain: -inf\n",
      "[LightGBM] [Warning] No further splits with positive gain, best gain: -inf\n",
      "[LightGBM] [Warning] No further splits with positive gain, best gain: -inf\n",
      "[LightGBM] [Warning] No further splits with positive gain, best gain: -inf\n",
      "[LightGBM] [Warning] No further splits with positive gain, best gain: -inf\n",
      "[LightGBM] [Warning] No further splits with positive gain, best gain: -inf\n",
      "[LightGBM] [Warning] No further splits with positive gain, best gain: -inf\n",
      "[LightGBM] [Warning] No further splits with positive gain, best gain: -inf\n",
      "[LightGBM] [Warning] No further splits with positive gain, best gain: -inf\n",
      "[LightGBM] [Warning] No further splits with positive gain, best gain: -inf\n",
      "[LightGBM] [Warning] No further splits with positive gain, best gain: -inf\n",
      "[LightGBM] [Warning] No further splits with positive gain, best gain: -inf\n",
      "[LightGBM] [Warning] No further splits with positive gain, best gain: -inf\n",
      "[LightGBM] [Warning] No further splits with positive gain, best gain: -inf\n",
      "[LightGBM] [Warning] No further splits with positive gain, best gain: -inf\n"
     ]
    },
    {
     "name": "stderr",
     "output_type": "stream",
     "text": [
      "/opt/conda/lib/python3.9/site-packages/sklearn/utils/validation.py:2739: UserWarning: X does not have valid feature names, but LGBMRegressor was fitted with feature names\n",
      "  warnings.warn(\n"
     ]
    },
    {
     "name": "stdout",
     "output_type": "stream",
     "text": [
      "[LightGBM] [Info] Auto-choosing row-wise multi-threading, the overhead of testing was 0.005124 seconds.\n",
      "You can set `force_row_wise=true` to remove the overhead.\n",
      "And if memory is not enough, you can set `force_col_wise=true`.\n",
      "[LightGBM] [Info] Total Bins 1160\n",
      "[LightGBM] [Info] Number of data points in the train set: 205942, number of used features: 11\n",
      "[LightGBM] [Info] Start training from score 4557.101533\n",
      "[LightGBM] [Warning] No further splits with positive gain, best gain: -inf\n",
      "[LightGBM] [Warning] No further splits with positive gain, best gain: -inf\n",
      "[LightGBM] [Warning] No further splits with positive gain, best gain: -inf\n",
      "[LightGBM] [Warning] No further splits with positive gain, best gain: -inf\n",
      "[LightGBM] [Warning] No further splits with positive gain, best gain: -inf\n",
      "[LightGBM] [Warning] No further splits with positive gain, best gain: -inf\n",
      "[LightGBM] [Warning] No further splits with positive gain, best gain: -inf\n",
      "[LightGBM] [Warning] No further splits with positive gain, best gain: -inf\n",
      "[LightGBM] [Warning] No further splits with positive gain, best gain: -inf\n",
      "[LightGBM] [Warning] No further splits with positive gain, best gain: -inf\n",
      "[LightGBM] [Warning] No further splits with positive gain, best gain: -inf\n",
      "[LightGBM] [Warning] No further splits with positive gain, best gain: -inf\n",
      "[LightGBM] [Warning] No further splits with positive gain, best gain: -inf\n",
      "[LightGBM] [Warning] No further splits with positive gain, best gain: -inf\n",
      "[LightGBM] [Warning] No further splits with positive gain, best gain: -inf\n",
      "[LightGBM] [Warning] No further splits with positive gain, best gain: -inf\n",
      "[LightGBM] [Warning] No further splits with positive gain, best gain: -inf\n",
      "[LightGBM] [Warning] No further splits with positive gain, best gain: -inf\n",
      "[LightGBM] [Warning] No further splits with positive gain, best gain: -inf\n",
      "[LightGBM] [Warning] No further splits with positive gain, best gain: -inf\n",
      "[LightGBM] [Warning] No further splits with positive gain, best gain: -inf\n",
      "[LightGBM] [Warning] No further splits with positive gain, best gain: -inf\n",
      "[LightGBM] [Warning] No further splits with positive gain, best gain: -inf\n",
      "[LightGBM] [Warning] No further splits with positive gain, best gain: -inf\n",
      "[LightGBM] [Warning] No further splits with positive gain, best gain: -inf\n",
      "[LightGBM] [Warning] No further splits with positive gain, best gain: -inf\n",
      "[LightGBM] [Warning] No further splits with positive gain, best gain: -inf\n",
      "[LightGBM] [Warning] No further splits with positive gain, best gain: -inf\n",
      "[LightGBM] [Warning] No further splits with positive gain, best gain: -inf\n",
      "[LightGBM] [Warning] No further splits with positive gain, best gain: -inf\n",
      "[LightGBM] [Warning] No further splits with positive gain, best gain: -inf\n",
      "[LightGBM] [Warning] No further splits with positive gain, best gain: -inf\n",
      "[LightGBM] [Warning] No further splits with positive gain, best gain: -inf\n",
      "[LightGBM] [Warning] No further splits with positive gain, best gain: -inf\n",
      "[LightGBM] [Warning] No further splits with positive gain, best gain: -inf\n",
      "[LightGBM] [Warning] No further splits with positive gain, best gain: -inf\n",
      "[LightGBM] [Warning] No further splits with positive gain, best gain: -inf\n",
      "[LightGBM] [Warning] No further splits with positive gain, best gain: -inf\n",
      "[LightGBM] [Warning] No further splits with positive gain, best gain: -inf\n",
      "[LightGBM] [Warning] No further splits with positive gain, best gain: -inf\n",
      "[LightGBM] [Warning] No further splits with positive gain, best gain: -inf\n",
      "[LightGBM] [Warning] No further splits with positive gain, best gain: -inf\n",
      "[LightGBM] [Warning] No further splits with positive gain, best gain: -inf\n",
      "[LightGBM] [Warning] No further splits with positive gain, best gain: -inf\n",
      "[LightGBM] [Warning] No further splits with positive gain, best gain: -inf\n",
      "[LightGBM] [Warning] No further splits with positive gain, best gain: -inf\n",
      "[LightGBM] [Warning] No further splits with positive gain, best gain: -inf\n",
      "[LightGBM] [Warning] No further splits with positive gain, best gain: -inf\n",
      "[LightGBM] [Warning] No further splits with positive gain, best gain: -inf\n",
      "[LightGBM] [Warning] No further splits with positive gain, best gain: -inf\n",
      "[LightGBM] [Warning] No further splits with positive gain, best gain: -inf\n",
      "[LightGBM] [Warning] No further splits with positive gain, best gain: -inf\n",
      "[LightGBM] [Warning] No further splits with positive gain, best gain: -inf\n",
      "[LightGBM] [Warning] No further splits with positive gain, best gain: -inf\n",
      "[LightGBM] [Warning] No further splits with positive gain, best gain: -inf\n",
      "[LightGBM] [Warning] No further splits with positive gain, best gain: -inf\n",
      "[LightGBM] [Warning] No further splits with positive gain, best gain: -inf\n",
      "[LightGBM] [Warning] No further splits with positive gain, best gain: -inf\n",
      "[LightGBM] [Warning] No further splits with positive gain, best gain: -inf\n",
      "[LightGBM] [Warning] No further splits with positive gain, best gain: -inf\n",
      "[LightGBM] [Warning] No further splits with positive gain, best gain: -inf\n",
      "[LightGBM] [Warning] No further splits with positive gain, best gain: -inf\n",
      "[LightGBM] [Warning] No further splits with positive gain, best gain: -inf\n",
      "[LightGBM] [Warning] No further splits with positive gain, best gain: -inf\n",
      "[LightGBM] [Warning] No further splits with positive gain, best gain: -inf\n",
      "[LightGBM] [Warning] No further splits with positive gain, best gain: -inf\n",
      "[LightGBM] [Warning] No further splits with positive gain, best gain: -inf\n",
      "[LightGBM] [Warning] No further splits with positive gain, best gain: -inf\n",
      "[LightGBM] [Warning] No further splits with positive gain, best gain: -inf\n",
      "[LightGBM] [Warning] No further splits with positive gain, best gain: -inf\n",
      "[LightGBM] [Warning] No further splits with positive gain, best gain: -inf\n",
      "[LightGBM] [Warning] No further splits with positive gain, best gain: -inf\n",
      "[LightGBM] [Warning] No further splits with positive gain, best gain: -inf\n",
      "[LightGBM] [Warning] No further splits with positive gain, best gain: -inf\n",
      "[LightGBM] [Warning] No further splits with positive gain, best gain: -inf\n"
     ]
    },
    {
     "name": "stderr",
     "output_type": "stream",
     "text": [
      "/opt/conda/lib/python3.9/site-packages/sklearn/utils/validation.py:2739: UserWarning: X does not have valid feature names, but LGBMRegressor was fitted with feature names\n",
      "  warnings.warn(\n"
     ]
    },
    {
     "name": "stdout",
     "output_type": "stream",
     "text": [
      "[LightGBM] [Info] Auto-choosing row-wise multi-threading, the overhead of testing was 0.005475 seconds.\n",
      "You can set `force_row_wise=true` to remove the overhead.\n",
      "And if memory is not enough, you can set `force_col_wise=true`.\n",
      "[LightGBM] [Info] Total Bins 1160\n",
      "[LightGBM] [Info] Number of data points in the train set: 205942, number of used features: 11\n",
      "[LightGBM] [Info] Start training from score 4559.423173\n",
      "[LightGBM] [Warning] No further splits with positive gain, best gain: -inf\n",
      "[LightGBM] [Warning] No further splits with positive gain, best gain: -inf\n",
      "[LightGBM] [Warning] No further splits with positive gain, best gain: -inf\n",
      "[LightGBM] [Warning] No further splits with positive gain, best gain: -inf\n",
      "[LightGBM] [Warning] No further splits with positive gain, best gain: -inf\n",
      "[LightGBM] [Warning] No further splits with positive gain, best gain: -inf\n",
      "[LightGBM] [Warning] No further splits with positive gain, best gain: -inf\n",
      "[LightGBM] [Warning] No further splits with positive gain, best gain: -inf\n",
      "[LightGBM] [Warning] No further splits with positive gain, best gain: -inf\n",
      "[LightGBM] [Warning] No further splits with positive gain, best gain: -inf\n",
      "[LightGBM] [Warning] No further splits with positive gain, best gain: -inf\n",
      "[LightGBM] [Warning] No further splits with positive gain, best gain: -inf\n",
      "[LightGBM] [Warning] No further splits with positive gain, best gain: -inf\n",
      "[LightGBM] [Warning] No further splits with positive gain, best gain: -inf\n",
      "[LightGBM] [Warning] No further splits with positive gain, best gain: -inf\n",
      "[LightGBM] [Warning] No further splits with positive gain, best gain: -inf\n",
      "[LightGBM] [Warning] No further splits with positive gain, best gain: -inf\n",
      "[LightGBM] [Warning] No further splits with positive gain, best gain: -inf\n",
      "[LightGBM] [Warning] No further splits with positive gain, best gain: -inf\n",
      "[LightGBM] [Warning] No further splits with positive gain, best gain: -inf\n",
      "[LightGBM] [Warning] No further splits with positive gain, best gain: -inf\n",
      "[LightGBM] [Warning] No further splits with positive gain, best gain: -inf\n",
      "[LightGBM] [Warning] No further splits with positive gain, best gain: -inf\n",
      "[LightGBM] [Warning] No further splits with positive gain, best gain: -inf\n",
      "[LightGBM] [Warning] No further splits with positive gain, best gain: -inf\n",
      "[LightGBM] [Warning] No further splits with positive gain, best gain: -inf\n",
      "[LightGBM] [Warning] No further splits with positive gain, best gain: -inf\n",
      "[LightGBM] [Warning] No further splits with positive gain, best gain: -inf\n",
      "[LightGBM] [Warning] No further splits with positive gain, best gain: -inf\n",
      "[LightGBM] [Warning] No further splits with positive gain, best gain: -inf\n",
      "[LightGBM] [Warning] No further splits with positive gain, best gain: -inf\n",
      "[LightGBM] [Warning] No further splits with positive gain, best gain: -inf\n",
      "[LightGBM] [Warning] No further splits with positive gain, best gain: -inf\n",
      "[LightGBM] [Warning] No further splits with positive gain, best gain: -inf\n",
      "[LightGBM] [Warning] No further splits with positive gain, best gain: -inf\n",
      "[LightGBM] [Warning] No further splits with positive gain, best gain: -inf\n",
      "[LightGBM] [Warning] No further splits with positive gain, best gain: -inf\n",
      "[LightGBM] [Warning] No further splits with positive gain, best gain: -inf\n",
      "[LightGBM] [Warning] No further splits with positive gain, best gain: -inf\n",
      "[LightGBM] [Warning] No further splits with positive gain, best gain: -inf\n",
      "[LightGBM] [Warning] No further splits with positive gain, best gain: -inf\n",
      "[LightGBM] [Warning] No further splits with positive gain, best gain: -inf\n",
      "[LightGBM] [Warning] No further splits with positive gain, best gain: -inf\n",
      "[LightGBM] [Warning] No further splits with positive gain, best gain: -inf\n",
      "[LightGBM] [Warning] No further splits with positive gain, best gain: -inf\n",
      "[LightGBM] [Warning] No further splits with positive gain, best gain: -inf\n",
      "[LightGBM] [Warning] No further splits with positive gain, best gain: -inf\n",
      "[LightGBM] [Warning] No further splits with positive gain, best gain: -inf\n",
      "[LightGBM] [Warning] No further splits with positive gain, best gain: -inf\n",
      "[LightGBM] [Warning] No further splits with positive gain, best gain: -inf\n",
      "[LightGBM] [Warning] No further splits with positive gain, best gain: -inf\n",
      "[LightGBM] [Warning] No further splits with positive gain, best gain: -inf\n",
      "[LightGBM] [Warning] No further splits with positive gain, best gain: -inf\n",
      "[LightGBM] [Warning] No further splits with positive gain, best gain: -inf\n",
      "[LightGBM] [Warning] No further splits with positive gain, best gain: -inf\n",
      "[LightGBM] [Warning] No further splits with positive gain, best gain: -inf\n",
      "[LightGBM] [Warning] No further splits with positive gain, best gain: -inf\n",
      "[LightGBM] [Warning] No further splits with positive gain, best gain: -inf\n",
      "[LightGBM] [Warning] No further splits with positive gain, best gain: -inf\n",
      "[LightGBM] [Warning] No further splits with positive gain, best gain: -inf\n",
      "[LightGBM] [Warning] No further splits with positive gain, best gain: -inf\n",
      "[LightGBM] [Warning] No further splits with positive gain, best gain: -inf\n",
      "[LightGBM] [Warning] No further splits with positive gain, best gain: -inf\n",
      "[LightGBM] [Warning] No further splits with positive gain, best gain: -inf\n",
      "[LightGBM] [Warning] No further splits with positive gain, best gain: -inf\n",
      "[LightGBM] [Warning] No further splits with positive gain, best gain: -inf\n",
      "[LightGBM] [Warning] No further splits with positive gain, best gain: -inf\n",
      "[LightGBM] [Warning] No further splits with positive gain, best gain: -inf\n",
      "[LightGBM] [Warning] No further splits with positive gain, best gain: -inf\n",
      "[LightGBM] [Warning] No further splits with positive gain, best gain: -inf\n",
      "[LightGBM] [Warning] No further splits with positive gain, best gain: -inf\n",
      "[LightGBM] [Warning] No further splits with positive gain, best gain: -inf\n",
      "[LightGBM] [Warning] No further splits with positive gain, best gain: -inf\n",
      "[LightGBM] [Warning] No further splits with positive gain, best gain: -inf\n",
      "[LightGBM] [Warning] No further splits with positive gain, best gain: -inf\n"
     ]
    },
    {
     "name": "stderr",
     "output_type": "stream",
     "text": [
      "/opt/conda/lib/python3.9/site-packages/sklearn/utils/validation.py:2739: UserWarning: X does not have valid feature names, but LGBMRegressor was fitted with feature names\n",
      "  warnings.warn(\n"
     ]
    },
    {
     "name": "stdout",
     "output_type": "stream",
     "text": [
      "[LightGBM] [Info] Auto-choosing row-wise multi-threading, the overhead of testing was 0.005911 seconds.\n",
      "You can set `force_row_wise=true` to remove the overhead.\n",
      "And if memory is not enough, you can set `force_col_wise=true`.\n",
      "[LightGBM] [Info] Total Bins 1160\n",
      "[LightGBM] [Info] Number of data points in the train set: 205942, number of used features: 11\n",
      "[LightGBM] [Info] Start training from score 4554.382423\n",
      "[LightGBM] [Warning] No further splits with positive gain, best gain: -inf\n",
      "[LightGBM] [Warning] No further splits with positive gain, best gain: -inf\n",
      "[LightGBM] [Warning] No further splits with positive gain, best gain: -inf\n",
      "[LightGBM] [Warning] No further splits with positive gain, best gain: -inf\n",
      "[LightGBM] [Warning] No further splits with positive gain, best gain: -inf\n",
      "[LightGBM] [Warning] No further splits with positive gain, best gain: -inf\n",
      "[LightGBM] [Warning] No further splits with positive gain, best gain: -inf\n",
      "[LightGBM] [Warning] No further splits with positive gain, best gain: -inf\n",
      "[LightGBM] [Warning] No further splits with positive gain, best gain: -inf\n",
      "[LightGBM] [Warning] No further splits with positive gain, best gain: -inf\n",
      "[LightGBM] [Warning] No further splits with positive gain, best gain: -inf\n",
      "[LightGBM] [Warning] No further splits with positive gain, best gain: -inf\n",
      "[LightGBM] [Warning] No further splits with positive gain, best gain: -inf\n",
      "[LightGBM] [Warning] No further splits with positive gain, best gain: -inf\n",
      "[LightGBM] [Warning] No further splits with positive gain, best gain: -inf\n",
      "[LightGBM] [Warning] No further splits with positive gain, best gain: -inf\n",
      "[LightGBM] [Warning] No further splits with positive gain, best gain: -inf\n",
      "[LightGBM] [Warning] No further splits with positive gain, best gain: -inf\n",
      "[LightGBM] [Warning] No further splits with positive gain, best gain: -inf\n",
      "[LightGBM] [Warning] No further splits with positive gain, best gain: -inf\n",
      "[LightGBM] [Warning] No further splits with positive gain, best gain: -inf\n",
      "[LightGBM] [Warning] No further splits with positive gain, best gain: -inf\n",
      "[LightGBM] [Warning] No further splits with positive gain, best gain: -inf\n",
      "[LightGBM] [Warning] No further splits with positive gain, best gain: -inf\n",
      "[LightGBM] [Warning] No further splits with positive gain, best gain: -inf\n",
      "[LightGBM] [Warning] No further splits with positive gain, best gain: -inf\n",
      "[LightGBM] [Warning] No further splits with positive gain, best gain: -inf\n",
      "[LightGBM] [Warning] No further splits with positive gain, best gain: -inf\n",
      "[LightGBM] [Warning] No further splits with positive gain, best gain: -inf\n",
      "[LightGBM] [Warning] No further splits with positive gain, best gain: -inf\n",
      "[LightGBM] [Warning] No further splits with positive gain, best gain: -inf\n",
      "[LightGBM] [Warning] No further splits with positive gain, best gain: -inf\n",
      "[LightGBM] [Warning] No further splits with positive gain, best gain: -inf\n",
      "[LightGBM] [Warning] No further splits with positive gain, best gain: -inf\n",
      "[LightGBM] [Warning] No further splits with positive gain, best gain: -inf\n",
      "[LightGBM] [Warning] No further splits with positive gain, best gain: -inf\n",
      "[LightGBM] [Warning] No further splits with positive gain, best gain: -inf\n",
      "[LightGBM] [Warning] No further splits with positive gain, best gain: -inf\n",
      "[LightGBM] [Warning] No further splits with positive gain, best gain: -inf\n",
      "[LightGBM] [Warning] No further splits with positive gain, best gain: -inf\n",
      "[LightGBM] [Warning] No further splits with positive gain, best gain: -inf\n",
      "[LightGBM] [Warning] No further splits with positive gain, best gain: -inf\n",
      "[LightGBM] [Warning] No further splits with positive gain, best gain: -inf\n",
      "[LightGBM] [Warning] No further splits with positive gain, best gain: -inf\n",
      "[LightGBM] [Warning] No further splits with positive gain, best gain: -inf\n",
      "[LightGBM] [Warning] No further splits with positive gain, best gain: -inf\n",
      "[LightGBM] [Warning] No further splits with positive gain, best gain: -inf\n",
      "[LightGBM] [Warning] No further splits with positive gain, best gain: -inf\n",
      "[LightGBM] [Warning] No further splits with positive gain, best gain: -inf\n",
      "[LightGBM] [Warning] No further splits with positive gain, best gain: -inf\n",
      "[LightGBM] [Warning] No further splits with positive gain, best gain: -inf\n",
      "[LightGBM] [Warning] No further splits with positive gain, best gain: -inf\n",
      "[LightGBM] [Warning] No further splits with positive gain, best gain: -inf\n",
      "[LightGBM] [Warning] No further splits with positive gain, best gain: -inf\n",
      "[LightGBM] [Warning] No further splits with positive gain, best gain: -inf\n",
      "[LightGBM] [Warning] No further splits with positive gain, best gain: -inf\n",
      "[LightGBM] [Warning] No further splits with positive gain, best gain: -inf\n",
      "[LightGBM] [Warning] No further splits with positive gain, best gain: -inf\n",
      "[LightGBM] [Warning] No further splits with positive gain, best gain: -inf\n",
      "[LightGBM] [Warning] No further splits with positive gain, best gain: -inf\n",
      "[LightGBM] [Warning] No further splits with positive gain, best gain: -inf\n",
      "[LightGBM] [Warning] No further splits with positive gain, best gain: -inf\n",
      "[LightGBM] [Warning] No further splits with positive gain, best gain: -inf\n",
      "[LightGBM] [Warning] No further splits with positive gain, best gain: -inf\n",
      "[LightGBM] [Warning] No further splits with positive gain, best gain: -inf\n",
      "[LightGBM] [Warning] No further splits with positive gain, best gain: -inf\n",
      "[LightGBM] [Warning] No further splits with positive gain, best gain: -inf\n",
      "[LightGBM] [Warning] No further splits with positive gain, best gain: -inf\n",
      "[LightGBM] [Warning] No further splits with positive gain, best gain: -inf\n",
      "[LightGBM] [Warning] No further splits with positive gain, best gain: -inf\n",
      "[LightGBM] [Warning] No further splits with positive gain, best gain: -inf\n",
      "[LightGBM] [Warning] No further splits with positive gain, best gain: -inf\n",
      "[LightGBM] [Warning] No further splits with positive gain, best gain: -inf\n",
      "[LightGBM] [Warning] No further splits with positive gain, best gain: -inf\n",
      "[LightGBM] [Warning] No further splits with positive gain, best gain: -inf\n"
     ]
    },
    {
     "name": "stderr",
     "output_type": "stream",
     "text": [
      "/opt/conda/lib/python3.9/site-packages/sklearn/utils/validation.py:2739: UserWarning: X does not have valid feature names, but LGBMRegressor was fitted with feature names\n",
      "  warnings.warn(\n"
     ]
    },
    {
     "name": "stdout",
     "output_type": "stream",
     "text": [
      "[LightGBM] [Info] Auto-choosing row-wise multi-threading, the overhead of testing was 0.005688 seconds.\n",
      "You can set `force_row_wise=true` to remove the overhead.\n",
      "And if memory is not enough, you can set `force_col_wise=true`.\n",
      "[LightGBM] [Info] Total Bins 1163\n",
      "[LightGBM] [Info] Number of data points in the train set: 205941, number of used features: 11\n",
      "[LightGBM] [Info] Start training from score 4557.207351\n"
     ]
    },
    {
     "name": "stderr",
     "output_type": "stream",
     "text": [
      "/opt/conda/lib/python3.9/site-packages/sklearn/utils/validation.py:2739: UserWarning: X does not have valid feature names, but LGBMRegressor was fitted with feature names\n",
      "  warnings.warn(\n"
     ]
    },
    {
     "name": "stdout",
     "output_type": "stream",
     "text": [
      "[LightGBM] [Info] Auto-choosing row-wise multi-threading, the overhead of testing was 0.005789 seconds.\n",
      "You can set `force_row_wise=true` to remove the overhead.\n",
      "And if memory is not enough, you can set `force_col_wise=true`.\n",
      "[LightGBM] [Info] Total Bins 1163\n",
      "[LightGBM] [Info] Number of data points in the train set: 205941, number of used features: 11\n",
      "[LightGBM] [Info] Start training from score 4549.948077\n"
     ]
    },
    {
     "name": "stderr",
     "output_type": "stream",
     "text": [
      "/opt/conda/lib/python3.9/site-packages/sklearn/utils/validation.py:2739: UserWarning: X does not have valid feature names, but LGBMRegressor was fitted with feature names\n",
      "  warnings.warn(\n"
     ]
    },
    {
     "name": "stdout",
     "output_type": "stream",
     "text": [
      "[LightGBM] [Info] Auto-choosing row-wise multi-threading, the overhead of testing was 0.005784 seconds.\n",
      "You can set `force_row_wise=true` to remove the overhead.\n",
      "And if memory is not enough, you can set `force_col_wise=true`.\n",
      "[LightGBM] [Info] Total Bins 1163\n",
      "[LightGBM] [Info] Number of data points in the train set: 205942, number of used features: 11\n",
      "[LightGBM] [Info] Start training from score 4557.101533\n"
     ]
    },
    {
     "name": "stderr",
     "output_type": "stream",
     "text": [
      "/opt/conda/lib/python3.9/site-packages/sklearn/utils/validation.py:2739: UserWarning: X does not have valid feature names, but LGBMRegressor was fitted with feature names\n",
      "  warnings.warn(\n"
     ]
    },
    {
     "name": "stdout",
     "output_type": "stream",
     "text": [
      "[LightGBM] [Info] Auto-choosing row-wise multi-threading, the overhead of testing was 0.005403 seconds.\n",
      "You can set `force_row_wise=true` to remove the overhead.\n",
      "And if memory is not enough, you can set `force_col_wise=true`.\n",
      "[LightGBM] [Info] Total Bins 1163\n",
      "[LightGBM] [Info] Number of data points in the train set: 205942, number of used features: 11\n",
      "[LightGBM] [Info] Start training from score 4559.423173\n"
     ]
    },
    {
     "name": "stderr",
     "output_type": "stream",
     "text": [
      "/opt/conda/lib/python3.9/site-packages/sklearn/utils/validation.py:2739: UserWarning: X does not have valid feature names, but LGBMRegressor was fitted with feature names\n",
      "  warnings.warn(\n"
     ]
    },
    {
     "name": "stdout",
     "output_type": "stream",
     "text": [
      "[LightGBM] [Info] Auto-choosing row-wise multi-threading, the overhead of testing was 0.005358 seconds.\n",
      "You can set `force_row_wise=true` to remove the overhead.\n",
      "And if memory is not enough, you can set `force_col_wise=true`.\n",
      "[LightGBM] [Info] Total Bins 1163\n",
      "[LightGBM] [Info] Number of data points in the train set: 205942, number of used features: 11\n",
      "[LightGBM] [Info] Start training from score 4554.382423\n"
     ]
    },
    {
     "name": "stderr",
     "output_type": "stream",
     "text": [
      "/opt/conda/lib/python3.9/site-packages/sklearn/utils/validation.py:2739: UserWarning: X does not have valid feature names, but LGBMRegressor was fitted with feature names\n",
      "  warnings.warn(\n"
     ]
    },
    {
     "name": "stdout",
     "output_type": "stream",
     "text": [
      "[LightGBM] [Info] Auto-choosing row-wise multi-threading, the overhead of testing was 0.005373 seconds.\n",
      "You can set `force_row_wise=true` to remove the overhead.\n",
      "And if memory is not enough, you can set `force_col_wise=true`.\n",
      "[LightGBM] [Info] Total Bins 1163\n",
      "[LightGBM] [Info] Number of data points in the train set: 205941, number of used features: 11\n",
      "[LightGBM] [Info] Start training from score 4557.207351\n"
     ]
    },
    {
     "name": "stderr",
     "output_type": "stream",
     "text": [
      "/opt/conda/lib/python3.9/site-packages/sklearn/utils/validation.py:2739: UserWarning: X does not have valid feature names, but LGBMRegressor was fitted with feature names\n",
      "  warnings.warn(\n"
     ]
    },
    {
     "name": "stdout",
     "output_type": "stream",
     "text": [
      "[LightGBM] [Info] Auto-choosing row-wise multi-threading, the overhead of testing was 0.005577 seconds.\n",
      "You can set `force_row_wise=true` to remove the overhead.\n",
      "And if memory is not enough, you can set `force_col_wise=true`.\n",
      "[LightGBM] [Info] Total Bins 1163\n",
      "[LightGBM] [Info] Number of data points in the train set: 205941, number of used features: 11\n",
      "[LightGBM] [Info] Start training from score 4549.948077\n"
     ]
    },
    {
     "name": "stderr",
     "output_type": "stream",
     "text": [
      "/opt/conda/lib/python3.9/site-packages/sklearn/utils/validation.py:2739: UserWarning: X does not have valid feature names, but LGBMRegressor was fitted with feature names\n",
      "  warnings.warn(\n"
     ]
    },
    {
     "name": "stdout",
     "output_type": "stream",
     "text": [
      "[LightGBM] [Info] Auto-choosing row-wise multi-threading, the overhead of testing was 0.005778 seconds.\n",
      "You can set `force_row_wise=true` to remove the overhead.\n",
      "And if memory is not enough, you can set `force_col_wise=true`.\n",
      "[LightGBM] [Info] Total Bins 1163\n",
      "[LightGBM] [Info] Number of data points in the train set: 205942, number of used features: 11\n",
      "[LightGBM] [Info] Start training from score 4557.101533\n"
     ]
    },
    {
     "name": "stderr",
     "output_type": "stream",
     "text": [
      "/opt/conda/lib/python3.9/site-packages/sklearn/utils/validation.py:2739: UserWarning: X does not have valid feature names, but LGBMRegressor was fitted with feature names\n",
      "  warnings.warn(\n"
     ]
    },
    {
     "name": "stdout",
     "output_type": "stream",
     "text": [
      "[LightGBM] [Info] Auto-choosing row-wise multi-threading, the overhead of testing was 0.005758 seconds.\n",
      "You can set `force_row_wise=true` to remove the overhead.\n",
      "And if memory is not enough, you can set `force_col_wise=true`.\n",
      "[LightGBM] [Info] Total Bins 1163\n",
      "[LightGBM] [Info] Number of data points in the train set: 205942, number of used features: 11\n",
      "[LightGBM] [Info] Start training from score 4559.423173\n"
     ]
    },
    {
     "name": "stderr",
     "output_type": "stream",
     "text": [
      "/opt/conda/lib/python3.9/site-packages/sklearn/utils/validation.py:2739: UserWarning: X does not have valid feature names, but LGBMRegressor was fitted with feature names\n",
      "  warnings.warn(\n"
     ]
    },
    {
     "name": "stdout",
     "output_type": "stream",
     "text": [
      "[LightGBM] [Info] Auto-choosing row-wise multi-threading, the overhead of testing was 0.005406 seconds.\n",
      "You can set `force_row_wise=true` to remove the overhead.\n",
      "And if memory is not enough, you can set `force_col_wise=true`.\n",
      "[LightGBM] [Info] Total Bins 1163\n",
      "[LightGBM] [Info] Number of data points in the train set: 205942, number of used features: 11\n",
      "[LightGBM] [Info] Start training from score 4554.382423\n"
     ]
    },
    {
     "name": "stderr",
     "output_type": "stream",
     "text": [
      "/opt/conda/lib/python3.9/site-packages/sklearn/utils/validation.py:2739: UserWarning: X does not have valid feature names, but LGBMRegressor was fitted with feature names\n",
      "  warnings.warn(\n"
     ]
    },
    {
     "name": "stdout",
     "output_type": "stream",
     "text": [
      "[LightGBM] [Info] Auto-choosing row-wise multi-threading, the overhead of testing was 0.005804 seconds.\n",
      "You can set `force_row_wise=true` to remove the overhead.\n",
      "And if memory is not enough, you can set `force_col_wise=true`.\n",
      "[LightGBM] [Info] Total Bins 1163\n",
      "[LightGBM] [Info] Number of data points in the train set: 205941, number of used features: 11\n",
      "[LightGBM] [Info] Start training from score 4557.207351\n"
     ]
    },
    {
     "name": "stderr",
     "output_type": "stream",
     "text": [
      "/opt/conda/lib/python3.9/site-packages/sklearn/utils/validation.py:2739: UserWarning: X does not have valid feature names, but LGBMRegressor was fitted with feature names\n",
      "  warnings.warn(\n"
     ]
    },
    {
     "name": "stdout",
     "output_type": "stream",
     "text": [
      "[LightGBM] [Info] Auto-choosing row-wise multi-threading, the overhead of testing was 0.005313 seconds.\n",
      "You can set `force_row_wise=true` to remove the overhead.\n",
      "And if memory is not enough, you can set `force_col_wise=true`.\n",
      "[LightGBM] [Info] Total Bins 1163\n",
      "[LightGBM] [Info] Number of data points in the train set: 205941, number of used features: 11\n",
      "[LightGBM] [Info] Start training from score 4549.948077\n"
     ]
    },
    {
     "name": "stderr",
     "output_type": "stream",
     "text": [
      "/opt/conda/lib/python3.9/site-packages/sklearn/utils/validation.py:2739: UserWarning: X does not have valid feature names, but LGBMRegressor was fitted with feature names\n",
      "  warnings.warn(\n"
     ]
    },
    {
     "name": "stdout",
     "output_type": "stream",
     "text": [
      "[LightGBM] [Info] Auto-choosing row-wise multi-threading, the overhead of testing was 0.005408 seconds.\n",
      "You can set `force_row_wise=true` to remove the overhead.\n",
      "And if memory is not enough, you can set `force_col_wise=true`.\n",
      "[LightGBM] [Info] Total Bins 1163\n",
      "[LightGBM] [Info] Number of data points in the train set: 205942, number of used features: 11\n",
      "[LightGBM] [Info] Start training from score 4557.101533\n"
     ]
    },
    {
     "name": "stderr",
     "output_type": "stream",
     "text": [
      "/opt/conda/lib/python3.9/site-packages/sklearn/utils/validation.py:2739: UserWarning: X does not have valid feature names, but LGBMRegressor was fitted with feature names\n",
      "  warnings.warn(\n"
     ]
    },
    {
     "name": "stdout",
     "output_type": "stream",
     "text": [
      "[LightGBM] [Info] Auto-choosing row-wise multi-threading, the overhead of testing was 0.005573 seconds.\n",
      "You can set `force_row_wise=true` to remove the overhead.\n",
      "And if memory is not enough, you can set `force_col_wise=true`.\n",
      "[LightGBM] [Info] Total Bins 1163\n",
      "[LightGBM] [Info] Number of data points in the train set: 205942, number of used features: 11\n",
      "[LightGBM] [Info] Start training from score 4559.423173\n"
     ]
    },
    {
     "name": "stderr",
     "output_type": "stream",
     "text": [
      "/opt/conda/lib/python3.9/site-packages/sklearn/utils/validation.py:2739: UserWarning: X does not have valid feature names, but LGBMRegressor was fitted with feature names\n",
      "  warnings.warn(\n"
     ]
    },
    {
     "name": "stdout",
     "output_type": "stream",
     "text": [
      "[LightGBM] [Info] Auto-choosing row-wise multi-threading, the overhead of testing was 0.005778 seconds.\n",
      "You can set `force_row_wise=true` to remove the overhead.\n",
      "And if memory is not enough, you can set `force_col_wise=true`.\n",
      "[LightGBM] [Info] Total Bins 1163\n",
      "[LightGBM] [Info] Number of data points in the train set: 205942, number of used features: 11\n",
      "[LightGBM] [Info] Start training from score 4554.382423\n"
     ]
    },
    {
     "name": "stderr",
     "output_type": "stream",
     "text": [
      "/opt/conda/lib/python3.9/site-packages/sklearn/utils/validation.py:2739: UserWarning: X does not have valid feature names, but LGBMRegressor was fitted with feature names\n",
      "  warnings.warn(\n"
     ]
    },
    {
     "name": "stdout",
     "output_type": "stream",
     "text": [
      "[LightGBM] [Info] Auto-choosing row-wise multi-threading, the overhead of testing was 0.005527 seconds.\n",
      "You can set `force_row_wise=true` to remove the overhead.\n",
      "And if memory is not enough, you can set `force_col_wise=true`.\n",
      "[LightGBM] [Info] Total Bins 1160\n",
      "[LightGBM] [Info] Number of data points in the train set: 205941, number of used features: 11\n",
      "[LightGBM] [Info] Start training from score 4557.207351\n",
      "[LightGBM] [Warning] No further splits with positive gain, best gain: -inf\n",
      "[LightGBM] [Warning] No further splits with positive gain, best gain: -inf\n",
      "[LightGBM] [Warning] No further splits with positive gain, best gain: -inf\n",
      "[LightGBM] [Warning] No further splits with positive gain, best gain: -inf\n",
      "[LightGBM] [Warning] No further splits with positive gain, best gain: -inf\n",
      "[LightGBM] [Warning] No further splits with positive gain, best gain: -inf\n",
      "[LightGBM] [Warning] No further splits with positive gain, best gain: -inf\n",
      "[LightGBM] [Warning] No further splits with positive gain, best gain: -inf\n",
      "[LightGBM] [Warning] No further splits with positive gain, best gain: -inf\n",
      "[LightGBM] [Warning] No further splits with positive gain, best gain: -inf\n",
      "[LightGBM] [Warning] No further splits with positive gain, best gain: -inf\n",
      "[LightGBM] [Warning] No further splits with positive gain, best gain: -inf\n",
      "[LightGBM] [Warning] No further splits with positive gain, best gain: -inf\n",
      "[LightGBM] [Warning] No further splits with positive gain, best gain: -inf\n",
      "[LightGBM] [Warning] No further splits with positive gain, best gain: -inf\n",
      "[LightGBM] [Warning] No further splits with positive gain, best gain: -inf\n",
      "[LightGBM] [Warning] No further splits with positive gain, best gain: -inf\n",
      "[LightGBM] [Warning] No further splits with positive gain, best gain: -inf\n",
      "[LightGBM] [Warning] No further splits with positive gain, best gain: -inf\n",
      "[LightGBM] [Warning] No further splits with positive gain, best gain: -inf\n",
      "[LightGBM] [Warning] No further splits with positive gain, best gain: -inf\n",
      "[LightGBM] [Warning] No further splits with positive gain, best gain: -inf\n",
      "[LightGBM] [Warning] No further splits with positive gain, best gain: -inf\n",
      "[LightGBM] [Warning] No further splits with positive gain, best gain: -inf\n",
      "[LightGBM] [Warning] No further splits with positive gain, best gain: -inf\n",
      "[LightGBM] [Warning] No further splits with positive gain, best gain: -inf\n",
      "[LightGBM] [Warning] No further splits with positive gain, best gain: -inf\n",
      "[LightGBM] [Warning] No further splits with positive gain, best gain: -inf\n",
      "[LightGBM] [Warning] No further splits with positive gain, best gain: -inf\n",
      "[LightGBM] [Warning] No further splits with positive gain, best gain: -inf\n",
      "[LightGBM] [Warning] No further splits with positive gain, best gain: -inf\n",
      "[LightGBM] [Warning] No further splits with positive gain, best gain: -inf\n",
      "[LightGBM] [Warning] No further splits with positive gain, best gain: -inf\n",
      "[LightGBM] [Warning] No further splits with positive gain, best gain: -inf\n",
      "[LightGBM] [Warning] No further splits with positive gain, best gain: -inf\n",
      "[LightGBM] [Warning] No further splits with positive gain, best gain: -inf\n",
      "[LightGBM] [Warning] No further splits with positive gain, best gain: -inf\n",
      "[LightGBM] [Warning] No further splits with positive gain, best gain: -inf\n",
      "[LightGBM] [Warning] No further splits with positive gain, best gain: -inf\n",
      "[LightGBM] [Warning] No further splits with positive gain, best gain: -inf\n",
      "[LightGBM] [Warning] No further splits with positive gain, best gain: -inf\n",
      "[LightGBM] [Warning] No further splits with positive gain, best gain: -inf\n",
      "[LightGBM] [Warning] No further splits with positive gain, best gain: -inf\n",
      "[LightGBM] [Warning] No further splits with positive gain, best gain: -inf\n",
      "[LightGBM] [Warning] No further splits with positive gain, best gain: -inf\n",
      "[LightGBM] [Warning] No further splits with positive gain, best gain: -inf\n",
      "[LightGBM] [Warning] No further splits with positive gain, best gain: -inf\n",
      "[LightGBM] [Warning] No further splits with positive gain, best gain: -inf\n",
      "[LightGBM] [Warning] No further splits with positive gain, best gain: -inf\n",
      "[LightGBM] [Warning] No further splits with positive gain, best gain: -inf\n",
      "[LightGBM] [Warning] No further splits with positive gain, best gain: -inf\n",
      "[LightGBM] [Warning] No further splits with positive gain, best gain: -inf\n",
      "[LightGBM] [Warning] No further splits with positive gain, best gain: -inf\n"
     ]
    },
    {
     "name": "stderr",
     "output_type": "stream",
     "text": [
      "/opt/conda/lib/python3.9/site-packages/sklearn/utils/validation.py:2739: UserWarning: X does not have valid feature names, but LGBMRegressor was fitted with feature names\n",
      "  warnings.warn(\n"
     ]
    },
    {
     "name": "stdout",
     "output_type": "stream",
     "text": [
      "[LightGBM] [Info] Auto-choosing row-wise multi-threading, the overhead of testing was 0.005576 seconds.\n",
      "You can set `force_row_wise=true` to remove the overhead.\n",
      "And if memory is not enough, you can set `force_col_wise=true`.\n",
      "[LightGBM] [Info] Total Bins 1160\n",
      "[LightGBM] [Info] Number of data points in the train set: 205941, number of used features: 11\n",
      "[LightGBM] [Info] Start training from score 4549.948077\n",
      "[LightGBM] [Warning] No further splits with positive gain, best gain: -inf\n",
      "[LightGBM] [Warning] No further splits with positive gain, best gain: -inf\n",
      "[LightGBM] [Warning] No further splits with positive gain, best gain: -inf\n",
      "[LightGBM] [Warning] No further splits with positive gain, best gain: -inf\n",
      "[LightGBM] [Warning] No further splits with positive gain, best gain: -inf\n",
      "[LightGBM] [Warning] No further splits with positive gain, best gain: -inf\n",
      "[LightGBM] [Warning] No further splits with positive gain, best gain: -inf\n",
      "[LightGBM] [Warning] No further splits with positive gain, best gain: -inf\n",
      "[LightGBM] [Warning] No further splits with positive gain, best gain: -inf\n",
      "[LightGBM] [Warning] No further splits with positive gain, best gain: -inf\n",
      "[LightGBM] [Warning] No further splits with positive gain, best gain: -inf\n",
      "[LightGBM] [Warning] No further splits with positive gain, best gain: -inf\n",
      "[LightGBM] [Warning] No further splits with positive gain, best gain: -inf\n",
      "[LightGBM] [Warning] No further splits with positive gain, best gain: -inf\n",
      "[LightGBM] [Warning] No further splits with positive gain, best gain: -inf\n",
      "[LightGBM] [Warning] No further splits with positive gain, best gain: -inf\n",
      "[LightGBM] [Warning] No further splits with positive gain, best gain: -inf\n",
      "[LightGBM] [Warning] No further splits with positive gain, best gain: -inf\n",
      "[LightGBM] [Warning] No further splits with positive gain, best gain: -inf\n",
      "[LightGBM] [Warning] No further splits with positive gain, best gain: -inf\n",
      "[LightGBM] [Warning] No further splits with positive gain, best gain: -inf\n",
      "[LightGBM] [Warning] No further splits with positive gain, best gain: -inf\n",
      "[LightGBM] [Warning] No further splits with positive gain, best gain: -inf\n",
      "[LightGBM] [Warning] No further splits with positive gain, best gain: -inf\n",
      "[LightGBM] [Warning] No further splits with positive gain, best gain: -inf\n",
      "[LightGBM] [Warning] No further splits with positive gain, best gain: -inf\n",
      "[LightGBM] [Warning] No further splits with positive gain, best gain: -inf\n",
      "[LightGBM] [Warning] No further splits with positive gain, best gain: -inf\n",
      "[LightGBM] [Warning] No further splits with positive gain, best gain: -inf\n",
      "[LightGBM] [Warning] No further splits with positive gain, best gain: -inf\n",
      "[LightGBM] [Warning] No further splits with positive gain, best gain: -inf\n",
      "[LightGBM] [Warning] No further splits with positive gain, best gain: -inf\n",
      "[LightGBM] [Warning] No further splits with positive gain, best gain: -inf\n",
      "[LightGBM] [Warning] No further splits with positive gain, best gain: -inf\n",
      "[LightGBM] [Warning] No further splits with positive gain, best gain: -inf\n",
      "[LightGBM] [Warning] No further splits with positive gain, best gain: -inf\n",
      "[LightGBM] [Warning] No further splits with positive gain, best gain: -inf\n",
      "[LightGBM] [Warning] No further splits with positive gain, best gain: -inf\n",
      "[LightGBM] [Warning] No further splits with positive gain, best gain: -inf\n",
      "[LightGBM] [Warning] No further splits with positive gain, best gain: -inf\n",
      "[LightGBM] [Warning] No further splits with positive gain, best gain: -inf\n",
      "[LightGBM] [Warning] No further splits with positive gain, best gain: -inf\n",
      "[LightGBM] [Warning] No further splits with positive gain, best gain: -inf\n",
      "[LightGBM] [Warning] No further splits with positive gain, best gain: -inf\n",
      "[LightGBM] [Warning] No further splits with positive gain, best gain: -inf\n",
      "[LightGBM] [Warning] No further splits with positive gain, best gain: -inf\n",
      "[LightGBM] [Warning] No further splits with positive gain, best gain: -inf\n",
      "[LightGBM] [Warning] No further splits with positive gain, best gain: -inf\n",
      "[LightGBM] [Warning] No further splits with positive gain, best gain: -inf\n",
      "[LightGBM] [Warning] No further splits with positive gain, best gain: -inf\n",
      "[LightGBM] [Warning] No further splits with positive gain, best gain: -inf\n",
      "[LightGBM] [Warning] No further splits with positive gain, best gain: -inf\n",
      "[LightGBM] [Warning] No further splits with positive gain, best gain: -inf\n"
     ]
    },
    {
     "name": "stderr",
     "output_type": "stream",
     "text": [
      "/opt/conda/lib/python3.9/site-packages/sklearn/utils/validation.py:2739: UserWarning: X does not have valid feature names, but LGBMRegressor was fitted with feature names\n",
      "  warnings.warn(\n"
     ]
    },
    {
     "name": "stdout",
     "output_type": "stream",
     "text": [
      "[LightGBM] [Info] Auto-choosing row-wise multi-threading, the overhead of testing was 0.005433 seconds.\n",
      "You can set `force_row_wise=true` to remove the overhead.\n",
      "And if memory is not enough, you can set `force_col_wise=true`.\n",
      "[LightGBM] [Info] Total Bins 1160\n",
      "[LightGBM] [Info] Number of data points in the train set: 205942, number of used features: 11\n",
      "[LightGBM] [Info] Start training from score 4557.101533\n",
      "[LightGBM] [Warning] No further splits with positive gain, best gain: -inf\n",
      "[LightGBM] [Warning] No further splits with positive gain, best gain: -inf\n",
      "[LightGBM] [Warning] No further splits with positive gain, best gain: -inf\n",
      "[LightGBM] [Warning] No further splits with positive gain, best gain: -inf\n",
      "[LightGBM] [Warning] No further splits with positive gain, best gain: -inf\n",
      "[LightGBM] [Warning] No further splits with positive gain, best gain: -inf\n",
      "[LightGBM] [Warning] No further splits with positive gain, best gain: -inf\n",
      "[LightGBM] [Warning] No further splits with positive gain, best gain: -inf\n",
      "[LightGBM] [Warning] No further splits with positive gain, best gain: -inf\n",
      "[LightGBM] [Warning] No further splits with positive gain, best gain: -inf\n",
      "[LightGBM] [Warning] No further splits with positive gain, best gain: -inf\n",
      "[LightGBM] [Warning] No further splits with positive gain, best gain: -inf\n",
      "[LightGBM] [Warning] No further splits with positive gain, best gain: -inf\n",
      "[LightGBM] [Warning] No further splits with positive gain, best gain: -inf\n",
      "[LightGBM] [Warning] No further splits with positive gain, best gain: -inf\n",
      "[LightGBM] [Warning] No further splits with positive gain, best gain: -inf\n",
      "[LightGBM] [Warning] No further splits with positive gain, best gain: -inf\n",
      "[LightGBM] [Warning] No further splits with positive gain, best gain: -inf\n",
      "[LightGBM] [Warning] No further splits with positive gain, best gain: -inf\n",
      "[LightGBM] [Warning] No further splits with positive gain, best gain: -inf\n",
      "[LightGBM] [Warning] No further splits with positive gain, best gain: -inf\n",
      "[LightGBM] [Warning] No further splits with positive gain, best gain: -inf\n",
      "[LightGBM] [Warning] No further splits with positive gain, best gain: -inf\n",
      "[LightGBM] [Warning] No further splits with positive gain, best gain: -inf\n",
      "[LightGBM] [Warning] No further splits with positive gain, best gain: -inf\n",
      "[LightGBM] [Warning] No further splits with positive gain, best gain: -inf\n",
      "[LightGBM] [Warning] No further splits with positive gain, best gain: -inf\n",
      "[LightGBM] [Warning] No further splits with positive gain, best gain: -inf\n",
      "[LightGBM] [Warning] No further splits with positive gain, best gain: -inf\n",
      "[LightGBM] [Warning] No further splits with positive gain, best gain: -inf\n",
      "[LightGBM] [Warning] No further splits with positive gain, best gain: -inf\n",
      "[LightGBM] [Warning] No further splits with positive gain, best gain: -inf\n",
      "[LightGBM] [Warning] No further splits with positive gain, best gain: -inf\n",
      "[LightGBM] [Warning] No further splits with positive gain, best gain: -inf\n",
      "[LightGBM] [Warning] No further splits with positive gain, best gain: -inf\n",
      "[LightGBM] [Warning] No further splits with positive gain, best gain: -inf\n",
      "[LightGBM] [Warning] No further splits with positive gain, best gain: -inf\n",
      "[LightGBM] [Warning] No further splits with positive gain, best gain: -inf\n",
      "[LightGBM] [Warning] No further splits with positive gain, best gain: -inf\n",
      "[LightGBM] [Warning] No further splits with positive gain, best gain: -inf\n",
      "[LightGBM] [Warning] No further splits with positive gain, best gain: -inf\n",
      "[LightGBM] [Warning] No further splits with positive gain, best gain: -inf\n",
      "[LightGBM] [Warning] No further splits with positive gain, best gain: -inf\n",
      "[LightGBM] [Warning] No further splits with positive gain, best gain: -inf\n",
      "[LightGBM] [Warning] No further splits with positive gain, best gain: -inf\n",
      "[LightGBM] [Warning] No further splits with positive gain, best gain: -inf\n",
      "[LightGBM] [Warning] No further splits with positive gain, best gain: -inf\n",
      "[LightGBM] [Warning] No further splits with positive gain, best gain: -inf\n",
      "[LightGBM] [Warning] No further splits with positive gain, best gain: -inf\n",
      "[LightGBM] [Warning] No further splits with positive gain, best gain: -inf\n",
      "[LightGBM] [Warning] No further splits with positive gain, best gain: -inf\n",
      "[LightGBM] [Warning] No further splits with positive gain, best gain: -inf\n",
      "[LightGBM] [Warning] No further splits with positive gain, best gain: -inf\n"
     ]
    },
    {
     "name": "stderr",
     "output_type": "stream",
     "text": [
      "/opt/conda/lib/python3.9/site-packages/sklearn/utils/validation.py:2739: UserWarning: X does not have valid feature names, but LGBMRegressor was fitted with feature names\n",
      "  warnings.warn(\n"
     ]
    },
    {
     "name": "stdout",
     "output_type": "stream",
     "text": [
      "[LightGBM] [Info] Auto-choosing row-wise multi-threading, the overhead of testing was 0.005672 seconds.\n",
      "You can set `force_row_wise=true` to remove the overhead.\n",
      "And if memory is not enough, you can set `force_col_wise=true`.\n",
      "[LightGBM] [Info] Total Bins 1160\n",
      "[LightGBM] [Info] Number of data points in the train set: 205942, number of used features: 11\n",
      "[LightGBM] [Info] Start training from score 4559.423173\n",
      "[LightGBM] [Warning] No further splits with positive gain, best gain: -inf\n",
      "[LightGBM] [Warning] No further splits with positive gain, best gain: -inf\n",
      "[LightGBM] [Warning] No further splits with positive gain, best gain: -inf\n",
      "[LightGBM] [Warning] No further splits with positive gain, best gain: -inf\n",
      "[LightGBM] [Warning] No further splits with positive gain, best gain: -inf\n",
      "[LightGBM] [Warning] No further splits with positive gain, best gain: -inf\n",
      "[LightGBM] [Warning] No further splits with positive gain, best gain: -inf\n",
      "[LightGBM] [Warning] No further splits with positive gain, best gain: -inf\n",
      "[LightGBM] [Warning] No further splits with positive gain, best gain: -inf\n",
      "[LightGBM] [Warning] No further splits with positive gain, best gain: -inf\n",
      "[LightGBM] [Warning] No further splits with positive gain, best gain: -inf\n",
      "[LightGBM] [Warning] No further splits with positive gain, best gain: -inf\n",
      "[LightGBM] [Warning] No further splits with positive gain, best gain: -inf\n",
      "[LightGBM] [Warning] No further splits with positive gain, best gain: -inf\n",
      "[LightGBM] [Warning] No further splits with positive gain, best gain: -inf\n",
      "[LightGBM] [Warning] No further splits with positive gain, best gain: -inf\n",
      "[LightGBM] [Warning] No further splits with positive gain, best gain: -inf\n",
      "[LightGBM] [Warning] No further splits with positive gain, best gain: -inf\n",
      "[LightGBM] [Warning] No further splits with positive gain, best gain: -inf\n",
      "[LightGBM] [Warning] No further splits with positive gain, best gain: -inf\n",
      "[LightGBM] [Warning] No further splits with positive gain, best gain: -inf\n",
      "[LightGBM] [Warning] No further splits with positive gain, best gain: -inf\n",
      "[LightGBM] [Warning] No further splits with positive gain, best gain: -inf\n",
      "[LightGBM] [Warning] No further splits with positive gain, best gain: -inf\n",
      "[LightGBM] [Warning] No further splits with positive gain, best gain: -inf\n",
      "[LightGBM] [Warning] No further splits with positive gain, best gain: -inf\n",
      "[LightGBM] [Warning] No further splits with positive gain, best gain: -inf\n",
      "[LightGBM] [Warning] No further splits with positive gain, best gain: -inf\n",
      "[LightGBM] [Warning] No further splits with positive gain, best gain: -inf\n",
      "[LightGBM] [Warning] No further splits with positive gain, best gain: -inf\n",
      "[LightGBM] [Warning] No further splits with positive gain, best gain: -inf\n",
      "[LightGBM] [Warning] No further splits with positive gain, best gain: -inf\n",
      "[LightGBM] [Warning] No further splits with positive gain, best gain: -inf\n",
      "[LightGBM] [Warning] No further splits with positive gain, best gain: -inf\n",
      "[LightGBM] [Warning] No further splits with positive gain, best gain: -inf\n",
      "[LightGBM] [Warning] No further splits with positive gain, best gain: -inf\n",
      "[LightGBM] [Warning] No further splits with positive gain, best gain: -inf\n",
      "[LightGBM] [Warning] No further splits with positive gain, best gain: -inf\n",
      "[LightGBM] [Warning] No further splits with positive gain, best gain: -inf\n",
      "[LightGBM] [Warning] No further splits with positive gain, best gain: -inf\n",
      "[LightGBM] [Warning] No further splits with positive gain, best gain: -inf\n",
      "[LightGBM] [Warning] No further splits with positive gain, best gain: -inf\n",
      "[LightGBM] [Warning] No further splits with positive gain, best gain: -inf\n",
      "[LightGBM] [Warning] No further splits with positive gain, best gain: -inf\n",
      "[LightGBM] [Warning] No further splits with positive gain, best gain: -inf\n",
      "[LightGBM] [Warning] No further splits with positive gain, best gain: -inf\n",
      "[LightGBM] [Warning] No further splits with positive gain, best gain: -inf\n",
      "[LightGBM] [Warning] No further splits with positive gain, best gain: -inf\n",
      "[LightGBM] [Warning] No further splits with positive gain, best gain: -inf\n",
      "[LightGBM] [Warning] No further splits with positive gain, best gain: -inf\n",
      "[LightGBM] [Warning] No further splits with positive gain, best gain: -inf\n",
      "[LightGBM] [Warning] No further splits with positive gain, best gain: -inf\n",
      "[LightGBM] [Warning] No further splits with positive gain, best gain: -inf\n"
     ]
    },
    {
     "name": "stderr",
     "output_type": "stream",
     "text": [
      "/opt/conda/lib/python3.9/site-packages/sklearn/utils/validation.py:2739: UserWarning: X does not have valid feature names, but LGBMRegressor was fitted with feature names\n",
      "  warnings.warn(\n"
     ]
    },
    {
     "name": "stdout",
     "output_type": "stream",
     "text": [
      "[LightGBM] [Info] Auto-choosing row-wise multi-threading, the overhead of testing was 0.005524 seconds.\n",
      "You can set `force_row_wise=true` to remove the overhead.\n",
      "And if memory is not enough, you can set `force_col_wise=true`.\n",
      "[LightGBM] [Info] Total Bins 1160\n",
      "[LightGBM] [Info] Number of data points in the train set: 205942, number of used features: 11\n",
      "[LightGBM] [Info] Start training from score 4554.382423\n",
      "[LightGBM] [Warning] No further splits with positive gain, best gain: -inf\n",
      "[LightGBM] [Warning] No further splits with positive gain, best gain: -inf\n",
      "[LightGBM] [Warning] No further splits with positive gain, best gain: -inf\n",
      "[LightGBM] [Warning] No further splits with positive gain, best gain: -inf\n",
      "[LightGBM] [Warning] No further splits with positive gain, best gain: -inf\n",
      "[LightGBM] [Warning] No further splits with positive gain, best gain: -inf\n",
      "[LightGBM] [Warning] No further splits with positive gain, best gain: -inf\n",
      "[LightGBM] [Warning] No further splits with positive gain, best gain: -inf\n",
      "[LightGBM] [Warning] No further splits with positive gain, best gain: -inf\n",
      "[LightGBM] [Warning] No further splits with positive gain, best gain: -inf\n",
      "[LightGBM] [Warning] No further splits with positive gain, best gain: -inf\n",
      "[LightGBM] [Warning] No further splits with positive gain, best gain: -inf\n",
      "[LightGBM] [Warning] No further splits with positive gain, best gain: -inf\n",
      "[LightGBM] [Warning] No further splits with positive gain, best gain: -inf\n",
      "[LightGBM] [Warning] No further splits with positive gain, best gain: -inf\n",
      "[LightGBM] [Warning] No further splits with positive gain, best gain: -inf\n",
      "[LightGBM] [Warning] No further splits with positive gain, best gain: -inf\n",
      "[LightGBM] [Warning] No further splits with positive gain, best gain: -inf\n",
      "[LightGBM] [Warning] No further splits with positive gain, best gain: -inf\n",
      "[LightGBM] [Warning] No further splits with positive gain, best gain: -inf\n",
      "[LightGBM] [Warning] No further splits with positive gain, best gain: -inf\n",
      "[LightGBM] [Warning] No further splits with positive gain, best gain: -inf\n",
      "[LightGBM] [Warning] No further splits with positive gain, best gain: -inf\n",
      "[LightGBM] [Warning] No further splits with positive gain, best gain: -inf\n",
      "[LightGBM] [Warning] No further splits with positive gain, best gain: -inf\n",
      "[LightGBM] [Warning] No further splits with positive gain, best gain: -inf\n",
      "[LightGBM] [Warning] No further splits with positive gain, best gain: -inf\n",
      "[LightGBM] [Warning] No further splits with positive gain, best gain: -inf\n",
      "[LightGBM] [Warning] No further splits with positive gain, best gain: -inf\n",
      "[LightGBM] [Warning] No further splits with positive gain, best gain: -inf\n",
      "[LightGBM] [Warning] No further splits with positive gain, best gain: -inf\n",
      "[LightGBM] [Warning] No further splits with positive gain, best gain: -inf\n",
      "[LightGBM] [Warning] No further splits with positive gain, best gain: -inf\n",
      "[LightGBM] [Warning] No further splits with positive gain, best gain: -inf\n",
      "[LightGBM] [Warning] No further splits with positive gain, best gain: -inf\n",
      "[LightGBM] [Warning] No further splits with positive gain, best gain: -inf\n",
      "[LightGBM] [Warning] No further splits with positive gain, best gain: -inf\n",
      "[LightGBM] [Warning] No further splits with positive gain, best gain: -inf\n",
      "[LightGBM] [Warning] No further splits with positive gain, best gain: -inf\n",
      "[LightGBM] [Warning] No further splits with positive gain, best gain: -inf\n",
      "[LightGBM] [Warning] No further splits with positive gain, best gain: -inf\n",
      "[LightGBM] [Warning] No further splits with positive gain, best gain: -inf\n",
      "[LightGBM] [Warning] No further splits with positive gain, best gain: -inf\n",
      "[LightGBM] [Warning] No further splits with positive gain, best gain: -inf\n",
      "[LightGBM] [Warning] No further splits with positive gain, best gain: -inf\n",
      "[LightGBM] [Warning] No further splits with positive gain, best gain: -inf\n",
      "[LightGBM] [Warning] No further splits with positive gain, best gain: -inf\n",
      "[LightGBM] [Warning] No further splits with positive gain, best gain: -inf\n",
      "[LightGBM] [Warning] No further splits with positive gain, best gain: -inf\n",
      "[LightGBM] [Warning] No further splits with positive gain, best gain: -inf\n",
      "[LightGBM] [Warning] No further splits with positive gain, best gain: -inf\n",
      "[LightGBM] [Warning] No further splits with positive gain, best gain: -inf\n",
      "[LightGBM] [Warning] No further splits with positive gain, best gain: -inf\n"
     ]
    },
    {
     "name": "stderr",
     "output_type": "stream",
     "text": [
      "/opt/conda/lib/python3.9/site-packages/sklearn/utils/validation.py:2739: UserWarning: X does not have valid feature names, but LGBMRegressor was fitted with feature names\n",
      "  warnings.warn(\n"
     ]
    },
    {
     "name": "stdout",
     "output_type": "stream",
     "text": [
      "[LightGBM] [Info] Auto-choosing row-wise multi-threading, the overhead of testing was 0.005814 seconds.\n",
      "You can set `force_row_wise=true` to remove the overhead.\n",
      "And if memory is not enough, you can set `force_col_wise=true`.\n",
      "[LightGBM] [Info] Total Bins 1162\n",
      "[LightGBM] [Info] Number of data points in the train set: 205941, number of used features: 11\n",
      "[LightGBM] [Info] Start training from score 4557.207351\n"
     ]
    },
    {
     "name": "stderr",
     "output_type": "stream",
     "text": [
      "/opt/conda/lib/python3.9/site-packages/sklearn/utils/validation.py:2739: UserWarning: X does not have valid feature names, but LGBMRegressor was fitted with feature names\n",
      "  warnings.warn(\n"
     ]
    },
    {
     "name": "stdout",
     "output_type": "stream",
     "text": [
      "[LightGBM] [Info] Auto-choosing row-wise multi-threading, the overhead of testing was 0.005412 seconds.\n",
      "You can set `force_row_wise=true` to remove the overhead.\n",
      "And if memory is not enough, you can set `force_col_wise=true`.\n",
      "[LightGBM] [Info] Total Bins 1162\n",
      "[LightGBM] [Info] Number of data points in the train set: 205941, number of used features: 11\n",
      "[LightGBM] [Info] Start training from score 4549.948077\n"
     ]
    },
    {
     "name": "stderr",
     "output_type": "stream",
     "text": [
      "/opt/conda/lib/python3.9/site-packages/sklearn/utils/validation.py:2739: UserWarning: X does not have valid feature names, but LGBMRegressor was fitted with feature names\n",
      "  warnings.warn(\n"
     ]
    },
    {
     "name": "stdout",
     "output_type": "stream",
     "text": [
      "[LightGBM] [Info] Auto-choosing row-wise multi-threading, the overhead of testing was 0.005932 seconds.\n",
      "You can set `force_row_wise=true` to remove the overhead.\n",
      "And if memory is not enough, you can set `force_col_wise=true`.\n",
      "[LightGBM] [Info] Total Bins 1162\n",
      "[LightGBM] [Info] Number of data points in the train set: 205942, number of used features: 11\n",
      "[LightGBM] [Info] Start training from score 4557.101533\n"
     ]
    },
    {
     "name": "stderr",
     "output_type": "stream",
     "text": [
      "/opt/conda/lib/python3.9/site-packages/sklearn/utils/validation.py:2739: UserWarning: X does not have valid feature names, but LGBMRegressor was fitted with feature names\n",
      "  warnings.warn(\n"
     ]
    },
    {
     "name": "stdout",
     "output_type": "stream",
     "text": [
      "[LightGBM] [Info] Auto-choosing row-wise multi-threading, the overhead of testing was 0.005906 seconds.\n",
      "You can set `force_row_wise=true` to remove the overhead.\n",
      "And if memory is not enough, you can set `force_col_wise=true`.\n",
      "[LightGBM] [Info] Total Bins 1162\n",
      "[LightGBM] [Info] Number of data points in the train set: 205942, number of used features: 11\n",
      "[LightGBM] [Info] Start training from score 4559.423173\n"
     ]
    },
    {
     "name": "stderr",
     "output_type": "stream",
     "text": [
      "/opt/conda/lib/python3.9/site-packages/sklearn/utils/validation.py:2739: UserWarning: X does not have valid feature names, but LGBMRegressor was fitted with feature names\n",
      "  warnings.warn(\n"
     ]
    },
    {
     "name": "stdout",
     "output_type": "stream",
     "text": [
      "[LightGBM] [Info] Auto-choosing col-wise multi-threading, the overhead of testing was 0.018769 seconds.\n",
      "You can set `force_col_wise=true` to remove the overhead.\n",
      "[LightGBM] [Info] Total Bins 1162\n",
      "[LightGBM] [Info] Number of data points in the train set: 205942, number of used features: 11\n",
      "[LightGBM] [Info] Start training from score 4554.382423\n"
     ]
    },
    {
     "name": "stderr",
     "output_type": "stream",
     "text": [
      "/opt/conda/lib/python3.9/site-packages/sklearn/utils/validation.py:2739: UserWarning: X does not have valid feature names, but LGBMRegressor was fitted with feature names\n",
      "  warnings.warn(\n"
     ]
    },
    {
     "name": "stdout",
     "output_type": "stream",
     "text": [
      "[LightGBM] [Info] Auto-choosing row-wise multi-threading, the overhead of testing was 0.006877 seconds.\n",
      "You can set `force_row_wise=true` to remove the overhead.\n",
      "And if memory is not enough, you can set `force_col_wise=true`.\n",
      "[LightGBM] [Info] Total Bins 1164\n",
      "[LightGBM] [Info] Number of data points in the train set: 257427, number of used features: 11\n",
      "[LightGBM] [Info] Start training from score 4555.612515\n"
     ]
    },
    {
     "data": {
      "text/html": [
       "<style>#sk-container-id-1 {\n",
       "  /* Definition of color scheme common for light and dark mode */\n",
       "  --sklearn-color-text: #000;\n",
       "  --sklearn-color-text-muted: #666;\n",
       "  --sklearn-color-line: gray;\n",
       "  /* Definition of color scheme for unfitted estimators */\n",
       "  --sklearn-color-unfitted-level-0: #fff5e6;\n",
       "  --sklearn-color-unfitted-level-1: #f6e4d2;\n",
       "  --sklearn-color-unfitted-level-2: #ffe0b3;\n",
       "  --sklearn-color-unfitted-level-3: chocolate;\n",
       "  /* Definition of color scheme for fitted estimators */\n",
       "  --sklearn-color-fitted-level-0: #f0f8ff;\n",
       "  --sklearn-color-fitted-level-1: #d4ebff;\n",
       "  --sklearn-color-fitted-level-2: #b3dbfd;\n",
       "  --sklearn-color-fitted-level-3: cornflowerblue;\n",
       "\n",
       "  /* Specific color for light theme */\n",
       "  --sklearn-color-text-on-default-background: var(--sg-text-color, var(--theme-code-foreground, var(--jp-content-font-color1, black)));\n",
       "  --sklearn-color-background: var(--sg-background-color, var(--theme-background, var(--jp-layout-color0, white)));\n",
       "  --sklearn-color-border-box: var(--sg-text-color, var(--theme-code-foreground, var(--jp-content-font-color1, black)));\n",
       "  --sklearn-color-icon: #696969;\n",
       "\n",
       "  @media (prefers-color-scheme: dark) {\n",
       "    /* Redefinition of color scheme for dark theme */\n",
       "    --sklearn-color-text-on-default-background: var(--sg-text-color, var(--theme-code-foreground, var(--jp-content-font-color1, white)));\n",
       "    --sklearn-color-background: var(--sg-background-color, var(--theme-background, var(--jp-layout-color0, #111)));\n",
       "    --sklearn-color-border-box: var(--sg-text-color, var(--theme-code-foreground, var(--jp-content-font-color1, white)));\n",
       "    --sklearn-color-icon: #878787;\n",
       "  }\n",
       "}\n",
       "\n",
       "#sk-container-id-1 {\n",
       "  color: var(--sklearn-color-text);\n",
       "}\n",
       "\n",
       "#sk-container-id-1 pre {\n",
       "  padding: 0;\n",
       "}\n",
       "\n",
       "#sk-container-id-1 input.sk-hidden--visually {\n",
       "  border: 0;\n",
       "  clip: rect(1px 1px 1px 1px);\n",
       "  clip: rect(1px, 1px, 1px, 1px);\n",
       "  height: 1px;\n",
       "  margin: -1px;\n",
       "  overflow: hidden;\n",
       "  padding: 0;\n",
       "  position: absolute;\n",
       "  width: 1px;\n",
       "}\n",
       "\n",
       "#sk-container-id-1 div.sk-dashed-wrapped {\n",
       "  border: 1px dashed var(--sklearn-color-line);\n",
       "  margin: 0 0.4em 0.5em 0.4em;\n",
       "  box-sizing: border-box;\n",
       "  padding-bottom: 0.4em;\n",
       "  background-color: var(--sklearn-color-background);\n",
       "}\n",
       "\n",
       "#sk-container-id-1 div.sk-container {\n",
       "  /* jupyter's `normalize.less` sets `[hidden] { display: none; }`\n",
       "     but bootstrap.min.css set `[hidden] { display: none !important; }`\n",
       "     so we also need the `!important` here to be able to override the\n",
       "     default hidden behavior on the sphinx rendered scikit-learn.org.\n",
       "     See: https://github.com/scikit-learn/scikit-learn/issues/21755 */\n",
       "  display: inline-block !important;\n",
       "  position: relative;\n",
       "}\n",
       "\n",
       "#sk-container-id-1 div.sk-text-repr-fallback {\n",
       "  display: none;\n",
       "}\n",
       "\n",
       "div.sk-parallel-item,\n",
       "div.sk-serial,\n",
       "div.sk-item {\n",
       "  /* draw centered vertical line to link estimators */\n",
       "  background-image: linear-gradient(var(--sklearn-color-text-on-default-background), var(--sklearn-color-text-on-default-background));\n",
       "  background-size: 2px 100%;\n",
       "  background-repeat: no-repeat;\n",
       "  background-position: center center;\n",
       "}\n",
       "\n",
       "/* Parallel-specific style estimator block */\n",
       "\n",
       "#sk-container-id-1 div.sk-parallel-item::after {\n",
       "  content: \"\";\n",
       "  width: 100%;\n",
       "  border-bottom: 2px solid var(--sklearn-color-text-on-default-background);\n",
       "  flex-grow: 1;\n",
       "}\n",
       "\n",
       "#sk-container-id-1 div.sk-parallel {\n",
       "  display: flex;\n",
       "  align-items: stretch;\n",
       "  justify-content: center;\n",
       "  background-color: var(--sklearn-color-background);\n",
       "  position: relative;\n",
       "}\n",
       "\n",
       "#sk-container-id-1 div.sk-parallel-item {\n",
       "  display: flex;\n",
       "  flex-direction: column;\n",
       "}\n",
       "\n",
       "#sk-container-id-1 div.sk-parallel-item:first-child::after {\n",
       "  align-self: flex-end;\n",
       "  width: 50%;\n",
       "}\n",
       "\n",
       "#sk-container-id-1 div.sk-parallel-item:last-child::after {\n",
       "  align-self: flex-start;\n",
       "  width: 50%;\n",
       "}\n",
       "\n",
       "#sk-container-id-1 div.sk-parallel-item:only-child::after {\n",
       "  width: 0;\n",
       "}\n",
       "\n",
       "/* Serial-specific style estimator block */\n",
       "\n",
       "#sk-container-id-1 div.sk-serial {\n",
       "  display: flex;\n",
       "  flex-direction: column;\n",
       "  align-items: center;\n",
       "  background-color: var(--sklearn-color-background);\n",
       "  padding-right: 1em;\n",
       "  padding-left: 1em;\n",
       "}\n",
       "\n",
       "\n",
       "/* Toggleable style: style used for estimator/Pipeline/ColumnTransformer box that is\n",
       "clickable and can be expanded/collapsed.\n",
       "- Pipeline and ColumnTransformer use this feature and define the default style\n",
       "- Estimators will overwrite some part of the style using the `sk-estimator` class\n",
       "*/\n",
       "\n",
       "/* Pipeline and ColumnTransformer style (default) */\n",
       "\n",
       "#sk-container-id-1 div.sk-toggleable {\n",
       "  /* Default theme specific background. It is overwritten whether we have a\n",
       "  specific estimator or a Pipeline/ColumnTransformer */\n",
       "  background-color: var(--sklearn-color-background);\n",
       "}\n",
       "\n",
       "/* Toggleable label */\n",
       "#sk-container-id-1 label.sk-toggleable__label {\n",
       "  cursor: pointer;\n",
       "  display: flex;\n",
       "  width: 100%;\n",
       "  margin-bottom: 0;\n",
       "  padding: 0.5em;\n",
       "  box-sizing: border-box;\n",
       "  text-align: center;\n",
       "  align-items: start;\n",
       "  justify-content: space-between;\n",
       "  gap: 0.5em;\n",
       "}\n",
       "\n",
       "#sk-container-id-1 label.sk-toggleable__label .caption {\n",
       "  font-size: 0.6rem;\n",
       "  font-weight: lighter;\n",
       "  color: var(--sklearn-color-text-muted);\n",
       "}\n",
       "\n",
       "#sk-container-id-1 label.sk-toggleable__label-arrow:before {\n",
       "  /* Arrow on the left of the label */\n",
       "  content: \"▸\";\n",
       "  float: left;\n",
       "  margin-right: 0.25em;\n",
       "  color: var(--sklearn-color-icon);\n",
       "}\n",
       "\n",
       "#sk-container-id-1 label.sk-toggleable__label-arrow:hover:before {\n",
       "  color: var(--sklearn-color-text);\n",
       "}\n",
       "\n",
       "/* Toggleable content - dropdown */\n",
       "\n",
       "#sk-container-id-1 div.sk-toggleable__content {\n",
       "  max-height: 0;\n",
       "  max-width: 0;\n",
       "  overflow: hidden;\n",
       "  text-align: left;\n",
       "  /* unfitted */\n",
       "  background-color: var(--sklearn-color-unfitted-level-0);\n",
       "}\n",
       "\n",
       "#sk-container-id-1 div.sk-toggleable__content.fitted {\n",
       "  /* fitted */\n",
       "  background-color: var(--sklearn-color-fitted-level-0);\n",
       "}\n",
       "\n",
       "#sk-container-id-1 div.sk-toggleable__content pre {\n",
       "  margin: 0.2em;\n",
       "  border-radius: 0.25em;\n",
       "  color: var(--sklearn-color-text);\n",
       "  /* unfitted */\n",
       "  background-color: var(--sklearn-color-unfitted-level-0);\n",
       "}\n",
       "\n",
       "#sk-container-id-1 div.sk-toggleable__content.fitted pre {\n",
       "  /* unfitted */\n",
       "  background-color: var(--sklearn-color-fitted-level-0);\n",
       "}\n",
       "\n",
       "#sk-container-id-1 input.sk-toggleable__control:checked~div.sk-toggleable__content {\n",
       "  /* Expand drop-down */\n",
       "  max-height: 200px;\n",
       "  max-width: 100%;\n",
       "  overflow: auto;\n",
       "}\n",
       "\n",
       "#sk-container-id-1 input.sk-toggleable__control:checked~label.sk-toggleable__label-arrow:before {\n",
       "  content: \"▾\";\n",
       "}\n",
       "\n",
       "/* Pipeline/ColumnTransformer-specific style */\n",
       "\n",
       "#sk-container-id-1 div.sk-label input.sk-toggleable__control:checked~label.sk-toggleable__label {\n",
       "  color: var(--sklearn-color-text);\n",
       "  background-color: var(--sklearn-color-unfitted-level-2);\n",
       "}\n",
       "\n",
       "#sk-container-id-1 div.sk-label.fitted input.sk-toggleable__control:checked~label.sk-toggleable__label {\n",
       "  background-color: var(--sklearn-color-fitted-level-2);\n",
       "}\n",
       "\n",
       "/* Estimator-specific style */\n",
       "\n",
       "/* Colorize estimator box */\n",
       "#sk-container-id-1 div.sk-estimator input.sk-toggleable__control:checked~label.sk-toggleable__label {\n",
       "  /* unfitted */\n",
       "  background-color: var(--sklearn-color-unfitted-level-2);\n",
       "}\n",
       "\n",
       "#sk-container-id-1 div.sk-estimator.fitted input.sk-toggleable__control:checked~label.sk-toggleable__label {\n",
       "  /* fitted */\n",
       "  background-color: var(--sklearn-color-fitted-level-2);\n",
       "}\n",
       "\n",
       "#sk-container-id-1 div.sk-label label.sk-toggleable__label,\n",
       "#sk-container-id-1 div.sk-label label {\n",
       "  /* The background is the default theme color */\n",
       "  color: var(--sklearn-color-text-on-default-background);\n",
       "}\n",
       "\n",
       "/* On hover, darken the color of the background */\n",
       "#sk-container-id-1 div.sk-label:hover label.sk-toggleable__label {\n",
       "  color: var(--sklearn-color-text);\n",
       "  background-color: var(--sklearn-color-unfitted-level-2);\n",
       "}\n",
       "\n",
       "/* Label box, darken color on hover, fitted */\n",
       "#sk-container-id-1 div.sk-label.fitted:hover label.sk-toggleable__label.fitted {\n",
       "  color: var(--sklearn-color-text);\n",
       "  background-color: var(--sklearn-color-fitted-level-2);\n",
       "}\n",
       "\n",
       "/* Estimator label */\n",
       "\n",
       "#sk-container-id-1 div.sk-label label {\n",
       "  font-family: monospace;\n",
       "  font-weight: bold;\n",
       "  display: inline-block;\n",
       "  line-height: 1.2em;\n",
       "}\n",
       "\n",
       "#sk-container-id-1 div.sk-label-container {\n",
       "  text-align: center;\n",
       "}\n",
       "\n",
       "/* Estimator-specific */\n",
       "#sk-container-id-1 div.sk-estimator {\n",
       "  font-family: monospace;\n",
       "  border: 1px dotted var(--sklearn-color-border-box);\n",
       "  border-radius: 0.25em;\n",
       "  box-sizing: border-box;\n",
       "  margin-bottom: 0.5em;\n",
       "  /* unfitted */\n",
       "  background-color: var(--sklearn-color-unfitted-level-0);\n",
       "}\n",
       "\n",
       "#sk-container-id-1 div.sk-estimator.fitted {\n",
       "  /* fitted */\n",
       "  background-color: var(--sklearn-color-fitted-level-0);\n",
       "}\n",
       "\n",
       "/* on hover */\n",
       "#sk-container-id-1 div.sk-estimator:hover {\n",
       "  /* unfitted */\n",
       "  background-color: var(--sklearn-color-unfitted-level-2);\n",
       "}\n",
       "\n",
       "#sk-container-id-1 div.sk-estimator.fitted:hover {\n",
       "  /* fitted */\n",
       "  background-color: var(--sklearn-color-fitted-level-2);\n",
       "}\n",
       "\n",
       "/* Specification for estimator info (e.g. \"i\" and \"?\") */\n",
       "\n",
       "/* Common style for \"i\" and \"?\" */\n",
       "\n",
       ".sk-estimator-doc-link,\n",
       "a:link.sk-estimator-doc-link,\n",
       "a:visited.sk-estimator-doc-link {\n",
       "  float: right;\n",
       "  font-size: smaller;\n",
       "  line-height: 1em;\n",
       "  font-family: monospace;\n",
       "  background-color: var(--sklearn-color-background);\n",
       "  border-radius: 1em;\n",
       "  height: 1em;\n",
       "  width: 1em;\n",
       "  text-decoration: none !important;\n",
       "  margin-left: 0.5em;\n",
       "  text-align: center;\n",
       "  /* unfitted */\n",
       "  border: var(--sklearn-color-unfitted-level-1) 1pt solid;\n",
       "  color: var(--sklearn-color-unfitted-level-1);\n",
       "}\n",
       "\n",
       ".sk-estimator-doc-link.fitted,\n",
       "a:link.sk-estimator-doc-link.fitted,\n",
       "a:visited.sk-estimator-doc-link.fitted {\n",
       "  /* fitted */\n",
       "  border: var(--sklearn-color-fitted-level-1) 1pt solid;\n",
       "  color: var(--sklearn-color-fitted-level-1);\n",
       "}\n",
       "\n",
       "/* On hover */\n",
       "div.sk-estimator:hover .sk-estimator-doc-link:hover,\n",
       ".sk-estimator-doc-link:hover,\n",
       "div.sk-label-container:hover .sk-estimator-doc-link:hover,\n",
       ".sk-estimator-doc-link:hover {\n",
       "  /* unfitted */\n",
       "  background-color: var(--sklearn-color-unfitted-level-3);\n",
       "  color: var(--sklearn-color-background);\n",
       "  text-decoration: none;\n",
       "}\n",
       "\n",
       "div.sk-estimator.fitted:hover .sk-estimator-doc-link.fitted:hover,\n",
       ".sk-estimator-doc-link.fitted:hover,\n",
       "div.sk-label-container:hover .sk-estimator-doc-link.fitted:hover,\n",
       ".sk-estimator-doc-link.fitted:hover {\n",
       "  /* fitted */\n",
       "  background-color: var(--sklearn-color-fitted-level-3);\n",
       "  color: var(--sklearn-color-background);\n",
       "  text-decoration: none;\n",
       "}\n",
       "\n",
       "/* Span, style for the box shown on hovering the info icon */\n",
       ".sk-estimator-doc-link span {\n",
       "  display: none;\n",
       "  z-index: 9999;\n",
       "  position: relative;\n",
       "  font-weight: normal;\n",
       "  right: .2ex;\n",
       "  padding: .5ex;\n",
       "  margin: .5ex;\n",
       "  width: min-content;\n",
       "  min-width: 20ex;\n",
       "  max-width: 50ex;\n",
       "  color: var(--sklearn-color-text);\n",
       "  box-shadow: 2pt 2pt 4pt #999;\n",
       "  /* unfitted */\n",
       "  background: var(--sklearn-color-unfitted-level-0);\n",
       "  border: .5pt solid var(--sklearn-color-unfitted-level-3);\n",
       "}\n",
       "\n",
       ".sk-estimator-doc-link.fitted span {\n",
       "  /* fitted */\n",
       "  background: var(--sklearn-color-fitted-level-0);\n",
       "  border: var(--sklearn-color-fitted-level-3);\n",
       "}\n",
       "\n",
       ".sk-estimator-doc-link:hover span {\n",
       "  display: block;\n",
       "}\n",
       "\n",
       "/* \"?\"-specific style due to the `<a>` HTML tag */\n",
       "\n",
       "#sk-container-id-1 a.estimator_doc_link {\n",
       "  float: right;\n",
       "  font-size: 1rem;\n",
       "  line-height: 1em;\n",
       "  font-family: monospace;\n",
       "  background-color: var(--sklearn-color-background);\n",
       "  border-radius: 1rem;\n",
       "  height: 1rem;\n",
       "  width: 1rem;\n",
       "  text-decoration: none;\n",
       "  /* unfitted */\n",
       "  color: var(--sklearn-color-unfitted-level-1);\n",
       "  border: var(--sklearn-color-unfitted-level-1) 1pt solid;\n",
       "}\n",
       "\n",
       "#sk-container-id-1 a.estimator_doc_link.fitted {\n",
       "  /* fitted */\n",
       "  border: var(--sklearn-color-fitted-level-1) 1pt solid;\n",
       "  color: var(--sklearn-color-fitted-level-1);\n",
       "}\n",
       "\n",
       "/* On hover */\n",
       "#sk-container-id-1 a.estimator_doc_link:hover {\n",
       "  /* unfitted */\n",
       "  background-color: var(--sklearn-color-unfitted-level-3);\n",
       "  color: var(--sklearn-color-background);\n",
       "  text-decoration: none;\n",
       "}\n",
       "\n",
       "#sk-container-id-1 a.estimator_doc_link.fitted:hover {\n",
       "  /* fitted */\n",
       "  background-color: var(--sklearn-color-fitted-level-3);\n",
       "}\n",
       "</style><div id=\"sk-container-id-1\" class=\"sk-top-container\"><div class=\"sk-text-repr-fallback\"><pre>RandomizedSearchCV(cv=5,\n",
       "                   estimator=Pipeline(steps=[(&#x27;preprocessor&#x27;,\n",
       "                                              ColumnTransformer(remainder=&#x27;passthrough&#x27;,\n",
       "                                                                transformers=[(&#x27;te&#x27;,\n",
       "                                                                               Pipeline(steps=[(&#x27;simpleImputer_te&#x27;,\n",
       "                                                                                                SimpleImputer(strategy=&#x27;most_frequent&#x27;)),\n",
       "                                                                                               (&#x27;te&#x27;,\n",
       "                                                                                                TargetEncoder(target_type=&#x27;continuous&#x27;))]),\n",
       "                                                                               [&#x27;vehicle_type&#x27;,\n",
       "                                                                                &#x27;gearbox&#x27;,\n",
       "                                                                                &#x27;model&#x27;,\n",
       "                                                                                &#x27;fuel_type&#x27;,\n",
       "                                                                                &#x27;brand&#x27;,\n",
       "                                                                                &#x27;repaired&#x27;]),\n",
       "                                                                              (&#x27;num&#x27;,\n",
       "                                                                               MinMaxScaler(),\n",
       "                                                                               [&#x27;regis...\n",
       "                                         &#x27;preprocessor__num&#x27;: [StandardScaler(),\n",
       "                                                               MinMaxScaler(),\n",
       "                                                               &#x27;passthrough&#x27;]},\n",
       "                                        {&#x27;models&#x27;: [DecisionTreeRegressor(random_state=42)],\n",
       "                                         &#x27;models__max_depth&#x27;: range(2, 15),\n",
       "                                         &#x27;models__max_features&#x27;: range(2, 15),\n",
       "                                         &#x27;preprocessor__num&#x27;: [StandardScaler(),\n",
       "                                                               MinMaxScaler(),\n",
       "                                                               &#x27;passthrough&#x27;]}],\n",
       "                   random_state=42,\n",
       "                   scoring=make_scorer(root_mean_squared_error, greater_is_better=False, response_method=&#x27;predict&#x27;))</pre><b>In a Jupyter environment, please rerun this cell to show the HTML representation or trust the notebook. <br />On GitHub, the HTML representation is unable to render, please try loading this page with nbviewer.org.</b></div><div class=\"sk-container\" hidden><div class=\"sk-item sk-dashed-wrapped\"><div class=\"sk-label-container\"><div class=\"sk-label fitted sk-toggleable\"><input class=\"sk-toggleable__control sk-hidden--visually\" id=\"sk-estimator-id-1\" type=\"checkbox\" ><label for=\"sk-estimator-id-1\" class=\"sk-toggleable__label fitted sk-toggleable__label-arrow\"><div><div>RandomizedSearchCV</div></div><div><a class=\"sk-estimator-doc-link fitted\" rel=\"noreferrer\" target=\"_blank\" href=\"https://scikit-learn.org/1.6/modules/generated/sklearn.model_selection.RandomizedSearchCV.html\">?<span>Documentation for RandomizedSearchCV</span></a><span class=\"sk-estimator-doc-link fitted\">i<span>Fitted</span></span></div></label><div class=\"sk-toggleable__content fitted\"><pre>RandomizedSearchCV(cv=5,\n",
       "                   estimator=Pipeline(steps=[(&#x27;preprocessor&#x27;,\n",
       "                                              ColumnTransformer(remainder=&#x27;passthrough&#x27;,\n",
       "                                                                transformers=[(&#x27;te&#x27;,\n",
       "                                                                               Pipeline(steps=[(&#x27;simpleImputer_te&#x27;,\n",
       "                                                                                                SimpleImputer(strategy=&#x27;most_frequent&#x27;)),\n",
       "                                                                                               (&#x27;te&#x27;,\n",
       "                                                                                                TargetEncoder(target_type=&#x27;continuous&#x27;))]),\n",
       "                                                                               [&#x27;vehicle_type&#x27;,\n",
       "                                                                                &#x27;gearbox&#x27;,\n",
       "                                                                                &#x27;model&#x27;,\n",
       "                                                                                &#x27;fuel_type&#x27;,\n",
       "                                                                                &#x27;brand&#x27;,\n",
       "                                                                                &#x27;repaired&#x27;]),\n",
       "                                                                              (&#x27;num&#x27;,\n",
       "                                                                               MinMaxScaler(),\n",
       "                                                                               [&#x27;regis...\n",
       "                                         &#x27;preprocessor__num&#x27;: [StandardScaler(),\n",
       "                                                               MinMaxScaler(),\n",
       "                                                               &#x27;passthrough&#x27;]},\n",
       "                                        {&#x27;models&#x27;: [DecisionTreeRegressor(random_state=42)],\n",
       "                                         &#x27;models__max_depth&#x27;: range(2, 15),\n",
       "                                         &#x27;models__max_features&#x27;: range(2, 15),\n",
       "                                         &#x27;preprocessor__num&#x27;: [StandardScaler(),\n",
       "                                                               MinMaxScaler(),\n",
       "                                                               &#x27;passthrough&#x27;]}],\n",
       "                   random_state=42,\n",
       "                   scoring=make_scorer(root_mean_squared_error, greater_is_better=False, response_method=&#x27;predict&#x27;))</pre></div> </div></div><div class=\"sk-parallel\"><div class=\"sk-parallel-item\"><div class=\"sk-item\"><div class=\"sk-label-container\"><div class=\"sk-label fitted sk-toggleable\"><input class=\"sk-toggleable__control sk-hidden--visually\" id=\"sk-estimator-id-2\" type=\"checkbox\" ><label for=\"sk-estimator-id-2\" class=\"sk-toggleable__label fitted sk-toggleable__label-arrow\"><div><div>best_estimator_: Pipeline</div></div></label><div class=\"sk-toggleable__content fitted\"><pre>Pipeline(steps=[(&#x27;preprocessor&#x27;,\n",
       "                 ColumnTransformer(remainder=&#x27;passthrough&#x27;,\n",
       "                                   transformers=[(&#x27;te&#x27;,\n",
       "                                                  Pipeline(steps=[(&#x27;simpleImputer_te&#x27;,\n",
       "                                                                   SimpleImputer(strategy=&#x27;most_frequent&#x27;)),\n",
       "                                                                  (&#x27;te&#x27;,\n",
       "                                                                   TargetEncoder(target_type=&#x27;continuous&#x27;))]),\n",
       "                                                  [&#x27;vehicle_type&#x27;, &#x27;gearbox&#x27;,\n",
       "                                                   &#x27;model&#x27;, &#x27;fuel_type&#x27;,\n",
       "                                                   &#x27;brand&#x27;, &#x27;repaired&#x27;]),\n",
       "                                                 (&#x27;num&#x27;, StandardScaler(),\n",
       "                                                  [&#x27;registration_year&#x27;, &#x27;power&#x27;,\n",
       "                                                   &#x27;kilometer&#x27;,\n",
       "                                                   &#x27;registration_month&#x27;,\n",
       "                                                   &#x27;number_of_pictures&#x27;,\n",
       "                                                   &#x27;postal_code&#x27;])])),\n",
       "                (&#x27;models&#x27;, LGBMRegressor(max_depth=12, n_estimators=83))])</pre></div> </div></div><div class=\"sk-serial\"><div class=\"sk-item\"><div class=\"sk-serial\"><div class=\"sk-item sk-dashed-wrapped\"><div class=\"sk-label-container\"><div class=\"sk-label fitted sk-toggleable\"><input class=\"sk-toggleable__control sk-hidden--visually\" id=\"sk-estimator-id-3\" type=\"checkbox\" ><label for=\"sk-estimator-id-3\" class=\"sk-toggleable__label fitted sk-toggleable__label-arrow\"><div><div>preprocessor: ColumnTransformer</div></div><div><a class=\"sk-estimator-doc-link fitted\" rel=\"noreferrer\" target=\"_blank\" href=\"https://scikit-learn.org/1.6/modules/generated/sklearn.compose.ColumnTransformer.html\">?<span>Documentation for preprocessor: ColumnTransformer</span></a></div></label><div class=\"sk-toggleable__content fitted\"><pre>ColumnTransformer(remainder=&#x27;passthrough&#x27;,\n",
       "                  transformers=[(&#x27;te&#x27;,\n",
       "                                 Pipeline(steps=[(&#x27;simpleImputer_te&#x27;,\n",
       "                                                  SimpleImputer(strategy=&#x27;most_frequent&#x27;)),\n",
       "                                                 (&#x27;te&#x27;,\n",
       "                                                  TargetEncoder(target_type=&#x27;continuous&#x27;))]),\n",
       "                                 [&#x27;vehicle_type&#x27;, &#x27;gearbox&#x27;, &#x27;model&#x27;,\n",
       "                                  &#x27;fuel_type&#x27;, &#x27;brand&#x27;, &#x27;repaired&#x27;]),\n",
       "                                (&#x27;num&#x27;, StandardScaler(),\n",
       "                                 [&#x27;registration_year&#x27;, &#x27;power&#x27;, &#x27;kilometer&#x27;,\n",
       "                                  &#x27;registration_month&#x27;, &#x27;number_of_pictures&#x27;,\n",
       "                                  &#x27;postal_code&#x27;])])</pre></div> </div></div><div class=\"sk-parallel\"><div class=\"sk-parallel-item\"><div class=\"sk-item\"><div class=\"sk-label-container\"><div class=\"sk-label fitted sk-toggleable\"><input class=\"sk-toggleable__control sk-hidden--visually\" id=\"sk-estimator-id-4\" type=\"checkbox\" ><label for=\"sk-estimator-id-4\" class=\"sk-toggleable__label fitted sk-toggleable__label-arrow\"><div><div>te</div></div></label><div class=\"sk-toggleable__content fitted\"><pre>[&#x27;vehicle_type&#x27;, &#x27;gearbox&#x27;, &#x27;model&#x27;, &#x27;fuel_type&#x27;, &#x27;brand&#x27;, &#x27;repaired&#x27;]</pre></div> </div></div><div class=\"sk-serial\"><div class=\"sk-item\"><div class=\"sk-serial\"><div class=\"sk-item\"><div class=\"sk-estimator fitted sk-toggleable\"><input class=\"sk-toggleable__control sk-hidden--visually\" id=\"sk-estimator-id-5\" type=\"checkbox\" ><label for=\"sk-estimator-id-5\" class=\"sk-toggleable__label fitted sk-toggleable__label-arrow\"><div><div>SimpleImputer</div></div><div><a class=\"sk-estimator-doc-link fitted\" rel=\"noreferrer\" target=\"_blank\" href=\"https://scikit-learn.org/1.6/modules/generated/sklearn.impute.SimpleImputer.html\">?<span>Documentation for SimpleImputer</span></a></div></label><div class=\"sk-toggleable__content fitted\"><pre>SimpleImputer(strategy=&#x27;most_frequent&#x27;)</pre></div> </div></div><div class=\"sk-item\"><div class=\"sk-estimator fitted sk-toggleable\"><input class=\"sk-toggleable__control sk-hidden--visually\" id=\"sk-estimator-id-6\" type=\"checkbox\" ><label for=\"sk-estimator-id-6\" class=\"sk-toggleable__label fitted sk-toggleable__label-arrow\"><div><div>TargetEncoder</div></div><div><a class=\"sk-estimator-doc-link fitted\" rel=\"noreferrer\" target=\"_blank\" href=\"https://scikit-learn.org/1.6/modules/generated/sklearn.preprocessing.TargetEncoder.html\">?<span>Documentation for TargetEncoder</span></a></div></label><div class=\"sk-toggleable__content fitted\"><pre>TargetEncoder(target_type=&#x27;continuous&#x27;)</pre></div> </div></div></div></div></div></div></div><div class=\"sk-parallel-item\"><div class=\"sk-item\"><div class=\"sk-label-container\"><div class=\"sk-label fitted sk-toggleable\"><input class=\"sk-toggleable__control sk-hidden--visually\" id=\"sk-estimator-id-7\" type=\"checkbox\" ><label for=\"sk-estimator-id-7\" class=\"sk-toggleable__label fitted sk-toggleable__label-arrow\"><div><div>num</div></div></label><div class=\"sk-toggleable__content fitted\"><pre>[&#x27;registration_year&#x27;, &#x27;power&#x27;, &#x27;kilometer&#x27;, &#x27;registration_month&#x27;, &#x27;number_of_pictures&#x27;, &#x27;postal_code&#x27;]</pre></div> </div></div><div class=\"sk-serial\"><div class=\"sk-item\"><div class=\"sk-estimator fitted sk-toggleable\"><input class=\"sk-toggleable__control sk-hidden--visually\" id=\"sk-estimator-id-8\" type=\"checkbox\" ><label for=\"sk-estimator-id-8\" class=\"sk-toggleable__label fitted sk-toggleable__label-arrow\"><div><div>StandardScaler</div></div><div><a class=\"sk-estimator-doc-link fitted\" rel=\"noreferrer\" target=\"_blank\" href=\"https://scikit-learn.org/1.6/modules/generated/sklearn.preprocessing.StandardScaler.html\">?<span>Documentation for StandardScaler</span></a></div></label><div class=\"sk-toggleable__content fitted\"><pre>StandardScaler()</pre></div> </div></div></div></div></div><div class=\"sk-parallel-item\"><div class=\"sk-item\"><div class=\"sk-label-container\"><div class=\"sk-label fitted sk-toggleable\"><input class=\"sk-toggleable__control sk-hidden--visually\" id=\"sk-estimator-id-9\" type=\"checkbox\" ><label for=\"sk-estimator-id-9\" class=\"sk-toggleable__label fitted sk-toggleable__label-arrow\"><div><div>remainder</div></div></label><div class=\"sk-toggleable__content fitted\"><pre>[]</pre></div> </div></div><div class=\"sk-serial\"><div class=\"sk-item\"><div class=\"sk-estimator fitted sk-toggleable\"><input class=\"sk-toggleable__control sk-hidden--visually\" id=\"sk-estimator-id-10\" type=\"checkbox\" ><label for=\"sk-estimator-id-10\" class=\"sk-toggleable__label fitted sk-toggleable__label-arrow\"><div><div>passthrough</div></div></label><div class=\"sk-toggleable__content fitted\"><pre>passthrough</pre></div> </div></div></div></div></div></div></div><div class=\"sk-item\"><div class=\"sk-estimator fitted sk-toggleable\"><input class=\"sk-toggleable__control sk-hidden--visually\" id=\"sk-estimator-id-11\" type=\"checkbox\" ><label for=\"sk-estimator-id-11\" class=\"sk-toggleable__label fitted sk-toggleable__label-arrow\"><div><div>LGBMRegressor</div></div></label><div class=\"sk-toggleable__content fitted\"><pre>LGBMRegressor(max_depth=12, n_estimators=83)</pre></div> </div></div></div></div></div></div></div></div></div></div></div>"
      ],
      "text/plain": [
       "RandomizedSearchCV(cv=5,\n",
       "                   estimator=Pipeline(steps=[('preprocessor',\n",
       "                                              ColumnTransformer(remainder='passthrough',\n",
       "                                                                transformers=[('te',\n",
       "                                                                               Pipeline(steps=[('simpleImputer_te',\n",
       "                                                                                                SimpleImputer(strategy='most_frequent')),\n",
       "                                                                                               ('te',\n",
       "                                                                                                TargetEncoder(target_type='continuous'))]),\n",
       "                                                                               ['vehicle_type',\n",
       "                                                                                'gearbox',\n",
       "                                                                                'model',\n",
       "                                                                                'fuel_type',\n",
       "                                                                                'brand',\n",
       "                                                                                'repaired']),\n",
       "                                                                              ('num',\n",
       "                                                                               MinMaxScaler(),\n",
       "                                                                               ['regis...\n",
       "                                         'preprocessor__num': [StandardScaler(),\n",
       "                                                               MinMaxScaler(),\n",
       "                                                               'passthrough']},\n",
       "                                        {'models': [DecisionTreeRegressor(random_state=42)],\n",
       "                                         'models__max_depth': range(2, 15),\n",
       "                                         'models__max_features': range(2, 15),\n",
       "                                         'preprocessor__num': [StandardScaler(),\n",
       "                                                               MinMaxScaler(),\n",
       "                                                               'passthrough']}],\n",
       "                   random_state=42,\n",
       "                   scoring=make_scorer(root_mean_squared_error, greater_is_better=False, response_method='predict'))"
      ]
     },
     "execution_count": 68,
     "metadata": {},
     "output_type": "execute_result"
    }
   ],
   "source": [
    "# Переберём разные модели и варианты масштабирования\n",
    "randomized_search = RandomizedSearchCV(\n",
    "    pipe_final, \n",
    "    param_grid, \n",
    "    cv=5,\n",
    "    scoring=scorer_rmse,\n",
    "    random_state=RANDOM_STATE,\n",
    "    n_jobs=-1\n",
    ")\n",
    "\n",
    "randomized_search.fit(X_train, y_train)"
   ]
  },
  {
   "cell_type": "markdown",
   "metadata": {},
   "source": [
    "### Выберем лучшую модель"
   ]
  },
  {
   "cell_type": "code",
   "execution_count": 69,
   "metadata": {},
   "outputs": [
    {
     "name": "stdout",
     "output_type": "stream",
     "text": [
      "Лучшая модель и её параметры:\n",
      "\n",
      " Pipeline(steps=[('preprocessor',\n",
      "                 ColumnTransformer(remainder='passthrough',\n",
      "                                   transformers=[('te',\n",
      "                                                  Pipeline(steps=[('simpleImputer_te',\n",
      "                                                                   SimpleImputer(strategy='most_frequent')),\n",
      "                                                                  ('te',\n",
      "                                                                   TargetEncoder(target_type='continuous'))]),\n",
      "                                                  ['vehicle_type', 'gearbox',\n",
      "                                                   'model', 'fuel_type',\n",
      "                                                   'brand', 'repaired']),\n",
      "                                                 ('num', StandardScaler(),\n",
      "                                                  ['registration_year', 'power',\n",
      "                                                   'kilometer',\n",
      "                                                   'registration_month',\n",
      "                                                   'number_of_pictures',\n",
      "                                                   'postal_code'])])),\n",
      "                ('models', LGBMRegressor(max_depth=12, n_estimators=83))])\n",
      "Метрика лучшей модели на кросс-валидации: 1755.3264144868401\n"
     ]
    }
   ],
   "source": [
    "print('Лучшая модель и её параметры:\\n\\n', randomized_search.best_estimator_)\n",
    "print ('Метрика лучшей модели на кросс-валидации:', -randomized_search.best_score_)"
   ]
  },
  {
   "cell_type": "markdown",
   "metadata": {},
   "source": [
    "Для предсказания цены на автомобиль, мы:\n",
    "- собрали пайплайн\n",
    "- обучили и сделали прогноз по 4-ем моделям\n",
    "\n",
    "Наилучший результат показала модель:\n",
    "- LGBMRegressor с параметрами max_depth=12, n_estimators=83"
   ]
  },
  {
   "cell_type": "markdown",
   "metadata": {},
   "source": [
    "## Анализ моделей"
   ]
  },
  {
   "cell_type": "markdown",
   "metadata": {},
   "source": [
    "### Оценим модели"
   ]
  },
  {
   "cell_type": "code",
   "execution_count": 70,
   "metadata": {},
   "outputs": [
    {
     "data": {
      "text/html": [
       "<div>\n",
       "<style scoped>\n",
       "    .dataframe tbody tr th:only-of-type {\n",
       "        vertical-align: middle;\n",
       "    }\n",
       "\n",
       "    .dataframe tbody tr th {\n",
       "        vertical-align: top;\n",
       "    }\n",
       "\n",
       "    .dataframe thead th {\n",
       "        text-align: right;\n",
       "    }\n",
       "</style>\n",
       "<table border=\"1\" class=\"dataframe\">\n",
       "  <thead>\n",
       "    <tr style=\"text-align: right;\">\n",
       "      <th></th>\n",
       "      <th>mean_fit_time</th>\n",
       "      <th>std_fit_time</th>\n",
       "      <th>mean_score_time</th>\n",
       "      <th>std_score_time</th>\n",
       "      <th>param_preprocessor__num</th>\n",
       "      <th>param_models__n_estimators</th>\n",
       "      <th>param_models__max_depth</th>\n",
       "      <th>param_models</th>\n",
       "      <th>param_models__max_features</th>\n",
       "      <th>params</th>\n",
       "      <th>split0_test_score</th>\n",
       "      <th>split1_test_score</th>\n",
       "      <th>split2_test_score</th>\n",
       "      <th>split3_test_score</th>\n",
       "      <th>split4_test_score</th>\n",
       "      <th>mean_test_score</th>\n",
       "      <th>std_test_score</th>\n",
       "      <th>rank_test_score</th>\n",
       "    </tr>\n",
       "  </thead>\n",
       "  <tbody>\n",
       "    <tr>\n",
       "      <th>0</th>\n",
       "      <td>1.959976</td>\n",
       "      <td>0.026998</td>\n",
       "      <td>0.352698</td>\n",
       "      <td>0.012539</td>\n",
       "      <td>StandardScaler()</td>\n",
       "      <td>83.0</td>\n",
       "      <td>12</td>\n",
       "      <td>LGBMRegressor()</td>\n",
       "      <td>NaN</td>\n",
       "      <td>{'preprocessor__num': StandardScaler(), 'model...</td>\n",
       "      <td>-1746.949811</td>\n",
       "      <td>-1771.240955</td>\n",
       "      <td>-1755.411914</td>\n",
       "      <td>-1759.330827</td>\n",
       "      <td>-1743.698566</td>\n",
       "      <td>-1755.326414</td>\n",
       "      <td>9.743609</td>\n",
       "      <td>1</td>\n",
       "    </tr>\n",
       "    <tr>\n",
       "      <th>1</th>\n",
       "      <td>1.936229</td>\n",
       "      <td>0.025324</td>\n",
       "      <td>0.336969</td>\n",
       "      <td>0.007199</td>\n",
       "      <td>StandardScaler()</td>\n",
       "      <td>77.0</td>\n",
       "      <td>13</td>\n",
       "      <td>LGBMRegressor()</td>\n",
       "      <td>NaN</td>\n",
       "      <td>{'preprocessor__num': StandardScaler(), 'model...</td>\n",
       "      <td>-1755.114569</td>\n",
       "      <td>-1773.941904</td>\n",
       "      <td>-1761.046147</td>\n",
       "      <td>-1765.022232</td>\n",
       "      <td>-1755.107766</td>\n",
       "      <td>-1762.046524</td>\n",
       "      <td>7.036391</td>\n",
       "      <td>2</td>\n",
       "    </tr>\n",
       "    <tr>\n",
       "      <th>2</th>\n",
       "      <td>1.960359</td>\n",
       "      <td>0.024691</td>\n",
       "      <td>0.358082</td>\n",
       "      <td>0.010430</td>\n",
       "      <td>StandardScaler()</td>\n",
       "      <td>78.0</td>\n",
       "      <td>14</td>\n",
       "      <td>LGBMRegressor()</td>\n",
       "      <td>NaN</td>\n",
       "      <td>{'preprocessor__num': StandardScaler(), 'model...</td>\n",
       "      <td>-1761.751818</td>\n",
       "      <td>-1775.693215</td>\n",
       "      <td>-1764.280577</td>\n",
       "      <td>-1770.701280</td>\n",
       "      <td>-1752.538220</td>\n",
       "      <td>-1764.993022</td>\n",
       "      <td>7.914713</td>\n",
       "      <td>3</td>\n",
       "    </tr>\n",
       "    <tr>\n",
       "      <th>3</th>\n",
       "      <td>1.620548</td>\n",
       "      <td>0.022421</td>\n",
       "      <td>0.252577</td>\n",
       "      <td>0.007408</td>\n",
       "      <td>passthrough</td>\n",
       "      <td>50.0</td>\n",
       "      <td>13</td>\n",
       "      <td>LGBMRegressor()</td>\n",
       "      <td>NaN</td>\n",
       "      <td>{'preprocessor__num': 'passthrough', 'models__...</td>\n",
       "      <td>-1796.228951</td>\n",
       "      <td>-1819.219756</td>\n",
       "      <td>-1814.641117</td>\n",
       "      <td>-1819.096915</td>\n",
       "      <td>-1803.037329</td>\n",
       "      <td>-1810.444814</td>\n",
       "      <td>9.235031</td>\n",
       "      <td>4</td>\n",
       "    </tr>\n",
       "    <tr>\n",
       "      <th>4</th>\n",
       "      <td>1.400980</td>\n",
       "      <td>0.023402</td>\n",
       "      <td>0.186137</td>\n",
       "      <td>0.009222</td>\n",
       "      <td>passthrough</td>\n",
       "      <td>31.0</td>\n",
       "      <td>8</td>\n",
       "      <td>LGBMRegressor()</td>\n",
       "      <td>NaN</td>\n",
       "      <td>{'preprocessor__num': 'passthrough', 'models__...</td>\n",
       "      <td>-1892.592439</td>\n",
       "      <td>-1912.559214</td>\n",
       "      <td>-1910.797116</td>\n",
       "      <td>-1915.891341</td>\n",
       "      <td>-1892.074198</td>\n",
       "      <td>-1904.782861</td>\n",
       "      <td>10.297162</td>\n",
       "      <td>5</td>\n",
       "    </tr>\n",
       "    <tr>\n",
       "      <th>5</th>\n",
       "      <td>23.813118</td>\n",
       "      <td>0.439913</td>\n",
       "      <td>0.418907</td>\n",
       "      <td>0.016517</td>\n",
       "      <td>MinMaxScaler()</td>\n",
       "      <td>NaN</td>\n",
       "      <td>8</td>\n",
       "      <td>RandomForestRegressor(random_state=42)</td>\n",
       "      <td>5.0</td>\n",
       "      <td>{'preprocessor__num': MinMaxScaler(), 'models_...</td>\n",
       "      <td>-1951.226703</td>\n",
       "      <td>-1975.029193</td>\n",
       "      <td>-1969.325868</td>\n",
       "      <td>-1969.378940</td>\n",
       "      <td>-1953.602589</td>\n",
       "      <td>-1963.712659</td>\n",
       "      <td>9.484634</td>\n",
       "      <td>6</td>\n",
       "    </tr>\n",
       "    <tr>\n",
       "      <th>6</th>\n",
       "      <td>1.525592</td>\n",
       "      <td>0.021707</td>\n",
       "      <td>0.214342</td>\n",
       "      <td>0.009466</td>\n",
       "      <td>MinMaxScaler()</td>\n",
       "      <td>75.0</td>\n",
       "      <td>3</td>\n",
       "      <td>LGBMRegressor()</td>\n",
       "      <td>NaN</td>\n",
       "      <td>{'preprocessor__num': MinMaxScaler(), 'models_...</td>\n",
       "      <td>-1962.134444</td>\n",
       "      <td>-1980.905458</td>\n",
       "      <td>-1988.405384</td>\n",
       "      <td>-1990.183351</td>\n",
       "      <td>-1975.351645</td>\n",
       "      <td>-1979.396056</td>\n",
       "      <td>10.140341</td>\n",
       "      <td>7</td>\n",
       "    </tr>\n",
       "    <tr>\n",
       "      <th>7</th>\n",
       "      <td>1.254335</td>\n",
       "      <td>0.028882</td>\n",
       "      <td>0.143371</td>\n",
       "      <td>0.003166</td>\n",
       "      <td>passthrough</td>\n",
       "      <td>26.0</td>\n",
       "      <td>5</td>\n",
       "      <td>LGBMRegressor()</td>\n",
       "      <td>NaN</td>\n",
       "      <td>{'preprocessor__num': 'passthrough', 'models__...</td>\n",
       "      <td>-1993.298547</td>\n",
       "      <td>-2019.457867</td>\n",
       "      <td>-2005.122092</td>\n",
       "      <td>-2014.980445</td>\n",
       "      <td>-1996.820183</td>\n",
       "      <td>-2005.935827</td>\n",
       "      <td>10.080760</td>\n",
       "      <td>8</td>\n",
       "    </tr>\n",
       "    <tr>\n",
       "      <th>8</th>\n",
       "      <td>1.283700</td>\n",
       "      <td>0.023199</td>\n",
       "      <td>0.161179</td>\n",
       "      <td>0.011800</td>\n",
       "      <td>MinMaxScaler()</td>\n",
       "      <td>53.0</td>\n",
       "      <td>2</td>\n",
       "      <td>LGBMRegressor()</td>\n",
       "      <td>NaN</td>\n",
       "      <td>{'preprocessor__num': MinMaxScaler(), 'models_...</td>\n",
       "      <td>-2233.163743</td>\n",
       "      <td>-2244.997425</td>\n",
       "      <td>-2233.753079</td>\n",
       "      <td>-2215.014215</td>\n",
       "      <td>-2212.414161</td>\n",
       "      <td>-2227.868525</td>\n",
       "      <td>12.329941</td>\n",
       "      <td>9</td>\n",
       "    </tr>\n",
       "    <tr>\n",
       "      <th>9</th>\n",
       "      <td>0.813241</td>\n",
       "      <td>0.017592</td>\n",
       "      <td>0.096959</td>\n",
       "      <td>0.005393</td>\n",
       "      <td>MinMaxScaler()</td>\n",
       "      <td>NaN</td>\n",
       "      <td>12</td>\n",
       "      <td>DecisionTreeRegressor(random_state=42)</td>\n",
       "      <td>2.0</td>\n",
       "      <td>{'preprocessor__num': MinMaxScaler(), 'models_...</td>\n",
       "      <td>-2366.915245</td>\n",
       "      <td>-2529.049742</td>\n",
       "      <td>-2392.512158</td>\n",
       "      <td>-2349.026777</td>\n",
       "      <td>-2433.873862</td>\n",
       "      <td>-2414.275557</td>\n",
       "      <td>64.080036</td>\n",
       "      <td>10</td>\n",
       "    </tr>\n",
       "  </tbody>\n",
       "</table>\n",
       "</div>"
      ],
      "text/plain": [
       "   mean_fit_time  std_fit_time  mean_score_time  std_score_time  \\\n",
       "0       1.959976      0.026998         0.352698        0.012539   \n",
       "1       1.936229      0.025324         0.336969        0.007199   \n",
       "2       1.960359      0.024691         0.358082        0.010430   \n",
       "3       1.620548      0.022421         0.252577        0.007408   \n",
       "4       1.400980      0.023402         0.186137        0.009222   \n",
       "5      23.813118      0.439913         0.418907        0.016517   \n",
       "6       1.525592      0.021707         0.214342        0.009466   \n",
       "7       1.254335      0.028882         0.143371        0.003166   \n",
       "8       1.283700      0.023199         0.161179        0.011800   \n",
       "9       0.813241      0.017592         0.096959        0.005393   \n",
       "\n",
       "  param_preprocessor__num  param_models__n_estimators  \\\n",
       "0        StandardScaler()                        83.0   \n",
       "1        StandardScaler()                        77.0   \n",
       "2        StandardScaler()                        78.0   \n",
       "3             passthrough                        50.0   \n",
       "4             passthrough                        31.0   \n",
       "5          MinMaxScaler()                         NaN   \n",
       "6          MinMaxScaler()                        75.0   \n",
       "7             passthrough                        26.0   \n",
       "8          MinMaxScaler()                        53.0   \n",
       "9          MinMaxScaler()                         NaN   \n",
       "\n",
       "   param_models__max_depth                            param_models  \\\n",
       "0                       12                         LGBMRegressor()   \n",
       "1                       13                         LGBMRegressor()   \n",
       "2                       14                         LGBMRegressor()   \n",
       "3                       13                         LGBMRegressor()   \n",
       "4                        8                         LGBMRegressor()   \n",
       "5                        8  RandomForestRegressor(random_state=42)   \n",
       "6                        3                         LGBMRegressor()   \n",
       "7                        5                         LGBMRegressor()   \n",
       "8                        2                         LGBMRegressor()   \n",
       "9                       12  DecisionTreeRegressor(random_state=42)   \n",
       "\n",
       "   param_models__max_features  \\\n",
       "0                         NaN   \n",
       "1                         NaN   \n",
       "2                         NaN   \n",
       "3                         NaN   \n",
       "4                         NaN   \n",
       "5                         5.0   \n",
       "6                         NaN   \n",
       "7                         NaN   \n",
       "8                         NaN   \n",
       "9                         2.0   \n",
       "\n",
       "                                              params  split0_test_score  \\\n",
       "0  {'preprocessor__num': StandardScaler(), 'model...       -1746.949811   \n",
       "1  {'preprocessor__num': StandardScaler(), 'model...       -1755.114569   \n",
       "2  {'preprocessor__num': StandardScaler(), 'model...       -1761.751818   \n",
       "3  {'preprocessor__num': 'passthrough', 'models__...       -1796.228951   \n",
       "4  {'preprocessor__num': 'passthrough', 'models__...       -1892.592439   \n",
       "5  {'preprocessor__num': MinMaxScaler(), 'models_...       -1951.226703   \n",
       "6  {'preprocessor__num': MinMaxScaler(), 'models_...       -1962.134444   \n",
       "7  {'preprocessor__num': 'passthrough', 'models__...       -1993.298547   \n",
       "8  {'preprocessor__num': MinMaxScaler(), 'models_...       -2233.163743   \n",
       "9  {'preprocessor__num': MinMaxScaler(), 'models_...       -2366.915245   \n",
       "\n",
       "   split1_test_score  split2_test_score  split3_test_score  split4_test_score  \\\n",
       "0       -1771.240955       -1755.411914       -1759.330827       -1743.698566   \n",
       "1       -1773.941904       -1761.046147       -1765.022232       -1755.107766   \n",
       "2       -1775.693215       -1764.280577       -1770.701280       -1752.538220   \n",
       "3       -1819.219756       -1814.641117       -1819.096915       -1803.037329   \n",
       "4       -1912.559214       -1910.797116       -1915.891341       -1892.074198   \n",
       "5       -1975.029193       -1969.325868       -1969.378940       -1953.602589   \n",
       "6       -1980.905458       -1988.405384       -1990.183351       -1975.351645   \n",
       "7       -2019.457867       -2005.122092       -2014.980445       -1996.820183   \n",
       "8       -2244.997425       -2233.753079       -2215.014215       -2212.414161   \n",
       "9       -2529.049742       -2392.512158       -2349.026777       -2433.873862   \n",
       "\n",
       "   mean_test_score  std_test_score  rank_test_score  \n",
       "0     -1755.326414        9.743609                1  \n",
       "1     -1762.046524        7.036391                2  \n",
       "2     -1764.993022        7.914713                3  \n",
       "3     -1810.444814        9.235031                4  \n",
       "4     -1904.782861       10.297162                5  \n",
       "5     -1963.712659        9.484634                6  \n",
       "6     -1979.396056       10.140341                7  \n",
       "7     -2005.935827       10.080760                8  \n",
       "8     -2227.868525       12.329941                9  \n",
       "9     -2414.275557       64.080036               10  "
      ]
     },
     "execution_count": 70,
     "metadata": {},
     "output_type": "execute_result"
    }
   ],
   "source": [
    "# Сохраним 10 лучших результатов в датафрейм и выведим на экран\n",
    "all_results = pd.DataFrame(randomized_search.cv_results_)\n",
    "all_results = all_results.sort_values(by='rank_test_score')\n",
    "all_results = all_results.reset_index(drop=True)\n",
    "all_results"
   ]
  },
  {
   "cell_type": "code",
   "execution_count": 71,
   "metadata": {},
   "outputs": [
    {
     "data": {
      "text/html": [
       "<div>\n",
       "<style scoped>\n",
       "    .dataframe tbody tr th:only-of-type {\n",
       "        vertical-align: middle;\n",
       "    }\n",
       "\n",
       "    .dataframe tbody tr th {\n",
       "        vertical-align: top;\n",
       "    }\n",
       "\n",
       "    .dataframe thead th {\n",
       "        text-align: right;\n",
       "    }\n",
       "</style>\n",
       "<table border=\"1\" class=\"dataframe\">\n",
       "  <thead>\n",
       "    <tr style=\"text-align: right;\">\n",
       "      <th></th>\n",
       "      <th></th>\n",
       "      <th>mean_fit_time</th>\n",
       "      <th>std_fit_time</th>\n",
       "      <th>mean_score_time</th>\n",
       "      <th>std_score_time</th>\n",
       "      <th>param_preprocessor__num</th>\n",
       "      <th>param_models__n_estimators</th>\n",
       "      <th>param_models__max_depth</th>\n",
       "      <th>param_models</th>\n",
       "      <th>param_models__max_features</th>\n",
       "      <th>params</th>\n",
       "      <th>split0_test_score</th>\n",
       "      <th>split1_test_score</th>\n",
       "      <th>split2_test_score</th>\n",
       "      <th>split3_test_score</th>\n",
       "      <th>split4_test_score</th>\n",
       "      <th>mean_test_score</th>\n",
       "      <th>std_test_score</th>\n",
       "      <th>rank_test_score</th>\n",
       "      <th>model_name</th>\n",
       "    </tr>\n",
       "    <tr>\n",
       "      <th>model_name</th>\n",
       "      <th></th>\n",
       "      <th></th>\n",
       "      <th></th>\n",
       "      <th></th>\n",
       "      <th></th>\n",
       "      <th></th>\n",
       "      <th></th>\n",
       "      <th></th>\n",
       "      <th></th>\n",
       "      <th></th>\n",
       "      <th></th>\n",
       "      <th></th>\n",
       "      <th></th>\n",
       "      <th></th>\n",
       "      <th></th>\n",
       "      <th></th>\n",
       "      <th></th>\n",
       "      <th></th>\n",
       "      <th></th>\n",
       "      <th></th>\n",
       "    </tr>\n",
       "  </thead>\n",
       "  <tbody>\n",
       "    <tr>\n",
       "      <th>DecisionTreeRegressor</th>\n",
       "      <th>4</th>\n",
       "      <td>0.813241</td>\n",
       "      <td>0.017592</td>\n",
       "      <td>0.096959</td>\n",
       "      <td>0.005393</td>\n",
       "      <td>MinMaxScaler()</td>\n",
       "      <td>NaN</td>\n",
       "      <td>12</td>\n",
       "      <td>DecisionTreeRegressor(random_state=42)</td>\n",
       "      <td>2.0</td>\n",
       "      <td>{'preprocessor__num': MinMaxScaler(), 'models_...</td>\n",
       "      <td>-2366.915245</td>\n",
       "      <td>-2529.049742</td>\n",
       "      <td>-2392.512158</td>\n",
       "      <td>-2349.026777</td>\n",
       "      <td>-2433.873862</td>\n",
       "      <td>-2414.275557</td>\n",
       "      <td>64.080036</td>\n",
       "      <td>10</td>\n",
       "      <td>DecisionTreeRegressor</td>\n",
       "    </tr>\n",
       "    <tr>\n",
       "      <th>LGBMRegressor</th>\n",
       "      <th>7</th>\n",
       "      <td>1.959976</td>\n",
       "      <td>0.026998</td>\n",
       "      <td>0.352698</td>\n",
       "      <td>0.012539</td>\n",
       "      <td>StandardScaler()</td>\n",
       "      <td>83.0</td>\n",
       "      <td>12</td>\n",
       "      <td>LGBMRegressor()</td>\n",
       "      <td>NaN</td>\n",
       "      <td>{'preprocessor__num': StandardScaler(), 'model...</td>\n",
       "      <td>-1746.949811</td>\n",
       "      <td>-1771.240955</td>\n",
       "      <td>-1755.411914</td>\n",
       "      <td>-1759.330827</td>\n",
       "      <td>-1743.698566</td>\n",
       "      <td>-1755.326414</td>\n",
       "      <td>9.743609</td>\n",
       "      <td>1</td>\n",
       "      <td>LGBMRegressor</td>\n",
       "    </tr>\n",
       "    <tr>\n",
       "      <th>RandomForestRegressor</th>\n",
       "      <th>1</th>\n",
       "      <td>23.813118</td>\n",
       "      <td>0.439913</td>\n",
       "      <td>0.418907</td>\n",
       "      <td>0.016517</td>\n",
       "      <td>MinMaxScaler()</td>\n",
       "      <td>NaN</td>\n",
       "      <td>8</td>\n",
       "      <td>RandomForestRegressor(random_state=42)</td>\n",
       "      <td>5.0</td>\n",
       "      <td>{'preprocessor__num': MinMaxScaler(), 'models_...</td>\n",
       "      <td>-1951.226703</td>\n",
       "      <td>-1975.029193</td>\n",
       "      <td>-1969.325868</td>\n",
       "      <td>-1969.378940</td>\n",
       "      <td>-1953.602589</td>\n",
       "      <td>-1963.712659</td>\n",
       "      <td>9.484634</td>\n",
       "      <td>6</td>\n",
       "      <td>RandomForestRegressor</td>\n",
       "    </tr>\n",
       "  </tbody>\n",
       "</table>\n",
       "</div>"
      ],
      "text/plain": [
       "                         mean_fit_time  std_fit_time  mean_score_time  \\\n",
       "model_name                                                              \n",
       "DecisionTreeRegressor 4       0.813241      0.017592         0.096959   \n",
       "LGBMRegressor         7       1.959976      0.026998         0.352698   \n",
       "RandomForestRegressor 1      23.813118      0.439913         0.418907   \n",
       "\n",
       "                         std_score_time param_preprocessor__num  \\\n",
       "model_name                                                        \n",
       "DecisionTreeRegressor 4        0.005393          MinMaxScaler()   \n",
       "LGBMRegressor         7        0.012539        StandardScaler()   \n",
       "RandomForestRegressor 1        0.016517          MinMaxScaler()   \n",
       "\n",
       "                         param_models__n_estimators  param_models__max_depth  \\\n",
       "model_name                                                                     \n",
       "DecisionTreeRegressor 4                         NaN                       12   \n",
       "LGBMRegressor         7                        83.0                       12   \n",
       "RandomForestRegressor 1                         NaN                        8   \n",
       "\n",
       "                                                   param_models  \\\n",
       "model_name                                                        \n",
       "DecisionTreeRegressor 4  DecisionTreeRegressor(random_state=42)   \n",
       "LGBMRegressor         7                         LGBMRegressor()   \n",
       "RandomForestRegressor 1  RandomForestRegressor(random_state=42)   \n",
       "\n",
       "                         param_models__max_features  \\\n",
       "model_name                                            \n",
       "DecisionTreeRegressor 4                         2.0   \n",
       "LGBMRegressor         7                         NaN   \n",
       "RandomForestRegressor 1                         5.0   \n",
       "\n",
       "                                                                    params  \\\n",
       "model_name                                                                   \n",
       "DecisionTreeRegressor 4  {'preprocessor__num': MinMaxScaler(), 'models_...   \n",
       "LGBMRegressor         7  {'preprocessor__num': StandardScaler(), 'model...   \n",
       "RandomForestRegressor 1  {'preprocessor__num': MinMaxScaler(), 'models_...   \n",
       "\n",
       "                         split0_test_score  split1_test_score  \\\n",
       "model_name                                                      \n",
       "DecisionTreeRegressor 4       -2366.915245       -2529.049742   \n",
       "LGBMRegressor         7       -1746.949811       -1771.240955   \n",
       "RandomForestRegressor 1       -1951.226703       -1975.029193   \n",
       "\n",
       "                         split2_test_score  split3_test_score  \\\n",
       "model_name                                                      \n",
       "DecisionTreeRegressor 4       -2392.512158       -2349.026777   \n",
       "LGBMRegressor         7       -1755.411914       -1759.330827   \n",
       "RandomForestRegressor 1       -1969.325868       -1969.378940   \n",
       "\n",
       "                         split4_test_score  mean_test_score  std_test_score  \\\n",
       "model_name                                                                    \n",
       "DecisionTreeRegressor 4       -2433.873862     -2414.275557       64.080036   \n",
       "LGBMRegressor         7       -1743.698566     -1755.326414        9.743609   \n",
       "RandomForestRegressor 1       -1953.602589     -1963.712659        9.484634   \n",
       "\n",
       "                         rank_test_score             model_name  \n",
       "model_name                                                       \n",
       "DecisionTreeRegressor 4               10  DecisionTreeRegressor  \n",
       "LGBMRegressor         7                1          LGBMRegressor  \n",
       "RandomForestRegressor 1                6  RandomForestRegressor  "
      ]
     },
     "execution_count": 71,
     "metadata": {},
     "output_type": "execute_result"
    }
   ],
   "source": [
    "# Выберем лучшие варианты для 3-ех разных моделей\n",
    "results = pd.DataFrame(randomized_search.cv_results_)\n",
    "results['model_name'] = results['param_models'].apply(lambda x: x.__class__.__name__)\n",
    "top_per_model = results.groupby('model_name').apply(lambda x: x.nlargest(1, 'mean_test_score'))\n",
    "top_per_model"
   ]
  },
  {
   "cell_type": "code",
   "execution_count": 72,
   "metadata": {},
   "outputs": [
    {
     "data": {
      "image/png": "[encoded data removed]",
      "text/plain": [
       "<Figure size 1440x864 with 3 Axes>"
      ]
     },
     "metadata": {
      "needs_background": "light"
     },
     "output_type": "display_data"
    }
   ],
   "source": [
    "# Построим графики для 3-ех основных параметров для всех моделей и сравним их\n",
    "top_per_model['mean_test_score'] = -top_per_model['mean_test_score']\n",
    "fig, axes = plt.subplots(2, 2, figsize=(20, 12))\n",
    "sns.barplot(data=top_per_model, x='model_name', y='mean_fit_time', ax=axes[0][0]).set(title='Время обучения модели', xlabel='Модель', ylabel='Время, сек.')\n",
    "sns.barplot(data=top_per_model, x='model_name', y='mean_score_time', ax=axes[0][1]).set(title='Время предсказания модели', xlabel='Модель', ylabel='Время, сек.')\n",
    "sns.barplot(data=top_per_model, x='model_name', y='mean_test_score', ax=axes[1][0]).set(title='Метрика RMSE для каждой модели', xlabel='Модель', ylabel='Евро');\n",
    "fig.delaxes(axes[1][1])"
   ]
  },
  {
   "cell_type": "markdown",
   "metadata": {},
   "source": [
    "Рейтинг моделей:\n",
    "1. LGBMRegressor\n",
    "\n",
    "- Время обучения - 2.00 сек\n",
    "- Время предсказания - 0.33 сек\n",
    "- RMSE на кросс-валидации - 1756.95\n",
    "\n",
    "\n",
    "2. RandomForestRegressor\n",
    "\n",
    "- Время обучения - 23.20 сек\n",
    "- Время предсказания - 0.38 сек\n",
    "- RMSE на кросс-валидации - 1961.83\n",
    "\n",
    "\n",
    "3. DecisionTreeRegressor\n",
    "\n",
    "- Время обучения - 0.77 сек\n",
    "- Время предсказания - 0.08 сек\n",
    "- RMSE на кросс-валидации - 2477.61"
   ]
  },
  {
   "cell_type": "markdown",
   "metadata": {},
   "source": [
    "Как видно из полученных результатов выше, самой оптимальной моделью с точи зрения времени и точности прогноза является модель LGBMRegressor.\n",
    "\n",
    "Применим ее на тестовых данных."
   ]
  },
  {
   "cell_type": "markdown",
   "metadata": {},
   "source": [
    "### Проверим лучшую модель на тестовой выборке"
   ]
  },
  {
   "cell_type": "code",
   "execution_count": 73,
   "metadata": {},
   "outputs": [
    {
     "name": "stderr",
     "output_type": "stream",
     "text": [
      "/opt/conda/lib/python3.9/site-packages/sklearn/utils/validation.py:2739: UserWarning: X does not have valid feature names, but LGBMRegressor was fitted with feature names\n",
      "  warnings.warn(\n"
     ]
    },
    {
     "name": "stdout",
     "output_type": "stream",
     "text": [
      "Метрика RMSE на тестовой выборке: 1758.6173000231652\n"
     ]
    }
   ],
   "source": [
    "# Проверим работу модели на тестовой выборке\n",
    "# Рассчитаем прогноз на тестовых данных\n",
    "y_test_pred_one = randomized_search.predict(X_test)  \n",
    "print(f'Метрика RMSE на тестовой выборке: {root_mean_squared_error(y_test, y_test_pred_one)}')"
   ]
  },
  {
   "cell_type": "markdown",
   "metadata": {},
   "source": [
    "### Определим важность различных признаков"
   ]
  },
  {
   "cell_type": "code",
   "execution_count": 74,
   "metadata": {},
   "outputs": [
    {
     "data": {
      "text/plain": [
       "array([177,  34, 338,  67, 321,  76, 615, 505, 224,  45,   0,  88],\n",
       "      dtype=int32)"
      ]
     },
     "execution_count": 74,
     "metadata": {},
     "output_type": "execute_result"
    }
   ],
   "source": [
    "# Посчитаем веса всех признаков для лучшей модели\n",
    "randomized_search.best_estimator_._final_estimator.feature_importances_"
   ]
  },
  {
   "cell_type": "code",
   "execution_count": 75,
   "metadata": {},
   "outputs": [
    {
     "data": {
      "text/plain": [
       "array(['vehicle_type', 'registration_year', 'gearbox', 'power', 'model',\n",
       "       'kilometer', 'registration_month', 'fuel_type', 'brand',\n",
       "       'repaired', 'number_of_pictures', 'postal_code'], dtype=object)"
      ]
     },
     "execution_count": 75,
     "metadata": {},
     "output_type": "execute_result"
    }
   ],
   "source": [
    "# Выведем порядок различных признаков\n",
    "randomized_search.best_estimator_.feature_names_in_"
   ]
  },
  {
   "cell_type": "code",
   "execution_count": 76,
   "metadata": {},
   "outputs": [
    {
     "data": {
      "image/png": "[encoded data removed]",
      "text/plain": [
       "<Figure size 1080x576 with 1 Axes>"
      ]
     },
     "metadata": {
      "needs_background": "light"
     },
     "output_type": "display_data"
    }
   ],
   "source": [
    "# Посроим график важности различных признаков\n",
    "plt.figure(figsize=(15,8))\n",
    "feat_importances = pd.Series(randomized_search.best_estimator_._final_estimator.feature_importances_, index=randomized_search.best_estimator_.feature_names_in_)\n",
    "feat_importances.nlargest(12).plot(kind='barh')\n",
    "plt.title('Важность признаков для лучшей модели')\n",
    "plt.xlabel('Вес признака')\n",
    "plt.ylabel('Признак');"
   ]
  },
  {
   "cell_type": "markdown",
   "metadata": {},
   "source": [
    "## Общий вывод"
   ]
  },
  {
   "cell_type": "markdown",
   "metadata": {},
   "source": [
    "**В процессе исследования, мы:**"
   ]
  },
  {
   "cell_type": "markdown",
   "metadata": {},
   "source": [
    "1. Выгрузили исходные данные в 1 датафрейм"
   ]
  },
  {
   "cell_type": "markdown",
   "metadata": {},
   "source": [
    "2. Предобработали данные - выставили корректные типы данных, избавились от дубликатов"
   ]
  },
  {
   "cell_type": "markdown",
   "metadata": {},
   "source": [
    "3. Провели исследовательский анализ данных\n",
    "\n",
    "По полученным данным, можно сделать несколько выводов:\n",
    "- средняя цена за автомобиль 4 400 евро\n",
    "- средняя мощность двигателя автомобиля 110 л.с.\n",
    "- 99% автомобилей зарегистрированы с 1985 по 2019 годы\n",
    "- у большинства автомобилей пробег более 150 тыс. км\n",
    "- у 80% автомобилей ручная коробка передач"
   ]
  },
  {
   "cell_type": "markdown",
   "metadata": {},
   "source": [
    "4. Провели корреляционный анализ данных\n",
    "\n",
    "Судя по тепловой карте и опираясь на шкалу Чеддока мы можем сказать, что:\n",
    "- Есть заметная связь с целевым признаком `price` у входного признака `registration_year` и `model`\n",
    "- Есть умеренная связь с целевым признаком `price` у входного признака `gearbox`, `kilometr`, `brand`, `repaired`"
   ]
  },
  {
   "cell_type": "markdown",
   "metadata": {},
   "source": [
    "5. Собрали пайплайн, обучили и сделали прогноз для 4-ех моделей\n",
    "\n",
    "Наилучший результат показала модель:\n",
    "- LGBMRegressor с параметрами max_depth=12, n_estimators=83\n",
    "\n",
    "Рейтинг моделей:\n",
    "1. LGBMRegressor\n",
    "\n",
    "- Время обучения - 5.05 сек\n",
    "- Время предсказания - 0.48 сек\n",
    "- RMSE на кросс-валидации - 1867.55\n",
    "\n",
    "\n",
    "2. RandomForestRegressor\n",
    "\n",
    "- Время обучения - 5.31 сек\n",
    "- Время предсказания - 0.31 сек\n",
    "- RMSE на кросс-валидации - 3830.25\n",
    "\n",
    "\n",
    "3. DecisionTreeRegressor\n",
    "\n",
    "- Время обучения - 0.76 сек\n",
    "- Время предсказания - 0.11 сек\n",
    "- RMSE на кросс-валидации - 4308.54"
   ]
  },
  {
   "cell_type": "markdown",
   "metadata": {},
   "source": [
    "6. Выбрали лучшую модель и проверили ее на тестовых данных\n",
    "\n",
    "- Метрика RMSE на тестовой выборке: 1760.62"
   ]
  }
 ],
 "metadata": {
  "ExecuteTimeLog": [
   {
    "duration": 389,
    "start_time": "2025-03-25T07:26:10.646Z"
   },
   {
    "duration": 4,
    "start_time": "2025-03-25T07:26:32.408Z"
   },
   {
    "duration": 2,
    "start_time": "2025-03-25T07:26:45.360Z"
   },
   {
    "duration": 854,
    "start_time": "2025-03-25T07:28:21.107Z"
   },
   {
    "duration": 3,
    "start_time": "2025-03-25T07:28:47.193Z"
   },
   {
    "duration": 291,
    "start_time": "2025-03-25T07:29:09.494Z"
   },
   {
    "duration": 125,
    "start_time": "2025-03-25T07:33:42.239Z"
   },
   {
    "duration": 311,
    "start_time": "2025-03-25T07:36:51.334Z"
   },
   {
    "duration": 4,
    "start_time": "2025-03-25T07:40:53.397Z"
   },
   {
    "duration": 4,
    "start_time": "2025-03-25T07:41:29.418Z"
   },
   {
    "duration": 21,
    "start_time": "2025-03-25T07:41:34.913Z"
   },
   {
    "duration": 2,
    "start_time": "2025-03-25T07:50:34.967Z"
   },
   {
    "duration": 1427,
    "start_time": "2025-03-25T07:52:25.287Z"
   },
   {
    "duration": 1315,
    "start_time": "2025-03-25T07:52:52.440Z"
   },
   {
    "duration": 7,
    "start_time": "2025-03-25T07:54:14.714Z"
   },
   {
    "duration": 1319,
    "start_time": "2025-03-25T07:56:12.296Z"
   },
   {
    "duration": 30,
    "start_time": "2025-03-25T07:57:25.691Z"
   },
   {
    "duration": 248,
    "start_time": "2025-03-25T07:57:38.420Z"
   },
   {
    "duration": 362,
    "start_time": "2025-03-25T07:57:56.190Z"
   },
   {
    "duration": 3,
    "start_time": "2025-03-25T07:57:56.554Z"
   },
   {
    "duration": 844,
    "start_time": "2025-03-25T07:57:56.559Z"
   },
   {
    "duration": 3,
    "start_time": "2025-03-25T07:57:57.404Z"
   },
   {
    "duration": 289,
    "start_time": "2025-03-25T07:57:57.410Z"
   },
   {
    "duration": 3,
    "start_time": "2025-03-25T07:57:57.701Z"
   },
   {
    "duration": 10,
    "start_time": "2025-03-25T07:57:57.705Z"
   },
   {
    "duration": 5,
    "start_time": "2025-03-25T07:57:57.716Z"
   },
   {
    "duration": 35,
    "start_time": "2025-03-25T07:57:57.722Z"
   },
   {
    "duration": 138,
    "start_time": "2025-03-25T07:59:21.866Z"
   },
   {
    "duration": 254,
    "start_time": "2025-03-25T08:00:01.696Z"
   },
   {
    "duration": 63,
    "start_time": "2025-03-25T08:18:23.051Z"
   },
   {
    "duration": 75,
    "start_time": "2025-03-25T08:18:42.268Z"
   },
   {
    "duration": 236,
    "start_time": "2025-03-25T08:18:59.031Z"
   },
   {
    "duration": 20,
    "start_time": "2025-03-25T08:19:14.008Z"
   },
   {
    "duration": 38,
    "start_time": "2025-03-25T08:19:46.109Z"
   },
   {
    "duration": 57,
    "start_time": "2025-03-25T08:20:03.397Z"
   },
   {
    "duration": 76,
    "start_time": "2025-03-25T08:20:44.292Z"
   },
   {
    "duration": 93,
    "start_time": "2025-03-25T08:21:43.686Z"
   },
   {
    "duration": 115,
    "start_time": "2025-03-25T08:22:30.492Z"
   },
   {
    "duration": 67,
    "start_time": "2025-03-25T08:28:26.251Z"
   },
   {
    "duration": 427,
    "start_time": "2025-03-25T08:31:11.630Z"
   },
   {
    "duration": 501,
    "start_time": "2025-03-25T08:31:47.336Z"
   },
   {
    "duration": 52,
    "start_time": "2025-03-26T06:54:53.055Z"
   },
   {
    "duration": 422,
    "start_time": "2025-03-26T06:54:56.881Z"
   },
   {
    "duration": 12,
    "start_time": "2025-03-26T06:54:57.311Z"
   },
   {
    "duration": 879,
    "start_time": "2025-03-26T06:54:57.333Z"
   },
   {
    "duration": 6,
    "start_time": "2025-03-26T06:54:58.220Z"
   },
   {
    "duration": 329,
    "start_time": "2025-03-26T06:54:58.229Z"
   },
   {
    "duration": 4,
    "start_time": "2025-03-26T06:54:58.560Z"
   },
   {
    "duration": 6,
    "start_time": "2025-03-26T06:54:58.565Z"
   },
   {
    "duration": 3,
    "start_time": "2025-03-26T06:54:58.573Z"
   },
   {
    "duration": 48,
    "start_time": "2025-03-26T06:54:58.577Z"
   },
   {
    "duration": 143,
    "start_time": "2025-03-26T06:54:58.626Z"
   },
   {
    "duration": 445,
    "start_time": "2025-03-26T06:54:58.771Z"
   },
   {
    "duration": 136,
    "start_time": "2025-03-26T06:54:59.218Z"
   },
   {
    "duration": 81,
    "start_time": "2025-03-26T06:54:59.356Z"
   },
   {
    "duration": 434,
    "start_time": "2025-03-26T06:54:59.440Z"
   },
   {
    "duration": 506,
    "start_time": "2025-03-26T06:54:59.876Z"
   },
   {
    "duration": 39,
    "start_time": "2025-03-26T06:55:00.383Z"
   },
   {
    "duration": 320,
    "start_time": "2025-03-26T06:56:12.311Z"
   },
   {
    "duration": 72,
    "start_time": "2025-03-26T06:56:43.396Z"
   },
   {
    "duration": 810,
    "start_time": "2025-03-26T06:57:02.484Z"
   },
   {
    "duration": 4,
    "start_time": "2025-03-26T06:57:03.297Z"
   },
   {
    "duration": 912,
    "start_time": "2025-03-26T06:57:03.302Z"
   },
   {
    "duration": 5,
    "start_time": "2025-03-26T06:57:04.215Z"
   },
   {
    "duration": 313,
    "start_time": "2025-03-26T06:57:04.222Z"
   },
   {
    "duration": 4,
    "start_time": "2025-03-26T06:57:04.536Z"
   },
   {
    "duration": 23,
    "start_time": "2025-03-26T06:57:04.541Z"
   },
   {
    "duration": 31,
    "start_time": "2025-03-26T06:57:04.566Z"
   },
   {
    "duration": 45,
    "start_time": "2025-03-26T06:57:04.598Z"
   },
   {
    "duration": 176,
    "start_time": "2025-03-26T06:57:04.646Z"
   },
   {
    "duration": 457,
    "start_time": "2025-03-26T06:57:04.824Z"
   },
   {
    "duration": 157,
    "start_time": "2025-03-26T06:57:05.283Z"
   },
   {
    "duration": 80,
    "start_time": "2025-03-26T06:57:05.442Z"
   },
   {
    "duration": 494,
    "start_time": "2025-03-26T06:57:05.525Z"
   },
   {
    "duration": 514,
    "start_time": "2025-03-26T06:57:06.021Z"
   },
   {
    "duration": 18,
    "start_time": "2025-03-26T06:57:06.537Z"
   },
   {
    "duration": 314,
    "start_time": "2025-03-26T06:57:06.556Z"
   },
   {
    "duration": 215,
    "start_time": "2025-03-26T06:57:06.871Z"
   },
   {
    "duration": 1179,
    "start_time": "2025-03-26T06:57:24.560Z"
   },
   {
    "duration": 4,
    "start_time": "2025-03-26T06:57:25.741Z"
   },
   {
    "duration": 990,
    "start_time": "2025-03-26T06:57:25.747Z"
   },
   {
    "duration": 2,
    "start_time": "2025-03-26T06:57:26.739Z"
   },
   {
    "duration": 337,
    "start_time": "2025-03-26T06:57:26.743Z"
   },
   {
    "duration": 4,
    "start_time": "2025-03-26T06:57:27.082Z"
   },
   {
    "duration": 8,
    "start_time": "2025-03-26T06:57:27.104Z"
   },
   {
    "duration": 23,
    "start_time": "2025-03-26T06:57:27.114Z"
   },
   {
    "duration": 34,
    "start_time": "2025-03-26T06:57:27.138Z"
   },
   {
    "duration": 168,
    "start_time": "2025-03-26T06:57:27.173Z"
   },
   {
    "duration": 299,
    "start_time": "2025-03-26T06:57:27.342Z"
   },
   {
    "duration": 127,
    "start_time": "2025-03-26T06:57:27.645Z"
   },
   {
    "duration": 85,
    "start_time": "2025-03-26T06:57:27.773Z"
   },
   {
    "duration": 506,
    "start_time": "2025-03-26T06:57:27.860Z"
   },
   {
    "duration": 531,
    "start_time": "2025-03-26T06:57:28.368Z"
   },
   {
    "duration": 30,
    "start_time": "2025-03-26T06:57:28.908Z"
   },
   {
    "duration": 380,
    "start_time": "2025-03-26T06:57:28.940Z"
   },
   {
    "duration": 1230,
    "start_time": "2025-03-26T06:59:46.825Z"
   },
   {
    "duration": 3,
    "start_time": "2025-03-26T06:59:48.057Z"
   },
   {
    "duration": 884,
    "start_time": "2025-03-26T06:59:48.061Z"
   },
   {
    "duration": 2,
    "start_time": "2025-03-26T06:59:48.947Z"
   },
   {
    "duration": 315,
    "start_time": "2025-03-26T06:59:48.951Z"
   },
   {
    "duration": 3,
    "start_time": "2025-03-26T06:59:49.267Z"
   },
   {
    "duration": 8,
    "start_time": "2025-03-26T06:59:49.271Z"
   },
   {
    "duration": 3,
    "start_time": "2025-03-26T06:59:49.281Z"
   },
   {
    "duration": 40,
    "start_time": "2025-03-26T06:59:49.285Z"
   },
   {
    "duration": 144,
    "start_time": "2025-03-26T06:59:49.327Z"
   },
   {
    "duration": 280,
    "start_time": "2025-03-26T06:59:49.473Z"
   },
   {
    "duration": 138,
    "start_time": "2025-03-26T06:59:49.754Z"
   },
   {
    "duration": 84,
    "start_time": "2025-03-26T06:59:49.893Z"
   },
   {
    "duration": 475,
    "start_time": "2025-03-26T06:59:49.980Z"
   },
   {
    "duration": 513,
    "start_time": "2025-03-26T06:59:50.457Z"
   },
   {
    "duration": 4,
    "start_time": "2025-03-26T06:59:50.972Z"
   },
   {
    "duration": 75,
    "start_time": "2025-03-26T06:59:50.977Z"
   },
   {
    "duration": 106,
    "start_time": "2025-03-26T06:59:51.054Z"
   },
   {
    "duration": 1490,
    "start_time": "2025-03-26T07:00:03.239Z"
   },
   {
    "duration": 705,
    "start_time": "2025-03-26T07:00:20.955Z"
   },
   {
    "duration": 662,
    "start_time": "2025-03-26T07:01:49.921Z"
   },
   {
    "duration": 4,
    "start_time": "2025-03-26T07:07:54.712Z"
   },
   {
    "duration": 416,
    "start_time": "2025-03-26T07:08:31.095Z"
   },
   {
    "duration": 398,
    "start_time": "2025-03-26T07:09:40.543Z"
   },
   {
    "duration": 2121,
    "start_time": "2025-03-26T07:11:15.849Z"
   },
   {
    "duration": 40508,
    "start_time": "2025-03-26T07:11:45.492Z"
   },
   {
    "duration": 1808,
    "start_time": "2025-03-26T07:12:48.382Z"
   },
   {
    "duration": 1833,
    "start_time": "2025-03-26T07:14:57.360Z"
   },
   {
    "duration": 384,
    "start_time": "2025-03-26T07:15:17.448Z"
   },
   {
    "duration": 4,
    "start_time": "2025-03-26T07:18:27.406Z"
   },
   {
    "duration": 3,
    "start_time": "2025-03-26T07:18:35.249Z"
   },
   {
    "duration": 80,
    "start_time": "2025-03-26T07:19:23.284Z"
   },
   {
    "duration": 3,
    "start_time": "2025-03-26T07:19:33.404Z"
   },
   {
    "duration": 133,
    "start_time": "2025-03-26T07:19:37.288Z"
   },
   {
    "duration": 4,
    "start_time": "2025-03-26T07:22:01.152Z"
   },
   {
    "duration": 135,
    "start_time": "2025-03-26T07:22:17.129Z"
   },
   {
    "duration": 131,
    "start_time": "2025-03-26T07:22:34.570Z"
   },
   {
    "duration": 132,
    "start_time": "2025-03-26T07:23:11.167Z"
   },
   {
    "duration": 13,
    "start_time": "2025-03-26T07:23:39.934Z"
   },
   {
    "duration": 8690,
    "start_time": "2025-03-26T07:24:21.420Z"
   },
   {
    "duration": 5653,
    "start_time": "2025-03-26T07:24:45.451Z"
   },
   {
    "duration": 1088,
    "start_time": "2025-03-26T07:25:06.195Z"
   },
   {
    "duration": 3,
    "start_time": "2025-03-26T07:25:07.284Z"
   },
   {
    "duration": 785,
    "start_time": "2025-03-26T07:25:07.289Z"
   },
   {
    "duration": 3,
    "start_time": "2025-03-26T07:25:08.076Z"
   },
   {
    "duration": 256,
    "start_time": "2025-03-26T07:25:08.080Z"
   },
   {
    "duration": 3,
    "start_time": "2025-03-26T07:25:08.338Z"
   },
   {
    "duration": 4,
    "start_time": "2025-03-26T07:25:08.342Z"
   },
   {
    "duration": 7,
    "start_time": "2025-03-26T07:25:08.347Z"
   },
   {
    "duration": 27,
    "start_time": "2025-03-26T07:25:08.356Z"
   },
   {
    "duration": 130,
    "start_time": "2025-03-26T07:25:08.385Z"
   },
   {
    "duration": 229,
    "start_time": "2025-03-26T07:25:08.517Z"
   },
   {
    "duration": 103,
    "start_time": "2025-03-26T07:25:08.748Z"
   },
   {
    "duration": 73,
    "start_time": "2025-03-26T07:25:08.852Z"
   },
   {
    "duration": 396,
    "start_time": "2025-03-26T07:25:08.926Z"
   },
   {
    "duration": 458,
    "start_time": "2025-03-26T07:25:09.323Z"
   },
   {
    "duration": 3,
    "start_time": "2025-03-26T07:25:09.783Z"
   },
   {
    "duration": 7,
    "start_time": "2025-03-26T07:25:09.788Z"
   },
   {
    "duration": 24,
    "start_time": "2025-03-26T07:25:09.796Z"
   },
   {
    "duration": 19,
    "start_time": "2025-03-26T07:25:09.821Z"
   },
   {
    "duration": 604,
    "start_time": "2025-03-26T07:25:09.842Z"
   },
   {
    "duration": 365,
    "start_time": "2025-03-26T07:25:10.448Z"
   },
   {
    "duration": 1796,
    "start_time": "2025-03-26T07:25:10.816Z"
   },
   {
    "duration": 140,
    "start_time": "2025-03-26T07:25:12.614Z"
   },
   {
    "duration": 7466,
    "start_time": "2025-03-26T07:25:12.756Z"
   },
   {
    "duration": 13,
    "start_time": "2025-03-26T07:25:20.223Z"
   },
   {
    "duration": 11663,
    "start_time": "2025-03-26T07:25:47.635Z"
   },
   {
    "duration": 94,
    "start_time": "2025-03-26T07:37:09.703Z"
   },
   {
    "duration": 8,
    "start_time": "2025-03-26T07:37:25.341Z"
   },
   {
    "duration": 7,
    "start_time": "2025-03-26T07:37:32.089Z"
   },
   {
    "duration": 45,
    "start_time": "2025-03-26T07:43:26.784Z"
   },
   {
    "duration": 1123,
    "start_time": "2025-03-26T07:44:18.081Z"
   },
   {
    "duration": 3,
    "start_time": "2025-03-26T07:44:19.205Z"
   },
   {
    "duration": 791,
    "start_time": "2025-03-26T07:44:19.210Z"
   },
   {
    "duration": 3,
    "start_time": "2025-03-26T07:44:20.004Z"
   },
   {
    "duration": 257,
    "start_time": "2025-03-26T07:44:20.009Z"
   },
   {
    "duration": 3,
    "start_time": "2025-03-26T07:44:20.268Z"
   },
   {
    "duration": 5,
    "start_time": "2025-03-26T07:44:20.272Z"
   },
   {
    "duration": 10,
    "start_time": "2025-03-26T07:44:20.279Z"
   },
   {
    "duration": 34,
    "start_time": "2025-03-26T07:44:20.290Z"
   },
   {
    "duration": 127,
    "start_time": "2025-03-26T07:44:20.325Z"
   },
   {
    "duration": 228,
    "start_time": "2025-03-26T07:44:20.454Z"
   },
   {
    "duration": 112,
    "start_time": "2025-03-26T07:44:20.683Z"
   },
   {
    "duration": 60,
    "start_time": "2025-03-26T07:44:20.804Z"
   },
   {
    "duration": 413,
    "start_time": "2025-03-26T07:44:20.867Z"
   },
   {
    "duration": 471,
    "start_time": "2025-03-26T07:44:21.281Z"
   },
   {
    "duration": 4,
    "start_time": "2025-03-26T07:44:21.754Z"
   },
   {
    "duration": 33,
    "start_time": "2025-03-26T07:44:21.759Z"
   },
   {
    "duration": 36,
    "start_time": "2025-03-26T07:44:21.793Z"
   },
   {
    "duration": 44,
    "start_time": "2025-03-26T07:44:21.831Z"
   },
   {
    "duration": 659,
    "start_time": "2025-03-26T07:44:21.876Z"
   },
   {
    "duration": 379,
    "start_time": "2025-03-26T07:44:22.536Z"
   },
   {
    "duration": 1889,
    "start_time": "2025-03-26T07:44:22.917Z"
   },
   {
    "duration": 145,
    "start_time": "2025-03-26T07:44:24.808Z"
   },
   {
    "duration": 12528,
    "start_time": "2025-03-26T07:44:24.955Z"
   },
   {
    "duration": 21,
    "start_time": "2025-03-26T07:44:37.484Z"
   },
   {
    "duration": 50,
    "start_time": "2025-03-26T07:44:37.507Z"
   },
   {
    "duration": 3001,
    "start_time": "2025-03-26T07:44:37.559Z"
   },
   {
    "duration": 13,
    "start_time": "2025-03-26T07:44:40.561Z"
   },
   {
    "duration": 3402,
    "start_time": "2025-03-26T07:48:12.140Z"
   },
   {
    "duration": 729,
    "start_time": "2025-03-26T07:48:52.225Z"
   },
   {
    "duration": 3324,
    "start_time": "2025-03-26T08:03:20.633Z"
   },
   {
    "duration": 686,
    "start_time": "2025-03-26T08:03:35.655Z"
   },
   {
    "duration": 226,
    "start_time": "2025-03-26T08:04:17.429Z"
   },
   {
    "duration": 206,
    "start_time": "2025-03-26T08:05:10.571Z"
   },
   {
    "duration": 218,
    "start_time": "2025-03-26T08:06:21.164Z"
   },
   {
    "duration": 327,
    "start_time": "2025-03-26T08:07:05.771Z"
   },
   {
    "duration": 209,
    "start_time": "2025-03-26T08:08:45.405Z"
   },
   {
    "duration": 202,
    "start_time": "2025-03-26T08:09:50.769Z"
   },
   {
    "duration": 364,
    "start_time": "2025-03-26T08:10:00.464Z"
   },
   {
    "duration": 4,
    "start_time": "2025-03-26T08:11:14.140Z"
   },
   {
    "duration": 134,
    "start_time": "2025-03-26T08:11:28.260Z"
   },
   {
    "duration": 178,
    "start_time": "2025-03-26T08:12:33.770Z"
   },
   {
    "duration": 354,
    "start_time": "2025-03-26T08:13:18.333Z"
   },
   {
    "duration": 772,
    "start_time": "2025-03-26T08:14:16.062Z"
   },
   {
    "duration": 768,
    "start_time": "2025-03-26T08:14:50.052Z"
   },
   {
    "duration": 233,
    "start_time": "2025-03-26T08:15:37.808Z"
   },
   {
    "duration": 139,
    "start_time": "2025-03-26T08:15:54.481Z"
   },
   {
    "duration": 139,
    "start_time": "2025-03-26T08:16:16.031Z"
   },
   {
    "duration": 109,
    "start_time": "2025-03-26T08:16:59.552Z"
   },
   {
    "duration": 86,
    "start_time": "2025-03-26T08:17:15.484Z"
   },
   {
    "duration": 81,
    "start_time": "2025-03-26T08:18:05.055Z"
   },
   {
    "duration": 38914,
    "start_time": "2025-03-26T08:19:08.059Z"
   },
   {
    "duration": 527,
    "start_time": "2025-03-26T08:19:48.982Z"
   },
   {
    "duration": 527,
    "start_time": "2025-03-26T08:20:41.724Z"
   },
   {
    "duration": 19,
    "start_time": "2025-03-26T08:26:08.484Z"
   },
   {
    "duration": 3285,
    "start_time": "2025-03-26T08:28:02.473Z"
   },
   {
    "duration": 1090,
    "start_time": "2025-03-26T08:28:05.761Z"
   },
   {
    "duration": 3,
    "start_time": "2025-03-26T08:28:06.855Z"
   },
   {
    "duration": 866,
    "start_time": "2025-03-26T08:28:06.860Z"
   },
   {
    "duration": 3,
    "start_time": "2025-03-26T08:28:07.728Z"
   },
   {
    "duration": 257,
    "start_time": "2025-03-26T08:28:07.732Z"
   },
   {
    "duration": 15,
    "start_time": "2025-03-26T08:28:07.990Z"
   },
   {
    "duration": 12,
    "start_time": "2025-03-26T08:28:08.006Z"
   },
   {
    "duration": 6,
    "start_time": "2025-03-26T08:28:08.019Z"
   },
   {
    "duration": 44,
    "start_time": "2025-03-26T08:28:08.027Z"
   },
   {
    "duration": 127,
    "start_time": "2025-03-26T08:28:08.072Z"
   },
   {
    "duration": 258,
    "start_time": "2025-03-26T08:28:08.204Z"
   },
   {
    "duration": 110,
    "start_time": "2025-03-26T08:28:08.465Z"
   },
   {
    "duration": 69,
    "start_time": "2025-03-26T08:28:08.576Z"
   },
   {
    "duration": 423,
    "start_time": "2025-03-26T08:28:08.647Z"
   },
   {
    "duration": 472,
    "start_time": "2025-03-26T08:28:09.072Z"
   },
   {
    "duration": 4,
    "start_time": "2025-03-26T08:28:09.545Z"
   },
   {
    "duration": 6,
    "start_time": "2025-03-26T08:28:09.550Z"
   },
   {
    "duration": 4,
    "start_time": "2025-03-26T08:28:09.557Z"
   },
   {
    "duration": 14,
    "start_time": "2025-03-26T08:28:09.562Z"
   },
   {
    "duration": 644,
    "start_time": "2025-03-26T08:28:09.577Z"
   },
   {
    "duration": 374,
    "start_time": "2025-03-26T08:28:10.222Z"
   },
   {
    "duration": 1890,
    "start_time": "2025-03-26T08:28:10.603Z"
   },
   {
    "duration": 148,
    "start_time": "2025-03-26T08:28:12.495Z"
   },
   {
    "duration": 12465,
    "start_time": "2025-03-26T08:28:12.645Z"
   },
   {
    "duration": 10,
    "start_time": "2025-03-26T08:28:25.112Z"
   },
   {
    "duration": 214,
    "start_time": "2025-03-26T08:28:25.124Z"
   },
   {
    "duration": 3084,
    "start_time": "2025-03-26T08:28:25.340Z"
   },
   {
    "duration": 3411,
    "start_time": "2025-03-26T08:28:28.426Z"
   },
   {
    "duration": 212,
    "start_time": "2025-03-26T08:28:31.838Z"
   },
   {
    "duration": 216,
    "start_time": "2025-03-26T08:28:32.052Z"
   },
   {
    "duration": 372,
    "start_time": "2025-03-26T08:28:32.270Z"
   },
   {
    "duration": 673,
    "start_time": "2025-03-26T08:28:32.643Z"
   },
   {
    "duration": 142,
    "start_time": "2025-03-26T08:28:33.317Z"
   },
   {
    "duration": 86,
    "start_time": "2025-03-26T08:28:33.461Z"
   },
   {
    "duration": 626,
    "start_time": "2025-03-26T08:28:33.549Z"
   },
   {
    "duration": 28,
    "start_time": "2025-03-26T08:28:34.177Z"
   },
   {
    "duration": 78485,
    "start_time": "2025-03-26T08:28:34.206Z"
   },
   {
    "duration": 1239,
    "start_time": "2025-03-26T08:30:45.220Z"
   },
   {
    "duration": 681,
    "start_time": "2025-03-26T08:35:59.034Z"
   },
   {
    "duration": 95,
    "start_time": "2025-03-26T08:36:34.197Z"
   },
   {
    "duration": 158,
    "start_time": "2025-03-26T08:37:23.041Z"
   },
   {
    "duration": 2293,
    "start_time": "2025-03-26T08:37:31.288Z"
   },
   {
    "duration": 1164,
    "start_time": "2025-03-26T08:37:33.584Z"
   },
   {
    "duration": 3,
    "start_time": "2025-03-26T08:37:34.749Z"
   },
   {
    "duration": 855,
    "start_time": "2025-03-26T08:37:34.754Z"
   },
   {
    "duration": 3,
    "start_time": "2025-03-26T08:37:35.611Z"
   },
   {
    "duration": 248,
    "start_time": "2025-03-26T08:37:35.615Z"
   },
   {
    "duration": 3,
    "start_time": "2025-03-26T08:37:35.865Z"
   },
   {
    "duration": 48,
    "start_time": "2025-03-26T08:37:35.870Z"
   },
   {
    "duration": 12,
    "start_time": "2025-03-26T08:37:35.919Z"
   },
   {
    "duration": 39,
    "start_time": "2025-03-26T08:37:35.933Z"
   },
   {
    "duration": 277,
    "start_time": "2025-03-26T08:37:35.974Z"
   },
   {
    "duration": 91,
    "start_time": "2025-03-26T08:37:36.253Z"
   },
   {
    "duration": 248,
    "start_time": "2025-03-26T08:37:36.346Z"
   },
   {
    "duration": 114,
    "start_time": "2025-03-26T08:37:36.603Z"
   },
   {
    "duration": 62,
    "start_time": "2025-03-26T08:37:36.719Z"
   },
   {
    "duration": 292,
    "start_time": "2025-03-26T08:37:36.783Z"
   },
   {
    "duration": 277,
    "start_time": "2025-03-26T08:37:37.076Z"
   },
   {
    "duration": 3,
    "start_time": "2025-03-26T08:37:37.355Z"
   },
   {
    "duration": 149,
    "start_time": "2025-03-26T08:37:37.360Z"
   },
   {
    "duration": 22,
    "start_time": "2025-03-26T08:37:37.511Z"
   },
   {
    "duration": 24,
    "start_time": "2025-03-26T08:37:37.536Z"
   },
   {
    "duration": 649,
    "start_time": "2025-03-26T08:37:37.562Z"
   },
   {
    "duration": 411,
    "start_time": "2025-03-26T08:37:38.214Z"
   },
   {
    "duration": 1969,
    "start_time": "2025-03-26T08:37:38.626Z"
   },
   {
    "duration": 149,
    "start_time": "2025-03-26T08:37:40.597Z"
   },
   {
    "duration": 12694,
    "start_time": "2025-03-26T08:37:40.747Z"
   },
   {
    "duration": 8,
    "start_time": "2025-03-26T08:37:53.442Z"
   },
   {
    "duration": 30,
    "start_time": "2025-03-26T08:37:53.451Z"
   },
   {
    "duration": 2957,
    "start_time": "2025-03-26T08:37:53.482Z"
   },
   {
    "duration": 3523,
    "start_time": "2025-03-26T08:37:56.441Z"
   },
   {
    "duration": 223,
    "start_time": "2025-03-26T08:37:59.966Z"
   },
   {
    "duration": 221,
    "start_time": "2025-03-26T08:38:00.190Z"
   },
   {
    "duration": 369,
    "start_time": "2025-03-26T08:38:00.412Z"
   },
   {
    "duration": 672,
    "start_time": "2025-03-26T08:38:00.782Z"
   },
   {
    "duration": 139,
    "start_time": "2025-03-26T08:38:01.456Z"
   },
   {
    "duration": 76,
    "start_time": "2025-03-26T08:38:01.603Z"
   },
   {
    "duration": 610,
    "start_time": "2025-03-26T08:38:01.681Z"
   },
   {
    "duration": 29,
    "start_time": "2025-03-26T08:38:02.293Z"
   },
   {
    "duration": 1003,
    "start_time": "2025-03-26T08:38:02.323Z"
   },
   {
    "duration": 58,
    "start_time": "2025-03-26T09:01:57.874Z"
   },
   {
    "duration": 17,
    "start_time": "2025-03-26T09:02:05.693Z"
   },
   {
    "duration": 8335,
    "start_time": "2025-03-26T09:02:34.492Z"
   },
   {
    "duration": 2,
    "start_time": "2025-03-26T09:18:41.655Z"
   },
   {
    "duration": 9,
    "start_time": "2025-03-26T09:20:07.300Z"
   },
   {
    "duration": 2275,
    "start_time": "2025-03-26T09:20:33.185Z"
   },
   {
    "duration": 1287,
    "start_time": "2025-03-26T09:20:35.462Z"
   },
   {
    "duration": 4,
    "start_time": "2025-03-26T09:20:36.751Z"
   },
   {
    "duration": 838,
    "start_time": "2025-03-26T09:20:36.757Z"
   },
   {
    "duration": 8,
    "start_time": "2025-03-26T09:20:37.596Z"
   },
   {
    "duration": 369,
    "start_time": "2025-03-26T09:20:37.605Z"
   },
   {
    "duration": 3,
    "start_time": "2025-03-26T09:20:37.976Z"
   },
   {
    "duration": 13,
    "start_time": "2025-03-26T09:20:37.981Z"
   },
   {
    "duration": 8,
    "start_time": "2025-03-26T09:20:37.996Z"
   },
   {
    "duration": 68,
    "start_time": "2025-03-26T09:20:38.006Z"
   },
   {
    "duration": 309,
    "start_time": "2025-03-26T09:20:38.076Z"
   },
   {
    "duration": 88,
    "start_time": "2025-03-26T09:20:38.386Z"
   },
   {
    "duration": 358,
    "start_time": "2025-03-26T09:20:38.476Z"
   },
   {
    "duration": 139,
    "start_time": "2025-03-26T09:20:38.835Z"
   },
   {
    "duration": 73,
    "start_time": "2025-03-26T09:20:38.975Z"
   },
   {
    "duration": 314,
    "start_time": "2025-03-26T09:20:39.049Z"
   },
   {
    "duration": 279,
    "start_time": "2025-03-26T09:20:39.365Z"
   },
   {
    "duration": 4,
    "start_time": "2025-03-26T09:20:39.646Z"
   },
   {
    "duration": 80,
    "start_time": "2025-03-26T09:20:39.651Z"
   },
   {
    "duration": 17,
    "start_time": "2025-03-26T09:20:39.732Z"
   },
   {
    "duration": 20,
    "start_time": "2025-03-26T09:20:39.751Z"
   },
   {
    "duration": 644,
    "start_time": "2025-03-26T09:20:39.772Z"
   },
   {
    "duration": 372,
    "start_time": "2025-03-26T09:20:40.418Z"
   },
   {
    "duration": 1921,
    "start_time": "2025-03-26T09:20:40.791Z"
   },
   {
    "duration": 149,
    "start_time": "2025-03-26T09:20:42.714Z"
   },
   {
    "duration": 12574,
    "start_time": "2025-03-26T09:20:42.864Z"
   },
   {
    "duration": 8,
    "start_time": "2025-03-26T09:20:55.440Z"
   },
   {
    "duration": 94,
    "start_time": "2025-03-26T09:20:55.451Z"
   },
   {
    "duration": 2995,
    "start_time": "2025-03-26T09:20:55.547Z"
   },
   {
    "duration": 3437,
    "start_time": "2025-03-26T09:20:58.544Z"
   },
   {
    "duration": 217,
    "start_time": "2025-03-26T09:21:01.982Z"
   },
   {
    "duration": 214,
    "start_time": "2025-03-26T09:21:02.204Z"
   },
   {
    "duration": 371,
    "start_time": "2025-03-26T09:21:02.419Z"
   },
   {
    "duration": 675,
    "start_time": "2025-03-26T09:21:02.792Z"
   },
   {
    "duration": 146,
    "start_time": "2025-03-26T09:21:03.469Z"
   },
   {
    "duration": 75,
    "start_time": "2025-03-26T09:21:03.616Z"
   },
   {
    "duration": 722,
    "start_time": "2025-03-26T09:21:03.703Z"
   },
   {
    "duration": 57,
    "start_time": "2025-03-26T09:21:04.427Z"
   },
   {
    "duration": 24,
    "start_time": "2025-03-26T09:21:04.485Z"
   },
   {
    "duration": 8547,
    "start_time": "2025-03-26T09:21:04.510Z"
   },
   {
    "duration": 2,
    "start_time": "2025-03-26T09:21:13.059Z"
   },
   {
    "duration": 162,
    "start_time": "2025-03-26T09:21:13.063Z"
   },
   {
    "duration": 4,
    "start_time": "2025-03-26T09:21:48.827Z"
   },
   {
    "duration": 12,
    "start_time": "2025-03-26T09:32:55.941Z"
   },
   {
    "duration": 3,
    "start_time": "2025-03-26T09:40:41.312Z"
   },
   {
    "duration": 101,
    "start_time": "2025-03-26T09:41:25.613Z"
   },
   {
    "duration": 2238,
    "start_time": "2025-03-26T09:42:09.371Z"
   },
   {
    "duration": 1329,
    "start_time": "2025-03-26T09:42:11.611Z"
   },
   {
    "duration": 3,
    "start_time": "2025-03-26T09:42:12.942Z"
   },
   {
    "duration": 830,
    "start_time": "2025-03-26T09:42:12.946Z"
   },
   {
    "duration": 3,
    "start_time": "2025-03-26T09:42:13.778Z"
   },
   {
    "duration": 284,
    "start_time": "2025-03-26T09:42:13.782Z"
   },
   {
    "duration": 3,
    "start_time": "2025-03-26T09:42:14.067Z"
   },
   {
    "duration": 15,
    "start_time": "2025-03-26T09:42:14.071Z"
   },
   {
    "duration": 26,
    "start_time": "2025-03-26T09:42:14.087Z"
   },
   {
    "duration": 49,
    "start_time": "2025-03-26T09:42:14.114Z"
   },
   {
    "duration": 272,
    "start_time": "2025-03-26T09:42:14.164Z"
   },
   {
    "duration": 99,
    "start_time": "2025-03-26T09:42:14.438Z"
   },
   {
    "duration": 253,
    "start_time": "2025-03-26T09:42:14.539Z"
   },
   {
    "duration": 113,
    "start_time": "2025-03-26T09:42:14.794Z"
   },
   {
    "duration": 63,
    "start_time": "2025-03-26T09:42:14.908Z"
   },
   {
    "duration": 283,
    "start_time": "2025-03-26T09:42:14.973Z"
   },
   {
    "duration": 279,
    "start_time": "2025-03-26T09:42:15.258Z"
   },
   {
    "duration": 3,
    "start_time": "2025-03-26T09:42:15.539Z"
   },
   {
    "duration": 70,
    "start_time": "2025-03-26T09:42:15.544Z"
   },
   {
    "duration": 8,
    "start_time": "2025-03-26T09:42:15.615Z"
   },
   {
    "duration": 20,
    "start_time": "2025-03-26T09:42:15.625Z"
   },
   {
    "duration": 621,
    "start_time": "2025-03-26T09:42:15.646Z"
   },
   {
    "duration": 380,
    "start_time": "2025-03-26T09:42:16.268Z"
   },
   {
    "duration": 1999,
    "start_time": "2025-03-26T09:42:16.650Z"
   },
   {
    "duration": 149,
    "start_time": "2025-03-26T09:42:18.651Z"
   },
   {
    "duration": 12567,
    "start_time": "2025-03-26T09:42:18.804Z"
   },
   {
    "duration": 9,
    "start_time": "2025-03-26T09:42:31.373Z"
   },
   {
    "duration": 43,
    "start_time": "2025-03-26T09:42:31.383Z"
   },
   {
    "duration": 2930,
    "start_time": "2025-03-26T09:42:31.428Z"
   },
   {
    "duration": 3469,
    "start_time": "2025-03-26T09:42:34.360Z"
   },
   {
    "duration": 214,
    "start_time": "2025-03-26T09:42:37.831Z"
   },
   {
    "duration": 250,
    "start_time": "2025-03-26T09:42:38.046Z"
   },
   {
    "duration": 367,
    "start_time": "2025-03-26T09:42:38.298Z"
   },
   {
    "duration": 699,
    "start_time": "2025-03-26T09:42:38.667Z"
   },
   {
    "duration": 138,
    "start_time": "2025-03-26T09:42:39.368Z"
   },
   {
    "duration": 75,
    "start_time": "2025-03-26T09:42:39.507Z"
   },
   {
    "duration": 704,
    "start_time": "2025-03-26T09:42:39.584Z"
   },
   {
    "duration": 65,
    "start_time": "2025-03-26T09:42:40.290Z"
   },
   {
    "duration": 12,
    "start_time": "2025-03-26T09:42:40.356Z"
   },
   {
    "duration": 8287,
    "start_time": "2025-03-26T09:42:40.369Z"
   },
   {
    "duration": 2,
    "start_time": "2025-03-26T09:42:48.660Z"
   },
   {
    "duration": 143,
    "start_time": "2025-03-26T09:42:48.664Z"
   },
   {
    "duration": 4,
    "start_time": "2025-03-26T09:42:48.809Z"
   },
   {
    "duration": 17,
    "start_time": "2025-03-26T09:42:48.814Z"
   },
   {
    "duration": 25,
    "start_time": "2025-03-26T09:42:48.832Z"
   },
   {
    "duration": 154,
    "start_time": "2025-03-26T09:42:48.858Z"
   },
   {
    "duration": 2258,
    "start_time": "2025-03-26T09:43:16.685Z"
   },
   {
    "duration": 1418,
    "start_time": "2025-03-26T09:43:18.946Z"
   },
   {
    "duration": 3,
    "start_time": "2025-03-26T09:43:20.365Z"
   },
   {
    "duration": 804,
    "start_time": "2025-03-26T09:43:20.370Z"
   },
   {
    "duration": 3,
    "start_time": "2025-03-26T09:43:21.175Z"
   },
   {
    "duration": 300,
    "start_time": "2025-03-26T09:43:21.179Z"
   },
   {
    "duration": 3,
    "start_time": "2025-03-26T09:43:21.480Z"
   },
   {
    "duration": 27,
    "start_time": "2025-03-26T09:43:21.485Z"
   },
   {
    "duration": 82,
    "start_time": "2025-03-26T09:43:21.513Z"
   },
   {
    "duration": 38,
    "start_time": "2025-03-26T09:43:21.598Z"
   },
   {
    "duration": 273,
    "start_time": "2025-03-26T09:43:21.638Z"
   },
   {
    "duration": 95,
    "start_time": "2025-03-26T09:43:21.913Z"
   },
   {
    "duration": 196,
    "start_time": "2025-03-26T09:43:22.009Z"
   },
   {
    "duration": 111,
    "start_time": "2025-03-26T09:43:22.207Z"
   },
   {
    "duration": 61,
    "start_time": "2025-03-26T09:43:22.319Z"
   },
   {
    "duration": 277,
    "start_time": "2025-03-26T09:43:22.381Z"
   },
   {
    "duration": 274,
    "start_time": "2025-03-26T09:43:22.660Z"
   },
   {
    "duration": 3,
    "start_time": "2025-03-26T09:43:22.936Z"
   },
   {
    "duration": 27,
    "start_time": "2025-03-26T09:43:22.941Z"
   },
   {
    "duration": 5,
    "start_time": "2025-03-26T09:43:22.970Z"
   },
   {
    "duration": 23,
    "start_time": "2025-03-26T09:43:22.977Z"
   },
   {
    "duration": 639,
    "start_time": "2025-03-26T09:43:23.001Z"
   },
   {
    "duration": 368,
    "start_time": "2025-03-26T09:43:23.642Z"
   },
   {
    "duration": 1906,
    "start_time": "2025-03-26T09:43:24.012Z"
   },
   {
    "duration": 141,
    "start_time": "2025-03-26T09:43:25.920Z"
   },
   {
    "duration": 12394,
    "start_time": "2025-03-26T09:43:26.062Z"
   },
   {
    "duration": 8,
    "start_time": "2025-03-26T09:43:38.457Z"
   },
   {
    "duration": 36,
    "start_time": "2025-03-26T09:43:38.468Z"
   },
   {
    "duration": 2688,
    "start_time": "2025-03-26T09:43:38.506Z"
   },
   {
    "duration": 3448,
    "start_time": "2025-03-26T09:43:41.203Z"
   },
   {
    "duration": 225,
    "start_time": "2025-03-26T09:43:44.653Z"
   },
   {
    "duration": 232,
    "start_time": "2025-03-26T09:43:44.880Z"
   },
   {
    "duration": 389,
    "start_time": "2025-03-26T09:43:45.115Z"
   },
   {
    "duration": 696,
    "start_time": "2025-03-26T09:43:45.505Z"
   },
   {
    "duration": 251,
    "start_time": "2025-03-26T09:43:46.203Z"
   },
   {
    "duration": 93,
    "start_time": "2025-03-26T09:43:46.455Z"
   },
   {
    "duration": 536,
    "start_time": "2025-03-26T09:43:46.549Z"
   },
   {
    "duration": 66,
    "start_time": "2025-03-26T09:43:47.086Z"
   },
   {
    "duration": 12,
    "start_time": "2025-03-26T09:43:47.154Z"
   },
   {
    "duration": 8352,
    "start_time": "2025-03-26T09:43:47.168Z"
   },
   {
    "duration": 3,
    "start_time": "2025-03-26T09:43:55.522Z"
   },
   {
    "duration": 168,
    "start_time": "2025-03-26T09:43:55.526Z"
   },
   {
    "duration": 4,
    "start_time": "2025-03-26T09:43:55.696Z"
   },
   {
    "duration": 18,
    "start_time": "2025-03-26T09:43:55.704Z"
   },
   {
    "duration": 99,
    "start_time": "2025-03-26T09:43:55.724Z"
   },
   {
    "duration": 137,
    "start_time": "2025-03-26T09:43:55.825Z"
   },
   {
    "duration": 3,
    "start_time": "2025-03-26T09:44:16.077Z"
   },
   {
    "duration": 3,
    "start_time": "2025-03-26T09:44:20.228Z"
   },
   {
    "duration": 5,
    "start_time": "2025-03-26T09:46:15.685Z"
   },
   {
    "duration": 3,
    "start_time": "2025-03-26T09:46:20.377Z"
   },
   {
    "duration": 4454,
    "start_time": "2025-03-26T09:51:39.556Z"
   },
   {
    "duration": 27,
    "start_time": "2025-03-26T09:52:12.666Z"
   },
   {
    "duration": 3,
    "start_time": "2025-03-26T09:52:43.680Z"
   },
   {
    "duration": 4,
    "start_time": "2025-03-26T09:55:22.605Z"
   },
   {
    "duration": 16,
    "start_time": "2025-03-26T09:55:34.721Z"
   },
   {
    "duration": 5,
    "start_time": "2025-03-26T09:57:09.464Z"
   },
   {
    "duration": 3,
    "start_time": "2025-03-26T09:57:20.623Z"
   },
   {
    "duration": 2,
    "start_time": "2025-03-26T09:58:17.532Z"
   },
   {
    "duration": 4499,
    "start_time": "2025-03-26T10:09:29.567Z"
   },
   {
    "duration": 1444,
    "start_time": "2025-03-26T10:09:34.068Z"
   },
   {
    "duration": 4,
    "start_time": "2025-03-26T10:09:35.514Z"
   },
   {
    "duration": 957,
    "start_time": "2025-03-26T10:09:35.520Z"
   },
   {
    "duration": 4,
    "start_time": "2025-03-26T10:09:36.479Z"
   },
   {
    "duration": 278,
    "start_time": "2025-03-26T10:09:36.484Z"
   },
   {
    "duration": 3,
    "start_time": "2025-03-26T10:09:36.764Z"
   },
   {
    "duration": 32,
    "start_time": "2025-03-26T10:09:36.768Z"
   },
   {
    "duration": 42,
    "start_time": "2025-03-26T10:09:36.801Z"
   },
   {
    "duration": 66,
    "start_time": "2025-03-26T10:09:36.844Z"
   },
   {
    "duration": 287,
    "start_time": "2025-03-26T10:09:36.912Z"
   },
   {
    "duration": 90,
    "start_time": "2025-03-26T10:09:37.200Z"
   },
   {
    "duration": 276,
    "start_time": "2025-03-26T10:09:37.304Z"
   },
   {
    "duration": 116,
    "start_time": "2025-03-26T10:09:37.583Z"
   },
   {
    "duration": 94,
    "start_time": "2025-03-26T10:09:37.704Z"
   },
   {
    "duration": 286,
    "start_time": "2025-03-26T10:09:37.801Z"
   },
   {
    "duration": 335,
    "start_time": "2025-03-26T10:09:38.089Z"
   },
   {
    "duration": 5,
    "start_time": "2025-03-26T10:09:38.425Z"
   },
   {
    "duration": 40,
    "start_time": "2025-03-26T10:09:38.432Z"
   },
   {
    "duration": 16,
    "start_time": "2025-03-26T10:09:38.473Z"
   },
   {
    "duration": 17,
    "start_time": "2025-03-26T10:09:38.491Z"
   },
   {
    "duration": 666,
    "start_time": "2025-03-26T10:09:38.509Z"
   },
   {
    "duration": 456,
    "start_time": "2025-03-26T10:09:39.176Z"
   },
   {
    "duration": 1881,
    "start_time": "2025-03-26T10:09:39.633Z"
   },
   {
    "duration": 151,
    "start_time": "2025-03-26T10:09:41.516Z"
   },
   {
    "duration": 12702,
    "start_time": "2025-03-26T10:09:41.668Z"
   },
   {
    "duration": 8,
    "start_time": "2025-03-26T10:09:54.372Z"
   },
   {
    "duration": 55,
    "start_time": "2025-03-26T10:09:54.382Z"
   },
   {
    "duration": 2794,
    "start_time": "2025-03-26T10:09:54.439Z"
   },
   {
    "duration": 3825,
    "start_time": "2025-03-26T10:09:57.235Z"
   },
   {
    "duration": 220,
    "start_time": "2025-03-26T10:10:01.062Z"
   },
   {
    "duration": 224,
    "start_time": "2025-03-26T10:10:01.283Z"
   },
   {
    "duration": 373,
    "start_time": "2025-03-26T10:10:01.509Z"
   },
   {
    "duration": 780,
    "start_time": "2025-03-26T10:10:01.884Z"
   },
   {
    "duration": 148,
    "start_time": "2025-03-26T10:10:02.665Z"
   },
   {
    "duration": 78,
    "start_time": "2025-03-26T10:10:02.814Z"
   },
   {
    "duration": 549,
    "start_time": "2025-03-26T10:10:02.893Z"
   },
   {
    "duration": 64,
    "start_time": "2025-03-26T10:10:03.444Z"
   },
   {
    "duration": 110,
    "start_time": "2025-03-26T10:10:03.510Z"
   },
   {
    "duration": 8515,
    "start_time": "2025-03-26T10:10:03.622Z"
   },
   {
    "duration": 3,
    "start_time": "2025-03-26T10:10:12.140Z"
   },
   {
    "duration": 99,
    "start_time": "2025-03-26T10:10:12.144Z"
   },
   {
    "duration": 4,
    "start_time": "2025-03-26T10:10:12.244Z"
   },
   {
    "duration": 77,
    "start_time": "2025-03-26T10:10:12.249Z"
   },
   {
    "duration": 23,
    "start_time": "2025-03-26T10:10:12.328Z"
   },
   {
    "duration": 11,
    "start_time": "2025-03-26T10:10:12.353Z"
   },
   {
    "duration": 3,
    "start_time": "2025-03-26T10:10:12.365Z"
   },
   {
    "duration": 10,
    "start_time": "2025-03-26T10:10:12.370Z"
   },
   {
    "duration": 118,
    "start_time": "2025-03-26T10:10:12.381Z"
   },
   {
    "duration": 3,
    "start_time": "2025-03-26T10:10:35.228Z"
   },
   {
    "duration": 4,
    "start_time": "2025-03-26T10:10:39.491Z"
   },
   {
    "duration": 12,
    "start_time": "2025-03-26T10:36:15.482Z"
   },
   {
    "duration": 4,
    "start_time": "2025-03-26T10:36:40.799Z"
   },
   {
    "duration": 5,
    "start_time": "2025-03-26T10:36:49.369Z"
   },
   {
    "duration": 10,
    "start_time": "2025-03-26T10:41:37.158Z"
   },
   {
    "duration": 4,
    "start_time": "2025-03-26T10:42:10.575Z"
   },
   {
    "duration": 9,
    "start_time": "2025-03-26T10:42:19.921Z"
   },
   {
    "duration": 11,
    "start_time": "2025-03-26T10:44:15.720Z"
   },
   {
    "duration": 4,
    "start_time": "2025-03-26T10:44:44.681Z"
   },
   {
    "duration": 20724,
    "start_time": "2025-03-26T10:48:17.502Z"
   },
   {
    "duration": 16,
    "start_time": "2025-03-26T10:48:51.254Z"
   },
   {
    "duration": 4,
    "start_time": "2025-03-26T10:49:30.790Z"
   },
   {
    "duration": 11,
    "start_time": "2025-03-26T10:49:59.712Z"
   },
   {
    "duration": 10,
    "start_time": "2025-03-26T10:50:53.437Z"
   },
   {
    "duration": 5,
    "start_time": "2025-03-26T10:51:19.132Z"
   },
   {
    "duration": 11,
    "start_time": "2025-03-26T10:51:24.199Z"
   },
   {
    "duration": 15,
    "start_time": "2025-03-26T10:55:22.214Z"
   },
   {
    "duration": 4,
    "start_time": "2025-03-26T11:01:06.062Z"
   },
   {
    "duration": 4,
    "start_time": "2025-03-26T11:04:15.359Z"
   },
   {
    "duration": 4,
    "start_time": "2025-03-26T11:04:19.291Z"
   },
   {
    "duration": 8866,
    "start_time": "2025-03-26T11:04:33.428Z"
   },
   {
    "duration": 9593,
    "start_time": "2025-03-26T11:09:37.137Z"
   },
   {
    "duration": 2359,
    "start_time": "2025-03-26T11:11:15.017Z"
   },
   {
    "duration": 3,
    "start_time": "2025-03-26T11:11:17.378Z"
   },
   {
    "duration": 1318,
    "start_time": "2025-03-26T11:11:17.382Z"
   },
   {
    "duration": 4,
    "start_time": "2025-03-26T11:11:18.703Z"
   },
   {
    "duration": 847,
    "start_time": "2025-03-26T11:11:18.708Z"
   },
   {
    "duration": 3,
    "start_time": "2025-03-26T11:11:19.556Z"
   },
   {
    "duration": 248,
    "start_time": "2025-03-26T11:11:19.560Z"
   },
   {
    "duration": 3,
    "start_time": "2025-03-26T11:11:19.810Z"
   },
   {
    "duration": 82,
    "start_time": "2025-03-26T11:11:19.814Z"
   },
   {
    "duration": 63,
    "start_time": "2025-03-26T11:11:19.899Z"
   },
   {
    "duration": 43,
    "start_time": "2025-03-26T11:11:19.964Z"
   },
   {
    "duration": 280,
    "start_time": "2025-03-26T11:11:20.008Z"
   },
   {
    "duration": 86,
    "start_time": "2025-03-26T11:11:20.290Z"
   },
   {
    "duration": 194,
    "start_time": "2025-03-26T11:11:20.377Z"
   },
   {
    "duration": 110,
    "start_time": "2025-03-26T11:11:20.573Z"
   },
   {
    "duration": 71,
    "start_time": "2025-03-26T11:11:20.684Z"
   },
   {
    "duration": 270,
    "start_time": "2025-03-26T11:11:20.756Z"
   },
   {
    "duration": 286,
    "start_time": "2025-03-26T11:11:21.028Z"
   },
   {
    "duration": 4,
    "start_time": "2025-03-26T11:11:21.315Z"
   },
   {
    "duration": 27,
    "start_time": "2025-03-26T11:11:21.320Z"
   },
   {
    "duration": 21,
    "start_time": "2025-03-26T11:11:21.349Z"
   },
   {
    "duration": 23,
    "start_time": "2025-03-26T11:11:21.371Z"
   },
   {
    "duration": 656,
    "start_time": "2025-03-26T11:11:21.395Z"
   },
   {
    "duration": 451,
    "start_time": "2025-03-26T11:11:22.053Z"
   },
   {
    "duration": 1915,
    "start_time": "2025-03-26T11:11:22.506Z"
   },
   {
    "duration": 149,
    "start_time": "2025-03-26T11:11:24.422Z"
   },
   {
    "duration": 12916,
    "start_time": "2025-03-26T11:11:24.572Z"
   },
   {
    "duration": 16,
    "start_time": "2025-03-26T11:11:37.492Z"
   },
   {
    "duration": 33,
    "start_time": "2025-03-26T11:11:37.510Z"
   },
   {
    "duration": 2751,
    "start_time": "2025-03-26T11:11:37.545Z"
   },
   {
    "duration": 3540,
    "start_time": "2025-03-26T11:11:40.298Z"
   },
   {
    "duration": 221,
    "start_time": "2025-03-26T11:11:43.839Z"
   },
   {
    "duration": 227,
    "start_time": "2025-03-26T11:11:44.062Z"
   },
   {
    "duration": 367,
    "start_time": "2025-03-26T11:11:44.290Z"
   },
   {
    "duration": 796,
    "start_time": "2025-03-26T11:11:44.659Z"
   },
   {
    "duration": 153,
    "start_time": "2025-03-26T11:11:45.457Z"
   },
   {
    "duration": 78,
    "start_time": "2025-03-26T11:11:45.611Z"
   },
   {
    "duration": 521,
    "start_time": "2025-03-26T11:11:45.703Z"
   },
   {
    "duration": 66,
    "start_time": "2025-03-26T11:11:46.225Z"
   },
   {
    "duration": 96,
    "start_time": "2025-03-26T11:11:46.303Z"
   },
   {
    "duration": 8349,
    "start_time": "2025-03-26T11:11:46.401Z"
   },
   {
    "duration": 3,
    "start_time": "2025-03-26T11:11:54.751Z"
   },
   {
    "duration": 112,
    "start_time": "2025-03-26T11:11:54.755Z"
   },
   {
    "duration": 4,
    "start_time": "2025-03-26T11:11:54.868Z"
   },
   {
    "duration": 26,
    "start_time": "2025-03-26T11:11:54.874Z"
   },
   {
    "duration": 5,
    "start_time": "2025-03-26T11:11:54.902Z"
   },
   {
    "duration": 3,
    "start_time": "2025-03-26T11:11:54.909Z"
   },
   {
    "duration": 5,
    "start_time": "2025-03-26T11:11:54.913Z"
   },
   {
    "duration": 5,
    "start_time": "2025-03-26T11:11:54.919Z"
   },
   {
    "duration": 10,
    "start_time": "2025-03-26T11:11:54.925Z"
   },
   {
    "duration": 4,
    "start_time": "2025-03-26T11:11:54.936Z"
   },
   {
    "duration": 3,
    "start_time": "2025-03-26T11:11:54.942Z"
   },
   {
    "duration": 3,
    "start_time": "2025-03-26T11:11:54.947Z"
   },
   {
    "duration": 11,
    "start_time": "2025-03-26T11:11:54.952Z"
   },
   {
    "duration": 191256,
    "start_time": "2025-03-26T11:11:54.965Z"
   },
   {
    "duration": 20,
    "start_time": "2025-03-26T11:17:28.775Z"
   },
   {
    "duration": 3,
    "start_time": "2025-03-26T11:19:39.214Z"
   },
   {
    "duration": 3,
    "start_time": "2025-03-26T11:19:41.917Z"
   },
   {
    "duration": 217436,
    "start_time": "2025-03-26T11:19:45.151Z"
   },
   {
    "duration": 27,
    "start_time": "2025-03-26T11:23:41.572Z"
   },
   {
    "duration": 16,
    "start_time": "2025-03-26T11:23:48.464Z"
   },
   {
    "duration": 12,
    "start_time": "2025-03-26T11:29:03.097Z"
   },
   {
    "duration": 3,
    "start_time": "2025-03-26T11:31:28.857Z"
   },
   {
    "duration": 12,
    "start_time": "2025-03-26T11:31:33.594Z"
   },
   {
    "duration": 5,
    "start_time": "2025-03-26T11:32:48.568Z"
   },
   {
    "duration": 5,
    "start_time": "2025-03-26T11:33:31.779Z"
   },
   {
    "duration": 28,
    "start_time": "2025-03-26T11:33:38.774Z"
   },
   {
    "duration": 11,
    "start_time": "2025-03-26T11:37:08.954Z"
   },
   {
    "duration": 30,
    "start_time": "2025-03-26T11:37:17.693Z"
   },
   {
    "duration": 4,
    "start_time": "2025-03-26T11:43:35.708Z"
   },
   {
    "duration": 6,
    "start_time": "2025-03-26T11:46:07.921Z"
   },
   {
    "duration": 29,
    "start_time": "2025-03-26T11:46:09.164Z"
   },
   {
    "duration": 6,
    "start_time": "2025-03-26T11:46:57.912Z"
   },
   {
    "duration": 28,
    "start_time": "2025-03-26T11:46:59.091Z"
   },
   {
    "duration": 2,
    "start_time": "2025-03-26T11:55:02.575Z"
   },
   {
    "duration": 774,
    "start_time": "2025-03-26T11:57:04.235Z"
   },
   {
    "duration": 49841,
    "start_time": "2025-03-26T12:37:36.833Z"
   },
   {
    "duration": 14,
    "start_time": "2025-03-26T12:42:12.319Z"
   },
   {
    "duration": 7,
    "start_time": "2025-03-26T12:42:48.039Z"
   },
   {
    "duration": 44,
    "start_time": "2025-03-26T12:43:41.808Z"
   },
   {
    "duration": 13006,
    "start_time": "2025-03-26T12:43:54.911Z"
   },
   {
    "duration": 29,
    "start_time": "2025-03-26T12:44:16.552Z"
   },
   {
    "duration": 6376,
    "start_time": "2025-03-26T12:44:19.391Z"
   },
   {
    "duration": 31,
    "start_time": "2025-03-26T12:45:26.054Z"
   },
   {
    "duration": 764,
    "start_time": "2025-03-26T12:45:28.826Z"
   },
   {
    "duration": 2377,
    "start_time": "2025-03-26T13:10:28.638Z"
   },
   {
    "duration": 2,
    "start_time": "2025-03-26T13:10:31.017Z"
   },
   {
    "duration": 1315,
    "start_time": "2025-03-26T13:10:31.021Z"
   },
   {
    "duration": 5,
    "start_time": "2025-03-26T13:10:32.338Z"
   },
   {
    "duration": 875,
    "start_time": "2025-03-26T13:10:32.344Z"
   },
   {
    "duration": 3,
    "start_time": "2025-03-26T13:10:33.220Z"
   },
   {
    "duration": 295,
    "start_time": "2025-03-26T13:10:33.224Z"
   },
   {
    "duration": 3,
    "start_time": "2025-03-26T13:10:33.520Z"
   },
   {
    "duration": 36,
    "start_time": "2025-03-26T13:10:33.525Z"
   },
   {
    "duration": 43,
    "start_time": "2025-03-26T13:10:33.563Z"
   },
   {
    "duration": 50,
    "start_time": "2025-03-26T13:10:33.608Z"
   },
   {
    "duration": 244,
    "start_time": "2025-03-26T13:10:33.659Z"
   },
   {
    "duration": 83,
    "start_time": "2025-03-26T13:10:33.904Z"
   },
   {
    "duration": 264,
    "start_time": "2025-03-26T13:10:33.989Z"
   },
   {
    "duration": 116,
    "start_time": "2025-03-26T13:10:34.255Z"
   },
   {
    "duration": 67,
    "start_time": "2025-03-26T13:10:34.373Z"
   },
   {
    "duration": 332,
    "start_time": "2025-03-26T13:10:34.442Z"
   },
   {
    "duration": 286,
    "start_time": "2025-03-26T13:10:34.776Z"
   },
   {
    "duration": 5,
    "start_time": "2025-03-26T13:10:35.064Z"
   },
   {
    "duration": 43,
    "start_time": "2025-03-26T13:10:35.071Z"
   },
   {
    "duration": 16,
    "start_time": "2025-03-26T13:10:35.115Z"
   },
   {
    "duration": 16,
    "start_time": "2025-03-26T13:10:35.132Z"
   },
   {
    "duration": 675,
    "start_time": "2025-03-26T13:10:35.150Z"
   },
   {
    "duration": 460,
    "start_time": "2025-03-26T13:10:35.826Z"
   },
   {
    "duration": 49761,
    "start_time": "2025-03-26T13:10:36.287Z"
   },
   {
    "duration": 11,
    "start_time": "2025-03-26T13:11:26.049Z"
   },
   {
    "duration": 62,
    "start_time": "2025-03-26T13:11:26.061Z"
   },
   {
    "duration": 64,
    "start_time": "2025-03-26T13:11:26.126Z"
   },
   {
    "duration": 766,
    "start_time": "2025-03-26T13:11:26.192Z"
   },
   {
    "duration": 140,
    "start_time": "2025-03-26T13:11:26.960Z"
   },
   {
    "duration": 16713,
    "start_time": "2025-03-26T13:11:27.103Z"
   },
   {
    "duration": 9,
    "start_time": "2025-03-26T13:11:43.818Z"
   },
   {
    "duration": 29,
    "start_time": "2025-03-26T13:11:43.829Z"
   },
   {
    "duration": 2636,
    "start_time": "2025-03-26T13:11:43.860Z"
   },
   {
    "duration": 3355,
    "start_time": "2025-03-26T13:11:46.498Z"
   },
   {
    "duration": 211,
    "start_time": "2025-03-26T13:11:49.854Z"
   },
   {
    "duration": 215,
    "start_time": "2025-03-26T13:11:50.066Z"
   },
   {
    "duration": 360,
    "start_time": "2025-03-26T13:11:50.282Z"
   },
   {
    "duration": 727,
    "start_time": "2025-03-26T13:11:50.644Z"
   },
   {
    "duration": 139,
    "start_time": "2025-03-26T13:11:51.373Z"
   },
   {
    "duration": 72,
    "start_time": "2025-03-26T13:11:51.513Z"
   },
   {
    "duration": 500,
    "start_time": "2025-03-26T13:11:51.586Z"
   },
   {
    "duration": 41,
    "start_time": "2025-03-26T13:11:52.087Z"
   },
   {
    "duration": 11,
    "start_time": "2025-03-26T13:11:52.130Z"
   },
   {
    "duration": 7100,
    "start_time": "2025-03-26T13:11:52.142Z"
   },
   {
    "duration": 3,
    "start_time": "2025-03-26T13:11:59.243Z"
   },
   {
    "duration": 134,
    "start_time": "2025-03-26T13:11:59.247Z"
   },
   {
    "duration": 3,
    "start_time": "2025-03-26T13:11:59.383Z"
   },
   {
    "duration": 20,
    "start_time": "2025-03-26T13:11:59.388Z"
   },
   {
    "duration": 9,
    "start_time": "2025-03-26T13:11:59.410Z"
   },
   {
    "duration": 12,
    "start_time": "2025-03-26T13:11:59.420Z"
   },
   {
    "duration": 19,
    "start_time": "2025-03-26T13:11:59.433Z"
   },
   {
    "duration": 11,
    "start_time": "2025-03-26T13:11:59.453Z"
   },
   {
    "duration": 10,
    "start_time": "2025-03-26T13:11:59.465Z"
   },
   {
    "duration": 11,
    "start_time": "2025-03-26T13:11:59.476Z"
   },
   {
    "duration": 5,
    "start_time": "2025-03-26T13:11:59.488Z"
   },
   {
    "duration": 93990,
    "start_time": "2025-03-26T13:11:59.495Z"
   },
   {
    "duration": 0,
    "start_time": "2025-03-26T13:13:33.487Z"
   },
   {
    "duration": 0,
    "start_time": "2025-03-26T13:13:33.488Z"
   },
   {
    "duration": 0,
    "start_time": "2025-03-26T13:13:33.489Z"
   },
   {
    "duration": 0,
    "start_time": "2025-03-26T13:13:33.490Z"
   },
   {
    "duration": 10,
    "start_time": "2025-03-26T13:13:49.763Z"
   },
   {
    "duration": 10,
    "start_time": "2025-03-26T13:13:59.901Z"
   },
   {
    "duration": 5,
    "start_time": "2025-03-26T13:14:08.609Z"
   },
   {
    "duration": 2411,
    "start_time": "2025-03-26T13:21:33.389Z"
   },
   {
    "duration": 2,
    "start_time": "2025-03-26T13:21:35.802Z"
   },
   {
    "duration": 2432,
    "start_time": "2025-03-26T13:21:35.805Z"
   },
   {
    "duration": 4,
    "start_time": "2025-03-26T13:21:38.239Z"
   },
   {
    "duration": 852,
    "start_time": "2025-03-26T13:21:38.245Z"
   },
   {
    "duration": 5,
    "start_time": "2025-03-26T13:21:39.099Z"
   },
   {
    "duration": 243,
    "start_time": "2025-03-26T13:21:39.105Z"
   },
   {
    "duration": 3,
    "start_time": "2025-03-26T13:21:39.349Z"
   },
   {
    "duration": 5,
    "start_time": "2025-03-26T13:21:39.353Z"
   },
   {
    "duration": 12,
    "start_time": "2025-03-26T13:21:39.359Z"
   },
   {
    "duration": 35,
    "start_time": "2025-03-26T13:21:39.372Z"
   },
   {
    "duration": 284,
    "start_time": "2025-03-26T13:21:39.409Z"
   },
   {
    "duration": 89,
    "start_time": "2025-03-26T13:21:39.695Z"
   },
   {
    "duration": 197,
    "start_time": "2025-03-26T13:21:39.787Z"
   },
   {
    "duration": 109,
    "start_time": "2025-03-26T13:21:39.985Z"
   },
   {
    "duration": 115,
    "start_time": "2025-03-26T13:21:40.095Z"
   },
   {
    "duration": 273,
    "start_time": "2025-03-26T13:21:40.212Z"
   },
   {
    "duration": 284,
    "start_time": "2025-03-26T13:21:40.486Z"
   },
   {
    "duration": 4,
    "start_time": "2025-03-26T13:21:40.771Z"
   },
   {
    "duration": 30,
    "start_time": "2025-03-26T13:21:40.776Z"
   },
   {
    "duration": 109,
    "start_time": "2025-03-26T13:21:40.807Z"
   },
   {
    "duration": 32,
    "start_time": "2025-03-26T13:21:40.917Z"
   },
   {
    "duration": 648,
    "start_time": "2025-03-26T13:21:40.950Z"
   },
   {
    "duration": 461,
    "start_time": "2025-03-26T13:21:41.600Z"
   },
   {
    "duration": 49468,
    "start_time": "2025-03-26T13:21:42.063Z"
   },
   {
    "duration": 11,
    "start_time": "2025-03-26T13:22:31.533Z"
   },
   {
    "duration": 87,
    "start_time": "2025-03-26T13:22:31.545Z"
   },
   {
    "duration": 49,
    "start_time": "2025-03-26T13:22:31.634Z"
   },
   {
    "duration": 755,
    "start_time": "2025-03-26T13:22:31.685Z"
   },
   {
    "duration": 147,
    "start_time": "2025-03-26T13:22:32.442Z"
   },
   {
    "duration": 17755,
    "start_time": "2025-03-26T13:22:32.590Z"
   },
   {
    "duration": 8,
    "start_time": "2025-03-26T13:22:50.346Z"
   },
   {
    "duration": 33,
    "start_time": "2025-03-26T13:22:50.356Z"
   },
   {
    "duration": 2701,
    "start_time": "2025-03-26T13:22:50.391Z"
   },
   {
    "duration": 3462,
    "start_time": "2025-03-26T13:22:53.094Z"
   },
   {
    "duration": 221,
    "start_time": "2025-03-26T13:22:56.558Z"
   },
   {
    "duration": 221,
    "start_time": "2025-03-26T13:22:56.781Z"
   },
   {
    "duration": 378,
    "start_time": "2025-03-26T13:22:57.004Z"
   },
   {
    "duration": 796,
    "start_time": "2025-03-26T13:22:57.383Z"
   },
   {
    "duration": 170,
    "start_time": "2025-03-26T13:22:58.181Z"
   },
   {
    "duration": 88,
    "start_time": "2025-03-26T13:22:58.355Z"
   },
   {
    "duration": 504,
    "start_time": "2025-03-26T13:22:58.445Z"
   },
   {
    "duration": 38,
    "start_time": "2025-03-26T13:22:58.951Z"
   },
   {
    "duration": 20,
    "start_time": "2025-03-26T13:22:58.991Z"
   },
   {
    "duration": 7493,
    "start_time": "2025-03-26T13:22:59.013Z"
   },
   {
    "duration": 3,
    "start_time": "2025-03-26T13:23:06.508Z"
   },
   {
    "duration": 161,
    "start_time": "2025-03-26T13:23:06.512Z"
   },
   {
    "duration": 4,
    "start_time": "2025-03-26T13:23:06.674Z"
   },
   {
    "duration": 44,
    "start_time": "2025-03-26T13:23:06.679Z"
   },
   {
    "duration": 16,
    "start_time": "2025-03-26T13:23:06.724Z"
   },
   {
    "duration": 11,
    "start_time": "2025-03-26T13:23:06.741Z"
   },
   {
    "duration": 12,
    "start_time": "2025-03-26T13:23:06.753Z"
   },
   {
    "duration": 9,
    "start_time": "2025-03-26T13:23:06.767Z"
   },
   {
    "duration": 74,
    "start_time": "2025-03-26T13:23:06.777Z"
   },
   {
    "duration": 107,
    "start_time": "2025-03-26T13:23:06.853Z"
   },
   {
    "duration": 36,
    "start_time": "2025-03-26T13:23:06.961Z"
   },
   {
    "duration": 200591,
    "start_time": "2025-03-26T13:23:06.998Z"
   },
   {
    "duration": 22,
    "start_time": "2025-03-26T13:26:27.591Z"
   },
   {
    "duration": 28,
    "start_time": "2025-03-26T13:26:27.614Z"
   },
   {
    "duration": 38,
    "start_time": "2025-03-26T13:26:27.644Z"
   },
   {
    "duration": 734,
    "start_time": "2025-03-26T13:26:27.684Z"
   },
   {
    "duration": 68,
    "start_time": "2025-03-26T13:34:25.394Z"
   },
   {
    "duration": 16,
    "start_time": "2025-03-26T13:34:43.409Z"
   },
   {
    "duration": 22737,
    "start_time": "2025-03-26T15:19:01.086Z"
   },
   {
    "duration": 7141,
    "start_time": "2025-03-26T15:19:23.825Z"
   },
   {
    "duration": 3,
    "start_time": "2025-03-26T15:19:30.967Z"
   },
   {
    "duration": 952,
    "start_time": "2025-03-26T15:19:30.972Z"
   },
   {
    "duration": 4,
    "start_time": "2025-03-26T15:19:31.925Z"
   },
   {
    "duration": 256,
    "start_time": "2025-03-26T15:19:31.931Z"
   },
   {
    "duration": 4,
    "start_time": "2025-03-26T15:19:32.189Z"
   },
   {
    "duration": 35,
    "start_time": "2025-03-26T15:19:32.194Z"
   },
   {
    "duration": 127,
    "start_time": "2025-03-26T15:19:32.231Z"
   },
   {
    "duration": 247,
    "start_time": "2025-03-26T15:19:32.361Z"
   },
   {
    "duration": 109,
    "start_time": "2025-03-26T15:19:32.610Z"
   },
   {
    "duration": 431,
    "start_time": "2025-03-26T15:19:32.721Z"
   },
   {
    "duration": 497,
    "start_time": "2025-03-26T15:19:33.154Z"
   },
   {
    "duration": 4,
    "start_time": "2025-03-26T15:19:33.653Z"
   },
   {
    "duration": 81,
    "start_time": "2025-03-26T15:19:33.659Z"
   },
   {
    "duration": 24,
    "start_time": "2025-03-26T15:19:33.742Z"
   },
   {
    "duration": 30,
    "start_time": "2025-03-26T15:19:33.768Z"
   },
   {
    "duration": 659,
    "start_time": "2025-03-26T15:19:33.800Z"
   },
   {
    "duration": 509,
    "start_time": "2025-03-26T15:19:34.461Z"
   },
   {
    "duration": 14,
    "start_time": "2025-03-26T15:19:34.972Z"
   },
   {
    "duration": 114,
    "start_time": "2025-03-26T15:19:34.987Z"
   },
   {
    "duration": 8,
    "start_time": "2025-03-26T15:19:35.102Z"
   },
   {
    "duration": 75,
    "start_time": "2025-03-26T15:19:35.112Z"
   },
   {
    "duration": 798,
    "start_time": "2025-03-26T15:19:35.189Z"
   },
   {
    "duration": 153,
    "start_time": "2025-03-26T15:19:35.988Z"
   },
   {
    "duration": 13550,
    "start_time": "2025-03-26T15:19:36.142Z"
   },
   {
    "duration": 16,
    "start_time": "2025-03-26T15:19:49.694Z"
   },
   {
    "duration": 87,
    "start_time": "2025-03-26T15:19:49.714Z"
   },
   {
    "duration": 2854,
    "start_time": "2025-03-26T15:19:49.803Z"
   },
   {
    "duration": 3527,
    "start_time": "2025-03-26T15:19:52.659Z"
   },
   {
    "duration": 217,
    "start_time": "2025-03-26T15:19:56.187Z"
   },
   {
    "duration": 225,
    "start_time": "2025-03-26T15:19:56.406Z"
   },
   {
    "duration": 363,
    "start_time": "2025-03-26T15:19:56.633Z"
   },
   {
    "duration": 703,
    "start_time": "2025-03-26T15:19:56.997Z"
   },
   {
    "duration": 144,
    "start_time": "2025-03-26T15:19:57.704Z"
   },
   {
    "duration": 191,
    "start_time": "2025-03-26T15:19:57.850Z"
   },
   {
    "duration": 545,
    "start_time": "2025-03-26T15:19:58.043Z"
   },
   {
    "duration": 81,
    "start_time": "2025-03-26T15:19:58.590Z"
   },
   {
    "duration": 20,
    "start_time": "2025-03-26T15:19:58.673Z"
   },
   {
    "duration": 7430,
    "start_time": "2025-03-26T15:19:58.694Z"
   },
   {
    "duration": 2,
    "start_time": "2025-03-26T15:20:06.126Z"
   },
   {
    "duration": 143,
    "start_time": "2025-03-26T15:20:06.130Z"
   },
   {
    "duration": 4,
    "start_time": "2025-03-26T15:20:06.274Z"
   },
   {
    "duration": 35,
    "start_time": "2025-03-26T15:20:06.279Z"
   },
   {
    "duration": 13,
    "start_time": "2025-03-26T15:20:06.315Z"
   },
   {
    "duration": 13,
    "start_time": "2025-03-26T15:20:06.329Z"
   },
   {
    "duration": 49,
    "start_time": "2025-03-26T15:20:06.343Z"
   },
   {
    "duration": 99,
    "start_time": "2025-03-26T15:20:06.394Z"
   },
   {
    "duration": 25,
    "start_time": "2025-03-26T15:20:06.495Z"
   },
   {
    "duration": 25,
    "start_time": "2025-03-26T15:20:06.522Z"
   },
   {
    "duration": 17,
    "start_time": "2025-03-26T15:20:06.548Z"
   },
   {
    "duration": 21296,
    "start_time": "2025-03-26T15:20:06.566Z"
   },
   {
    "duration": 0,
    "start_time": "2025-03-26T15:20:27.864Z"
   },
   {
    "duration": 0,
    "start_time": "2025-03-26T15:20:27.865Z"
   },
   {
    "duration": 0,
    "start_time": "2025-03-26T15:20:27.866Z"
   },
   {
    "duration": 19850,
    "start_time": "2025-03-26T15:20:36.804Z"
   },
   {
    "duration": 15,
    "start_time": "2025-03-26T15:21:35.548Z"
   },
   {
    "duration": 6,
    "start_time": "2025-03-26T15:21:36.960Z"
   },
   {
    "duration": 29,
    "start_time": "2025-03-26T15:21:38.011Z"
   },
   {
    "duration": 16,
    "start_time": "2025-03-26T15:21:48.510Z"
   },
   {
    "duration": 9,
    "start_time": "2025-03-26T15:22:00.948Z"
   },
   {
    "duration": 4,
    "start_time": "2025-03-26T15:22:02.876Z"
   },
   {
    "duration": 570,
    "start_time": "2025-03-26T15:22:05.794Z"
   },
   {
    "duration": 524,
    "start_time": "2025-03-26T15:22:10.906Z"
   },
   {
    "duration": 77,
    "start_time": "2025-03-26T15:23:21.358Z"
   },
   {
    "duration": 909,
    "start_time": "2025-03-26T15:23:24.968Z"
   },
   {
    "duration": 9,
    "start_time": "2025-03-26T15:23:34.208Z"
   },
   {
    "duration": 13,
    "start_time": "2025-03-26T15:23:49.611Z"
   },
   {
    "duration": 885,
    "start_time": "2025-03-26T15:23:53.672Z"
   },
   {
    "duration": 15,
    "start_time": "2025-03-26T15:24:46.316Z"
   },
   {
    "duration": 36,
    "start_time": "2025-03-26T15:24:49.410Z"
   },
   {
    "duration": 4,
    "start_time": "2025-03-26T15:24:56.603Z"
   },
   {
    "duration": 32,
    "start_time": "2025-03-26T15:24:58.477Z"
   },
   {
    "duration": 13,
    "start_time": "2025-03-26T15:25:23.137Z"
   },
   {
    "duration": 5,
    "start_time": "2025-03-26T15:25:32.496Z"
   },
   {
    "duration": 5,
    "start_time": "2025-03-26T15:25:37.176Z"
   },
   {
    "duration": 27064,
    "start_time": "2025-03-27T07:02:32.506Z"
   },
   {
    "duration": 1721,
    "start_time": "2025-03-27T07:02:59.576Z"
   },
   {
    "duration": 4,
    "start_time": "2025-03-27T07:03:01.298Z"
   },
   {
    "duration": 1011,
    "start_time": "2025-03-27T07:03:01.303Z"
   },
   {
    "duration": 3,
    "start_time": "2025-03-27T07:03:02.316Z"
   },
   {
    "duration": 363,
    "start_time": "2025-03-27T07:03:02.322Z"
   },
   {
    "duration": 4,
    "start_time": "2025-03-27T07:03:02.688Z"
   },
   {
    "duration": 145,
    "start_time": "2025-03-27T07:03:02.694Z"
   },
   {
    "duration": 163,
    "start_time": "2025-03-27T07:03:02.841Z"
   },
   {
    "duration": 288,
    "start_time": "2025-03-27T07:03:03.006Z"
   },
   {
    "duration": 131,
    "start_time": "2025-03-27T07:03:03.296Z"
   },
   {
    "duration": 458,
    "start_time": "2025-03-27T07:03:03.429Z"
   },
   {
    "duration": 546,
    "start_time": "2025-03-27T07:03:03.891Z"
   },
   {
    "duration": 3,
    "start_time": "2025-03-27T07:03:04.441Z"
   },
   {
    "duration": 43,
    "start_time": "2025-03-27T07:03:04.446Z"
   },
   {
    "duration": 40,
    "start_time": "2025-03-27T07:03:04.491Z"
   },
   {
    "duration": 61,
    "start_time": "2025-03-27T07:03:04.533Z"
   },
   {
    "duration": 810,
    "start_time": "2025-03-27T07:03:04.596Z"
   },
   {
    "duration": 540,
    "start_time": "2025-03-27T07:03:05.408Z"
   },
   {
    "duration": 36,
    "start_time": "2025-03-27T07:03:05.950Z"
   },
   {
    "duration": 35,
    "start_time": "2025-03-27T07:03:05.988Z"
   },
   {
    "duration": 24,
    "start_time": "2025-03-27T07:03:06.025Z"
   },
   {
    "duration": 73,
    "start_time": "2025-03-27T07:03:06.051Z"
   },
   {
    "duration": 886,
    "start_time": "2025-03-27T07:03:06.126Z"
   },
   {
    "duration": 231,
    "start_time": "2025-03-27T07:03:07.014Z"
   },
   {
    "duration": 14824,
    "start_time": "2025-03-27T07:03:07.246Z"
   },
   {
    "duration": 12,
    "start_time": "2025-03-27T07:03:22.072Z"
   },
   {
    "duration": 89,
    "start_time": "2025-03-27T07:03:22.088Z"
   },
   {
    "duration": 2991,
    "start_time": "2025-03-27T07:03:22.179Z"
   },
   {
    "duration": 4098,
    "start_time": "2025-03-27T07:03:25.177Z"
   },
   {
    "duration": 253,
    "start_time": "2025-03-27T07:03:29.280Z"
   },
   {
    "duration": 271,
    "start_time": "2025-03-27T07:03:29.535Z"
   },
   {
    "duration": 447,
    "start_time": "2025-03-27T07:03:29.807Z"
   },
   {
    "duration": 827,
    "start_time": "2025-03-27T07:03:30.262Z"
   },
   {
    "duration": 165,
    "start_time": "2025-03-27T07:03:31.090Z"
   },
   {
    "duration": 212,
    "start_time": "2025-03-27T07:03:31.259Z"
   },
   {
    "duration": 600,
    "start_time": "2025-03-27T07:03:31.475Z"
   },
   {
    "duration": 94,
    "start_time": "2025-03-27T07:03:32.080Z"
   },
   {
    "duration": 13,
    "start_time": "2025-03-27T07:03:32.183Z"
   },
   {
    "duration": 9139,
    "start_time": "2025-03-27T07:03:32.198Z"
   },
   {
    "duration": 4,
    "start_time": "2025-03-27T07:03:41.343Z"
   },
   {
    "duration": 135,
    "start_time": "2025-03-27T07:03:41.357Z"
   },
   {
    "duration": 4,
    "start_time": "2025-03-27T07:03:41.493Z"
   },
   {
    "duration": 24,
    "start_time": "2025-03-27T07:03:41.499Z"
   },
   {
    "duration": 15,
    "start_time": "2025-03-27T07:03:41.525Z"
   },
   {
    "duration": 24,
    "start_time": "2025-03-27T07:03:41.542Z"
   },
   {
    "duration": 20,
    "start_time": "2025-03-27T07:03:41.567Z"
   },
   {
    "duration": 12,
    "start_time": "2025-03-27T07:03:41.588Z"
   },
   {
    "duration": 10,
    "start_time": "2025-03-27T07:03:41.603Z"
   },
   {
    "duration": 75,
    "start_time": "2025-03-27T07:03:41.615Z"
   },
   {
    "duration": 19,
    "start_time": "2025-03-27T07:03:41.692Z"
   },
   {
    "duration": 1463665,
    "start_time": "2025-03-27T07:03:41.713Z"
   },
   {
    "duration": 17,
    "start_time": "2025-03-27T07:28:05.379Z"
   },
   {
    "duration": 15,
    "start_time": "2025-03-27T07:28:05.398Z"
   },
   {
    "duration": 753,
    "start_time": "2025-03-27T07:28:05.415Z"
   },
   {
    "duration": 3226,
    "start_time": "2025-03-27T07:36:28.389Z"
   },
   {
    "duration": 78,
    "start_time": "2025-03-27T07:36:37.231Z"
   },
   {
    "duration": 2735,
    "start_time": "2025-03-27T07:46:18.930Z"
   },
   {
    "duration": 1498,
    "start_time": "2025-03-27T07:46:21.668Z"
   },
   {
    "duration": 9,
    "start_time": "2025-03-27T07:46:23.168Z"
   },
   {
    "duration": 1082,
    "start_time": "2025-03-27T07:46:23.178Z"
   },
   {
    "duration": 4,
    "start_time": "2025-03-27T07:46:24.264Z"
   },
   {
    "duration": 263,
    "start_time": "2025-03-27T07:46:24.272Z"
   },
   {
    "duration": 3,
    "start_time": "2025-03-27T07:46:24.538Z"
   },
   {
    "duration": 43,
    "start_time": "2025-03-27T07:46:24.542Z"
   },
   {
    "duration": 134,
    "start_time": "2025-03-27T07:46:24.587Z"
   },
   {
    "duration": 265,
    "start_time": "2025-03-27T07:46:24.722Z"
   },
   {
    "duration": 126,
    "start_time": "2025-03-27T07:46:24.989Z"
   },
   {
    "duration": 489,
    "start_time": "2025-03-27T07:46:25.117Z"
   },
   {
    "duration": 565,
    "start_time": "2025-03-27T07:46:25.607Z"
   },
   {
    "duration": 9,
    "start_time": "2025-03-27T07:46:26.176Z"
   },
   {
    "duration": 6,
    "start_time": "2025-03-27T07:46:26.186Z"
   },
   {
    "duration": 18,
    "start_time": "2025-03-27T07:46:26.193Z"
   },
   {
    "duration": 15,
    "start_time": "2025-03-27T07:46:26.213Z"
   },
   {
    "duration": 817,
    "start_time": "2025-03-27T07:46:26.229Z"
   },
   {
    "duration": 475,
    "start_time": "2025-03-27T07:46:27.048Z"
   },
   {
    "duration": 15,
    "start_time": "2025-03-27T07:46:27.525Z"
   },
   {
    "duration": 24,
    "start_time": "2025-03-27T07:46:27.542Z"
   },
   {
    "duration": 11,
    "start_time": "2025-03-27T07:46:27.568Z"
   },
   {
    "duration": 89,
    "start_time": "2025-03-27T07:46:27.581Z"
   },
   {
    "duration": 895,
    "start_time": "2025-03-27T07:46:27.674Z"
   },
   {
    "duration": 175,
    "start_time": "2025-03-27T07:46:28.572Z"
   },
   {
    "duration": 14926,
    "start_time": "2025-03-27T07:46:28.749Z"
   },
   {
    "duration": 10,
    "start_time": "2025-03-27T07:46:43.677Z"
   },
   {
    "duration": 114,
    "start_time": "2025-03-27T07:46:43.688Z"
   },
   {
    "duration": 3230,
    "start_time": "2025-03-27T07:46:43.803Z"
   },
   {
    "duration": 4053,
    "start_time": "2025-03-27T07:46:47.034Z"
   },
   {
    "duration": 243,
    "start_time": "2025-03-27T07:46:51.089Z"
   },
   {
    "duration": 271,
    "start_time": "2025-03-27T07:46:51.333Z"
   },
   {
    "duration": 415,
    "start_time": "2025-03-27T07:46:51.606Z"
   },
   {
    "duration": 768,
    "start_time": "2025-03-27T07:46:52.023Z"
   },
   {
    "duration": 286,
    "start_time": "2025-03-27T07:46:52.793Z"
   },
   {
    "duration": 96,
    "start_time": "2025-03-27T07:46:53.081Z"
   },
   {
    "duration": 603,
    "start_time": "2025-03-27T07:46:53.180Z"
   },
   {
    "duration": 54,
    "start_time": "2025-03-27T07:46:53.785Z"
   },
   {
    "duration": 37,
    "start_time": "2025-03-27T07:46:53.840Z"
   },
   {
    "duration": 8654,
    "start_time": "2025-03-27T07:46:53.879Z"
   },
   {
    "duration": 3,
    "start_time": "2025-03-27T07:47:02.536Z"
   },
   {
    "duration": 147,
    "start_time": "2025-03-27T07:47:02.541Z"
   },
   {
    "duration": 4,
    "start_time": "2025-03-27T07:47:02.690Z"
   },
   {
    "duration": 26,
    "start_time": "2025-03-27T07:47:02.696Z"
   },
   {
    "duration": 9,
    "start_time": "2025-03-27T07:47:02.724Z"
   },
   {
    "duration": 12,
    "start_time": "2025-03-27T07:47:02.734Z"
   },
   {
    "duration": 13,
    "start_time": "2025-03-27T07:47:02.747Z"
   },
   {
    "duration": 8,
    "start_time": "2025-03-27T07:47:02.762Z"
   },
   {
    "duration": 143,
    "start_time": "2025-03-27T07:47:02.773Z"
   },
   {
    "duration": 0,
    "start_time": "2025-03-27T07:47:02.917Z"
   },
   {
    "duration": 0,
    "start_time": "2025-03-27T07:47:02.919Z"
   },
   {
    "duration": 0,
    "start_time": "2025-03-27T07:47:02.920Z"
   },
   {
    "duration": 0,
    "start_time": "2025-03-27T07:47:02.921Z"
   },
   {
    "duration": 0,
    "start_time": "2025-03-27T07:47:02.922Z"
   },
   {
    "duration": 0,
    "start_time": "2025-03-27T07:47:02.923Z"
   },
   {
    "duration": 0,
    "start_time": "2025-03-27T07:47:02.924Z"
   },
   {
    "duration": 0,
    "start_time": "2025-03-27T07:47:02.925Z"
   },
   {
    "duration": 3,
    "start_time": "2025-03-27T07:47:14.472Z"
   },
   {
    "duration": 3,
    "start_time": "2025-03-27T07:47:16.867Z"
   },
   {
    "duration": 3,
    "start_time": "2025-03-27T07:47:18.261Z"
   },
   {
    "duration": 3,
    "start_time": "2025-03-27T07:47:21.765Z"
   },
   {
    "duration": 5,
    "start_time": "2025-03-27T07:47:27.497Z"
   },
   {
    "duration": 3,
    "start_time": "2025-03-27T07:47:30.514Z"
   },
   {
    "duration": 2,
    "start_time": "2025-03-27T07:47:32.122Z"
   },
   {
    "duration": 352360,
    "start_time": "2025-03-27T07:47:34.653Z"
   },
   {
    "duration": 22,
    "start_time": "2025-03-27T07:53:40.769Z"
   },
   {
    "duration": 7,
    "start_time": "2025-03-27T07:53:58.854Z"
   },
   {
    "duration": 29,
    "start_time": "2025-03-27T07:54:35.056Z"
   },
   {
    "duration": 3,
    "start_time": "2025-03-27T08:04:53.178Z"
   },
   {
    "duration": 3,
    "start_time": "2025-03-27T08:04:54.533Z"
   },
   {
    "duration": 11,
    "start_time": "2025-03-27T08:05:04.803Z"
   },
   {
    "duration": 3,
    "start_time": "2025-03-27T08:05:11.337Z"
   },
   {
    "duration": 10,
    "start_time": "2025-03-27T08:07:25.836Z"
   },
   {
    "duration": 11,
    "start_time": "2025-03-27T08:07:54.206Z"
   },
   {
    "duration": 4,
    "start_time": "2025-03-27T08:08:02.878Z"
   },
   {
    "duration": 9,
    "start_time": "2025-03-27T08:08:07.926Z"
   },
   {
    "duration": 3,
    "start_time": "2025-03-27T08:08:24.567Z"
   },
   {
    "duration": 2457,
    "start_time": "2025-03-27T08:09:13.814Z"
   },
   {
    "duration": 1321,
    "start_time": "2025-03-27T08:09:16.273Z"
   },
   {
    "duration": 3,
    "start_time": "2025-03-27T08:09:17.595Z"
   },
   {
    "duration": 837,
    "start_time": "2025-03-27T08:09:17.600Z"
   },
   {
    "duration": 4,
    "start_time": "2025-03-27T08:09:18.439Z"
   },
   {
    "duration": 231,
    "start_time": "2025-03-27T08:09:18.444Z"
   },
   {
    "duration": 3,
    "start_time": "2025-03-27T08:09:18.677Z"
   },
   {
    "duration": 28,
    "start_time": "2025-03-27T08:09:18.681Z"
   },
   {
    "duration": 159,
    "start_time": "2025-03-27T08:09:18.711Z"
   },
   {
    "duration": 242,
    "start_time": "2025-03-27T08:09:18.872Z"
   },
   {
    "duration": 112,
    "start_time": "2025-03-27T08:09:19.116Z"
   },
   {
    "duration": 435,
    "start_time": "2025-03-27T08:09:19.230Z"
   },
   {
    "duration": 502,
    "start_time": "2025-03-27T08:09:19.667Z"
   },
   {
    "duration": 4,
    "start_time": "2025-03-27T08:09:20.172Z"
   },
   {
    "duration": 6,
    "start_time": "2025-03-27T08:09:20.177Z"
   },
   {
    "duration": 9,
    "start_time": "2025-03-27T08:09:20.185Z"
   },
   {
    "duration": 17,
    "start_time": "2025-03-27T08:09:20.195Z"
   },
   {
    "duration": 782,
    "start_time": "2025-03-27T08:09:20.214Z"
   },
   {
    "duration": 391,
    "start_time": "2025-03-27T08:09:20.998Z"
   },
   {
    "duration": 15,
    "start_time": "2025-03-27T08:09:21.390Z"
   },
   {
    "duration": 28,
    "start_time": "2025-03-27T08:09:21.406Z"
   },
   {
    "duration": 18,
    "start_time": "2025-03-27T08:09:21.435Z"
   },
   {
    "duration": 51,
    "start_time": "2025-03-27T08:09:21.455Z"
   },
   {
    "duration": 782,
    "start_time": "2025-03-27T08:09:21.508Z"
   },
   {
    "duration": 157,
    "start_time": "2025-03-27T08:09:22.291Z"
   },
   {
    "duration": 13481,
    "start_time": "2025-03-27T08:09:22.450Z"
   },
   {
    "duration": 9,
    "start_time": "2025-03-27T08:09:35.932Z"
   },
   {
    "duration": 84,
    "start_time": "2025-03-27T08:09:35.943Z"
   },
   {
    "duration": 2794,
    "start_time": "2025-03-27T08:09:36.029Z"
   },
   {
    "duration": 3716,
    "start_time": "2025-03-27T08:09:38.826Z"
   },
   {
    "duration": 235,
    "start_time": "2025-03-27T08:09:42.543Z"
   },
   {
    "duration": 237,
    "start_time": "2025-03-27T08:09:42.780Z"
   },
   {
    "duration": 409,
    "start_time": "2025-03-27T08:09:43.018Z"
   },
   {
    "duration": 763,
    "start_time": "2025-03-27T08:09:43.429Z"
   },
   {
    "duration": 267,
    "start_time": "2025-03-27T08:09:44.194Z"
   },
   {
    "duration": 80,
    "start_time": "2025-03-27T08:09:44.463Z"
   },
   {
    "duration": 574,
    "start_time": "2025-03-27T08:09:44.556Z"
   },
   {
    "duration": 64,
    "start_time": "2025-03-27T08:09:45.132Z"
   },
   {
    "duration": 13,
    "start_time": "2025-03-27T08:09:45.198Z"
   },
   {
    "duration": 7771,
    "start_time": "2025-03-27T08:09:45.212Z"
   },
   {
    "duration": 3,
    "start_time": "2025-03-27T08:09:52.987Z"
   },
   {
    "duration": 161,
    "start_time": "2025-03-27T08:09:52.991Z"
   },
   {
    "duration": 3,
    "start_time": "2025-03-27T08:09:53.154Z"
   },
   {
    "duration": 25,
    "start_time": "2025-03-27T08:09:53.159Z"
   },
   {
    "duration": 9,
    "start_time": "2025-03-27T08:09:53.186Z"
   },
   {
    "duration": 43,
    "start_time": "2025-03-27T08:09:53.197Z"
   },
   {
    "duration": 18,
    "start_time": "2025-03-27T08:09:53.243Z"
   },
   {
    "duration": 29,
    "start_time": "2025-03-27T08:09:53.264Z"
   },
   {
    "duration": 47,
    "start_time": "2025-03-27T08:09:53.295Z"
   },
   {
    "duration": 41,
    "start_time": "2025-03-27T08:09:53.343Z"
   },
   {
    "duration": 40,
    "start_time": "2025-03-27T08:09:53.386Z"
   },
   {
    "duration": 13,
    "start_time": "2025-03-27T08:09:53.427Z"
   },
   {
    "duration": 22,
    "start_time": "2025-03-27T08:09:53.442Z"
   },
   {
    "duration": 20,
    "start_time": "2025-03-27T08:09:53.465Z"
   },
   {
    "duration": 35,
    "start_time": "2025-03-27T08:09:53.487Z"
   },
   {
    "duration": 270296,
    "start_time": "2025-03-27T08:09:53.523Z"
   },
   {
    "duration": 16,
    "start_time": "2025-03-27T08:14:23.820Z"
   },
   {
    "duration": 22,
    "start_time": "2025-03-27T08:14:23.838Z"
   },
   {
    "duration": 31,
    "start_time": "2025-03-27T08:14:23.862Z"
   },
   {
    "duration": 678,
    "start_time": "2025-03-27T08:14:23.895Z"
   },
   {
    "duration": 33,
    "start_time": "2025-03-27T08:43:26.801Z"
   },
   {
    "duration": 37,
    "start_time": "2025-03-27T08:47:12.088Z"
   },
   {
    "duration": 141,
    "start_time": "2025-03-27T08:48:28.910Z"
   },
   {
    "duration": 189,
    "start_time": "2025-03-27T08:52:55.839Z"
   },
   {
    "duration": 112,
    "start_time": "2025-03-27T08:54:05.246Z"
   },
   {
    "duration": 104,
    "start_time": "2025-03-27T08:54:58.204Z"
   },
   {
    "duration": 98,
    "start_time": "2025-03-27T08:55:06.508Z"
   },
   {
    "duration": 125,
    "start_time": "2025-03-27T08:57:06.161Z"
   },
   {
    "duration": 127,
    "start_time": "2025-03-27T08:58:10.210Z"
   },
   {
    "duration": 122,
    "start_time": "2025-03-27T08:58:12.147Z"
   },
   {
    "duration": 133,
    "start_time": "2025-03-27T08:59:15.286Z"
   },
   {
    "duration": 140,
    "start_time": "2025-03-27T08:59:26.522Z"
   },
   {
    "duration": 127,
    "start_time": "2025-03-27T09:01:52.379Z"
   },
   {
    "duration": 125,
    "start_time": "2025-03-27T09:07:59.608Z"
   },
   {
    "duration": 134,
    "start_time": "2025-03-27T09:08:10.418Z"
   },
   {
    "duration": 358,
    "start_time": "2025-03-27T09:12:31.006Z"
   },
   {
    "duration": 233,
    "start_time": "2025-03-27T09:12:37.362Z"
   },
   {
    "duration": 338,
    "start_time": "2025-03-27T09:13:47.314Z"
   },
   {
    "duration": 227,
    "start_time": "2025-03-27T09:13:53.709Z"
   },
   {
    "duration": 230,
    "start_time": "2025-03-27T09:14:13.877Z"
   },
   {
    "duration": 389,
    "start_time": "2025-03-27T09:15:35.190Z"
   },
   {
    "duration": 370,
    "start_time": "2025-03-27T09:15:47.355Z"
   },
   {
    "duration": 382,
    "start_time": "2025-03-27T09:15:53.388Z"
   },
   {
    "duration": 393,
    "start_time": "2025-03-27T09:16:58.741Z"
   },
   {
    "duration": 500,
    "start_time": "2025-03-27T09:17:03.442Z"
   },
   {
    "duration": 380,
    "start_time": "2025-03-27T09:17:13.441Z"
   },
   {
    "duration": 377,
    "start_time": "2025-03-27T09:17:18.416Z"
   },
   {
    "duration": 406,
    "start_time": "2025-03-27T09:17:57.215Z"
   },
   {
    "duration": 402,
    "start_time": "2025-03-27T09:18:25.165Z"
   },
   {
    "duration": 435,
    "start_time": "2025-03-27T09:20:20.098Z"
   },
   {
    "duration": 327,
    "start_time": "2025-03-27T09:21:06.250Z"
   },
   {
    "duration": 349,
    "start_time": "2025-03-27T09:21:22.250Z"
   },
   {
    "duration": 334,
    "start_time": "2025-03-27T09:22:07.251Z"
   },
   {
    "duration": 338,
    "start_time": "2025-03-27T09:22:17.812Z"
   },
   {
    "duration": 336,
    "start_time": "2025-03-27T09:22:25.583Z"
   },
   {
    "duration": 33,
    "start_time": "2025-03-27T09:22:55.127Z"
   },
   {
    "duration": 107,
    "start_time": "2025-03-27T09:34:47.108Z"
   },
   {
    "duration": 2161,
    "start_time": "2025-03-27T09:34:57.512Z"
   },
   {
    "duration": 27,
    "start_time": "2025-03-27T09:35:27.935Z"
   },
   {
    "duration": 21,
    "start_time": "2025-03-27T09:35:38.253Z"
   },
   {
    "duration": 2454,
    "start_time": "2025-03-27T09:38:35.253Z"
   },
   {
    "duration": 1429,
    "start_time": "2025-03-27T09:38:37.710Z"
   },
   {
    "duration": 3,
    "start_time": "2025-03-27T09:38:39.141Z"
   },
   {
    "duration": 895,
    "start_time": "2025-03-27T09:38:39.145Z"
   },
   {
    "duration": 4,
    "start_time": "2025-03-27T09:38:40.042Z"
   },
   {
    "duration": 257,
    "start_time": "2025-03-27T09:38:40.047Z"
   },
   {
    "duration": 3,
    "start_time": "2025-03-27T09:38:40.306Z"
   },
   {
    "duration": 29,
    "start_time": "2025-03-27T09:38:40.311Z"
   },
   {
    "duration": 141,
    "start_time": "2025-03-27T09:38:40.342Z"
   },
   {
    "duration": 236,
    "start_time": "2025-03-27T09:38:40.484Z"
   },
   {
    "duration": 116,
    "start_time": "2025-03-27T09:38:40.722Z"
   },
   {
    "duration": 58,
    "start_time": "2025-03-27T09:38:40.839Z"
   },
   {
    "duration": 28,
    "start_time": "2025-03-27T09:38:40.899Z"
   },
   {
    "duration": 37,
    "start_time": "2025-03-27T09:38:40.930Z"
   },
   {
    "duration": 479,
    "start_time": "2025-03-27T09:38:40.969Z"
   },
   {
    "duration": 560,
    "start_time": "2025-03-27T09:38:41.450Z"
   },
   {
    "duration": 5,
    "start_time": "2025-03-27T09:38:42.011Z"
   },
   {
    "duration": 18,
    "start_time": "2025-03-27T09:38:42.017Z"
   },
   {
    "duration": 15,
    "start_time": "2025-03-27T09:38:42.036Z"
   },
   {
    "duration": 25,
    "start_time": "2025-03-27T09:38:42.052Z"
   },
   {
    "duration": 761,
    "start_time": "2025-03-27T09:38:42.078Z"
   },
   {
    "duration": 395,
    "start_time": "2025-03-27T09:38:42.841Z"
   },
   {
    "duration": 31,
    "start_time": "2025-03-27T09:38:43.238Z"
   },
   {
    "duration": 14,
    "start_time": "2025-03-27T09:38:43.273Z"
   },
   {
    "duration": 9,
    "start_time": "2025-03-27T09:38:43.289Z"
   },
   {
    "duration": 66,
    "start_time": "2025-03-27T09:38:43.300Z"
   },
   {
    "duration": 813,
    "start_time": "2025-03-27T09:38:43.367Z"
   },
   {
    "duration": 153,
    "start_time": "2025-03-27T09:38:44.182Z"
   },
   {
    "duration": 13909,
    "start_time": "2025-03-27T09:38:44.336Z"
   },
   {
    "duration": 17,
    "start_time": "2025-03-27T09:38:58.246Z"
   },
   {
    "duration": 60,
    "start_time": "2025-03-27T09:38:58.264Z"
   },
   {
    "duration": 2952,
    "start_time": "2025-03-27T09:38:58.325Z"
   },
   {
    "duration": 3887,
    "start_time": "2025-03-27T09:39:01.278Z"
   },
   {
    "duration": 229,
    "start_time": "2025-03-27T09:39:05.166Z"
   },
   {
    "duration": 241,
    "start_time": "2025-03-27T09:39:05.397Z"
   },
   {
    "duration": 390,
    "start_time": "2025-03-27T09:39:05.640Z"
   },
   {
    "duration": 732,
    "start_time": "2025-03-27T09:39:06.032Z"
   },
   {
    "duration": 282,
    "start_time": "2025-03-27T09:39:06.766Z"
   },
   {
    "duration": 88,
    "start_time": "2025-03-27T09:39:07.050Z"
   },
   {
    "duration": 579,
    "start_time": "2025-03-27T09:39:07.140Z"
   },
   {
    "duration": 66,
    "start_time": "2025-03-27T09:39:07.723Z"
   },
   {
    "duration": 13,
    "start_time": "2025-03-27T09:39:07.791Z"
   },
   {
    "duration": 8077,
    "start_time": "2025-03-27T09:39:07.805Z"
   },
   {
    "duration": 3,
    "start_time": "2025-03-27T09:39:15.883Z"
   },
   {
    "duration": 121,
    "start_time": "2025-03-27T09:39:15.887Z"
   },
   {
    "duration": 4,
    "start_time": "2025-03-27T09:39:16.009Z"
   },
   {
    "duration": 25,
    "start_time": "2025-03-27T09:39:16.014Z"
   },
   {
    "duration": 4,
    "start_time": "2025-03-27T09:39:16.041Z"
   },
   {
    "duration": 10,
    "start_time": "2025-03-27T09:39:16.047Z"
   },
   {
    "duration": 8,
    "start_time": "2025-03-27T09:39:16.058Z"
   },
   {
    "duration": 7,
    "start_time": "2025-03-27T09:39:16.067Z"
   },
   {
    "duration": 4,
    "start_time": "2025-03-27T09:39:16.076Z"
   },
   {
    "duration": 6,
    "start_time": "2025-03-27T09:39:16.082Z"
   },
   {
    "duration": 28,
    "start_time": "2025-03-27T09:39:16.089Z"
   },
   {
    "duration": 7,
    "start_time": "2025-03-27T09:39:16.119Z"
   },
   {
    "duration": 5,
    "start_time": "2025-03-27T09:39:16.128Z"
   },
   {
    "duration": 6,
    "start_time": "2025-03-27T09:39:16.134Z"
   },
   {
    "duration": 11,
    "start_time": "2025-03-27T09:39:16.141Z"
   },
   {
    "duration": 273565,
    "start_time": "2025-03-27T09:39:16.154Z"
   },
   {
    "duration": 16,
    "start_time": "2025-03-27T09:43:49.722Z"
   },
   {
    "duration": 47,
    "start_time": "2025-03-27T09:43:49.740Z"
   },
   {
    "duration": 48,
    "start_time": "2025-03-27T09:43:49.789Z"
   },
   {
    "duration": 428,
    "start_time": "2025-03-27T09:43:49.838Z"
   },
   {
    "duration": 702,
    "start_time": "2025-03-27T09:43:50.268Z"
   },
   {
    "duration": 2590,
    "start_time": "2025-03-27T09:46:01.771Z"
   },
   {
    "duration": 1429,
    "start_time": "2025-03-27T09:46:04.363Z"
   },
   {
    "duration": 4,
    "start_time": "2025-03-27T09:46:05.794Z"
   },
   {
    "duration": 902,
    "start_time": "2025-03-27T09:46:05.800Z"
   },
   {
    "duration": 3,
    "start_time": "2025-03-27T09:46:06.705Z"
   },
   {
    "duration": 285,
    "start_time": "2025-03-27T09:46:06.709Z"
   },
   {
    "duration": 4,
    "start_time": "2025-03-27T09:46:06.996Z"
   },
   {
    "duration": 83,
    "start_time": "2025-03-27T09:46:07.001Z"
   },
   {
    "duration": 134,
    "start_time": "2025-03-27T09:46:07.086Z"
   },
   {
    "duration": 266,
    "start_time": "2025-03-27T09:46:07.222Z"
   },
   {
    "duration": 121,
    "start_time": "2025-03-27T09:46:07.490Z"
   },
   {
    "duration": 3,
    "start_time": "2025-03-27T09:46:07.612Z"
   },
   {
    "duration": 42,
    "start_time": "2025-03-27T09:46:07.616Z"
   },
   {
    "duration": 454,
    "start_time": "2025-03-27T09:46:07.661Z"
   },
   {
    "duration": 525,
    "start_time": "2025-03-27T09:46:08.117Z"
   },
   {
    "duration": 4,
    "start_time": "2025-03-27T09:46:08.644Z"
   },
   {
    "duration": 25,
    "start_time": "2025-03-27T09:46:08.650Z"
   },
   {
    "duration": 11,
    "start_time": "2025-03-27T09:46:08.677Z"
   },
   {
    "duration": 18,
    "start_time": "2025-03-27T09:46:08.690Z"
   },
   {
    "duration": 812,
    "start_time": "2025-03-27T09:46:08.710Z"
   },
   {
    "duration": 400,
    "start_time": "2025-03-27T09:46:09.524Z"
   },
   {
    "duration": 17,
    "start_time": "2025-03-27T09:46:09.925Z"
   },
   {
    "duration": 21,
    "start_time": "2025-03-27T09:46:09.943Z"
   },
   {
    "duration": 8,
    "start_time": "2025-03-27T09:46:09.966Z"
   },
   {
    "duration": 45,
    "start_time": "2025-03-27T09:46:09.975Z"
   },
   {
    "duration": 835,
    "start_time": "2025-03-27T09:46:10.022Z"
   },
   {
    "duration": 157,
    "start_time": "2025-03-27T09:46:10.858Z"
   },
   {
    "duration": 13758,
    "start_time": "2025-03-27T09:46:11.017Z"
   },
   {
    "duration": 8,
    "start_time": "2025-03-27T09:46:24.777Z"
   },
   {
    "duration": 73,
    "start_time": "2025-03-27T09:46:24.787Z"
   },
   {
    "duration": 2937,
    "start_time": "2025-03-27T09:46:24.862Z"
   },
   {
    "duration": 3796,
    "start_time": "2025-03-27T09:46:27.801Z"
   },
   {
    "duration": 234,
    "start_time": "2025-03-27T09:46:31.598Z"
   },
   {
    "duration": 234,
    "start_time": "2025-03-27T09:46:31.833Z"
   },
   {
    "duration": 394,
    "start_time": "2025-03-27T09:46:32.069Z"
   },
   {
    "duration": 706,
    "start_time": "2025-03-27T09:46:32.465Z"
   },
   {
    "duration": 278,
    "start_time": "2025-03-27T09:46:33.172Z"
   },
   {
    "duration": 84,
    "start_time": "2025-03-27T09:46:33.457Z"
   },
   {
    "duration": 561,
    "start_time": "2025-03-27T09:46:33.543Z"
   },
   {
    "duration": 93,
    "start_time": "2025-03-27T09:46:34.106Z"
   },
   {
    "duration": 12,
    "start_time": "2025-03-27T09:46:34.204Z"
   },
   {
    "duration": 7973,
    "start_time": "2025-03-27T09:46:34.218Z"
   },
   {
    "duration": 3,
    "start_time": "2025-03-27T09:46:42.193Z"
   },
   {
    "duration": 119,
    "start_time": "2025-03-27T09:46:42.198Z"
   },
   {
    "duration": 5,
    "start_time": "2025-03-27T09:46:42.319Z"
   },
   {
    "duration": 30,
    "start_time": "2025-03-27T09:46:42.326Z"
   },
   {
    "duration": 20,
    "start_time": "2025-03-27T09:46:42.358Z"
   },
   {
    "duration": 13,
    "start_time": "2025-03-27T09:46:42.380Z"
   },
   {
    "duration": 19,
    "start_time": "2025-03-27T09:46:42.394Z"
   },
   {
    "duration": 16,
    "start_time": "2025-03-27T09:46:42.414Z"
   },
   {
    "duration": 75,
    "start_time": "2025-03-27T09:46:42.431Z"
   },
   {
    "duration": 13,
    "start_time": "2025-03-27T09:46:42.508Z"
   },
   {
    "duration": 20,
    "start_time": "2025-03-27T09:46:42.523Z"
   },
   {
    "duration": 28,
    "start_time": "2025-03-27T09:46:42.544Z"
   },
   {
    "duration": 7,
    "start_time": "2025-03-27T09:46:42.574Z"
   },
   {
    "duration": 5,
    "start_time": "2025-03-27T09:46:42.583Z"
   },
   {
    "duration": 17,
    "start_time": "2025-03-27T09:46:42.589Z"
   },
   {
    "duration": 272789,
    "start_time": "2025-03-27T09:46:42.607Z"
   },
   {
    "duration": 16,
    "start_time": "2025-03-27T09:51:15.397Z"
   },
   {
    "duration": 46,
    "start_time": "2025-03-27T09:51:15.415Z"
   },
   {
    "duration": 35,
    "start_time": "2025-03-27T09:51:15.462Z"
   },
   {
    "duration": 434,
    "start_time": "2025-03-27T09:51:15.498Z"
   },
   {
    "duration": 638,
    "start_time": "2025-03-27T09:51:15.934Z"
   },
   {
    "duration": 325,
    "start_time": "2025-03-27T09:57:06.446Z"
   },
   {
    "duration": 27,
    "start_time": "2025-03-27T09:57:20.398Z"
   },
   {
    "duration": 48,
    "start_time": "2025-03-27T09:57:28.413Z"
   },
   {
    "duration": 27,
    "start_time": "2025-03-27T09:57:37.730Z"
   },
   {
    "duration": 29,
    "start_time": "2025-03-27T09:57:41.805Z"
   },
   {
    "duration": 28,
    "start_time": "2025-03-27T09:59:12.097Z"
   },
   {
    "duration": 25,
    "start_time": "2025-03-27T09:59:21.536Z"
   },
   {
    "duration": 129,
    "start_time": "2025-03-27T10:00:20.174Z"
   },
   {
    "duration": 39,
    "start_time": "2025-03-27T10:00:24.753Z"
   },
   {
    "duration": 34,
    "start_time": "2025-03-27T10:00:33.182Z"
   },
   {
    "duration": 126,
    "start_time": "2025-03-27T10:01:18.616Z"
   },
   {
    "duration": 98,
    "start_time": "2025-03-27T10:02:05.133Z"
   },
   {
    "duration": 25,
    "start_time": "2025-03-27T10:04:50.462Z"
   },
   {
    "duration": 21,
    "start_time": "2025-03-27T10:05:00.399Z"
   },
   {
    "duration": 37,
    "start_time": "2025-03-27T10:05:59.870Z"
   },
   {
    "duration": 2868,
    "start_time": "2025-03-27T10:08:06.754Z"
   },
   {
    "duration": 1505,
    "start_time": "2025-03-27T10:08:09.625Z"
   },
   {
    "duration": 4,
    "start_time": "2025-03-27T10:08:11.131Z"
   },
   {
    "duration": 936,
    "start_time": "2025-03-27T10:08:11.136Z"
   },
   {
    "duration": 3,
    "start_time": "2025-03-27T10:08:12.075Z"
   },
   {
    "duration": 263,
    "start_time": "2025-03-27T10:08:12.079Z"
   },
   {
    "duration": 3,
    "start_time": "2025-03-27T10:08:12.344Z"
   },
   {
    "duration": 51,
    "start_time": "2025-03-27T10:08:12.349Z"
   },
   {
    "duration": 138,
    "start_time": "2025-03-27T10:08:12.401Z"
   },
   {
    "duration": 257,
    "start_time": "2025-03-27T10:08:12.541Z"
   },
   {
    "duration": 127,
    "start_time": "2025-03-27T10:08:12.800Z"
   },
   {
    "duration": 3,
    "start_time": "2025-03-27T10:08:12.929Z"
   },
   {
    "duration": 38,
    "start_time": "2025-03-27T10:08:12.934Z"
   },
   {
    "duration": 483,
    "start_time": "2025-03-27T10:08:12.975Z"
   },
   {
    "duration": 561,
    "start_time": "2025-03-27T10:08:13.460Z"
   },
   {
    "duration": 5,
    "start_time": "2025-03-27T10:08:14.024Z"
   },
   {
    "duration": 30,
    "start_time": "2025-03-27T10:08:14.031Z"
   },
   {
    "duration": 7,
    "start_time": "2025-03-27T10:08:14.068Z"
   },
   {
    "duration": 22,
    "start_time": "2025-03-27T10:08:14.078Z"
   },
   {
    "duration": 39,
    "start_time": "2025-03-27T10:08:14.102Z"
   },
   {
    "duration": 43,
    "start_time": "2025-03-27T10:08:14.143Z"
   },
   {
    "duration": 830,
    "start_time": "2025-03-27T10:08:14.187Z"
   },
   {
    "duration": 448,
    "start_time": "2025-03-27T10:08:15.018Z"
   },
   {
    "duration": 16,
    "start_time": "2025-03-27T10:08:15.470Z"
   },
   {
    "duration": 19,
    "start_time": "2025-03-27T10:08:15.487Z"
   },
   {
    "duration": 19,
    "start_time": "2025-03-27T10:08:15.508Z"
   },
   {
    "duration": 69,
    "start_time": "2025-03-27T10:08:15.528Z"
   },
   {
    "duration": 874,
    "start_time": "2025-03-27T10:08:15.599Z"
   },
   {
    "duration": 170,
    "start_time": "2025-03-27T10:08:16.475Z"
   },
   {
    "duration": 14920,
    "start_time": "2025-03-27T10:08:16.647Z"
   },
   {
    "duration": 8,
    "start_time": "2025-03-27T10:08:31.568Z"
   },
   {
    "duration": 84,
    "start_time": "2025-03-27T10:08:31.578Z"
   },
   {
    "duration": 22,
    "start_time": "2025-03-27T10:08:31.664Z"
   },
   {
    "duration": 57,
    "start_time": "2025-03-27T10:08:31.688Z"
   },
   {
    "duration": 21,
    "start_time": "2025-03-27T10:08:31.746Z"
   },
   {
    "duration": 3047,
    "start_time": "2025-03-27T10:08:31.773Z"
   },
   {
    "duration": 4004,
    "start_time": "2025-03-27T10:08:34.821Z"
   },
   {
    "duration": 295,
    "start_time": "2025-03-27T10:08:38.827Z"
   },
   {
    "duration": 260,
    "start_time": "2025-03-27T10:08:39.124Z"
   },
   {
    "duration": 423,
    "start_time": "2025-03-27T10:08:39.386Z"
   },
   {
    "duration": 728,
    "start_time": "2025-03-27T10:08:39.813Z"
   },
   {
    "duration": 164,
    "start_time": "2025-03-27T10:08:40.542Z"
   },
   {
    "duration": 23,
    "start_time": "2025-03-27T10:08:40.707Z"
   },
   {
    "duration": 51,
    "start_time": "2025-03-27T10:08:40.731Z"
   },
   {
    "duration": 220,
    "start_time": "2025-03-27T10:08:40.784Z"
   },
   {
    "duration": 592,
    "start_time": "2025-03-27T10:08:41.005Z"
   },
   {
    "duration": 27,
    "start_time": "2025-03-27T10:08:41.599Z"
   },
   {
    "duration": 54,
    "start_time": "2025-03-27T10:08:41.627Z"
   },
   {
    "duration": 47,
    "start_time": "2025-03-27T10:08:41.682Z"
   },
   {
    "duration": 34,
    "start_time": "2025-03-27T10:08:41.730Z"
   },
   {
    "duration": 8238,
    "start_time": "2025-03-27T10:08:41.766Z"
   },
   {
    "duration": 5,
    "start_time": "2025-03-27T10:08:50.007Z"
   },
   {
    "duration": 134,
    "start_time": "2025-03-27T10:08:50.014Z"
   },
   {
    "duration": 17,
    "start_time": "2025-03-27T10:08:50.150Z"
   },
   {
    "duration": 27,
    "start_time": "2025-03-27T10:08:50.173Z"
   },
   {
    "duration": 5,
    "start_time": "2025-03-27T10:08:50.201Z"
   },
   {
    "duration": 8,
    "start_time": "2025-03-27T10:08:50.208Z"
   },
   {
    "duration": 4,
    "start_time": "2025-03-27T10:08:50.218Z"
   },
   {
    "duration": 9,
    "start_time": "2025-03-27T10:08:50.223Z"
   },
   {
    "duration": 6,
    "start_time": "2025-03-27T10:08:50.233Z"
   },
   {
    "duration": 9,
    "start_time": "2025-03-27T10:08:50.241Z"
   },
   {
    "duration": 4,
    "start_time": "2025-03-27T10:08:50.251Z"
   },
   {
    "duration": 13,
    "start_time": "2025-03-27T10:08:50.260Z"
   },
   {
    "duration": 5,
    "start_time": "2025-03-27T10:08:50.274Z"
   },
   {
    "duration": 26,
    "start_time": "2025-03-27T10:08:50.281Z"
   },
   {
    "duration": 17,
    "start_time": "2025-03-27T10:08:50.308Z"
   },
   {
    "duration": 1851892,
    "start_time": "2025-03-27T10:08:50.326Z"
   },
   {
    "duration": 0,
    "start_time": "2025-03-27T10:39:42.220Z"
   },
   {
    "duration": 0,
    "start_time": "2025-03-27T10:39:42.222Z"
   },
   {
    "duration": 0,
    "start_time": "2025-03-27T10:39:42.224Z"
   },
   {
    "duration": 0,
    "start_time": "2025-03-27T10:39:42.225Z"
   },
   {
    "duration": 0,
    "start_time": "2025-03-27T10:39:42.227Z"
   },
   {
    "duration": 6,
    "start_time": "2025-03-27T10:48:39.181Z"
   },
   {
    "duration": 16,
    "start_time": "2025-03-27T10:49:22.893Z"
   },
   {
    "duration": 3418,
    "start_time": "2025-03-27T10:49:40.929Z"
   },
   {
    "duration": 30,
    "start_time": "2025-03-27T10:49:47.324Z"
   },
   {
    "duration": 20,
    "start_time": "2025-03-27T10:50:12.386Z"
   },
   {
    "duration": 2,
    "start_time": "2025-03-27T10:50:44.826Z"
   },
   {
    "duration": 9,
    "start_time": "2025-03-27T10:51:56.784Z"
   },
   {
    "duration": 7,
    "start_time": "2025-03-27T10:52:01.097Z"
   },
   {
    "duration": 14,
    "start_time": "2025-03-27T10:52:15.004Z"
   },
   {
    "duration": 4,
    "start_time": "2025-03-27T10:54:58.798Z"
   },
   {
    "duration": 15,
    "start_time": "2025-03-27T10:55:13.064Z"
   },
   {
    "duration": 2,
    "start_time": "2025-03-27T10:55:30.353Z"
   },
   {
    "duration": 15,
    "start_time": "2025-03-27T10:55:31.817Z"
   },
   {
    "duration": 32,
    "start_time": "2025-03-27T10:56:34.275Z"
   },
   {
    "duration": 31,
    "start_time": "2025-03-27T10:56:50.616Z"
   },
   {
    "duration": 14,
    "start_time": "2025-03-27T10:58:29.809Z"
   },
   {
    "duration": 15,
    "start_time": "2025-03-27T10:59:35.876Z"
   },
   {
    "duration": 39,
    "start_time": "2025-03-27T11:02:41.039Z"
   },
   {
    "duration": 195,
    "start_time": "2025-03-27T11:03:30.136Z"
   },
   {
    "duration": 927,
    "start_time": "2025-03-27T11:05:15.791Z"
   },
   {
    "duration": 17428,
    "start_time": "2025-03-27T11:06:47.185Z"
   },
   {
    "duration": 9,
    "start_time": "2025-03-27T11:07:14.288Z"
   },
   {
    "duration": 964,
    "start_time": "2025-03-27T11:07:28.593Z"
   },
   {
    "duration": 7003,
    "start_time": "2025-03-27T11:09:23.890Z"
   },
   {
    "duration": 952,
    "start_time": "2025-03-27T11:09:54.573Z"
   },
   {
    "duration": 6373,
    "start_time": "2025-03-27T11:10:58.729Z"
   },
   {
    "duration": 33,
    "start_time": "2025-03-27T11:14:31.772Z"
   },
   {
    "duration": 6650,
    "start_time": "2025-03-27T11:15:22.401Z"
   },
   {
    "duration": 1702,
    "start_time": "2025-03-27T11:15:29.053Z"
   },
   {
    "duration": 4,
    "start_time": "2025-03-27T11:15:30.757Z"
   },
   {
    "duration": 1177,
    "start_time": "2025-03-27T11:15:30.763Z"
   },
   {
    "duration": 3,
    "start_time": "2025-03-27T11:15:31.941Z"
   },
   {
    "duration": 255,
    "start_time": "2025-03-27T11:15:31.946Z"
   },
   {
    "duration": 3,
    "start_time": "2025-03-27T11:15:32.203Z"
   },
   {
    "duration": 46,
    "start_time": "2025-03-27T11:15:32.207Z"
   },
   {
    "duration": 123,
    "start_time": "2025-03-27T11:15:32.254Z"
   },
   {
    "duration": 248,
    "start_time": "2025-03-27T11:15:32.380Z"
   },
   {
    "duration": 117,
    "start_time": "2025-03-27T11:15:32.630Z"
   },
   {
    "duration": 3,
    "start_time": "2025-03-27T11:15:32.756Z"
   },
   {
    "duration": 34,
    "start_time": "2025-03-27T11:15:32.761Z"
   },
   {
    "duration": 472,
    "start_time": "2025-03-27T11:15:32.797Z"
   },
   {
    "duration": 511,
    "start_time": "2025-03-27T11:15:33.271Z"
   },
   {
    "duration": 4,
    "start_time": "2025-03-27T11:15:33.783Z"
   },
   {
    "duration": 29,
    "start_time": "2025-03-27T11:15:33.788Z"
   },
   {
    "duration": 7,
    "start_time": "2025-03-27T11:15:33.819Z"
   },
   {
    "duration": 17,
    "start_time": "2025-03-27T11:15:33.828Z"
   },
   {
    "duration": 35,
    "start_time": "2025-03-27T11:15:33.846Z"
   },
   {
    "duration": 34,
    "start_time": "2025-03-27T11:15:33.882Z"
   },
   {
    "duration": 663,
    "start_time": "2025-03-27T11:15:33.918Z"
   },
   {
    "duration": 18,
    "start_time": "2025-03-27T11:15:34.583Z"
   },
   {
    "duration": 64,
    "start_time": "2025-03-27T11:15:34.602Z"
   },
   {
    "duration": 389,
    "start_time": "2025-03-27T11:15:34.668Z"
   },
   {
    "duration": 15,
    "start_time": "2025-03-27T11:15:35.058Z"
   },
   {
    "duration": 7,
    "start_time": "2025-03-27T11:15:35.074Z"
   },
   {
    "duration": 29,
    "start_time": "2025-03-27T11:15:35.085Z"
   },
   {
    "duration": 65,
    "start_time": "2025-03-27T11:15:35.115Z"
   },
   {
    "duration": 732,
    "start_time": "2025-03-27T11:15:35.181Z"
   },
   {
    "duration": 150,
    "start_time": "2025-03-27T11:15:35.915Z"
   },
   {
    "duration": 13570,
    "start_time": "2025-03-27T11:15:36.067Z"
   },
   {
    "duration": 8,
    "start_time": "2025-03-27T11:15:49.638Z"
   },
   {
    "duration": 56,
    "start_time": "2025-03-27T11:15:49.657Z"
   },
   {
    "duration": 19,
    "start_time": "2025-03-27T11:15:49.714Z"
   },
   {
    "duration": 2892,
    "start_time": "2025-03-27T11:15:49.734Z"
   },
   {
    "duration": 3609,
    "start_time": "2025-03-27T11:15:52.628Z"
   },
   {
    "duration": 2,
    "start_time": "2025-03-27T11:15:56.239Z"
   },
   {
    "duration": 215,
    "start_time": "2025-03-27T11:15:56.243Z"
   },
   {
    "duration": 219,
    "start_time": "2025-03-27T11:15:56.460Z"
   },
   {
    "duration": 629,
    "start_time": "2025-03-27T11:15:56.680Z"
   },
   {
    "duration": 647,
    "start_time": "2025-03-27T11:15:57.311Z"
   },
   {
    "duration": 148,
    "start_time": "2025-03-27T11:15:57.960Z"
   },
   {
    "duration": 26,
    "start_time": "2025-03-27T11:15:58.110Z"
   },
   {
    "duration": 38,
    "start_time": "2025-03-27T11:15:58.138Z"
   },
   {
    "duration": 95,
    "start_time": "2025-03-27T11:15:58.178Z"
   },
   {
    "duration": 500,
    "start_time": "2025-03-27T11:15:58.275Z"
   },
   {
    "duration": 35,
    "start_time": "2025-03-27T11:15:58.776Z"
   },
   {
    "duration": 55,
    "start_time": "2025-03-27T11:15:58.815Z"
   },
   {
    "duration": 53,
    "start_time": "2025-03-27T11:15:58.872Z"
   },
   {
    "duration": 13,
    "start_time": "2025-03-27T11:15:58.927Z"
   },
   {
    "duration": 7868,
    "start_time": "2025-03-27T11:15:58.958Z"
   },
   {
    "duration": 4,
    "start_time": "2025-03-27T11:16:06.828Z"
   },
   {
    "duration": 113,
    "start_time": "2025-03-27T11:16:06.834Z"
   },
   {
    "duration": 8,
    "start_time": "2025-03-27T11:16:06.949Z"
   },
   {
    "duration": 33,
    "start_time": "2025-03-27T11:16:06.959Z"
   },
   {
    "duration": 7,
    "start_time": "2025-03-27T11:16:06.994Z"
   },
   {
    "duration": 27,
    "start_time": "2025-03-27T11:16:07.003Z"
   },
   {
    "duration": 13,
    "start_time": "2025-03-27T11:16:07.032Z"
   },
   {
    "duration": 13,
    "start_time": "2025-03-27T11:16:07.047Z"
   },
   {
    "duration": 11,
    "start_time": "2025-03-27T11:16:07.062Z"
   },
   {
    "duration": 6,
    "start_time": "2025-03-27T11:16:07.075Z"
   },
   {
    "duration": 51,
    "start_time": "2025-03-27T11:16:07.082Z"
   },
   {
    "duration": 36,
    "start_time": "2025-03-27T11:16:07.135Z"
   },
   {
    "duration": 6,
    "start_time": "2025-03-27T11:16:07.173Z"
   },
   {
    "duration": 29,
    "start_time": "2025-03-27T11:16:07.180Z"
   },
   {
    "duration": 42,
    "start_time": "2025-03-27T11:16:07.211Z"
   },
   {
    "duration": 195749,
    "start_time": "2025-03-27T11:16:07.255Z"
   },
   {
    "duration": 16,
    "start_time": "2025-03-27T11:19:23.006Z"
   },
   {
    "duration": 50,
    "start_time": "2025-03-27T11:19:23.024Z"
   },
   {
    "duration": 36,
    "start_time": "2025-03-27T11:19:23.075Z"
   },
   {
    "duration": 369,
    "start_time": "2025-03-27T11:19:23.112Z"
   },
   {
    "duration": 591,
    "start_time": "2025-03-27T11:19:23.482Z"
   },
   {
    "duration": 7563,
    "start_time": "2025-03-27T11:30:57.458Z"
   },
   {
    "duration": 24521,
    "start_time": "2025-03-27T11:34:07.899Z"
   },
   {
    "duration": 1002,
    "start_time": "2025-03-27T11:35:38.311Z"
   },
   {
    "duration": 35,
    "start_time": "2025-03-27T11:36:23.507Z"
   },
   {
    "duration": 100,
    "start_time": "2025-03-27T11:37:41.871Z"
   },
   {
    "duration": 19,
    "start_time": "2025-03-27T11:38:00.412Z"
   },
   {
    "duration": 1919,
    "start_time": "2025-03-27T11:39:39.766Z"
   },
   {
    "duration": 6427,
    "start_time": "2025-03-27T11:39:56.704Z"
   },
   {
    "duration": 2057,
    "start_time": "2025-03-27T11:40:03.134Z"
   },
   {
    "duration": 3027,
    "start_time": "2025-03-27T11:40:05.194Z"
   },
   {
    "duration": 4,
    "start_time": "2025-03-27T11:40:08.222Z"
   },
   {
    "duration": 948,
    "start_time": "2025-03-27T11:40:08.228Z"
   },
   {
    "duration": 3,
    "start_time": "2025-03-27T11:40:09.177Z"
   },
   {
    "duration": 277,
    "start_time": "2025-03-27T11:40:09.181Z"
   },
   {
    "duration": 4,
    "start_time": "2025-03-27T11:40:09.460Z"
   },
   {
    "duration": 36,
    "start_time": "2025-03-27T11:40:09.466Z"
   },
   {
    "duration": 170,
    "start_time": "2025-03-27T11:40:09.504Z"
   },
   {
    "duration": 295,
    "start_time": "2025-03-27T11:40:09.676Z"
   },
   {
    "duration": 122,
    "start_time": "2025-03-27T11:40:09.973Z"
   },
   {
    "duration": 2,
    "start_time": "2025-03-27T11:40:10.096Z"
   },
   {
    "duration": 33,
    "start_time": "2025-03-27T11:40:10.101Z"
   },
   {
    "duration": 492,
    "start_time": "2025-03-27T11:40:10.135Z"
   },
   {
    "duration": 539,
    "start_time": "2025-03-27T11:40:10.628Z"
   },
   {
    "duration": 4,
    "start_time": "2025-03-27T11:40:11.168Z"
   },
   {
    "duration": 13,
    "start_time": "2025-03-27T11:40:11.174Z"
   },
   {
    "duration": 3,
    "start_time": "2025-03-27T11:40:11.188Z"
   },
   {
    "duration": 17,
    "start_time": "2025-03-27T11:40:11.192Z"
   },
   {
    "duration": 27,
    "start_time": "2025-03-27T11:40:11.211Z"
   },
   {
    "duration": 39,
    "start_time": "2025-03-27T11:40:11.240Z"
   },
   {
    "duration": 699,
    "start_time": "2025-03-27T11:40:11.281Z"
   },
   {
    "duration": 17,
    "start_time": "2025-03-27T11:40:11.982Z"
   },
   {
    "duration": 64,
    "start_time": "2025-03-27T11:40:12.001Z"
   },
   {
    "duration": 394,
    "start_time": "2025-03-27T11:40:12.067Z"
   },
   {
    "duration": 15,
    "start_time": "2025-03-27T11:40:12.463Z"
   },
   {
    "duration": 8,
    "start_time": "2025-03-27T11:40:12.479Z"
   },
   {
    "duration": 8,
    "start_time": "2025-03-27T11:40:12.488Z"
   },
   {
    "duration": 92,
    "start_time": "2025-03-27T11:40:12.497Z"
   },
   {
    "duration": 815,
    "start_time": "2025-03-27T11:40:12.591Z"
   },
   {
    "duration": 150,
    "start_time": "2025-03-27T11:40:13.407Z"
   },
   {
    "duration": 15213,
    "start_time": "2025-03-27T11:40:13.558Z"
   },
   {
    "duration": 11,
    "start_time": "2025-03-27T11:40:28.774Z"
   },
   {
    "duration": 80,
    "start_time": "2025-03-27T11:40:28.787Z"
   },
   {
    "duration": 22,
    "start_time": "2025-03-27T11:40:28.869Z"
   },
   {
    "duration": 3396,
    "start_time": "2025-03-27T11:40:28.893Z"
   },
   {
    "duration": 4101,
    "start_time": "2025-03-27T11:40:32.290Z"
   },
   {
    "duration": 2,
    "start_time": "2025-03-27T11:40:36.392Z"
   },
   {
    "duration": 223,
    "start_time": "2025-03-27T11:40:36.396Z"
   },
   {
    "duration": 250,
    "start_time": "2025-03-27T11:40:36.623Z"
   },
   {
    "duration": 408,
    "start_time": "2025-03-27T11:40:36.875Z"
   },
   {
    "duration": 688,
    "start_time": "2025-03-27T11:40:37.284Z"
   },
   {
    "duration": 151,
    "start_time": "2025-03-27T11:40:37.973Z"
   },
   {
    "duration": 35,
    "start_time": "2025-03-27T11:40:38.126Z"
   },
   {
    "duration": 35,
    "start_time": "2025-03-27T11:40:38.163Z"
   },
   {
    "duration": 97,
    "start_time": "2025-03-27T11:40:38.200Z"
   },
   {
    "duration": 577,
    "start_time": "2025-03-27T11:40:38.298Z"
   },
   {
    "duration": 30,
    "start_time": "2025-03-27T11:40:38.877Z"
   },
   {
    "duration": 41,
    "start_time": "2025-03-27T11:40:38.909Z"
   },
   {
    "duration": 86,
    "start_time": "2025-03-27T11:40:38.951Z"
   },
   {
    "duration": 25,
    "start_time": "2025-03-27T11:40:39.039Z"
   },
   {
    "duration": 8412,
    "start_time": "2025-03-27T11:40:39.066Z"
   },
   {
    "duration": 2,
    "start_time": "2025-03-27T11:40:47.480Z"
   },
   {
    "duration": 177,
    "start_time": "2025-03-27T11:40:47.483Z"
   },
   {
    "duration": 8,
    "start_time": "2025-03-27T11:40:47.662Z"
   },
   {
    "duration": 18,
    "start_time": "2025-03-27T11:40:47.672Z"
   },
   {
    "duration": 25,
    "start_time": "2025-03-27T11:40:47.691Z"
   },
   {
    "duration": 8,
    "start_time": "2025-03-27T11:40:47.717Z"
   },
   {
    "duration": 12,
    "start_time": "2025-03-27T11:40:47.726Z"
   },
   {
    "duration": 9,
    "start_time": "2025-03-27T11:40:47.739Z"
   },
   {
    "duration": 19,
    "start_time": "2025-03-27T11:40:47.749Z"
   },
   {
    "duration": 3,
    "start_time": "2025-03-27T11:40:47.770Z"
   },
   {
    "duration": 12,
    "start_time": "2025-03-27T11:40:47.775Z"
   },
   {
    "duration": 42,
    "start_time": "2025-03-27T11:40:47.788Z"
   },
   {
    "duration": 18,
    "start_time": "2025-03-27T11:40:47.832Z"
   },
   {
    "duration": 17,
    "start_time": "2025-03-27T11:40:47.852Z"
   },
   {
    "duration": 24,
    "start_time": "2025-03-27T11:40:47.871Z"
   },
   {
    "duration": 3332,
    "start_time": "2025-03-27T11:40:47.897Z"
   },
   {
    "duration": 0,
    "start_time": "2025-03-27T11:40:51.230Z"
   },
   {
    "duration": 0,
    "start_time": "2025-03-27T11:40:51.231Z"
   },
   {
    "duration": 0,
    "start_time": "2025-03-27T11:40:51.232Z"
   },
   {
    "duration": 0,
    "start_time": "2025-03-27T11:40:51.234Z"
   },
   {
    "duration": 0,
    "start_time": "2025-03-27T11:40:51.235Z"
   },
   {
    "duration": 47804,
    "start_time": "2025-03-27T11:41:16.104Z"
   },
   {
    "duration": 6124,
    "start_time": "2025-03-27T11:48:01.899Z"
   },
   {
    "duration": 2013,
    "start_time": "2025-03-27T11:48:08.025Z"
   },
   {
    "duration": 3129,
    "start_time": "2025-03-27T11:48:10.040Z"
   },
   {
    "duration": 6,
    "start_time": "2025-03-27T11:48:13.171Z"
   },
   {
    "duration": 957,
    "start_time": "2025-03-27T11:48:13.178Z"
   },
   {
    "duration": 2,
    "start_time": "2025-03-27T11:48:14.137Z"
   },
   {
    "duration": 289,
    "start_time": "2025-03-27T11:48:14.140Z"
   },
   {
    "duration": 3,
    "start_time": "2025-03-27T11:48:14.431Z"
   },
   {
    "duration": 72,
    "start_time": "2025-03-27T11:48:14.435Z"
   },
   {
    "duration": 135,
    "start_time": "2025-03-27T11:48:14.509Z"
   },
   {
    "duration": 250,
    "start_time": "2025-03-27T11:48:14.646Z"
   },
   {
    "duration": 124,
    "start_time": "2025-03-27T11:48:14.898Z"
   },
   {
    "duration": 2,
    "start_time": "2025-03-27T11:48:15.024Z"
   },
   {
    "duration": 121,
    "start_time": "2025-03-27T11:48:15.027Z"
   },
   {
    "duration": 462,
    "start_time": "2025-03-27T11:48:15.149Z"
   },
   {
    "duration": 567,
    "start_time": "2025-03-27T11:48:15.613Z"
   },
   {
    "duration": 4,
    "start_time": "2025-03-27T11:48:16.181Z"
   },
   {
    "duration": 10,
    "start_time": "2025-03-27T11:48:16.187Z"
   },
   {
    "duration": 23,
    "start_time": "2025-03-27T11:48:16.198Z"
   },
   {
    "duration": 21,
    "start_time": "2025-03-27T11:48:16.223Z"
   },
   {
    "duration": 46,
    "start_time": "2025-03-27T11:48:16.245Z"
   },
   {
    "duration": 28,
    "start_time": "2025-03-27T11:48:16.293Z"
   },
   {
    "duration": 718,
    "start_time": "2025-03-27T11:48:16.323Z"
   },
   {
    "duration": 27,
    "start_time": "2025-03-27T11:48:17.043Z"
   },
   {
    "duration": 101,
    "start_time": "2025-03-27T11:48:17.072Z"
   },
   {
    "duration": 406,
    "start_time": "2025-03-27T11:48:17.175Z"
   },
   {
    "duration": 16,
    "start_time": "2025-03-27T11:48:17.583Z"
   },
   {
    "duration": 10,
    "start_time": "2025-03-27T11:48:17.604Z"
   },
   {
    "duration": 8,
    "start_time": "2025-03-27T11:48:17.616Z"
   },
   {
    "duration": 93,
    "start_time": "2025-03-27T11:48:17.625Z"
   },
   {
    "duration": 792,
    "start_time": "2025-03-27T11:48:17.719Z"
   },
   {
    "duration": 169,
    "start_time": "2025-03-27T11:48:18.512Z"
   },
   {
    "duration": 15300,
    "start_time": "2025-03-27T11:48:18.683Z"
   },
   {
    "duration": 9,
    "start_time": "2025-03-27T11:48:33.984Z"
   },
   {
    "duration": 92,
    "start_time": "2025-03-27T11:48:33.995Z"
   },
   {
    "duration": 20,
    "start_time": "2025-03-27T11:48:34.089Z"
   },
   {
    "duration": 3330,
    "start_time": "2025-03-27T11:48:34.110Z"
   },
   {
    "duration": 4008,
    "start_time": "2025-03-27T11:48:37.441Z"
   },
   {
    "duration": 6,
    "start_time": "2025-03-27T11:48:41.451Z"
   },
   {
    "duration": 234,
    "start_time": "2025-03-27T11:48:41.459Z"
   },
   {
    "duration": 220,
    "start_time": "2025-03-27T11:48:41.694Z"
   },
   {
    "duration": 417,
    "start_time": "2025-03-27T11:48:41.915Z"
   },
   {
    "duration": 683,
    "start_time": "2025-03-27T11:48:42.334Z"
   },
   {
    "duration": 173,
    "start_time": "2025-03-27T11:48:43.018Z"
   },
   {
    "duration": 27,
    "start_time": "2025-03-27T11:48:43.193Z"
   },
   {
    "duration": 59,
    "start_time": "2025-03-27T11:48:43.221Z"
   },
   {
    "duration": 110,
    "start_time": "2025-03-27T11:48:43.282Z"
   },
   {
    "duration": 578,
    "start_time": "2025-03-27T11:48:43.394Z"
   },
   {
    "duration": 41,
    "start_time": "2025-03-27T11:48:43.974Z"
   },
   {
    "duration": 56,
    "start_time": "2025-03-27T11:48:44.016Z"
   },
   {
    "duration": 69,
    "start_time": "2025-03-27T11:48:44.074Z"
   },
   {
    "duration": 28,
    "start_time": "2025-03-27T11:48:44.145Z"
   },
   {
    "duration": 8403,
    "start_time": "2025-03-27T11:48:44.175Z"
   },
   {
    "duration": 45449,
    "start_time": "2025-03-27T11:48:52.580Z"
   },
   {
    "duration": 3,
    "start_time": "2025-03-27T11:49:38.031Z"
   },
   {
    "duration": 228,
    "start_time": "2025-03-27T11:49:38.036Z"
   },
   {
    "duration": 3,
    "start_time": "2025-03-27T11:49:38.270Z"
   },
   {
    "duration": 26,
    "start_time": "2025-03-27T11:49:38.276Z"
   },
   {
    "duration": 8,
    "start_time": "2025-03-27T11:49:38.303Z"
   },
   {
    "duration": 12,
    "start_time": "2025-03-27T11:49:38.312Z"
   },
   {
    "duration": 9,
    "start_time": "2025-03-27T11:49:38.325Z"
   },
   {
    "duration": 16,
    "start_time": "2025-03-27T11:49:38.336Z"
   },
   {
    "duration": 17,
    "start_time": "2025-03-27T11:49:38.354Z"
   },
   {
    "duration": 15,
    "start_time": "2025-03-27T11:49:38.372Z"
   },
   {
    "duration": 11,
    "start_time": "2025-03-27T11:49:38.389Z"
   },
   {
    "duration": 13,
    "start_time": "2025-03-27T11:49:38.401Z"
   },
   {
    "duration": 21,
    "start_time": "2025-03-27T11:49:38.416Z"
   },
   {
    "duration": 198196,
    "start_time": "2025-03-27T11:49:38.438Z"
   },
   {
    "duration": 22,
    "start_time": "2025-03-27T11:52:56.635Z"
   },
   {
    "duration": 37,
    "start_time": "2025-03-27T11:52:56.659Z"
   },
   {
    "duration": 40,
    "start_time": "2025-03-27T11:52:56.698Z"
   },
   {
    "duration": 322,
    "start_time": "2025-03-27T11:52:56.739Z"
   },
   {
    "duration": 549,
    "start_time": "2025-03-27T11:52:57.063Z"
   },
   {
    "duration": 210,
    "start_time": "2025-03-27T12:44:54.899Z"
   },
   {
    "duration": 12,
    "start_time": "2025-03-27T12:47:10.237Z"
   },
   {
    "duration": 35,
    "start_time": "2025-03-27T12:47:44.484Z"
   },
   {
    "duration": 12,
    "start_time": "2025-03-27T12:47:51.435Z"
   },
   {
    "duration": 4,
    "start_time": "2025-03-27T12:51:14.593Z"
   },
   {
    "duration": 4,
    "start_time": "2025-03-27T12:54:35.666Z"
   },
   {
    "duration": 5,
    "start_time": "2025-03-27T12:55:02.176Z"
   },
   {
    "duration": 4,
    "start_time": "2025-03-27T12:55:21.586Z"
   },
   {
    "duration": 155,
    "start_time": "2025-03-27T12:58:27.693Z"
   },
   {
    "duration": 200,
    "start_time": "2025-03-27T13:00:58.624Z"
   },
   {
    "duration": 184,
    "start_time": "2025-03-27T13:01:24.349Z"
   },
   {
    "duration": 175,
    "start_time": "2025-03-27T13:01:40.273Z"
   },
   {
    "duration": 184,
    "start_time": "2025-03-27T13:03:24.693Z"
   },
   {
    "duration": 185,
    "start_time": "2025-03-27T13:04:06.875Z"
   },
   {
    "duration": 179,
    "start_time": "2025-03-27T13:06:53.990Z"
   },
   {
    "duration": 63,
    "start_time": "2025-03-27T13:16:46.106Z"
   },
   {
    "duration": 6,
    "start_time": "2025-03-27T13:16:55.595Z"
   },
   {
    "duration": 35,
    "start_time": "2025-03-27T13:17:06.414Z"
   },
   {
    "duration": 6174,
    "start_time": "2025-03-27T13:17:55.143Z"
   },
   {
    "duration": 2136,
    "start_time": "2025-03-27T13:18:01.319Z"
   },
   {
    "duration": 3140,
    "start_time": "2025-03-27T13:18:03.461Z"
   },
   {
    "duration": 4,
    "start_time": "2025-03-27T13:18:06.603Z"
   },
   {
    "duration": 961,
    "start_time": "2025-03-27T13:18:06.609Z"
   },
   {
    "duration": 3,
    "start_time": "2025-03-27T13:18:07.574Z"
   },
   {
    "duration": 306,
    "start_time": "2025-03-27T13:18:07.578Z"
   },
   {
    "duration": 4,
    "start_time": "2025-03-27T13:18:07.885Z"
   },
   {
    "duration": 56,
    "start_time": "2025-03-27T13:18:07.891Z"
   },
   {
    "duration": 171,
    "start_time": "2025-03-27T13:18:07.948Z"
   },
   {
    "duration": 290,
    "start_time": "2025-03-27T13:18:08.120Z"
   },
   {
    "duration": 129,
    "start_time": "2025-03-27T13:18:08.412Z"
   },
   {
    "duration": 3,
    "start_time": "2025-03-27T13:18:08.543Z"
   },
   {
    "duration": 30,
    "start_time": "2025-03-27T13:18:08.560Z"
   },
   {
    "duration": 527,
    "start_time": "2025-03-27T13:18:08.592Z"
   },
   {
    "duration": 578,
    "start_time": "2025-03-27T13:18:09.121Z"
   },
   {
    "duration": 4,
    "start_time": "2025-03-27T13:18:09.700Z"
   },
   {
    "duration": 34,
    "start_time": "2025-03-27T13:18:09.706Z"
   },
   {
    "duration": 14,
    "start_time": "2025-03-27T13:18:09.741Z"
   },
   {
    "duration": 31,
    "start_time": "2025-03-27T13:18:09.756Z"
   },
   {
    "duration": 41,
    "start_time": "2025-03-27T13:18:09.790Z"
   },
   {
    "duration": 78,
    "start_time": "2025-03-27T13:18:09.833Z"
   },
   {
    "duration": 722,
    "start_time": "2025-03-27T13:18:09.912Z"
   },
   {
    "duration": 38,
    "start_time": "2025-03-27T13:18:10.636Z"
   },
   {
    "duration": 55,
    "start_time": "2025-03-27T13:18:10.676Z"
   },
   {
    "duration": 450,
    "start_time": "2025-03-27T13:18:10.733Z"
   },
   {
    "duration": 16,
    "start_time": "2025-03-27T13:18:11.185Z"
   },
   {
    "duration": 8,
    "start_time": "2025-03-27T13:18:11.203Z"
   },
   {
    "duration": 8,
    "start_time": "2025-03-27T13:18:11.212Z"
   },
   {
    "duration": 90,
    "start_time": "2025-03-27T13:18:11.221Z"
   },
   {
    "duration": 865,
    "start_time": "2025-03-27T13:18:11.313Z"
   },
   {
    "duration": 65,
    "start_time": "2025-03-27T13:18:12.180Z"
   },
   {
    "duration": 31,
    "start_time": "2025-03-27T13:18:12.256Z"
   },
   {
    "duration": 196,
    "start_time": "2025-03-27T13:18:12.289Z"
   },
   {
    "duration": 15944,
    "start_time": "2025-03-27T13:18:12.487Z"
   },
   {
    "duration": 104,
    "start_time": "2025-03-27T13:18:28.433Z"
   },
   {
    "duration": 60,
    "start_time": "2025-03-27T13:18:28.538Z"
   },
   {
    "duration": 20,
    "start_time": "2025-03-27T13:18:28.600Z"
   },
   {
    "duration": 3631,
    "start_time": "2025-03-27T13:18:28.621Z"
   },
   {
    "duration": 4145,
    "start_time": "2025-03-27T13:18:32.257Z"
   },
   {
    "duration": 3,
    "start_time": "2025-03-27T13:18:36.407Z"
   },
   {
    "duration": 245,
    "start_time": "2025-03-27T13:18:36.412Z"
   },
   {
    "duration": 233,
    "start_time": "2025-03-27T13:18:36.659Z"
   },
   {
    "duration": 430,
    "start_time": "2025-03-27T13:18:36.894Z"
   },
   {
    "duration": 745,
    "start_time": "2025-03-27T13:18:37.326Z"
   },
   {
    "duration": 184,
    "start_time": "2025-03-27T13:18:38.073Z"
   },
   {
    "duration": 26,
    "start_time": "2025-03-27T13:18:38.259Z"
   },
   {
    "duration": 26,
    "start_time": "2025-03-27T13:18:38.286Z"
   },
   {
    "duration": 115,
    "start_time": "2025-03-27T13:18:38.314Z"
   },
   {
    "duration": 579,
    "start_time": "2025-03-27T13:18:38.431Z"
   },
   {
    "duration": 30,
    "start_time": "2025-03-27T13:18:39.012Z"
   },
   {
    "duration": 48,
    "start_time": "2025-03-27T13:18:39.056Z"
   },
   {
    "duration": 103,
    "start_time": "2025-03-27T13:18:39.106Z"
   },
   {
    "duration": 14,
    "start_time": "2025-03-27T13:18:39.211Z"
   },
   {
    "duration": 9960,
    "start_time": "2025-03-27T13:18:39.226Z"
   },
   {
    "duration": 23057,
    "start_time": "2025-03-27T13:18:49.188Z"
   },
   {
    "duration": 0,
    "start_time": "2025-03-27T13:19:12.247Z"
   },
   {
    "duration": 0,
    "start_time": "2025-03-27T13:19:12.248Z"
   },
   {
    "duration": 0,
    "start_time": "2025-03-27T13:19:12.249Z"
   },
   {
    "duration": 0,
    "start_time": "2025-03-27T13:19:12.250Z"
   },
   {
    "duration": 0,
    "start_time": "2025-03-27T13:19:12.252Z"
   },
   {
    "duration": 0,
    "start_time": "2025-03-27T13:19:12.253Z"
   },
   {
    "duration": 0,
    "start_time": "2025-03-27T13:19:12.254Z"
   },
   {
    "duration": 0,
    "start_time": "2025-03-27T13:19:12.255Z"
   },
   {
    "duration": 0,
    "start_time": "2025-03-27T13:19:12.257Z"
   },
   {
    "duration": 0,
    "start_time": "2025-03-27T13:19:12.258Z"
   },
   {
    "duration": 0,
    "start_time": "2025-03-27T13:19:12.259Z"
   },
   {
    "duration": 0,
    "start_time": "2025-03-27T13:19:12.261Z"
   },
   {
    "duration": 0,
    "start_time": "2025-03-27T13:19:12.261Z"
   },
   {
    "duration": 1,
    "start_time": "2025-03-27T13:19:12.262Z"
   },
   {
    "duration": 1,
    "start_time": "2025-03-27T13:19:12.263Z"
   },
   {
    "duration": 0,
    "start_time": "2025-03-27T13:19:12.265Z"
   },
   {
    "duration": 0,
    "start_time": "2025-03-27T13:19:12.266Z"
   },
   {
    "duration": 0,
    "start_time": "2025-03-27T13:19:12.267Z"
   },
   {
    "duration": 0,
    "start_time": "2025-03-27T13:19:12.268Z"
   },
   {
    "duration": 0,
    "start_time": "2025-03-27T13:19:12.269Z"
   },
   {
    "duration": 0,
    "start_time": "2025-03-27T13:19:12.275Z"
   },
   {
    "duration": 0,
    "start_time": "2025-03-27T13:19:12.276Z"
   },
   {
    "duration": 6408,
    "start_time": "2025-03-27T13:20:05.871Z"
   },
   {
    "duration": 2057,
    "start_time": "2025-03-27T13:20:12.282Z"
   },
   {
    "duration": 3116,
    "start_time": "2025-03-27T13:20:14.341Z"
   },
   {
    "duration": 4,
    "start_time": "2025-03-27T13:20:17.460Z"
   },
   {
    "duration": 951,
    "start_time": "2025-03-27T13:20:17.466Z"
   },
   {
    "duration": 3,
    "start_time": "2025-03-27T13:20:18.419Z"
   },
   {
    "duration": 308,
    "start_time": "2025-03-27T13:20:18.423Z"
   },
   {
    "duration": 3,
    "start_time": "2025-03-27T13:20:18.733Z"
   },
   {
    "duration": 53,
    "start_time": "2025-03-27T13:20:18.738Z"
   },
   {
    "duration": 175,
    "start_time": "2025-03-27T13:20:18.794Z"
   },
   {
    "duration": 260,
    "start_time": "2025-03-27T13:20:18.970Z"
   },
   {
    "duration": 153,
    "start_time": "2025-03-27T13:20:19.233Z"
   },
   {
    "duration": 3,
    "start_time": "2025-03-27T13:20:19.387Z"
   },
   {
    "duration": 35,
    "start_time": "2025-03-27T13:20:19.391Z"
   },
   {
    "duration": 508,
    "start_time": "2025-03-27T13:20:19.428Z"
   },
   {
    "duration": 578,
    "start_time": "2025-03-27T13:20:19.938Z"
   },
   {
    "duration": 5,
    "start_time": "2025-03-27T13:20:20.518Z"
   },
   {
    "duration": 78,
    "start_time": "2025-03-27T13:20:20.525Z"
   },
   {
    "duration": 27,
    "start_time": "2025-03-27T13:20:20.605Z"
   },
   {
    "duration": 34,
    "start_time": "2025-03-27T13:20:20.634Z"
   },
   {
    "duration": 37,
    "start_time": "2025-03-27T13:20:20.670Z"
   },
   {
    "duration": 38,
    "start_time": "2025-03-27T13:20:20.708Z"
   },
   {
    "duration": 736,
    "start_time": "2025-03-27T13:20:20.747Z"
   },
   {
    "duration": 20,
    "start_time": "2025-03-27T13:20:21.485Z"
   },
   {
    "duration": 82,
    "start_time": "2025-03-27T13:20:21.507Z"
   },
   {
    "duration": 440,
    "start_time": "2025-03-27T13:20:21.591Z"
   },
   {
    "duration": 26,
    "start_time": "2025-03-27T13:20:22.032Z"
   },
   {
    "duration": 9,
    "start_time": "2025-03-27T13:20:22.062Z"
   },
   {
    "duration": 24,
    "start_time": "2025-03-27T13:20:22.072Z"
   },
   {
    "duration": 69,
    "start_time": "2025-03-27T13:20:22.098Z"
   },
   {
    "duration": 833,
    "start_time": "2025-03-27T13:20:22.169Z"
   },
   {
    "duration": 68,
    "start_time": "2025-03-27T13:20:23.003Z"
   },
   {
    "duration": 21,
    "start_time": "2025-03-27T13:20:23.073Z"
   },
   {
    "duration": 191,
    "start_time": "2025-03-27T13:20:23.096Z"
   },
   {
    "duration": 15568,
    "start_time": "2025-03-27T13:20:23.290Z"
   },
   {
    "duration": 99,
    "start_time": "2025-03-27T13:20:38.860Z"
   },
   {
    "duration": 52,
    "start_time": "2025-03-27T13:20:38.960Z"
   },
   {
    "duration": 21,
    "start_time": "2025-03-27T13:20:39.013Z"
   },
   {
    "duration": 3477,
    "start_time": "2025-03-27T13:20:39.036Z"
   },
   {
    "duration": 4361,
    "start_time": "2025-03-27T13:20:42.514Z"
   },
   {
    "duration": 2,
    "start_time": "2025-03-27T13:20:46.877Z"
   },
   {
    "duration": 225,
    "start_time": "2025-03-27T13:20:46.881Z"
   },
   {
    "duration": 233,
    "start_time": "2025-03-27T13:20:47.108Z"
   },
   {
    "duration": 439,
    "start_time": "2025-03-27T13:20:47.343Z"
   },
   {
    "duration": 726,
    "start_time": "2025-03-27T13:20:47.784Z"
   },
   {
    "duration": 154,
    "start_time": "2025-03-27T13:20:48.512Z"
   },
   {
    "duration": 25,
    "start_time": "2025-03-27T13:20:48.667Z"
   },
   {
    "duration": 31,
    "start_time": "2025-03-27T13:20:48.694Z"
   },
   {
    "duration": 131,
    "start_time": "2025-03-27T13:20:48.727Z"
   },
   {
    "duration": 583,
    "start_time": "2025-03-27T13:20:48.861Z"
   },
   {
    "duration": 38,
    "start_time": "2025-03-27T13:20:49.446Z"
   },
   {
    "duration": 57,
    "start_time": "2025-03-27T13:20:49.485Z"
   },
   {
    "duration": 96,
    "start_time": "2025-03-27T13:20:49.543Z"
   },
   {
    "duration": 16,
    "start_time": "2025-03-27T13:20:49.641Z"
   },
   {
    "duration": 9654,
    "start_time": "2025-03-27T13:20:49.659Z"
   },
   {
    "duration": 2,
    "start_time": "2025-03-27T13:20:59.315Z"
   },
   {
    "duration": 18,
    "start_time": "2025-03-27T13:20:59.319Z"
   },
   {
    "duration": 124,
    "start_time": "2025-03-27T13:20:59.339Z"
   },
   {
    "duration": 4,
    "start_time": "2025-03-27T13:20:59.464Z"
   },
   {
    "duration": 76,
    "start_time": "2025-03-27T13:20:59.470Z"
   },
   {
    "duration": 48,
    "start_time": "2025-03-27T13:20:59.547Z"
   },
   {
    "duration": 18,
    "start_time": "2025-03-27T13:20:59.597Z"
   },
   {
    "duration": 5,
    "start_time": "2025-03-27T13:20:59.617Z"
   },
   {
    "duration": 5,
    "start_time": "2025-03-27T13:20:59.624Z"
   },
   {
    "duration": 8,
    "start_time": "2025-03-27T13:20:59.631Z"
   },
   {
    "duration": 9,
    "start_time": "2025-03-27T13:20:59.642Z"
   },
   {
    "duration": 20,
    "start_time": "2025-03-27T13:20:59.654Z"
   },
   {
    "duration": 8,
    "start_time": "2025-03-27T13:20:59.677Z"
   },
   {
    "duration": 8,
    "start_time": "2025-03-27T13:20:59.687Z"
   },
   {
    "duration": 222848,
    "start_time": "2025-03-27T13:20:59.697Z"
   },
   {
    "duration": 37,
    "start_time": "2025-03-27T13:24:42.547Z"
   },
   {
    "duration": 42,
    "start_time": "2025-03-27T13:24:42.586Z"
   },
   {
    "duration": 53,
    "start_time": "2025-03-27T13:24:42.630Z"
   },
   {
    "duration": 526,
    "start_time": "2025-03-27T13:24:42.685Z"
   },
   {
    "duration": 717,
    "start_time": "2025-03-27T13:24:43.213Z"
   },
   {
    "duration": 6,
    "start_time": "2025-03-27T13:24:43.931Z"
   },
   {
    "duration": 80,
    "start_time": "2025-03-27T13:24:43.939Z"
   },
   {
    "duration": 241,
    "start_time": "2025-03-27T13:24:44.021Z"
   },
   {
    "duration": 5885,
    "start_time": "2025-03-27T13:28:49.438Z"
   },
   {
    "duration": 1860,
    "start_time": "2025-03-27T13:28:55.325Z"
   },
   {
    "duration": 2920,
    "start_time": "2025-03-27T13:28:57.187Z"
   },
   {
    "duration": 3,
    "start_time": "2025-03-27T13:29:00.109Z"
   },
   {
    "duration": 862,
    "start_time": "2025-03-27T13:29:00.113Z"
   },
   {
    "duration": 3,
    "start_time": "2025-03-27T13:29:00.977Z"
   },
   {
    "duration": 256,
    "start_time": "2025-03-27T13:29:00.981Z"
   },
   {
    "duration": 3,
    "start_time": "2025-03-27T13:29:01.238Z"
   },
   {
    "duration": 38,
    "start_time": "2025-03-27T13:29:01.243Z"
   },
   {
    "duration": 128,
    "start_time": "2025-03-27T13:29:01.283Z"
   },
   {
    "duration": 252,
    "start_time": "2025-03-27T13:29:01.412Z"
   },
   {
    "duration": 121,
    "start_time": "2025-03-27T13:29:01.665Z"
   },
   {
    "duration": 2,
    "start_time": "2025-03-27T13:29:01.788Z"
   },
   {
    "duration": 40,
    "start_time": "2025-03-27T13:29:01.791Z"
   },
   {
    "duration": 528,
    "start_time": "2025-03-27T13:29:01.833Z"
   },
   {
    "duration": 521,
    "start_time": "2025-03-27T13:29:02.363Z"
   },
   {
    "duration": 3,
    "start_time": "2025-03-27T13:29:02.886Z"
   },
   {
    "duration": 54,
    "start_time": "2025-03-27T13:29:02.891Z"
   },
   {
    "duration": 16,
    "start_time": "2025-03-27T13:29:02.947Z"
   },
   {
    "duration": 23,
    "start_time": "2025-03-27T13:29:02.964Z"
   },
   {
    "duration": 34,
    "start_time": "2025-03-27T13:29:02.989Z"
   },
   {
    "duration": 52,
    "start_time": "2025-03-27T13:29:03.025Z"
   },
   {
    "duration": 661,
    "start_time": "2025-03-27T13:29:03.079Z"
   },
   {
    "duration": 26,
    "start_time": "2025-03-27T13:29:03.741Z"
   },
   {
    "duration": 50,
    "start_time": "2025-03-27T13:29:03.769Z"
   },
   {
    "duration": 395,
    "start_time": "2025-03-27T13:29:03.820Z"
   },
   {
    "duration": 15,
    "start_time": "2025-03-27T13:29:04.216Z"
   },
   {
    "duration": 22,
    "start_time": "2025-03-27T13:29:04.235Z"
   },
   {
    "duration": 7,
    "start_time": "2025-03-27T13:29:04.259Z"
   },
   {
    "duration": 68,
    "start_time": "2025-03-27T13:29:04.267Z"
   },
   {
    "duration": 723,
    "start_time": "2025-03-27T13:29:04.337Z"
   },
   {
    "duration": 36,
    "start_time": "2025-03-27T13:29:05.061Z"
   },
   {
    "duration": 23,
    "start_time": "2025-03-27T13:29:05.098Z"
   },
   {
    "duration": 159,
    "start_time": "2025-03-27T13:29:05.123Z"
   },
   {
    "duration": 14019,
    "start_time": "2025-03-27T13:29:05.284Z"
   },
   {
    "duration": 100,
    "start_time": "2025-03-27T13:29:19.305Z"
   },
   {
    "duration": 55,
    "start_time": "2025-03-27T13:29:19.406Z"
   },
   {
    "duration": 20,
    "start_time": "2025-03-27T13:29:19.462Z"
   },
   {
    "duration": 3174,
    "start_time": "2025-03-27T13:29:19.483Z"
   },
   {
    "duration": 3805,
    "start_time": "2025-03-27T13:29:22.658Z"
   },
   {
    "duration": 2,
    "start_time": "2025-03-27T13:29:26.465Z"
   },
   {
    "duration": 210,
    "start_time": "2025-03-27T13:29:26.468Z"
   },
   {
    "duration": 216,
    "start_time": "2025-03-27T13:29:26.679Z"
   },
   {
    "duration": 371,
    "start_time": "2025-03-27T13:29:26.896Z"
   },
   {
    "duration": 652,
    "start_time": "2025-03-27T13:29:27.268Z"
   },
   {
    "duration": 151,
    "start_time": "2025-03-27T13:29:27.921Z"
   },
   {
    "duration": 24,
    "start_time": "2025-03-27T13:29:28.074Z"
   },
   {
    "duration": 26,
    "start_time": "2025-03-27T13:29:28.099Z"
   },
   {
    "duration": 96,
    "start_time": "2025-03-27T13:29:28.127Z"
   },
   {
    "duration": 507,
    "start_time": "2025-03-27T13:29:28.224Z"
   },
   {
    "duration": 42,
    "start_time": "2025-03-27T13:29:28.733Z"
   },
   {
    "duration": 42,
    "start_time": "2025-03-27T13:29:28.777Z"
   },
   {
    "duration": 110,
    "start_time": "2025-03-27T13:29:28.822Z"
   },
   {
    "duration": 13,
    "start_time": "2025-03-27T13:29:28.934Z"
   },
   {
    "duration": 8605,
    "start_time": "2025-03-27T13:29:28.956Z"
   },
   {
    "duration": 2,
    "start_time": "2025-03-27T13:29:37.563Z"
   },
   {
    "duration": 6,
    "start_time": "2025-03-27T13:29:37.566Z"
   },
   {
    "duration": 114,
    "start_time": "2025-03-27T13:29:37.573Z"
   },
   {
    "duration": 3,
    "start_time": "2025-03-27T13:29:37.689Z"
   },
   {
    "duration": 57,
    "start_time": "2025-03-27T13:29:37.693Z"
   },
   {
    "duration": 22,
    "start_time": "2025-03-27T13:29:37.752Z"
   },
   {
    "duration": 45,
    "start_time": "2025-03-27T13:29:37.775Z"
   },
   {
    "duration": 48,
    "start_time": "2025-03-27T13:29:37.822Z"
   },
   {
    "duration": 72,
    "start_time": "2025-03-27T13:29:37.871Z"
   },
   {
    "duration": 67,
    "start_time": "2025-03-27T13:29:37.945Z"
   },
   {
    "duration": 4,
    "start_time": "2025-03-27T13:29:38.013Z"
   },
   {
    "duration": 7,
    "start_time": "2025-03-27T13:29:38.019Z"
   },
   {
    "duration": 13,
    "start_time": "2025-03-27T13:29:38.027Z"
   },
   {
    "duration": 20,
    "start_time": "2025-03-27T13:29:38.042Z"
   },
   {
    "duration": 206041,
    "start_time": "2025-03-27T13:29:38.064Z"
   },
   {
    "duration": 16,
    "start_time": "2025-03-27T13:33:04.107Z"
   },
   {
    "duration": 59,
    "start_time": "2025-03-27T13:33:04.124Z"
   },
   {
    "duration": 32,
    "start_time": "2025-03-27T13:33:04.185Z"
   },
   {
    "duration": 482,
    "start_time": "2025-03-27T13:33:04.219Z"
   },
   {
    "duration": 630,
    "start_time": "2025-03-27T13:33:04.702Z"
   },
   {
    "duration": 4,
    "start_time": "2025-03-27T13:33:05.334Z"
   },
   {
    "duration": 42,
    "start_time": "2025-03-27T13:33:05.339Z"
   },
   {
    "duration": 267,
    "start_time": "2025-03-27T13:33:05.383Z"
   },
   {
    "duration": 5814,
    "start_time": "2025-03-27T13:42:16.815Z"
   },
   {
    "duration": 1990,
    "start_time": "2025-03-27T13:42:22.631Z"
   },
   {
    "duration": 3000,
    "start_time": "2025-03-27T13:42:24.623Z"
   },
   {
    "duration": 3,
    "start_time": "2025-03-27T13:42:27.625Z"
   },
   {
    "duration": 905,
    "start_time": "2025-03-27T13:42:27.630Z"
   },
   {
    "duration": 3,
    "start_time": "2025-03-27T13:42:28.536Z"
   },
   {
    "duration": 299,
    "start_time": "2025-03-27T13:42:28.540Z"
   },
   {
    "duration": 15,
    "start_time": "2025-03-27T13:42:28.842Z"
   },
   {
    "duration": 52,
    "start_time": "2025-03-27T13:42:28.858Z"
   },
   {
    "duration": 130,
    "start_time": "2025-03-27T13:42:28.913Z"
   },
   {
    "duration": 241,
    "start_time": "2025-03-27T13:42:29.045Z"
   },
   {
    "duration": 140,
    "start_time": "2025-03-27T13:42:29.287Z"
   },
   {
    "duration": 2,
    "start_time": "2025-03-27T13:42:29.429Z"
   },
   {
    "duration": 44,
    "start_time": "2025-03-27T13:42:29.433Z"
   },
   {
    "duration": 493,
    "start_time": "2025-03-27T13:42:29.478Z"
   },
   {
    "duration": 586,
    "start_time": "2025-03-27T13:42:29.972Z"
   },
   {
    "duration": 4,
    "start_time": "2025-03-27T13:42:30.559Z"
   },
   {
    "duration": 58,
    "start_time": "2025-03-27T13:42:30.565Z"
   },
   {
    "duration": 6,
    "start_time": "2025-03-27T13:42:30.625Z"
   },
   {
    "duration": 15,
    "start_time": "2025-03-27T13:42:30.632Z"
   },
   {
    "duration": 38,
    "start_time": "2025-03-27T13:42:30.649Z"
   },
   {
    "duration": 49,
    "start_time": "2025-03-27T13:42:30.689Z"
   },
   {
    "duration": 717,
    "start_time": "2025-03-27T13:42:30.740Z"
   },
   {
    "duration": 18,
    "start_time": "2025-03-27T13:42:31.458Z"
   },
   {
    "duration": 64,
    "start_time": "2025-03-27T13:42:31.478Z"
   },
   {
    "duration": 418,
    "start_time": "2025-03-27T13:42:31.544Z"
   },
   {
    "duration": 15,
    "start_time": "2025-03-27T13:42:31.964Z"
   },
   {
    "duration": 8,
    "start_time": "2025-03-27T13:42:31.983Z"
   },
   {
    "duration": 26,
    "start_time": "2025-03-27T13:42:31.993Z"
   },
   {
    "duration": 71,
    "start_time": "2025-03-27T13:42:32.021Z"
   },
   {
    "duration": 776,
    "start_time": "2025-03-27T13:42:32.094Z"
   },
   {
    "duration": 147,
    "start_time": "2025-03-27T13:42:32.872Z"
   },
   {
    "duration": 14662,
    "start_time": "2025-03-27T13:42:33.021Z"
   },
   {
    "duration": 9,
    "start_time": "2025-03-27T13:42:47.685Z"
   },
   {
    "duration": 66,
    "start_time": "2025-03-27T13:42:47.696Z"
   },
   {
    "duration": 20,
    "start_time": "2025-03-27T13:42:47.764Z"
   },
   {
    "duration": 3246,
    "start_time": "2025-03-27T13:42:47.785Z"
   },
   {
    "duration": 3833,
    "start_time": "2025-03-27T13:42:51.032Z"
   },
   {
    "duration": 3,
    "start_time": "2025-03-27T13:42:54.866Z"
   },
   {
    "duration": 253,
    "start_time": "2025-03-27T13:42:54.871Z"
   },
   {
    "duration": 231,
    "start_time": "2025-03-27T13:42:55.126Z"
   },
   {
    "duration": 387,
    "start_time": "2025-03-27T13:42:55.359Z"
   },
   {
    "duration": 656,
    "start_time": "2025-03-27T13:42:55.747Z"
   },
   {
    "duration": 153,
    "start_time": "2025-03-27T13:42:56.405Z"
   },
   {
    "duration": 25,
    "start_time": "2025-03-27T13:42:56.560Z"
   },
   {
    "duration": 51,
    "start_time": "2025-03-27T13:42:56.586Z"
   },
   {
    "duration": 92,
    "start_time": "2025-03-27T13:42:56.638Z"
   },
   {
    "duration": 509,
    "start_time": "2025-03-27T13:42:56.732Z"
   },
   {
    "duration": 43,
    "start_time": "2025-03-27T13:42:57.243Z"
   },
   {
    "duration": 43,
    "start_time": "2025-03-27T13:42:57.287Z"
   },
   {
    "duration": 89,
    "start_time": "2025-03-27T13:42:57.331Z"
   },
   {
    "duration": 13,
    "start_time": "2025-03-27T13:42:57.422Z"
   },
   {
    "duration": 7886,
    "start_time": "2025-03-27T13:42:57.436Z"
   },
   {
    "duration": 2,
    "start_time": "2025-03-27T13:43:05.324Z"
   },
   {
    "duration": 11,
    "start_time": "2025-03-27T13:43:05.328Z"
   },
   {
    "duration": 106,
    "start_time": "2025-03-27T13:43:05.340Z"
   },
   {
    "duration": 9,
    "start_time": "2025-03-27T13:43:05.448Z"
   },
   {
    "duration": 13,
    "start_time": "2025-03-27T13:43:05.458Z"
   },
   {
    "duration": 6,
    "start_time": "2025-03-27T13:43:05.473Z"
   },
   {
    "duration": 14,
    "start_time": "2025-03-27T13:43:05.480Z"
   },
   {
    "duration": 30,
    "start_time": "2025-03-27T13:43:05.496Z"
   },
   {
    "duration": 77,
    "start_time": "2025-03-27T13:43:05.528Z"
   },
   {
    "duration": 23,
    "start_time": "2025-03-27T13:43:05.607Z"
   },
   {
    "duration": 30,
    "start_time": "2025-03-27T13:43:05.632Z"
   },
   {
    "duration": 10,
    "start_time": "2025-03-27T13:43:05.664Z"
   },
   {
    "duration": 111,
    "start_time": "2025-03-27T13:43:05.675Z"
   },
   {
    "duration": 49,
    "start_time": "2025-03-27T13:43:05.788Z"
   },
   {
    "duration": 203245,
    "start_time": "2025-03-27T13:43:05.838Z"
   },
   {
    "duration": 17,
    "start_time": "2025-03-27T13:46:29.085Z"
   },
   {
    "duration": 55,
    "start_time": "2025-03-27T13:46:29.103Z"
   },
   {
    "duration": 40,
    "start_time": "2025-03-27T13:46:29.159Z"
   },
   {
    "duration": 488,
    "start_time": "2025-03-27T13:46:29.201Z"
   },
   {
    "duration": 578,
    "start_time": "2025-03-27T13:46:29.691Z"
   },
   {
    "duration": 5,
    "start_time": "2025-03-27T13:46:30.270Z"
   },
   {
    "duration": 69,
    "start_time": "2025-03-27T13:46:30.276Z"
   },
   {
    "duration": 220,
    "start_time": "2025-03-27T13:46:30.346Z"
   }
  ],
  "kernelspec": {
   "display_name": "Python [conda env:base] *",
   "language": "python",
   "name": "conda-base-py"
  },
  "language_info": {
   "codemirror_mode": {
    "name": "ipython",
    "version": 3
   },
   "file_extension": ".py",
   "mimetype": "text/x-python",
   "name": "python",
   "nbconvert_exporter": "python",
   "pygments_lexer": "ipython3",
   "version": "3.12.4"
  },
  "toc": {
   "base_numbering": 1,
   "nav_menu": {},
   "number_sections": true,
   "sideBar": true,
   "skip_h1_title": true,
   "title_cell": "Table of Contents",
   "title_sidebar": "Contents",
   "toc_cell": false,
   "toc_position": {},
   "toc_section_display": true,
   "toc_window_display": false
  }
 },
 "nbformat": 4,
 "nbformat_minor": 4
}
